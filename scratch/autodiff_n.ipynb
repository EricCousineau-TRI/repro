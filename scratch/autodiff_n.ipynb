{
 "metadata": {
  "name": ""
 },
 "nbformat": 3,
 "nbformat_minor": 0,
 "worksheets": [
  {
   "cells": [
    {
     "cell_type": "code",
     "collapsed": false,
     "input": [
      "from sympy import diff, latex, init_printing\n",
      "from sympy.abc import t, x\n",
      "from IPython.display import display\n",
      "\n",
      "init_printing()"
     ],
     "language": "python",
     "metadata": {},
     "outputs": [],
     "prompt_number": 15
    },
    {
     "cell_type": "code",
     "collapsed": false,
     "input": [
      "xf = x(t)\n",
      "dxf = diff(xf, t)\n",
      "ddxf = diff(dxf, t)"
     ],
     "language": "python",
     "metadata": {},
     "outputs": [],
     "prompt_number": 17
    },
    {
     "cell_type": "code",
     "collapsed": false,
     "input": [
      "map(display, (xf, dxf, ddxf))"
     ],
     "language": "python",
     "metadata": {},
     "outputs": [
      {
       "latex": [
        "$$x{\\left (t \\right )}$$"
       ],
       "metadata": {},
       "output_type": "display_data",
       "png": "[encoded data removed]",
       "text": [
        "x(t)"
       ]
      },
      {
       "latex": [
        "$$\\frac{d}{d t} x{\\left (t \\right )}$$"
       ],
       "metadata": {},
       "output_type": "display_data",
       "png": "[encoded data removed]",
       "text": [
        "d       \n",
        "\u2500\u2500(x(t))\n",
        "dt      "
       ]
      },
      {
       "latex": [
        "$$\\frac{d^{2}}{d t^{2}}  x{\\left (t \\right )}$$"
       ],
       "metadata": {},
       "output_type": "display_data",
       "png": "[encoded data removed]",
       "text": [
        "  2      \n",
        " d       \n",
        "\u2500\u2500\u2500(x(t))\n",
        "  2      \n",
        "dt       "
       ]
      },
      {
       "metadata": {},
       "output_type": "pyout",
       "prompt_number": 19,
       "text": [
        "[None, None, None]"
       ]
      }
     ],
     "prompt_number": 19
    },
    {
     "cell_type": "code",
     "collapsed": false,
     "input": [
      "expr = xf * xf\n",
      "dexpr = diff(expr, t)\n",
      "ddexpr = diff(dexpr, t)"
     ],
     "language": "python",
     "metadata": {},
     "outputs": [],
     "prompt_number": 20
    },
    {
     "cell_type": "code",
     "collapsed": false,
     "input": [
      "display(expr)\n",
      "display(dexpr)\n",
      "display(ddexpr)"
     ],
     "language": "python",
     "metadata": {},
     "outputs": [
      {
       "latex": [
        "$$x^{2}{\\left (t \\right )}$$"
       ],
       "metadata": {},
       "output_type": "display_data",
       "png": "[encoded data removed]",
       "text": [
        " 2   \n",
        "x (t)"
       ]
      },
      {
       "latex": [
        "$$2 x{\\left (t \\right )} \\frac{d}{d t} x{\\left (t \\right )}$$"
       ],
       "metadata": {},
       "output_type": "display_data",
       "png": "[encoded data removed]",
       "text": [
        "       d       \n",
        "2\u22c5x(t)\u22c5\u2500\u2500(x(t))\n",
        "       dt      "
       ]
      },
      {
       "latex": [
        "$$2 x{\\left (t \\right )} \\frac{d^{2}}{d t^{2}}  x{\\left (t \\right )} + 2 \\left(\\frac{d}{d t} x{\\left (t \\right )}\\right)^{2}$$"
       ],
       "metadata": {},
       "output_type": "display_data",
       "png": "[encoded data removed]",
       "text": [
        "         2                     2\n",
        "        d            \u239bd       \u239e \n",
        "2\u22c5x(t)\u22c5\u2500\u2500\u2500(x(t)) + 2\u22c5\u239c\u2500\u2500(x(t))\u239f \n",
        "         2           \u239ddt      \u23a0 \n",
        "       dt                       "
       ]
      }
     ],
     "prompt_number": 21
    },
    {
     "cell_type": "code",
     "collapsed": false,
     "input": [
      "x0 = 2\n",
      "xdot0 = 5\n",
      "xddot0 = 1\n",
      "args = [(xf, x0), (dxf, xdot0), (ddxf, xddot0)]\n",
      "\n",
      "print expr.subs(args)\n",
      "print dexpr.subs(args)\n",
      "print ddexpr.subs(args)"
     ],
     "language": "python",
     "metadata": {},
     "outputs": [
      {
       "output_type": "stream",
       "stream": "stdout",
       "text": [
        "4\n",
        "4*Derivative(2, t)\n",
        "2*Derivative(2, t)**2 + 4*Derivative(2, t, t)\n"
       ]
      }
     ],
     "prompt_number": 26
    },
    {
     "cell_type": "code",
     "collapsed": false,
     "input": [],
     "language": "python",
     "metadata": {},
     "outputs": []
    }
   ],
   "metadata": {}
  }
 ]
}