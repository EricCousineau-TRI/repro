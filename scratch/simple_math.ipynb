{
 "metadata": {
  "name": "",
  "signature": "sha256:9a6364a9cf6a05a25dacd4ea51e369adf9f213d41aaa65d06eec3a9b9c57cf16"
 },
 "nbformat": 3,
 "nbformat_minor": 0,
 "worksheets": [
  {
   "cells": [
    {
     "cell_type": "code",
     "collapsed": false,
     "input": [
      "import numpy as np\n",
      "import numpy.matrixlib as nm\n",
      "\n",
      "npa = np.array\n",
      "nmm = np.matrix\n",
      "def nmv(v):\n",
      "    if isinstance(v, (nm.defmatrix.matrix, np.ndarray)):\n",
      "        return v\n",
      "    else:\n",
      "        return nmm(v).T"
     ],
     "language": "python",
     "metadata": {},
     "outputs": [],
     "prompt_number": 1
    },
    {
     "cell_type": "code",
     "collapsed": false,
     "input": [
      "Q = nmm([[1, 2], [3, 4]])\n",
      "b = nmv([5, 6])"
     ],
     "language": "python",
     "metadata": {},
     "outputs": [],
     "prompt_number": 2
    },
    {
     "cell_type": "code",
     "collapsed": false,
     "input": [
      "x = nmv([7, 8])\n",
      "print .5 * x.T * Q * x + b.T * x"
     ],
     "language": "python",
     "metadata": {},
     "outputs": [
      {
       "output_type": "stream",
       "stream": "stdout",
       "text": [
        "[[ 375.5]]\n"
       ]
      }
     ],
     "prompt_number": 3
    },
    {
     "cell_type": "code",
     "collapsed": false,
     "input": [
      "np.isclose([1., 1.], 1.)"
     ],
     "language": "python",
     "metadata": {},
     "outputs": [
      {
       "metadata": {},
       "output_type": "pyout",
       "prompt_number": 4,
       "text": [
        "array([ True,  True], dtype=bool)"
       ]
      }
     ],
     "prompt_number": 4
    },
    {
     "cell_type": "code",
     "collapsed": false,
     "input": [],
     "language": "python",
     "metadata": {},
     "outputs": []
    }
   ],
   "metadata": {}
  }
 ]
}