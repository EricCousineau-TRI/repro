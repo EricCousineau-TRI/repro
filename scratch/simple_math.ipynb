{
 "metadata": {
  "name": "",
  "signature": "sha256:79e8f34369637d238b123e222e5f6652b4908d41c2e43860f70115b32e27db88"
 },
 "nbformat": 3,
 "nbformat_minor": 0,
 "worksheets": [
  {
   "cells": [
    {
     "cell_type": "code",
     "collapsed": false,
     "input": [
      "import numpy as np\n",
      "import numpy.matrixlib as nm\n",
      "\n",
      "npa = np.array\n",
      "nmm = np.matrix\n",
      "def nmv(v):\n",
      "    if isinstance(v, (nm.defmatrix.matrix, np.ndarray)):\n",
      "        return v\n",
      "    else:\n",
      "        return nmm(v).T"
     ],
     "language": "python",
     "metadata": {},
     "outputs": [],
     "prompt_number": 18
    },
    {
     "cell_type": "code",
     "collapsed": false,
     "input": [
      "Q = nmm([[1, 2], [3, 4]])\n",
      "b = nmv([5, 6])"
     ],
     "language": "python",
     "metadata": {},
     "outputs": [],
     "prompt_number": 23
    },
    {
     "cell_type": "code",
     "collapsed": false,
     "input": [
      "x = nmv([7, 8])\n",
      "print .5 * x.T * Q * x + b.T * x"
     ],
     "language": "python",
     "metadata": {},
     "outputs": [
      {
       "output_type": "stream",
       "stream": "stdout",
       "text": [
        "[[ 375.5]]\n"
       ]
      }
     ],
     "prompt_number": 25
    },
    {
     "cell_type": "code",
     "collapsed": false,
     "input": [],
     "language": "python",
     "metadata": {},
     "outputs": []
    }
   ],
   "metadata": {}
  }
 ]
}