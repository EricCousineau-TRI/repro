{
 "cells": [
  {
   "cell_type": "code",
   "execution_count": 1,
   "metadata": {},
   "outputs": [
    {
     "name": "stdout",
     "output_type": "stream",
     "text": [
      "Using matplotlib backend: TkAgg\n"
     ]
    }
   ],
   "source": [
    "# Use non-inline plotting for visualization.\n",
    "%matplotlib"
   ]
  },
  {
   "cell_type": "code",
   "execution_count": 2,
   "metadata": {},
   "outputs": [],
   "source": [
    "import math\n",
    "import numpy as np\n",
    "\n",
    "from pydrake.all import (\n",
    "    DiagramBuilder,\n",
    "    FindResourceOrThrow,\n",
    "    FloatingBaseType,\n",
    "    BasicVector,\n",
    "    LinearQuadraticRegulator,\n",
    "    Simulator,\n",
    "    RigidBodyTree,\n",
    "    RigidBodyPlant,\n",
    ")\n",
    "from underactuated import (\n",
    "    PlanarRigidBodyVisualizer,\n",
    ")"
   ]
  },
  {
   "cell_type": "code",
   "execution_count": 3,
   "metadata": {},
   "outputs": [
    {
     "name": "stdout",
     "output_type": "stream",
     "text": [
      "Spawning PlanarRigidBodyVisualizer for tree with 1 actuators\n"
     ]
    }
   ],
   "source": [
    "builder = DiagramBuilder()\n",
    "tree = RigidBodyTree(FindResourceOrThrow(\"drake/examples/pendulum/Pendulum.urdf\"),\n",
    "                     FloatingBaseType.kFixed)\n",
    "\n",
    "robot = builder.AddSystem(RigidBodyPlant(tree))\n",
    "\n",
    "def UprightState():\n",
    "    state = (math.pi, 0)\n",
    "    return state\n",
    "def BalancingLQR(robot):\n",
    "    # Design an LQR controller for stabilizing the CartPole around the upright.\n",
    "    # Returns a (static) AffineSystem that implements the controller (in\n",
    "    # the original CartPole coordinates).\n",
    "\n",
    "    context = robot.CreateDefaultContext()\n",
    "    context.FixInputPort(0, BasicVector([0]))\n",
    "    context.get_mutable_continuous_state_vector().SetFromVector(UprightState())\n",
    "\n",
    "    Q = np.diag((10., 1.))\n",
    "    R = [1]\n",
    "\n",
    "    return LinearQuadraticRegulator(robot, context, Q, R)\n",
    "\n",
    "\n",
    "controller = builder.AddSystem(BalancingLQR(robot))\n",
    "\n",
    "\n",
    "builder.Connect(robot.get_output_port(0), controller.get_input_port(0))\n",
    "builder.Connect(controller.get_output_port(0), robot.get_input_port(0))\n",
    "\n",
    "\n",
    "visualizer = builder.AddSystem(PlanarRigidBodyVisualizer(tree, xlim=[-2.5, 2.5], ylim=[-1, 2.5]))\n",
    "builder.Connect(robot.get_output_port(0), visualizer.get_input_port(0))\n",
    "\n",
    "diagram = builder.Build()\n",
    "simulator = Simulator(diagram)\n",
    "simulator.set_target_realtime_rate(1.0)\n",
    "simulator.set_publish_every_time_step(False)\n",
    "\n",
    "context = simulator.get_mutable_context()\n",
    "state = context.get_mutable_continuous_state_vector()"
   ]
  },
  {
   "cell_type": "code",
   "execution_count": 4,
   "metadata": {},
   "outputs": [],
   "source": [
    "duration = 1.\n",
    "simulator.StepTo(duration)"
   ]
  },
  {
   "cell_type": "code",
   "execution_count": null,
   "metadata": {},
   "outputs": [],
   "source": []
  }
 ],
 "metadata": {
  "kernelspec": {
   "display_name": "Python 2",
   "language": "python",
   "name": "python2"
  },
  "language_info": {
   "codemirror_mode": {
    "name": "ipython",
    "version": 2
   },
   "file_extension": ".py",
   "mimetype": "text/x-python",
   "name": "python",
   "nbconvert_exporter": "python",
   "pygments_lexer": "ipython2",
   "version": "2.7.12"
  }
 },
 "nbformat": 4,
 "nbformat_minor": 2
}
