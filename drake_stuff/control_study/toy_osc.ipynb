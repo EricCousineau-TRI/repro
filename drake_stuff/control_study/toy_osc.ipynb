{
 "cells": [
  {
   "attachments": {},
   "cell_type": "markdown",
   "metadata": {},
   "source": [
    "# Toy OSC\n",
    "\n",
    "Goal: Show possible issues with null-space and feedback control.\n",
    "\n",
    "Two-dof prismatic setup kinda like example shown in [PS 2006]\n",
    "\n",
    "```\n",
    " |->   |->  |\n",
    " q₀    q₁   x\n",
    "```\n",
    "\n",
    "with the following:\n",
    "\n",
    "$$\n",
    "\\begin{align*}\n",
    "    x &= q_0 + q_1 \\\\\n",
    "    J &= \\begin{bmatrix} 1 & 1 \\end{bmatrix}\n",
    "\\end{align*}\n",
    "$$\n",
    "\n",
    "## Refs\n",
    "\n",
    "* [PS 2006] Peters, Jan, and Stefan Schaal. “Learning Operational Space Control,” 2006. https://doi.org/10.15607/RSS.2006.II.033."
   ]
  },
  {
   "cell_type": "code",
   "execution_count": 1,
   "metadata": {},
   "outputs": [],
   "source": [
    "import matplotlib.pyplot as plt\n",
    "import numpy as np\n",
    "import scipy"
   ]
  },
  {
   "cell_type": "code",
   "execution_count": 2,
   "metadata": {},
   "outputs": [],
   "source": [
    "J = np.array([[1, 1]])"
   ]
  },
  {
   "cell_type": "code",
   "execution_count": 3,
   "metadata": {},
   "outputs": [
    {
     "name": "stdout",
     "output_type": "stream",
     "text": [
      "[[0.5]\n",
      " [0.5]]\n",
      "[[ 0.5 -0.5]\n",
      " [-0.5  0.5]]\n",
      "[[-0.70710678]\n",
      " [ 0.70710678]]\n",
      "[[-0.70710678]\n",
      " [ 0.70710678]]\n"
     ]
    }
   ],
   "source": [
    "# These null-spaces are effectively unused, but just show some basic properties.\n",
    "Jpinv = np.linalg.pinv(J)\n",
    "N = np.eye(2) - Jpinv @ J\n",
    "print(Jpinv)\n",
    "print(N)\n",
    "# Compute some other null spaces - they're just reductions of the above\n",
    "# (I think?).\n",
    "N2 = scipy.linalg.null_space(J)\n",
    "U, s, V_T = np.linalg.svd(J)\n",
    "N3 = V_T[:, -1:]\n",
    "print(N2)\n",
    "print(N3)"
   ]
  },
  {
   "cell_type": "code",
   "execution_count": 9,
   "metadata": {},
   "outputs": [
    {
     "name": "stdout",
     "output_type": "stream",
     "text": [
      "[[0.75]\n",
      " [0.25]]\n",
      "[[ 0.25 -0.75]\n",
      " [-0.25  0.75]]\n"
     ]
    }
   ],
   "source": [
    "M = np.eye(2)\n",
    "# M = np.diag([1.0, 3.0])\n",
    "# M = np.array([\n",
    "#     [1.0, 0.01],\n",
    "#     [0.01, 0.1],\n",
    "# ])\n",
    "Minv = np.linalg.inv(M)\n",
    "Mtinv = J @ Minv @ J.T\n",
    "Mt = np.linalg.inv(Mtinv)\n",
    "# Same as nominal null-space.\n",
    "Jbar = Minv @ J.T @ Mt  # Jpinv, dynamic\n",
    "Nt = np.eye(2) - Jbar @ J\n",
    "Nt_T = Nt.T\n",
    "\n",
    "print(Jbar)\n",
    "print(Nt)"
   ]
  },
  {
   "cell_type": "code",
   "execution_count": 10,
   "metadata": {},
   "outputs": [],
   "source": [
    "def naive_euler(q, v, vd_func, tf, dt):\n",
    "    t = 0.0\n",
    "    ts = []\n",
    "    qs = []\n",
    "    q = q.copy()\n",
    "    v = v.copy()\n",
    "    eps = 1e-8\n",
    "    while t <= tf + eps:\n",
    "        qs.append(q)\n",
    "        ts.append(t)\n",
    "        vd = vd_func(q, v)\n",
    "        q = q + v * dt\n",
    "        v = v + vd * dt\n",
    "        t += dt\n",
    "    ts, qs = map(np.asarray, (ts, qs))\n",
    "    return ts, qs"
   ]
  },
  {
   "cell_type": "code",
   "execution_count": 15,
   "metadata": {},
   "outputs": [
    {
     "data": {
      "text/plain": [
       "array([[ 0.25, -0.75],\n",
       "       [-0.75,  2.25]])"
      ]
     },
     "execution_count": 15,
     "metadata": {},
     "output_type": "execute_result"
    }
   ],
   "source": [
    "J.T @ Mt\n",
    "Nt_T @ M"
   ]
  },
  {
   "cell_type": "code",
   "execution_count": 11,
   "metadata": {},
   "outputs": [],
   "source": [
    "q_nominal = np.array([0.0, 2.0])\n",
    "\n",
    "def calc_vd(q, v):\n",
    "    x = q[0] + q[1]\n",
    "    x_des = 3.0\n",
    "    e_t = x - x_des\n",
    "    ed_t = J @ v\n",
    "    kp_t = 1.0\n",
    "    kd_t = 2.0 * np.sqrt(kp_t)\n",
    "    edd_t_c = -kp_t * e_t - kd_t * ed_t\n",
    "\n",
    "    e_p = q - q_nominal\n",
    "    ed_p = v\n",
    "    kp_p = 2.0\n",
    "    kd_p = 2.0 * np.sqrt(kp_p)\n",
    "    edd_p_c = -kp_p * e_p - kd_p * ed_p\n",
    "\n",
    "    tau = J.T @ Mt @ edd_t_c + Nt_T @ M @ edd_p_c\n",
    "    vd = Minv @ tau\n",
    "    return vd"
   ]
  },
  {
   "cell_type": "code",
   "execution_count": 12,
   "metadata": {},
   "outputs": [],
   "source": [
    "def reset_color_cycle():\n",
    "    # https://stackoverflow.com/a/39116381/7829525\n",
    "    plt.gca().set_prop_cycle(None)"
   ]
  },
  {
   "cell_type": "code",
   "execution_count": 13,
   "metadata": {},
   "outputs": [
    {
     "data": {
      "image/png": "[encoded data removed]",
      "text/plain": [
       "<Figure size 640x480 with 1 Axes>"
      ]
     },
     "metadata": {},
     "output_type": "display_data"
    }
   ],
   "source": [
    "q0s = np.array(\n",
    "    [\n",
    "        q_nominal,\n",
    "        # q_nominal + [0.1, -0.1],\n",
    "        q_nominal + [1.0, -1.0],\n",
    "        # Non-minimum phase.\n",
    "        q_nominal + [0.5, -3.0],\n",
    "    ],\n",
    ")\n",
    "styles = [\"-\", \"--\", \":\", \"-.\"]\n",
    "v0 = np.array([0.0, 0.0])\n",
    "\n",
    "for q0, style in zip(q0s, styles):\n",
    "    ts, qs = naive_euler(q0, v0, calc_vd, tf=10.0, dt=0.01)\n",
    "    plt.plot(ts, qs, linestyle=style)\n",
    "    reset_color_cycle()"
   ]
  },
  {
   "cell_type": "code",
   "execution_count": null,
   "metadata": {},
   "outputs": [],
   "source": []
  }
 ],
 "metadata": {
  "kernelspec": {
   "display_name": "control-study-2QxtduoI-py3.10",
   "language": "python",
   "name": "python3"
  },
  "language_info": {
   "codemirror_mode": {
    "name": "ipython",
    "version": 3
   },
   "file_extension": ".py",
   "mimetype": "text/x-python",
   "name": "python",
   "nbconvert_exporter": "python",
   "pygments_lexer": "ipython3",
   "version": "3.10.6"
  },
  "orig_nbformat": 4
 },
 "nbformat": 4,
 "nbformat_minor": 2
}
