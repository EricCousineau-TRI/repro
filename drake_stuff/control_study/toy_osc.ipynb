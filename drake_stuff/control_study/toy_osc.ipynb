{
 "cells": [
  {
   "attachments": {},
   "cell_type": "markdown",
   "metadata": {},
   "source": [
    "# Toy OSC\n",
    "\n",
    "Goal: Show possible issues with null-space and feedback control.\n",
    "\n",
    "Two-dof prismatic setup kinda like example shown in [PS 2006]\n",
    "\n",
    "```\n",
    " |->   |->  |\n",
    " q₀    q₁   x\n",
    "```\n",
    "\n",
    "with the following:\n",
    "\n",
    "$$\n",
    "\\begin{align*}\n",
    "    x &= q_0 + q_1 \\\\\n",
    "    J &= \\begin{bmatrix} 1 & 1 \\end{bmatrix}\n",
    "\\end{align*}\n",
    "$$\n",
    "\n",
    "Below shows that the moment you drift off the null-space dynamics, you go unstable unless\n",
    "you negate your position gains?\n",
    "\n",
    "## Refs\n",
    "\n",
    "* [PS 2006] Peters, Jan, and Stefan Schaal. “Learning Operational Space Control,” 2006. https://doi.org/10.15607/RSS.2006.II.033."
   ]
  },
  {
   "cell_type": "code",
   "execution_count": null,
   "metadata": {},
   "outputs": [],
   "source": [
    "import numpy as np\n",
    "import scipy"
   ]
  },
  {
   "cell_type": "code",
   "execution_count": null,
   "metadata": {},
   "outputs": [],
   "source": [
    "J = np.array([[1, 1]])"
   ]
  },
  {
   "cell_type": "code",
   "execution_count": null,
   "metadata": {},
   "outputs": [],
   "source": [
    "# These null-spaces are effectively unused, but just show some basic properties.\n",
    "Jpinv = np.linalg.pinv(J)\n",
    "N = np.eye(2) - Jpinv @ J\n",
    "print(Jpinv)\n",
    "print(N)\n",
    "# Compute some other null spaces - they're just reductions of the above\n",
    "# (I think?).\n",
    "N2 = scipy.linalg.null_space(J)\n",
    "U, s, V_T = np.linalg.svd(J)\n",
    "N3 = V_T[:, -1:]\n",
    "print(N2)\n",
    "print(N3)"
   ]
  },
  {
   "cell_type": "code",
   "execution_count": null,
   "metadata": {},
   "outputs": [],
   "source": [
    "M = np.eye(2)\n",
    "Minv = np.linalg.inv(M)\n",
    "Mtinv = J @ J.T  # 2\n",
    "Mt = np.linalg.inv(Mtinv)\n",
    "# Same as nominal null-space.\n",
    "Jbar = Minv @ J.T @ Mt  # Jpinv, dynamic\n",
    "print(Jbar)\n",
    "Nt = np.eye(2) - Jbar @ J\n",
    "Nt_T = Nt.T\n",
    "print(Nt)"
   ]
  },
  {
   "cell_type": "code",
   "execution_count": null,
   "metadata": {},
   "outputs": [],
   "source": [
    "def naive_euler(q, v, vd_func, t0, tf, dt):\n",
    "    t = t0\n",
    "    ts = []\n",
    "    qs = []\n",
    "    q = q.copy()\n",
    "    v = v.copy()\n",
    "    while t <= tf:\n",
    "        qs.append(q)\n",
    "        ts.append(\n",
    "        vd = vd_func(q, v)\n",
    "        q = q + v * dt\n",
    "        v = v + vd * dt\n",
    "        qs.append(q)\n",
    "    ts, qs = map(np.asarray, (ts, qs))\n",
    "    return ts, qs"
   ]
  },
  {
   "cell_type": "code",
   "execution_count": null,
   "metadata": {},
   "outputs": [],
   "source": [
    "q0 = np.array([0.0, 2.0])\n",
    "\n",
    "def calc_vd(q, v):\n",
    "    x = q[0] + q[1]\n",
    "    x_des = 3.0\n",
    "    e_t = x - x_des\n",
    "    ed_t = J @ v\n",
    "    kp_t = 1.0\n",
    "    kd_t = 1.0\n",
    "    edd_t_c = -kp_t * e_t - kd_t * ed_t\n",
    "\n",
    "    e_p = q - q0\n",
    "    ed_p = v\n",
    "    kp_p = 1.0\n",
    "    kd_p = 1.0\n",
    "    edd_p_c = -kp_p * e_p - kd_p * ed_p\n",
    "\n",
    "    tau = J.T @ Mt @ edd_t_c + Nt_T @ M @ edd_p_c\n",
    "    vd = Minv @ tau\n",
    "    return vd\n",
    "\n",
    "# q = np.array([0.1, 2.1])\n",
    "q = np.array([0.1, 1.9])\n",
    "v = np.array([0.0, 0.0])\n",
    "vd = calc_vd(q, v)\n",
    "print(vd)\n",
    "\n",
    "# WARNING: Instability in null-space!"
   ]
  },
  {
   "cell_type": "code",
   "execution_count": null,
   "metadata": {},
   "outputs": [],
   "source": []
  }
 ],
 "metadata": {
  "kernelspec": {
   "display_name": "control-study-2QxtduoI-py3.10",
   "language": "python",
   "name": "python3"
  },
  "language_info": {
   "codemirror_mode": {
    "name": "ipython",
    "version": 3
   },
   "file_extension": ".py",
   "mimetype": "text/x-python",
   "name": "python",
   "nbconvert_exporter": "python",
   "pygments_lexer": "ipython3",
   "version": "3.10.6"
  },
  "orig_nbformat": 4
 },
 "nbformat": 4,
 "nbformat_minor": 2
}
