{
 "cells": [
  {
   "cell_type": "code",
   "execution_count": null,
   "id": "46bdc05a-d509-4e94-9827-62c57bb91f11",
   "metadata": {
    "tags": []
   },
   "outputs": [],
   "source": [
    "from pydrake.all import (\n",
    "    ApplySimulatorConfig,\n",
    "    SimulatorConfig,\n",
    "    GetIntegrationSchemes,\n",
    ")"
   ]
  },
  {
   "cell_type": "code",
   "execution_count": null,
   "id": "dba59d0e-8040-460c-be8d-a608b12e377a",
   "metadata": {
    "tags": []
   },
   "outputs": [],
   "source": [
    "ApplySimulatorConfig"
   ]
  },
  {
   "cell_type": "code",
   "execution_count": null,
   "id": "046ee823-3d3e-4bf9-aa8a-d91c7e9b2310",
   "metadata": {
    "tags": []
   },
   "outputs": [],
   "source": [
    "SimulatorConfig().integration_scheme"
   ]
  },
  {
   "cell_type": "code",
   "execution_count": null,
   "id": "1a428af8-cbdd-495d-a375-4af57061297a",
   "metadata": {
    "tags": []
   },
   "outputs": [],
   "source": [
    "GetIntegrationSchemes()"
   ]
  },
  {
   "cell_type": "code",
   "execution_count": null,
   "id": "13b41461-4e4f-4f49-8f62-e12db0786e06",
   "metadata": {},
   "outputs": [],
   "source": []
  }
 ],
 "metadata": {
  "kernelspec": {
   "display_name": "Python 3 (ipykernel)",
   "language": "python",
   "name": "python3"
  },
  "language_info": {
   "codemirror_mode": {
    "name": "ipython",
    "version": 3
   },
   "file_extension": ".py",
   "mimetype": "text/x-python",
   "name": "python",
   "nbconvert_exporter": "python",
   "pygments_lexer": "ipython3",
   "version": "3.10.6"
  }
 },
 "nbformat": 4,
 "nbformat_minor": 5
}
