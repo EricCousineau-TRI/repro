{
 "cells": [
  {
   "cell_type": "code",
   "execution_count": null,
   "id": "46bdc05a-d509-4e94-9827-62c57bb91f11",
   "metadata": {
    "tags": []
   },
   "outputs": [],
   "source": [
    "import numpy as np\n",
    "\n",
    "from control_study.misc import make_sim_setup\n",
    "from control_study.multibody_extras import calc_velocity_jacobian"
   ]
  },
  {
   "cell_type": "code",
   "execution_count": null,
   "id": "2fba3822",
   "metadata": {},
   "outputs": [],
   "source": [
    "inv = np.linalg.inv\n",
    "pinv = np.linalg.pinv\n",
    "rank = np.linalg.matrix_rank\n",
    "svd = np.linalg.svd\n",
    "\n",
    "def calc_dynamics(plant, context):\n",
    "    M = plant.CalcMassMatrix(context)\n",
    "    C = plant.CalcBiasTerm(context)\n",
    "    tau_g = plant.CalcGravityGeneralizedForces(context)\n",
    "    return M, C, tau_g\n",
    "\n",
    "def reproject_mass(Minv, Jt):\n",
    "    _, num_dof = Jt.shape\n",
    "    I_dyn = np.eye(num_dof)\n",
    "    # Maps from task forces to task accelerations.\n",
    "    Mtinv = Jt @ Minv @ Jt.T\n",
    "    # Maps from task accelerations to task forces.\n",
    "    Mt = np.linalg.inv(Mtinv)\n",
    "    # Maps from task accelerations to generalized accelerations.\n",
    "    # Transpose maps from generalized forces to task forces.\n",
    "    Jtbar = Minv @ Jt.T @ Mt\n",
    "    # Generalized force nullspace.\n",
    "    Nt_T = I_dyn - Jt.T @ Jtbar.T\n",
    "    return Mt, Mtinv, Jt, Jtbar, Nt_T\n",
    "\n",
    "def spectral_norm(A):\n",
    "    _, s, _ = svd(A)\n",
    "    return s[0]\n",
    "\n",
    "def np_print_more_like_matlab():\n",
    "    np.set_printoptions(\n",
    "        formatter={\"float_kind\": lambda x: f\"{x: 06.3f}\"},\n",
    "        linewidth=150,\n",
    "    )"
   ]
  },
  {
   "cell_type": "code",
   "execution_count": null,
   "id": "db23d4e5",
   "metadata": {},
   "outputs": [],
   "source": [
    "np_print_more_like_matlab()"
   ]
  },
  {
   "cell_type": "code",
   "execution_count": null,
   "id": "13b41461-4e4f-4f49-8f62-e12db0786e06",
   "metadata": {},
   "outputs": [],
   "source": [
    "_, plant, _, frame_G = make_sim_setup(0.0)\n",
    "frame_W = plant.world_frame()"
   ]
  },
  {
   "cell_type": "code",
   "execution_count": null,
   "id": "3318b4f6",
   "metadata": {},
   "outputs": [],
   "source": [
    "context = plant.CreateDefaultContext()\n",
    "# q0 = np.deg2rad([0.0, 15.0, 0.0, -75.0, 0.0, 90.0, 0.0])\n",
    "q0 = np.deg2rad([0.0, 0.0, 0.0, 0.0, 0.0, 90.0, 0.0])\n",
    "plant.SetPositions(context, q0)"
   ]
  },
  {
   "cell_type": "code",
   "execution_count": null,
   "id": "399234ab",
   "metadata": {},
   "outputs": [],
   "source": [
    "M, C, tau_g = calc_dynamics(plant, context)\n",
    "Minv = inv(M)\n",
    "num_t = 6\n",
    "num_v = 7\n",
    "It = np.eye(num_t)\n",
    "Iv = np.eye(num_v)\n",
    "Jt = calc_velocity_jacobian(plant, context, frame_W, frame_G)\n",
    "Mt, Mtinv, Jt, Jtbar, Nt_T = reproject_mass(Minv, Jt)\n",
    "\n",
    "# Kinematic.\n",
    "Jtpinv = pinv(Jt)\n",
    "Nk = Iv - Jtpinv @ Jt\n",
    "print(Nk)\n",
    "print(Nk @ np.ones(num_v))"
   ]
  },
  {
   "cell_type": "code",
   "execution_count": 8,
   "id": "56725705",
   "metadata": {},
   "outputs": [
    {
     "name": "stdout",
     "output_type": "stream",
     "text": [
      "Jt:\n",
      "  rank: 5\n",
      "  spec: 1.9152197435721545\n",
      "Jt.T:\n",
      "  rank: 5\n",
      "  spec: 1.9152197435721532\n",
      "Jtpinv:\n",
      "  rank: 5\n",
      "  spec: 14.92053507540991\n",
      "Jtbar:\n",
      "  rank: 6\n",
      "  spec: 15.227454881441853\n",
      "Nk:\n",
      "  rank: 3\n",
      "  spec: 0.9999999999999999\n",
      "M:\n",
      "  rank: 7\n",
      "  spec: 3.371259635097325\n",
      "Minv:\n",
      "  rank: 7\n",
      "  spec: 1243.7922408554393\n",
      "Nt_T:\n",
      "  rank: 5\n",
      "  spec: 2.048069558335394\n",
      "Nt_T acc:\n",
      "  rank: 5\n",
      "  spec: 7.9848597236374514\n"
     ]
    }
   ],
   "source": [
    "def info(name, A):\n",
    "    r = rank(A)\n",
    "    _, s, _ = svd(A)\n",
    "    smin = np.min(s[s > 1e-10])\n",
    "    print(f\"{name}:\")\n",
    "    print(f\"  rank: {r}\")\n",
    "    print(f\"  spec: {s[0]}\")\n",
    "    # print(f\"  spec^2: {s[0]**2}\")\n",
    "    # print(f\"  s min: {smin}\")\n",
    "    # print(f\"  s min inv: {1 / smin}\")\n",
    "\n",
    "info(\"Jt\", Jt)\n",
    "info(\"Jt.T\", Jt.T)\n",
    "info(\"Jtpinv\", Jtpinv)\n",
    "info(\"Jtbar\", Jtbar)\n",
    "info(\"Nk\", Nk)\n",
    "info(\"M\", M)\n",
    "info(\"Minv\", Minv)\n",
    "info(\"Nt_T\", Nt_T)\n",
    "info(\"Nt_T acc\", Minv @ Nt_T @ M)"
   ]
  },
  {
   "cell_type": "code",
   "execution_count": null,
   "id": "17f56d20",
   "metadata": {},
   "outputs": [],
   "source": []
  }
 ],
 "metadata": {
  "kernelspec": {
   "display_name": "Python 3 (ipykernel)",
   "language": "python",
   "name": "python3"
  },
  "language_info": {
   "codemirror_mode": {
    "name": "ipython",
    "version": 3
   },
   "file_extension": ".py",
   "mimetype": "text/x-python",
   "name": "python",
   "nbconvert_exporter": "python",
   "pygments_lexer": "ipython3",
   "version": "3.10.6"
  }
 },
 "nbformat": 4,
 "nbformat_minor": 5
}
