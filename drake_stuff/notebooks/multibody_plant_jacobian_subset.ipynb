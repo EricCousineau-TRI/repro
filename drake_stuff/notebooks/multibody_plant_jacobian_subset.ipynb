{
 "cells": [
  {
   "cell_type": "markdown",
   "id": "67d000d9",
   "metadata": {},
   "source": [
    "Examples of taking Jacobians, indexing into them according joints, etc."
   ]
  },
  {
   "cell_type": "code",
   "execution_count": 1,
   "id": "5a5e211e",
   "metadata": {},
   "outputs": [],
   "source": [
    "import numpy as np\n",
    "\n",
    "from pydrake.common import FindResourceOrThrow\n",
    "from pydrake.math import RigidTransform\n",
    "from pydrake.multibody.parsing import Parser\n",
    "from pydrake.multibody.plant import MultibodyPlant\n",
    "from pydrake.multibody.tree import JacobianWrtVariable, JointIndex"
   ]
  },
  {
   "cell_type": "code",
   "execution_count": 2,
   "id": "45b82b5c",
   "metadata": {},
   "outputs": [],
   "source": [
    "np.set_printoptions(formatter={\"float_kind\": lambda x: f\"{x:.3f}\"})"
   ]
  },
  {
   "cell_type": "code",
   "execution_count": 3,
   "id": "011b4466",
   "metadata": {},
   "outputs": [],
   "source": [
    "def get_joints(plant, model_instance):\n",
    "    joints = []\n",
    "    for i in range(plant.num_joints()):\n",
    "        joint = plant.get_joint(JointIndex(i))\n",
    "        if joint.model_instance() == model_instance:\n",
    "            joints.append(joint)\n",
    "    return joints"
   ]
  },
  {
   "cell_type": "code",
   "execution_count": 4,
   "id": "91c14fbf",
   "metadata": {},
   "outputs": [],
   "source": [
    "def as_lines(items):\n",
    "    return \"\\n\".join(str(x) for x in items)"
   ]
  },
  {
   "cell_type": "code",
   "execution_count": 5,
   "id": "fb5ce953",
   "metadata": {},
   "outputs": [],
   "source": [
    "plant = MultibodyPlant(time_step=0.0)\n",
    "\n",
    "parser = Parser(plant)\n",
    "iiwa_file = FindResourceOrThrow(\n",
    "   \"drake/manipulation/models/iiwa_description/sdf/\"\n",
    "   \"iiwa14_no_collision.sdf\")\n",
    "\n",
    "iiwa_1 = parser.AddModelFromFile(iiwa_file, model_name=\"iiwa_1\")\n",
    "plant.WeldFrames(\n",
    "    frame_on_parent_P=plant.world_frame(),\n",
    "    frame_on_child_C=plant.GetFrameByName(\"iiwa_link_0\", iiwa_1),\n",
    "    X_PC=RigidTransform([-3, 0 ,0]),\n",
    ")\n",
    "\n",
    "iiwa_2 = parser.AddModelFromFile(iiwa_file, model_name=\"iiwa_2\")\n",
    "plant.WeldFrames(\n",
    "    frame_on_parent_P=plant.world_frame(),\n",
    "    frame_on_child_C=plant.GetFrameByName(\"iiwa_link_0\", iiwa_2),\n",
    "    X_PC=RigidTransform([3, 0 ,0]),\n",
    ")\n",
    "\n",
    "plant.Finalize()\n",
    "context = plant.CreateDefaultContext()"
   ]
  },
  {
   "cell_type": "code",
   "execution_count": 6,
   "id": "eb9934ee",
   "metadata": {},
   "outputs": [
    {
     "name": "stdout",
     "output_type": "stream",
     "text": [
      "<RevoluteJoint_[float] name='iiwa_joint_1' index=0 model_instance=2>\n",
      "<RevoluteJoint_[float] name='iiwa_joint_2' index=1 model_instance=2>\n",
      "<RevoluteJoint_[float] name='iiwa_joint_3' index=2 model_instance=2>\n",
      "<RevoluteJoint_[float] name='iiwa_joint_4' index=3 model_instance=2>\n",
      "<RevoluteJoint_[float] name='iiwa_joint_5' index=4 model_instance=2>\n",
      "<RevoluteJoint_[float] name='iiwa_joint_6' index=5 model_instance=2>\n",
      "<RevoluteJoint_[float] name='iiwa_joint_7' index=6 model_instance=2>\n",
      "<WeldJoint_[float] name='WorldBody_welds_to_iiwa_link_0' index=7 model_instance=2>\n",
      "\n",
      "<RevoluteJoint_[float] name='iiwa_joint_1' index=8 model_instance=3>\n",
      "<RevoluteJoint_[float] name='iiwa_joint_2' index=9 model_instance=3>\n",
      "<RevoluteJoint_[float] name='iiwa_joint_3' index=10 model_instance=3>\n",
      "<RevoluteJoint_[float] name='iiwa_joint_4' index=11 model_instance=3>\n",
      "<RevoluteJoint_[float] name='iiwa_joint_5' index=12 model_instance=3>\n",
      "<RevoluteJoint_[float] name='iiwa_joint_6' index=13 model_instance=3>\n",
      "<RevoluteJoint_[float] name='iiwa_joint_7' index=14 model_instance=3>\n",
      "<WeldJoint_[float] name='WorldBody_welds_to_iiwa_link_0' index=15 model_instance=3>\n"
     ]
    }
   ],
   "source": [
    "joints_1 = get_joints(plant, iiwa_1)\n",
    "joints_2 = get_joints(plant, iiwa_2)\n",
    "\n",
    "print(as_lines(joints_1))\n",
    "print()\n",
    "print(as_lines(joints_2))"
   ]
  },
  {
   "cell_type": "code",
   "execution_count": 7,
   "id": "de762e4c",
   "metadata": {},
   "outputs": [],
   "source": [
    "def get_velocity_mask(plant, joints):\n",
    "    \"\"\"\n",
    "    Generates a mask according to supplied set of ``joints``.\n",
    "\n",
    "    The binary mask is unable to preserve ordering for joint indices, thus\n",
    "    `joints` required to be a ``set`` (for simplicity).\n",
    "    \"\"\"\n",
    "    assert isinstance(joints, set)\n",
    "    mask = np.zeros(plant.num_velocities(), dtype=np.bool)\n",
    "    for joint in joints:\n",
    "        start = joint.velocity_start()\n",
    "        end = start + joint.num_velocities()\n",
    "        mask[start:end] = True\n",
    "    return mask\n",
    "\n",
    "def get_velocity_indices(plant, joints):\n",
    "    \"\"\"\n",
    "    Generates a list of indices according to supplies list of ``joints``.\n",
    "\n",
    "    The indices are generated according to the order of ``joints``, thus\n",
    "    ``joints`` is required to be a list (for simplicity).\n",
    "    \"\"\"\n",
    "    indices = []\n",
    "    for joint in joints:\n",
    "        start = joint.velocity_start()\n",
    "        end = start + joint.num_velocities()\n",
    "        for i in range(start, end):\n",
    "            indices.append(i)\n",
    "    return indices"
   ]
  },
  {
   "cell_type": "code",
   "execution_count": 8,
   "id": "6a90b9f6",
   "metadata": {},
   "outputs": [
    {
     "name": "stdout",
     "output_type": "stream",
     "text": [
      "[1 0 1 0 1 0 1 0 1 0 1 0 1 0]\n",
      "[0 1 0 1 0 1 0 1 0 1 0 1 0 1]\n"
     ]
    }
   ],
   "source": [
    "# Option 1. Ditch order.\n",
    "mask_1 = get_velocity_mask(plant, set(joints_1))\n",
    "mask_2 = get_velocity_mask(plant, set(joints_2))\n",
    "\n",
    "print(mask_1.astype(np.uint8))\n",
    "print(mask_2.astype(np.uint8))"
   ]
  },
  {
   "cell_type": "code",
   "execution_count": 9,
   "id": "3c5eaefe",
   "metadata": {},
   "outputs": [
    {
     "name": "stdout",
     "output_type": "stream",
     "text": [
      "[0, 2, 4, 6, 8, 10, 12]\n",
      "[1, 3, 5, 7, 9, 11, 13]\n",
      "\n",
      "[12, 10, 8, 6, 4, 2, 0]\n",
      "[13, 11, 9, 7, 5, 3, 1]\n"
     ]
    }
   ],
   "source": [
    "# Option 2. This preserves order.\n",
    "indices_1 = get_velocity_indices(plant, joints_1)\n",
    "indices_2 = get_velocity_indices(plant, joints_2)\n",
    "\n",
    "print(indices_1)\n",
    "print(indices_2)\n",
    "\n",
    "print()\n",
    "\n",
    "# Show order sensitivity.\n",
    "print(get_velocity_indices(plant, joints_1[::-1]))\n",
    "print(get_velocity_indices(plant, joints_2[::-1]))"
   ]
  },
  {
   "cell_type": "code",
   "execution_count": 10,
   "id": "0709f93a",
   "metadata": {},
   "outputs": [],
   "source": [
    "def calc_velocity_jacobian(plant, context, frame_A, frame_B):\n",
    "    Jv_AB = plant.CalcJacobianSpatialVelocity(\n",
    "        context,\n",
    "        with_respect_to=JacobianWrtVariable.kV,\n",
    "        frame_B=frame_B,\n",
    "        p_BP=[0, 0, 0],\n",
    "        frame_A=frame_A,\n",
    "        frame_E=frame_A,\n",
    "    )\n",
    "    return Jv_AB"
   ]
  },
  {
   "cell_type": "code",
   "execution_count": 11,
   "id": "c1f56275",
   "metadata": {},
   "outputs": [],
   "source": [
    "# Posture the arms such that each Jacobian (w.r.t. each final link) is relatively unique.\n",
    "plant.SetPositions(context, iiwa_1, np.deg2rad([45, 30, 0, -30, 45, 45, 45]))\n",
    "plant.SetPositions(context, iiwa_2, np.deg2rad([-60, -15, 0, 90, 30, 15, 0]))"
   ]
  },
  {
   "cell_type": "code",
   "execution_count": 12,
   "id": "74eafc0d",
   "metadata": {},
   "outputs": [
    {
     "name": "stdout",
     "output_type": "stream",
     "text": [
      "[[0.000 -0.707 0.354 0.707 0.612 -0.750 0.256]\n",
      " [0.000 0.707 0.354 -0.707 0.612 0.250 0.963]\n",
      " [1.000 -0.000 0.866 -0.000 0.500 0.612 -0.079]\n",
      " [-0.471 0.394 -0.211 -0.137 -0.043 -0.049 0.000]\n",
      " [0.414 0.394 0.162 -0.137 0.014 0.008 0.000]\n",
      " [0.000 -0.626 0.020 0.416 0.035 -0.064 0.000]]\n",
      "\n",
      "[[0.000 0.866 -0.129 -0.866 -0.483 0.815 -0.383]\n",
      " [0.000 0.500 0.224 -0.500 0.837 0.321 0.923]\n",
      " [1.000 -0.000 0.966 -0.000 -0.259 -0.483 -0.033]\n",
      " [-0.504 0.150 -0.419 0.053 0.017 0.035 0.000]\n",
      " [-0.279 -0.259 -0.230 -0.092 0.007 0.017 0.000]\n",
      " [0.000 0.575 -0.003 -0.467 -0.010 0.071 0.000]]\n"
     ]
    }
   ],
   "source": [
    "frame_W = plant.world_frame()\n",
    "frame_G1 = plant.GetFrameByName(\"iiwa_link_7\", iiwa_1)\n",
    "frame_G2 = plant.GetFrameByName(\"iiwa_link_7\", iiwa_2)\n",
    "\n",
    "Jv_WG1 = calc_velocity_jacobian(plant, context, frame_W, frame_G1)\n",
    "Jv1_WG1 = Jv_WG1[:, mask_1]\n",
    "Jv_WG2 = calc_velocity_jacobian(plant, context, frame_W, frame_G2)\n",
    "Jv2_WG2 = Jv_WG2[:, mask_2]\n",
    "\n",
    "print(Jv1_WG1)\n",
    "print()\n",
    "print(Jv2_WG2)"
   ]
  },
  {
   "cell_type": "code",
   "execution_count": null,
   "id": "af78b61a",
   "metadata": {},
   "outputs": [],
   "source": []
  }
 ],
 "metadata": {
  "kernelspec": {
   "display_name": "Python 3",
   "language": "python",
   "name": "python3"
  },
  "language_info": {
   "codemirror_mode": {
    "name": "ipython",
    "version": 3
   },
   "file_extension": ".py",
   "mimetype": "text/x-python",
   "name": "python",
   "nbconvert_exporter": "python",
   "pygments_lexer": "ipython3",
   "version": "3.6.9"
  }
 },
 "nbformat": 4,
 "nbformat_minor": 5
}
