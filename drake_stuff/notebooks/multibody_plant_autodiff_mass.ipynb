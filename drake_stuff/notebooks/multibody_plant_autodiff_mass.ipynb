{
 "cells": [
  {
   "cell_type": "markdown",
   "metadata": {},
   "source": [
    "# Quick Example for AutoDiff w/ Mass\n",
    "\n",
    "Just computes generalized forces for a simple body.\n",
    "\n",
    "We create a simple `MultibodyPlant` (`MultibodyPlant_[float]`). This means you *could*\n",
    "parse it from an URDF / SDFormat file.\n",
    "We then convert the system to `AutoDiffXd`, and set the parameters we desire. In this case,\n",
    "we want $\\frac{\\partial{f}}{\\partial{m}}$, where $f$ is just some arbitrary expression.\n",
    "\n",
    "In our case, we choose $f$ to be generalized forces at the default / home configuration."
   ]
  },
  {
   "cell_type": "code",
   "execution_count": 1,
   "metadata": {},
   "outputs": [],
   "source": [
    "from pydrake.all import (\n",
    "    MultibodyPlant_,\n",
    "    MultibodyPlant,\n",
    "    AutoDiffXd,\n",
    "    SpatialInertia,\n",
    "    UnitInertia,\n",
    ")"
   ]
  },
  {
   "cell_type": "code",
   "execution_count": 2,
   "metadata": {},
   "outputs": [],
   "source": [
    "plant = MultibodyPlant(time_step=0.0)\n",
    "body = plant.AddRigidBody(\n",
    "    \"body\",\n",
    "    M_BBo_B=SpatialInertia(\n",
    "        mass=2.0,\n",
    "        p_PScm_E=[0, 0, 0],\n",
    "        G_SP_E=UnitInertia(0.1, 0.1, 0.1),\n",
    "    ),\n",
    ")\n",
    "plant.Finalize()\n",
    "\n",
    "plant_ad = plant.ToScalarType[AutoDiffXd]()\n",
    "body_ad = plant_ad.get_body(body.index())\n",
    "context_ad = plant_ad.CreateDefaultContext()"
   ]
  },
  {
   "cell_type": "code",
   "execution_count": 3,
   "metadata": {},
   "outputs": [],
   "source": [
    "m = AutoDiffXd(2.0, [1.0])\n",
    "body_ad.SetMass(context_ad, m)"
   ]
  },
  {
   "cell_type": "markdown",
   "metadata": {},
   "source": [
    "The value should just be $m \\cdot g$, and the derivative should then be $g$."
   ]
  },
  {
   "cell_type": "code",
   "execution_count": 4,
   "metadata": {},
   "outputs": [
    {
     "name": "stdout",
     "output_type": "stream",
     "text": [
      "-19.62\n",
      "[-9.81]\n"
     ]
    }
   ],
   "source": [
    "qwxyz_xyz = plant_ad.CalcGravityGeneralizedForces(context_ad)\n",
    "xyz = qwxyz_xyz[-3:]\n",
    "z = xyz[2]\n",
    "print(z.value())\n",
    "print(z.derivatives())"
   ]
  },
  {
   "cell_type": "code",
   "execution_count": null,
   "metadata": {},
   "outputs": [],
   "source": []
  }
 ],
 "metadata": {
  "kernelspec": {
   "display_name": "Python 3",
   "language": "python",
   "name": "python3"
  },
  "language_info": {
   "codemirror_mode": {
    "name": "ipython",
    "version": 3
   },
   "file_extension": ".py",
   "mimetype": "text/x-python",
   "name": "python",
   "nbconvert_exporter": "python",
   "pygments_lexer": "ipython3",
   "version": "3.6.9"
  }
 },
 "nbformat": 4,
 "nbformat_minor": 4
}
