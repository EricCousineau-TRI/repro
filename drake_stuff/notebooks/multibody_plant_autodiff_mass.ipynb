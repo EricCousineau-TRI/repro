{
 "cells": [
  {
   "cell_type": "markdown",
   "metadata": {},
   "source": [
    "# Quick Example for AutoDiff w/ Mass\n",
    "\n",
    "Just computes generalized forces for a simple body.\n",
    "\n",
    "We create a simple `MultibodyPlant` (`MultibodyPlant_[float]`). This means you *could*\n",
    "parse it from an URDF / SDFormat file.\n",
    "We then convert the system to `AutoDiffXd`, and set the parameters we desire. In this case,\n",
    "we want $\\frac{\\partial{f}}{\\partial{m}}$, where $f$ is just some arbitrary expression.\n",
    "\n",
    "In our case, we choose $f$ to be generalized forces at the default / home configuration.\n",
    "Also in this case, we choose $m \\in \\mathbb{R}^2$ just to show how to choose gradients for\n",
    "independent values.\n",
    "\n",
    "For more information, please see:\n",
    "- [Underactuated: System Identification](http://underactuated.csail.mit.edu/sysid.html) - at present, this only presents the symbolic approach for `MultibodyPlant`.\n",
    "- [nbviewer: `drake/tutorials/dynamic_systems.ipynb`](https://nbviewer.jupyter.org/github/RobotLocomotion/drake/blob/v0.30.0/tutorials/dynamical_systems.ipynb)\n",
    "- [nbviewer: `drake/tutorials/mathematical_program_multibody_plant.ipynb`](https://nbviewer.jupyter.org/github/RobotLocomotion/drake/blob/v0.30.0/tutorials/mathematical_program_multibody_plant.ipynb)"
   ]
  },
  {
   "cell_type": "code",
   "execution_count": 1,
   "metadata": {},
   "outputs": [],
   "source": [
    "import numpy as np\n",
    "from pydrake.all import (\n",
    "    MultibodyPlant_,\n",
    "    MultibodyPlant,\n",
    "    AutoDiffXd,\n",
    "    SpatialInertia,\n",
    "    UnitInertia,\n",
    ")"
   ]
  },
  {
   "cell_type": "code",
   "execution_count": 2,
   "metadata": {},
   "outputs": [],
   "source": [
    "plant = MultibodyPlant(time_step=0.0)\n",
    "body1 = plant.AddRigidBody(\n",
    "    \"body1\",\n",
    "    M_BBo_B=SpatialInertia(\n",
    "        mass=2.0,\n",
    "        p_PScm_E=[0, 0, 0],\n",
    "        # N.B. This value may not be physically \"useful\". I just guessed.\n",
    "        G_SP_E=UnitInertia(0.1, 0.1, 0.1),\n",
    "    ),\n",
    ")\n",
    "body2 = plant.AddRigidBody(\n",
    "    \"body2\",\n",
    "    M_BBo_B=SpatialInertia(\n",
    "        mass=0.5,\n",
    "        p_PScm_E=[0, 0, 0],\n",
    "        # N.B. This value may not be physically \"useful\". I just guessed.\n",
    "        G_SP_E=UnitInertia(0.1, 0.1, 0.1),\n",
    "    ),\n",
    ")\n",
    "plant.Finalize()\n",
    "\n",
    "plant_ad = plant.ToScalarType[AutoDiffXd]()\n",
    "body1_ad = plant_ad.get_body(body1.index())\n",
    "body2_ad = plant_ad.get_body(body2.index())\n",
    "context_ad = plant_ad.CreateDefaultContext()"
   ]
  },
  {
   "cell_type": "markdown",
   "metadata": {},
   "source": [
    "Here we now populate the parameters we wish to take the gradient with respect to.\n",
    "\n",
    "For forward-mode automatic differentiation, we must ensure that specify our gradients\n",
    "according to our desired independent variables. In this case, we want $m_1$ and $m_2$\n",
    "to be independent, so we ensure their gradients are distinct unit vectors.\n",
    "\n",
    "If we wanted, we could set more parameters, but we stick to just mass for simplicity."
   ]
  },
  {
   "cell_type": "code",
   "execution_count": 3,
   "metadata": {},
   "outputs": [],
   "source": [
    "m1 = AutoDiffXd(2.0, [1.0, 0.0])\n",
    "body1_ad.SetMass(context_ad, m1)\n",
    "\n",
    "m2 = AutoDiffXd(0.5, [0.0, 1.0])\n",
    "body2_ad.SetMass(context_ad, m2)"
   ]
  },
  {
   "cell_type": "markdown",
   "metadata": {},
   "source": [
    "The generalized force, in the z-translation direction for each body $i$, should just be $(-m_i \\cdot g)$ with derivative $(-g)$."
   ]
  },
  {
   "cell_type": "code",
   "execution_count": 4,
   "metadata": {},
   "outputs": [],
   "source": [
    "def get_z_component(plant, body, v):\n",
    "    assert body.is_floating()\n",
    "    # N.B. This method returns position w.r.t. *state* [q; v]. We only have v (or vdot).\n",
    "    x_start = body.floating_velocities_start()\n",
    "    # Floating-base velocity dofs are organized as [angular velocity; translation velocity].\n",
    "    v_start = x_start - plant.num_positions()\n",
    "    nv_pose = 6\n",
    "    rxyz_txyz = v[v_start:v_start + nv_pose]\n",
    "    txyz = rxyz_txyz[-3:]\n",
    "    z = txyz[2]\n",
    "    return z"
   ]
  },
  {
   "cell_type": "code",
   "execution_count": 5,
   "metadata": {},
   "outputs": [],
   "source": [
    "@np.vectorize\n",
    "def ad_to_string(x):\n",
    "    return f\"AutoDiffXd({x.value()}, derivatives={x.derivatives()})\""
   ]
  },
  {
   "cell_type": "code",
   "execution_count": 6,
   "metadata": {},
   "outputs": [
    {
     "name": "stdout",
     "output_type": "stream",
     "text": [
      "AutoDiffXd(-19.62, derivatives=[-9.81 -0.  ])\n",
      "AutoDiffXd(-4.905, derivatives=[-0.   -9.81])\n"
     ]
    }
   ],
   "source": [
    "tau_g = plant_ad.CalcGravityGeneralizedForces(context_ad)\n",
    "tau_g_z1 = get_z_component(plant_ad, body1_ad, tau_g)\n",
    "tau_g_z2 = get_z_component(plant_ad, body2_ad, tau_g)\n",
    "print(ad_to_string(tau_g_z1))\n",
    "print(ad_to_string(tau_g_z2))"
   ]
  },
  {
   "cell_type": "code",
   "execution_count": null,
   "metadata": {},
   "outputs": [],
   "source": []
  }
 ],
 "metadata": {
  "kernelspec": {
   "display_name": "Python 3",
   "language": "python",
   "name": "python3"
  },
  "language_info": {
   "codemirror_mode": {
    "name": "ipython",
    "version": 3
   },
   "file_extension": ".py",
   "mimetype": "text/x-python",
   "name": "python",
   "nbconvert_exporter": "python",
   "pygments_lexer": "ipython3",
   "version": "3.6.9"
  }
 },
 "nbformat": 4,
 "nbformat_minor": 4
}
