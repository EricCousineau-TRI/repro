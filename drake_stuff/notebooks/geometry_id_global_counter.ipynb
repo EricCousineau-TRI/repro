{
 "cells": [
  {
   "cell_type": "markdown",
   "id": "84bc9ee3-00b8-4c9d-82cb-16a2ffbbd03b",
   "metadata": {},
   "source": [
    "Show that geomtry id's for geometries are *not* stable when considered\n",
    "within a single `MultibodyPlant` and `SceneGraph` pairing.\n",
    "\n",
    "More conceretely, see:\n",
    "- https://github.com/RobotLocomotion/drake/blob/v1.0.0/geometry/geometry_ids.h#L31-L34\n",
    "- https://github.com/RobotLocomotion/drake/blob/v1.0.0/common/identifier.cc#L10-L24\n"
   ]
  },
  {
   "cell_type": "code",
   "execution_count": 1,
   "id": "d6394608-d885-41ab-9b64-0bd280d6bd26",
   "metadata": {},
   "outputs": [],
   "source": [
    "from pydrake.all import (\n",
    "    AddMultibodyPlantSceneGraph,\n",
    "    BodyIndex,\n",
    "    DiagramBuilder,\n",
    "    FindResourceOrThrow,\n",
    "    Parser,\n",
    ")"
   ]
  },
  {
   "cell_type": "code",
   "execution_count": 2,
   "id": "04091d5a-4355-44ba-8a9f-55cbcb5f01c9",
   "metadata": {},
   "outputs": [],
   "source": [
    "iiwa_file = FindResourceOrThrow(\n",
    "    \"drake/manipulation/models/iiwa_description/urdf/\"\n",
    "    \"iiwa14_spheres_dense_elbow_collision.urdf\"\n",
    ")"
   ]
  },
  {
   "cell_type": "code",
   "execution_count": 3,
   "id": "2b4390cd-3878-47dc-b00e-f40d6a79386a",
   "metadata": {},
   "outputs": [],
   "source": [
    "def make_new_iiwa():\n",
    "    builder = DiagramBuilder()\n",
    "    plant, scene_graph = AddMultibodyPlantSceneGraph(builder, time_step=0.0)\n",
    "    Parser(plant).AddModelFromFile(iiwa_file)\n",
    "    return plant, scene_graph"
   ]
  },
  {
   "cell_type": "code",
   "execution_count": 4,
   "id": "d0fa79a3-ce58-474a-8e9e-fd3296a85652",
   "metadata": {},
   "outputs": [],
   "source": [
    "def get_geometries(plant, scene_graph, bodies):\n",
    "    inspector = scene_graph.model_inspector()\n",
    "    geometry_ids = []\n",
    "    for geometry_id in inspector.GetAllGeometryIds():\n",
    "        body = plant.GetBodyFromFrameId(inspector.GetFrameId(geometry_id))\n",
    "        if body in bodies:\n",
    "            geometry_ids.append(geometry_id)\n",
    "    return geometry_ids"
   ]
  },
  {
   "cell_type": "code",
   "execution_count": 5,
   "id": "cd8047ea-dcf2-4a8f-ae11-b143eea67d8a",
   "metadata": {},
   "outputs": [
    {
     "name": "stdout",
     "output_type": "stream",
     "text": [
      "[<GeometryId value=115>, <GeometryId value=112>, <GeometryId value=109>]\n",
      "[<GeometryId value=252>, <GeometryId value=249>, <GeometryId value=246>]\n",
      "[<GeometryId value=389>, <GeometryId value=386>, <GeometryId value=383>]\n"
     ]
    }
   ],
   "source": [
    "for i in range(3):\n",
    "    plant, scene_graph = make_new_iiwa()\n",
    "    body = plant.GetBodyByName(\"iiwa_link_5\")\n",
    "    geometries = get_geometries(plant, scene_graph, {body})\n",
    "    print(geometries)"
   ]
  },
  {
   "cell_type": "markdown",
   "id": "afd32876-6da4-49d5-af84-9948e3c66e45",
   "metadata": {},
   "source": [
    "---\n",
    "\n",
    "Note that the above geometry id's are *not* the same, even though\n",
    "they were produced in the same way."
   ]
  },
  {
   "cell_type": "code",
   "execution_count": null,
   "id": "51f3b48c-41ae-45f3-b6db-402ecb1896d9",
   "metadata": {},
   "outputs": [],
   "source": []
  }
 ],
 "metadata": {
  "kernelspec": {
   "display_name": "Python 3 (ipykernel)",
   "language": "python",
   "name": "python3"
  },
  "language_info": {
   "codemirror_mode": {
    "name": "ipython",
    "version": 3
   },
   "file_extension": ".py",
   "mimetype": "text/x-python",
   "name": "python",
   "nbconvert_exporter": "python",
   "pygments_lexer": "ipython3",
   "version": "3.8.10"
  }
 },
 "nbformat": 4,
 "nbformat_minor": 5
}
