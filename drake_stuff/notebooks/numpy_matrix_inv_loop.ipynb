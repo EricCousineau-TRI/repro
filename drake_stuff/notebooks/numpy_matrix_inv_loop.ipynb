{
 "cells": [
  {
   "cell_type": "code",
   "execution_count": null,
   "id": "58c46991-5f51-44d2-a440-8bbb2a3a3e68",
   "metadata": {},
   "outputs": [],
   "source": [
    "import numpy as np"
   ]
  },
  {
   "cell_type": "code",
   "execution_count": null,
   "id": "61f58222-cb9f-458d-95e7-675f2a8f80a1",
   "metadata": {},
   "outputs": [],
   "source": [
    "for N in range(1, 7):\n",
    "    xs = np.arange(N * N)\n",
    "    xs = xs ** (N - 1)\n",
    "    A = xs.reshape((N, N))\n",
    "    Ainv = np.linalg.inv(A)\n",
    "    print(Ainv)"
   ]
  },
  {
   "cell_type": "code",
   "execution_count": null,
   "id": "cfab0ce0-0733-4bee-9cd6-02b3f8bb7f7d",
   "metadata": {},
   "outputs": [],
   "source": []
  }
 ],
 "metadata": {
  "kernelspec": {
   "display_name": "Python 3 (ipykernel)",
   "language": "python",
   "name": "python3"
  },
  "language_info": {
   "codemirror_mode": {
    "name": "ipython",
    "version": 3
   },
   "file_extension": ".py",
   "mimetype": "text/x-python",
   "name": "python",
   "nbconvert_exporter": "python",
   "pygments_lexer": "ipython3",
   "version": "3.10.6"
  }
 },
 "nbformat": 4,
 "nbformat_minor": 5
}
