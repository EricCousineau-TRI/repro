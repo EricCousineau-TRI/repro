{
 "cells": [
  {
   "cell_type": "code",
   "execution_count": null,
   "id": "8621577c-9427-439f-aadf-973c7a9a127a",
   "metadata": {},
   "outputs": [],
   "source": [
    "import numpy as np"
   ]
  },
  {
   "cell_type": "code",
   "execution_count": null,
   "id": "ccabf632-91f0-42f0-9a89-22e0a4573077",
   "metadata": {},
   "outputs": [],
   "source": [
    "mask = np.array([False, True, False, False, True, True])"
   ]
  },
  {
   "cell_type": "code",
   "execution_count": null,
   "id": "5b2a4324-e6ed-4a29-afa0-0ac73ce82ff5",
   "metadata": {},
   "outputs": [],
   "source": [
    "np.flatnonzero(mask)"
   ]
  },
  {
   "cell_type": "code",
   "execution_count": null,
   "id": "26c08412-1df2-44bd-b234-32743fa0d8bb",
   "metadata": {},
   "outputs": [],
   "source": [
    "?np.nonzero"
   ]
  },
  {
   "cell_type": "code",
   "execution_count": null,
   "id": "ffffa0e6-dd24-4ab3-b3c7-83ed6c03eebb",
   "metadata": {},
   "outputs": [],
   "source": []
  }
 ],
 "metadata": {
  "kernelspec": {
   "display_name": "Python 3 (ipykernel)",
   "language": "python",
   "name": "python3"
  },
  "language_info": {
   "codemirror_mode": {
    "name": "ipython",
    "version": 3
   },
   "file_extension": ".py",
   "mimetype": "text/x-python",
   "name": "python",
   "nbconvert_exporter": "python",
   "pygments_lexer": "ipython3",
   "version": "3.10.6"
  }
 },
 "nbformat": 4,
 "nbformat_minor": 5
}
