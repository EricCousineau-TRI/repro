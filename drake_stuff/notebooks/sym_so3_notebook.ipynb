{
 "cells": [
  {
   "cell_type": "code",
   "execution_count": 1,
   "id": "4ff2db3e-8b99-4856-b075-a569c9841a5b",
   "metadata": {},
   "outputs": [],
   "source": [
    "from sym_so3 import *\n",
    "from drake_sympy import *\n",
    "import debug"
   ]
  },
  {
   "cell_type": "markdown",
   "id": "c8f6d9c6-179c-4afe-b1a8-afaad2d2385f",
   "metadata": {},
   "source": [
    "Using the standard formulas:\n",
    "\n",
    "Let $r = [r_r, r_p, r_y]$ be the Euler angles, and look at derivative values\n",
    "\n",
    "\\begin{align}\n",
    "    \\text{Skew symmetric angular velocity matrix:} \\\\\n",
    "    \\hat{\\omega} &= R^T \\dot{R}   \\\\\n",
    "    \\text{Skew symmetric angular acceleration matrix:} \\\\\n",
    "    \\hat{\\alpha} &= \\dot{R}^T \\dot{R} + R^T \\ddot{R} \\\\\n",
    "        &= \\hat{\\omega}^T \\hat{\\omega} + R^T \\ddot{R} \\\\\n",
    "    \\text{Alternatively, can use time derivative of (unskewed) angular velocity} \\\\\n",
    "    \\alpha &= \\dot{\\omega} = \\frac{\\partial \\omega}{\\partial r} \\dot{r} + \\frac{\\partial \\omega}{\\partial \\dot{r}} \\ddot{r}\n",
    "\\end{align}"
   ]
  },
  {
   "cell_type": "code",
   "execution_count": 2,
   "id": "3828ea28-bcce-42d7-8b5a-0ac3aa14ace6",
   "metadata": {},
   "outputs": [],
   "source": [
    "from pydrake.symbolic import Jacobian"
   ]
  },
  {
   "cell_type": "code",
   "execution_count": 3,
   "id": "de7efe8c-1960-4f8f-b351-f90c9a8b9088",
   "metadata": {},
   "outputs": [],
   "source": [
    "workspace = SecondOrderWorkspace.make([\"r\", \"p\", \"y\"])\n",
    "\n",
    "r_s, rd_s, rdd_s = workspace.syms\n",
    "\n",
    "r_rd_s = cat(r_s, rd_s)\n",
    "rd_rdd_s = cat(rd_s, rdd_s)\n",
    "\n",
    "# Compute rotation matrix using rpy.\n",
    "R_s = RollPitchYaw_[Expression](r_s).ToRotationMatrix().matrix()\n",
    "\n",
    "# Compute first- and second-derivatives w.r.t. time.\n",
    "Rd_s = derivatives_1st(R_s, r_s, rd_s)\n",
    "Rd_s, Rdd_s = derivatives_1st_and_2nd(R_s, r_s, rd_s, rdd_s)\n",
    "# Compute skew-symmetric angular velocity matrix.\n",
    "wh_s = R_s.T @ Rd_s\n",
    "w_s = unskew(wh_s, tol=None)\n",
    "\n",
    "# Compute angular accel. directly from angular velocity.\n",
    "ah_s = derivatives_1st(wh_s, r_rd_s, rd_rdd_s)\n",
    "\n",
    "# Alternative\n",
    "ah_alt_s = wh_s.T @ wh_s + R_s.T @ Rdd_s"
   ]
  },
  {
   "cell_type": "code",
   "execution_count": 4,
   "id": "074e9864-9802-49dc-906f-88ed351f669a",
   "metadata": {},
   "outputs": [],
   "source": [
    "J_s = Jacobian(w_s, rd_s)"
   ]
  },
  {
   "cell_type": "code",
   "execution_count": 5,
   "id": "403e2e93-e208-4b88-af86-5cb224fd4c83",
   "metadata": {
    "scrolled": true,
    "tags": []
   },
   "outputs": [],
   "source": [
    "env = workspace.env\n",
    "r_v, rd_v, rdd_v = workspace.values\n",
    "\n",
    "# # Single-axis: This shows numerical values that are OK for both angular accelerations.\n",
    "# r_v[:] = [0.0, 0.0, 0.4]\n",
    "# rd_v[:] = [0.0, 0.0, 0.7]\n",
    "# rdd_v[:] = [0.0, 0.0, 1.1]\n",
    "\n",
    "# Multi-axis: This does *not* show good numerical values, which is reflected in symbolics.\n",
    "r_v[:] = [0.2, 0.3, 0.4]\n",
    "rd_v[:] = [0.5, 0.6, 0.7]\n",
    "rdd_v[:] = [0.8, 0.9, 1.1]\n",
    "\n",
    "R = sym.Evaluate(R_s, env)\n",
    "wh = sym.Evaluate(wh_s, env)\n",
    "w = unskew(wh)\n",
    "\n",
    "ah = sym.Evaluate(ah_s, env)\n",
    "a = unskew(ah)\n",
    "ah_alt = sym.Evaluate(ah_alt_s, env)\n",
    "a_alt = unskew(ah_alt)"
   ]
  },
  {
   "cell_type": "code",
   "execution_count": 6,
   "id": "b6c31b47-e6ba-41d7-af85-1e4687406a2d",
   "metadata": {},
   "outputs": [
    {
     "name": "stdout",
     "output_type": "stream",
     "text": [
      "[[ 1.00000000e+00 -5.54075129e-17  6.97071887e-17]\n",
      " [-5.54075129e-17  1.00000000e+00  2.18104550e-17]\n",
      " [ 6.97071887e-17  2.18104550e-17  1.00000000e+00]]\n",
      "[0.29313586 0.72089719 0.53620376]\n",
      "[0.07368645 1.33427893 0.36902733]\n",
      "[0.07368645 1.33427893 0.36902733]\n"
     ]
    }
   ],
   "source": [
    "# Decent-looking values.\n",
    "print(R @ R.T)\n",
    "print(w)\n",
    "print(a)\n",
    "print(a_alt)"
   ]
  },
  {
   "cell_type": "code",
   "execution_count": 7,
   "id": "6cfdfde8-6f90-4c05-84c8-b15ae9d227bd",
   "metadata": {},
   "outputs": [],
   "source": [
    "to_sympy = make_drake_to_sympy(cat(r_s, rd_s, rdd_s))\n",
    "r_sympy = [to_sympy[hash(x)] for x in r_s]\n",
    "\n",
    "def pretty(A, *, simplify=True):\n",
    "    A = drake_to_sympy_matrix(A, to_sympy)\n",
    "    A = pretty_trig(A, r_sympy, simplify=simplify)\n",
    "    return A"
   ]
  },
  {
   "cell_type": "markdown",
   "id": "23a91b02-275f-4cb1-8e25-8d5779f5d366",
   "metadata": {},
   "source": [
    "The `trigsimp` stuff will take a few min\n",
    "\n",
    "For compactness, I substitute stuff like $cos(r)$ with $c_r$, $sin(y)$ with $s_y$, etc."
   ]
  },
  {
   "cell_type": "code",
   "execution_count": 8,
   "id": "1e255252-0011-48d2-be9d-092b8a6e611d",
   "metadata": {},
   "outputs": [
    {
     "data": {
      "text/latex": [
       "$\\displaystyle \\left[\\begin{matrix}c_{p} c_{y} & - c_{r} s_{y} + c_{y} s_{p} s_{r} & c_{r} c_{y} s_{p} + s_{r} s_{y}\\\\c_{p} s_{y} & c_{r} c_{y} + s_{p} s_{r} s_{y} & c_{r} s_{p} s_{y} - c_{y} s_{r}\\\\- s_{p} & c_{p} s_{r} & c_{p} c_{r}\\end{matrix}\\right]$"
      ],
      "text/plain": [
       "Matrix([\n",
       "[c_p*c_y, -c_r*s_y + c_y*s_p*s_r, c_r*c_y*s_p + s_r*s_y],\n",
       "[c_p*s_y,  c_r*c_y + s_p*s_r*s_y, c_r*s_p*s_y - c_y*s_r],\n",
       "[   -s_p,                c_p*s_r,               c_p*c_r]])"
      ]
     },
     "execution_count": 8,
     "metadata": {},
     "output_type": "execute_result"
    }
   ],
   "source": [
    "pretty(R_s)"
   ]
  },
  {
   "cell_type": "code",
   "execution_count": 9,
   "id": "62cbcfc0-e643-4677-ab6c-1e3b8d86a44c",
   "metadata": {},
   "outputs": [
    {
     "data": {
      "text/latex": [
       "$\\displaystyle \\left[\\begin{matrix}- c_{p} s_{y} \\dot{y} - c_{y} \\dot{p} s_{p} & c_{p} c_{y} \\dot{p} s_{r} + \\dot{r} \\left(c_{r} c_{y} s_{p} + s_{r} s_{y}\\right) - \\dot{y} \\left(c_{r} c_{y} + s_{p} s_{r} s_{y}\\right) & c_{p} c_{r} c_{y} \\dot{p} + \\dot{r} \\left(c_{r} s_{y} - c_{y} s_{p} s_{r}\\right) + \\dot{y} \\left(- c_{r} s_{p} s_{y} + c_{y} s_{r}\\right)\\\\c_{p} c_{y} \\dot{y} - \\dot{p} s_{p} s_{y} & c_{p} \\dot{p} s_{r} s_{y} + \\dot{r} \\left(c_{r} s_{p} s_{y} - c_{y} s_{r}\\right) + \\dot{y} \\left(- c_{r} s_{y} + c_{y} s_{p} s_{r}\\right) & c_{p} c_{r} \\dot{p} s_{y} - \\dot{r} \\left(c_{r} c_{y} + s_{p} s_{r} s_{y}\\right) + \\dot{y} \\left(c_{r} c_{y} s_{p} + s_{r} s_{y}\\right)\\\\- c_{p} \\dot{p} & c_{p} c_{r} \\dot{r} - \\dot{p} s_{p} s_{r} & - c_{p} \\dot{r} s_{r} - c_{r} \\dot{p} s_{p}\\end{matrix}\\right]$"
      ],
      "text/plain": [
       "Matrix([\n",
       "[-c_p*s_y*ydot - c_y*pdot*s_p,  c_p*c_y*pdot*s_r + rdot*(c_r*c_y*s_p + s_r*s_y) - ydot*(c_r*c_y + s_p*s_r*s_y), c_p*c_r*c_y*pdot + rdot*(c_r*s_y - c_y*s_p*s_r) + ydot*(-c_r*s_p*s_y + c_y*s_r)],\n",
       "[ c_p*c_y*ydot - pdot*s_p*s_y, c_p*pdot*s_r*s_y + rdot*(c_r*s_p*s_y - c_y*s_r) + ydot*(-c_r*s_y + c_y*s_p*s_r),  c_p*c_r*pdot*s_y - rdot*(c_r*c_y + s_p*s_r*s_y) + ydot*(c_r*c_y*s_p + s_r*s_y)],\n",
       "[                   -c_p*pdot,                                                     c_p*c_r*rdot - pdot*s_p*s_r,                                                    -c_p*rdot*s_r - c_r*pdot*s_p]])"
      ]
     },
     "execution_count": 9,
     "metadata": {},
     "output_type": "execute_result"
    }
   ],
   "source": [
    "pretty(Rd_s)"
   ]
  },
  {
   "cell_type": "code",
   "execution_count": 10,
   "id": "b550a3f4-7f97-49a9-937c-91be63445398",
   "metadata": {},
   "outputs": [
    {
     "data": {
      "text/latex": [
       "$\\displaystyle \\left[\\begin{matrix}\\dot{r} - s_{p} \\dot{y}\\\\c_{p} s_{r} \\dot{y} + c_{r} \\dot{p}\\\\c_{p} c_{r} \\dot{y} - \\dot{p} s_{r}\\end{matrix}\\right]$"
      ],
      "text/plain": [
       "Matrix([\n",
       "[        rdot - s_p*ydot],\n",
       "[c_p*s_r*ydot + c_r*pdot],\n",
       "[c_p*c_r*ydot - pdot*s_r]])"
      ]
     },
     "execution_count": 10,
     "metadata": {},
     "output_type": "execute_result"
    }
   ],
   "source": [
    "pretty(w_s)"
   ]
  },
  {
   "cell_type": "code",
   "execution_count": 11,
   "id": "3e11d982-88b9-4fbd-8f6a-2fa23bde3fb2",
   "metadata": {},
   "outputs": [
    {
     "data": {
      "text/latex": [
       "$\\displaystyle \\left[\\begin{matrix}1 & 0 & - s_{p}\\\\0 & c_{r} & c_{p} s_{r}\\\\0 & - s_{r} & c_{p} c_{r}\\end{matrix}\\right]$"
      ],
      "text/plain": [
       "Matrix([\n",
       "[1,    0,    -s_p],\n",
       "[0,  c_r, c_p*s_r],\n",
       "[0, -s_r, c_p*c_r]])"
      ]
     },
     "execution_count": 11,
     "metadata": {},
     "output_type": "execute_result"
    }
   ],
   "source": [
    "pretty(J_s)"
   ]
  },
  {
   "cell_type": "code",
   "execution_count": 12,
   "id": "427cb2a4-d583-4e98-97bf-1a41d033b13f",
   "metadata": {},
   "outputs": [
    {
     "data": {
      "text/latex": [
       "$\\displaystyle \\left[\\begin{matrix}- c_{p} c_{y} \\dot{p}^{2} - c_{p} c_{y} \\dot{y}^{2} - c_{p} s_{y} \\ddot{y} - c_{y} \\ddot{p} s_{p} + 2 \\dot{p} s_{p} s_{y} \\dot{y} & 2 c_{p} c_{r} c_{y} \\dot{p} \\dot{r} + c_{p} c_{y} \\ddot{p} s_{r} - 2 c_{p} \\dot{p} s_{r} s_{y} \\dot{y} + c_{r} c_{y} \\ddot{r} s_{p} - c_{r} c_{y} \\ddot{y} + c_{r} \\dot{r}^{2} s_{y} - 2 c_{r} \\dot{r} s_{p} s_{y} \\dot{y} + c_{r} s_{y} \\dot{y}^{2} - c_{y} \\dot{p}^{2} s_{p} s_{r} - c_{y} \\dot{r}^{2} s_{p} s_{r} + 2 c_{y} \\dot{r} s_{r} \\dot{y} - c_{y} s_{p} s_{r} \\dot{y}^{2} + \\ddot{r} s_{r} s_{y} - s_{p} s_{r} s_{y} \\ddot{y} & c_{p} c_{r} c_{y} \\ddot{p} - 2 c_{p} c_{r} \\dot{p} s_{y} \\dot{y} - 2 c_{p} c_{y} \\dot{p} \\dot{r} s_{r} - c_{r} c_{y} \\dot{p}^{2} s_{p} - c_{r} c_{y} \\dot{r}^{2} s_{p} + 2 c_{r} c_{y} \\dot{r} \\dot{y} - c_{r} c_{y} s_{p} \\dot{y}^{2} + c_{r} \\ddot{r} s_{y} - c_{r} s_{p} s_{y} \\ddot{y} - c_{y} \\ddot{r} s_{p} s_{r} + c_{y} s_{r} \\ddot{y} - \\dot{r}^{2} s_{r} s_{y} + 2 \\dot{r} s_{p} s_{r} s_{y} \\dot{y} - s_{r} s_{y} \\dot{y}^{2}\\\\c_{p} c_{y} \\ddot{y} - c_{p} \\dot{p}^{2} s_{y} - c_{p} s_{y} \\dot{y}^{2} - 2 c_{y} \\dot{p} s_{p} \\dot{y} - \\ddot{p} s_{p} s_{y} & 2 c_{p} c_{r} \\dot{p} \\dot{r} s_{y} + 2 c_{p} c_{y} \\dot{p} s_{r} \\dot{y} + c_{p} \\ddot{p} s_{r} s_{y} - c_{r} c_{y} \\dot{r}^{2} + 2 c_{r} c_{y} \\dot{r} s_{p} \\dot{y} - c_{r} c_{y} \\dot{y}^{2} + c_{r} \\ddot{r} s_{p} s_{y} - c_{r} s_{y} \\ddot{y} - c_{y} \\ddot{r} s_{r} + c_{y} s_{p} s_{r} \\ddot{y} - \\dot{p}^{2} s_{p} s_{r} s_{y} - \\dot{r}^{2} s_{p} s_{r} s_{y} + 2 \\dot{r} s_{r} s_{y} \\dot{y} - s_{p} s_{r} s_{y} \\dot{y}^{2} & 2 c_{p} c_{r} c_{y} \\dot{p} \\dot{y} + c_{p} c_{r} \\ddot{p} s_{y} - 2 c_{p} \\dot{p} \\dot{r} s_{r} s_{y} - c_{r} c_{y} \\ddot{r} + c_{r} c_{y} s_{p} \\ddot{y} - c_{r} \\dot{p}^{2} s_{p} s_{y} - c_{r} \\dot{r}^{2} s_{p} s_{y} + 2 c_{r} \\dot{r} s_{y} \\dot{y} - c_{r} s_{p} s_{y} \\dot{y}^{2} + c_{y} \\dot{r}^{2} s_{r} - 2 c_{y} \\dot{r} s_{p} s_{r} \\dot{y} + c_{y} s_{r} \\dot{y}^{2} - \\ddot{r} s_{p} s_{r} s_{y} + s_{r} s_{y} \\ddot{y}\\\\- c_{p} \\ddot{p} + \\dot{p}^{2} s_{p} & c_{p} c_{r} \\ddot{r} - c_{p} \\dot{p}^{2} s_{r} - c_{p} \\dot{r}^{2} s_{r} - 2 c_{r} \\dot{p} \\dot{r} s_{p} - \\ddot{p} s_{p} s_{r} & - c_{p} c_{r} \\dot{p}^{2} - c_{p} c_{r} \\dot{r}^{2} - c_{p} \\ddot{r} s_{r} - c_{r} \\ddot{p} s_{p} + 2 \\dot{p} \\dot{r} s_{p} s_{r}\\end{matrix}\\right]$"
      ],
      "text/plain": [
       "Matrix([\n",
       "[-c_p*c_y*pdot**2 - c_p*c_y*ydot**2 - c_p*s_y*yddot - c_y*pddot*s_p + 2*pdot*s_p*s_y*ydot, 2*c_p*c_r*c_y*pdot*rdot + c_p*c_y*pddot*s_r - 2*c_p*pdot*s_r*s_y*ydot + c_r*c_y*rddot*s_p - c_r*c_y*yddot + c_r*rdot**2*s_y - 2*c_r*rdot*s_p*s_y*ydot + c_r*s_y*ydot**2 - c_y*pdot**2*s_p*s_r - c_y*rdot**2*s_p*s_r + 2*c_y*rdot*s_r*ydot - c_y*s_p*s_r*ydot**2 + rddot*s_r*s_y - s_p*s_r*s_y*yddot, c_p*c_r*c_y*pddot - 2*c_p*c_r*pdot*s_y*ydot - 2*c_p*c_y*pdot*rdot*s_r - c_r*c_y*pdot**2*s_p - c_r*c_y*rdot**2*s_p + 2*c_r*c_y*rdot*ydot - c_r*c_y*s_p*ydot**2 + c_r*rddot*s_y - c_r*s_p*s_y*yddot - c_y*rddot*s_p*s_r + c_y*s_r*yddot - rdot**2*s_r*s_y + 2*rdot*s_p*s_r*s_y*ydot - s_r*s_y*ydot**2],\n",
       "[ c_p*c_y*yddot - c_p*pdot**2*s_y - c_p*s_y*ydot**2 - 2*c_y*pdot*s_p*ydot - pddot*s_p*s_y, 2*c_p*c_r*pdot*rdot*s_y + 2*c_p*c_y*pdot*s_r*ydot + c_p*pddot*s_r*s_y - c_r*c_y*rdot**2 + 2*c_r*c_y*rdot*s_p*ydot - c_r*c_y*ydot**2 + c_r*rddot*s_p*s_y - c_r*s_y*yddot - c_y*rddot*s_r + c_y*s_p*s_r*yddot - pdot**2*s_p*s_r*s_y - rdot**2*s_p*s_r*s_y + 2*rdot*s_r*s_y*ydot - s_p*s_r*s_y*ydot**2, 2*c_p*c_r*c_y*pdot*ydot + c_p*c_r*pddot*s_y - 2*c_p*pdot*rdot*s_r*s_y - c_r*c_y*rddot + c_r*c_y*s_p*yddot - c_r*pdot**2*s_p*s_y - c_r*rdot**2*s_p*s_y + 2*c_r*rdot*s_y*ydot - c_r*s_p*s_y*ydot**2 + c_y*rdot**2*s_r - 2*c_y*rdot*s_p*s_r*ydot + c_y*s_r*ydot**2 - rddot*s_p*s_r*s_y + s_r*s_y*yddot],\n",
       "[                                                                -c_p*pddot + pdot**2*s_p,                                                                                                                                                                                                             c_p*c_r*rddot - c_p*pdot**2*s_r - c_p*rdot**2*s_r - 2*c_r*pdot*rdot*s_p - pddot*s_p*s_r,                                                                                                                                                                                                            -c_p*c_r*pdot**2 - c_p*c_r*rdot**2 - c_p*rddot*s_r - c_r*pddot*s_p + 2*pdot*rdot*s_p*s_r]])"
      ]
     },
     "execution_count": 12,
     "metadata": {},
     "output_type": "execute_result"
    }
   ],
   "source": [
    "pretty(Rdd_s)"
   ]
  },
  {
   "cell_type": "code",
   "execution_count": 13,
   "id": "136d770f-ad04-4d7c-bff4-e6c59229022c",
   "metadata": {},
   "outputs": [
    {
     "data": {
      "text/latex": [
       "$\\displaystyle \\left[\\begin{matrix}0 & - c_{p} c_{r} \\ddot{y} + c_{r} \\dot{p} s_{p} \\dot{y} + \\ddot{p} s_{r} + \\dot{r} \\left(c_{p} s_{r} \\dot{y} + c_{r} \\dot{p}\\right) & c_{p} s_{r} \\ddot{y} + c_{r} \\ddot{p} - \\dot{p} s_{p} s_{r} \\dot{y} + \\dot{r} \\left(c_{p} c_{r} \\dot{y} - \\dot{p} s_{r}\\right)\\\\c_{p} c_{r} \\ddot{y} - 1.0 c_{r} \\dot{p} s_{p} \\dot{y} - \\ddot{p} s_{r} - \\dot{r} \\left(c_{p} s_{r} \\dot{y} + c_{r} \\dot{p}\\right) & 0 & c_{p} \\dot{p} \\dot{y} - \\ddot{r} + s_{p} \\ddot{y}\\\\- c_{p} s_{r} \\ddot{y} - c_{r} \\ddot{p} + \\dot{p} s_{p} s_{r} \\dot{y} + \\dot{r} \\left(- c_{p} c_{r} \\dot{y} + \\dot{p} s_{r}\\right) & - c_{p} \\dot{p} \\dot{y} + \\ddot{r} - s_{p} \\ddot{y} & 0\\end{matrix}\\right]$"
      ],
      "text/plain": [
       "Matrix([\n",
       "[                                                                                 0, -c_p*c_r*yddot + c_r*pdot*s_p*ydot + pddot*s_r + rdot*(c_p*s_r*ydot + c_r*pdot), c_p*s_r*yddot + c_r*pddot - pdot*s_p*s_r*ydot + rdot*(c_p*c_r*ydot - pdot*s_r)],\n",
       "[c_p*c_r*yddot - 1.0*c_r*pdot*s_p*ydot - pddot*s_r - rdot*(c_p*s_r*ydot + c_r*pdot),                                                                               0,                                              c_p*pdot*ydot - rddot + s_p*yddot],\n",
       "[  -c_p*s_r*yddot - c_r*pddot + pdot*s_p*s_r*ydot + rdot*(-c_p*c_r*ydot + pdot*s_r),                                              -c_p*pdot*ydot + rddot - s_p*yddot,                                                                              0]])"
      ]
     },
     "execution_count": 13,
     "metadata": {},
     "output_type": "execute_result"
    }
   ],
   "source": [
    "pretty(ah_s)"
   ]
  },
  {
   "cell_type": "code",
   "execution_count": 14,
   "id": "2685475c-3df1-49e5-b992-3652a6660539",
   "metadata": {},
   "outputs": [
    {
     "data": {
      "text/latex": [
       "$\\displaystyle \\left[\\begin{matrix}0 & - c_{p} c_{r} \\ddot{y} + c_{p} \\dot{r} s_{r} \\dot{y} + c_{r} \\dot{p} \\dot{r} + c_{r} \\dot{p} s_{p} \\dot{y} + \\ddot{p} s_{r} & c_{p} c_{r} \\dot{r} \\dot{y} + c_{p} s_{r} \\ddot{y} + c_{r} \\ddot{p} - \\dot{p} \\dot{r} s_{r} - \\dot{p} s_{p} s_{r} \\dot{y}\\\\c_{p} c_{r} \\ddot{y} - c_{p} \\dot{r} s_{r} \\dot{y} - c_{r} \\dot{p} \\dot{r} - c_{r} \\dot{p} s_{p} \\dot{y} - \\ddot{p} s_{r} & 0 & c_{p} \\dot{p} \\dot{y} - \\ddot{r} + s_{p} \\ddot{y}\\\\- c_{p} c_{r} \\dot{r} \\dot{y} - c_{p} s_{r} \\ddot{y} - c_{r} \\ddot{p} + \\dot{p} \\dot{r} s_{r} + \\dot{p} s_{p} s_{r} \\dot{y} & - c_{p} \\dot{p} \\dot{y} + \\ddot{r} - s_{p} \\ddot{y} & 0\\end{matrix}\\right]$"
      ],
      "text/plain": [
       "Matrix([\n",
       "[                                                                                 0, -c_p*c_r*yddot + c_p*rdot*s_r*ydot + c_r*pdot*rdot + c_r*pdot*s_p*ydot + pddot*s_r, c_p*c_r*rdot*ydot + c_p*s_r*yddot + c_r*pddot - pdot*rdot*s_r - pdot*s_p*s_r*ydot],\n",
       "[ c_p*c_r*yddot - c_p*rdot*s_r*ydot - c_r*pdot*rdot - c_r*pdot*s_p*ydot - pddot*s_r,                                                                                  0,                                                 c_p*pdot*ydot - rddot + s_p*yddot],\n",
       "[-c_p*c_r*rdot*ydot - c_p*s_r*yddot - c_r*pddot + pdot*rdot*s_r + pdot*s_p*s_r*ydot,                                                 -c_p*pdot*ydot + rddot - s_p*yddot,                                                                                 0]])"
      ]
     },
     "execution_count": 14,
     "metadata": {},
     "output_type": "execute_result"
    }
   ],
   "source": [
    "pretty(ah_alt_s)"
   ]
  },
  {
   "cell_type": "code",
   "execution_count": null,
   "id": "9ee5551c-87f9-4d16-862f-9c68d0d3b2ea",
   "metadata": {},
   "outputs": [],
   "source": []
  }
 ],
 "metadata": {
  "kernelspec": {
   "display_name": "Python 3 (ipykernel)",
   "language": "python",
   "name": "python3"
  },
  "language_info": {
   "codemirror_mode": {
    "name": "ipython",
    "version": 3
   },
   "file_extension": ".py",
   "mimetype": "text/x-python",
   "name": "python",
   "nbconvert_exporter": "python",
   "pygments_lexer": "ipython3",
   "version": "3.10.6"
  }
 },
 "nbformat": 4,
 "nbformat_minor": 5
}
