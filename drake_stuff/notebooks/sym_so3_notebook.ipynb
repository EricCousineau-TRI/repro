{
 "cells": [
  {
   "cell_type": "code",
   "execution_count": null,
   "id": "4ff2db3e-8b99-4856-b075-a569c9841a5b",
   "metadata": {},
   "outputs": [],
   "source": [
    "from sym_so3 import *\n",
    "from drake_sympy import *\n",
    "import debug"
   ]
  },
  {
   "cell_type": "markdown",
   "id": "c8f6d9c6-179c-4afe-b1a8-afaad2d2385f",
   "metadata": {},
   "source": [
    "Using the standard formulas:\n",
    "\n",
    "Let $r = [r_r, r_p, r_y]$ be the Euler angles, and look at derivative values\n",
    "\n",
    "\\begin{align}\n",
    "    \\text{Skew symmetric angular velocity matrix:} \\\\\n",
    "    \\hat{\\omega} &= R^T \\dot{R}   \\\\\n",
    "    \\text{Skew symmetric angular acceleration matrix:} \\\\\n",
    "    \\hat{\\alpha} &= \\dot{R}^T \\dot{R} + R^T \\ddot{R} \\\\\n",
    "        &= \\hat{\\omega}^T \\hat{\\omega} + R^T \\ddot{R} \\\\\n",
    "    \\text{Alternatively, can use time derivative of (unskewed) angular velocity} \\\\\n",
    "    \\alpha &= \\dot{\\omega} = \\frac{\\partial \\omega}{\\partial r} \\dot{r} + \\frac{\\partial \\omega}{\\partial \\dot{r}} \\ddot{r}\n",
    "\\end{align}"
   ]
  },
  {
   "cell_type": "code",
   "execution_count": null,
   "id": "3828ea28-bcce-42d7-8b5a-0ac3aa14ace6",
   "metadata": {},
   "outputs": [],
   "source": [
    "from pydrake.symbolic import Jacobian"
   ]
  },
  {
   "cell_type": "code",
   "execution_count": null,
   "id": "de7efe8c-1960-4f8f-b351-f90c9a8b9088",
   "metadata": {},
   "outputs": [],
   "source": [
    "workspace = SecondOrderWorkspace.make([\"r\", \"p\", \"y\"])\n",
    "\n",
    "r_s, rd_s, rdd_s = workspace.syms\n",
    "\n",
    "r_rd_s = cat(r_s, rd_s)\n",
    "rd_rdd_s = cat(rd_s, rdd_s)\n",
    "\n",
    "# Compute rotation matrix using rpy.\n",
    "R_s = RollPitchYaw_[Expression](r_s).ToRotationMatrix().matrix()\n",
    "\n",
    "# Compute first- and second-derivatives w.r.t. time.\n",
    "Rd_s = derivatives_1st(R_s, r_s, rd_s)\n",
    "Rd_s, Rdd_s = derivatives_1st_and_2nd(R_s, r_s, rd_s, rdd_s)\n",
    "# Compute skew-symmetric angular velocity matrix.\n",
    "wh_s = R_s.T @ Rd_s\n",
    "w_s = unskew(wh_s, tol=None)\n",
    "\n",
    "# Compute angular accel. directly from angular velocity.\n",
    "ah_s = derivatives_1st(wh_s, r_rd_s, rd_rdd_s)\n",
    "\n",
    "# Alternative\n",
    "ah_alt_s = wh_s.T @ wh_s + R_s.T @ Rdd_s"
   ]
  },
  {
   "cell_type": "code",
   "execution_count": null,
   "id": "074e9864-9802-49dc-906f-88ed351f669a",
   "metadata": {},
   "outputs": [],
   "source": [
    "J_s = Jacobian(w_s, rd_s)"
   ]
  },
  {
   "cell_type": "code",
   "execution_count": null,
   "id": "403e2e93-e208-4b88-af86-5cb224fd4c83",
   "metadata": {
    "scrolled": true,
    "tags": []
   },
   "outputs": [],
   "source": [
    "env = workspace.env\n",
    "r_v, rd_v, rdd_v = workspace.values\n",
    "\n",
    "# # Single-axis: This shows numerical values that are OK for both angular accelerations.\n",
    "# r_v[:] = [0.0, 0.0, 0.4]\n",
    "# rd_v[:] = [0.0, 0.0, 0.7]\n",
    "# rdd_v[:] = [0.0, 0.0, 1.1]\n",
    "\n",
    "# Multi-axis: This does *not* show good numerical values, which is reflected in symbolics.\n",
    "r_v[:] = [0.2, 0.3, 0.4]\n",
    "rd_v[:] = [0.5, 0.6, 0.7]\n",
    "rdd_v[:] = [0.8, 0.9, 1.1]\n",
    "\n",
    "R = sym.Evaluate(R_s, env)\n",
    "wh = sym.Evaluate(wh_s, env)\n",
    "w = unskew(wh)\n",
    "\n",
    "ah = sym.Evaluate(ah_s, env)\n",
    "a = unskew(ah)\n",
    "ah_alt = sym.Evaluate(ah_alt_s, env)\n",
    "a_alt = unskew(ah_alt)"
   ]
  },
  {
   "cell_type": "code",
   "execution_count": null,
   "id": "b6c31b47-e6ba-41d7-af85-1e4687406a2d",
   "metadata": {},
   "outputs": [],
   "source": [
    "# Decent-looking values.\n",
    "print(R @ R.T)\n",
    "print(w)\n",
    "print(a)\n",
    "print(a_alt)"
   ]
  },
  {
   "cell_type": "code",
   "execution_count": null,
   "id": "6cfdfde8-6f90-4c05-84c8-b15ae9d227bd",
   "metadata": {},
   "outputs": [],
   "source": [
    "to_sympy = make_drake_to_sympy(cat(r_s, rd_s, rdd_s))\n",
    "r_sympy = [to_sympy[hash(x)] for x in r_s]\n",
    "\n",
    "def pretty(A, *, simplify=True):\n",
    "    A = drake_to_sympy_matrix(A, to_sympy)\n",
    "    A = pretty_trig(A, r_sympy, simplify=simplify)\n",
    "    return A"
   ]
  },
  {
   "cell_type": "markdown",
   "id": "23a91b02-275f-4cb1-8e25-8d5779f5d366",
   "metadata": {},
   "source": [
    "The `trigsimp` stuff will take a few min\n",
    "\n",
    "For compactness, I substitute stuff like $cos(r)$ with $c_r$, $sin(y)$ with $s_y$, etc."
   ]
  },
  {
   "cell_type": "code",
   "execution_count": null,
   "id": "1e255252-0011-48d2-be9d-092b8a6e611d",
   "metadata": {},
   "outputs": [],
   "source": [
    "pretty(R_s)"
   ]
  },
  {
   "cell_type": "code",
   "execution_count": null,
   "id": "62cbcfc0-e643-4677-ab6c-1e3b8d86a44c",
   "metadata": {},
   "outputs": [],
   "source": [
    "pretty(Rd_s)"
   ]
  },
  {
   "cell_type": "code",
   "execution_count": null,
   "id": "b550a3f4-7f97-49a9-937c-91be63445398",
   "metadata": {},
   "outputs": [],
   "source": [
    "pretty(w_s)"
   ]
  },
  {
   "cell_type": "code",
   "execution_count": null,
   "id": "3e11d982-88b9-4fbd-8f6a-2fa23bde3fb2",
   "metadata": {},
   "outputs": [],
   "source": [
    "pretty(J_s)"
   ]
  },
  {
   "cell_type": "code",
   "execution_count": null,
   "id": "427cb2a4-d583-4e98-97bf-1a41d033b13f",
   "metadata": {},
   "outputs": [],
   "source": [
    "# Slow af\n",
    "# pretty(Rdd_s)"
   ]
  },
  {
   "cell_type": "code",
   "execution_count": null,
   "id": "136d770f-ad04-4d7c-bff4-e6c59229022c",
   "metadata": {},
   "outputs": [],
   "source": [
    "# pretty(ah_s)"
   ]
  },
  {
   "cell_type": "code",
   "execution_count": null,
   "id": "2685475c-3df1-49e5-b992-3652a6660539",
   "metadata": {},
   "outputs": [],
   "source": [
    "# pretty(ah_alt_s)"
   ]
  },
  {
   "cell_type": "markdown",
   "id": "d147ce7d-0edd-4871-a6af-8926d6622b92",
   "metadata": {},
   "source": [
    "## Quaternions"
   ]
  },
  {
   "cell_type": "code",
   "execution_count": null,
   "id": "38cb7e6c-75ca-4cf2-8972-963f094a77c3",
   "metadata": {},
   "outputs": [],
   "source": [
    "import copy\n",
    "\n",
    "from pydrake.common.eigen_geometry import Quaternion_"
   ]
  },
  {
   "cell_type": "code",
   "execution_count": null,
   "id": "3cb7a21c-5fd4-45ce-9a1d-514a712300a3",
   "metadata": {},
   "outputs": [],
   "source": [
    "workspace = SecondOrderWorkspace.make([\"w\", \"x\", \"y\", \"z\"])\n",
    "env = workspace.env\n",
    "q_v, qd_v, qdd_v = workspace.values\n",
    "\n",
    "q_s, qd_s, qdd_s = workspace.syms\n",
    "q_qd_s = cat(q_s, qd_s)\n",
    "qd_qdd_s = cat(qd_s, qdd_s)\n",
    "\n",
    "q_norm_squared_s = (q_s ** 2).sum()\n",
    "q_full_s = Quaternion_[Expression](wxyz=q_s)\n",
    "\n",
    "def remove_q_norm_unit(expr):\n",
    "    # Assume norm(q)^2 == 1 for expression.\n",
    "    return drake_sym_replace(expr, q_norm_squared_s, 1.0)\n",
    "\n",
    "R_s = RotationMatrix_[Expression](q_full_s).matrix()\n",
    "R_s = remove_q_norm_unit(R_s)\n",
    "\n",
    "Rd_s, Rdd_s = derivatives_1st_and_2nd(R_s, q_s, qd_s, qdd_s)\n",
    "wh_s = R_s.T @ Rd_s\n",
    "w_s = unskew(wh_s, tol=None)\n",
    "ah_s = derivatives_1st(wh_s, q_qd_s, qd_qdd_s)\n",
    "a_s = unskew(ah_s, tol=None)"
   ]
  },
  {
   "cell_type": "code",
   "execution_count": null,
   "id": "a4750fa2-bea5-4b2c-b506-1c5536d6a387",
   "metadata": {},
   "outputs": [],
   "source": [
    "# Derivatives along normalization.\n",
    "q_norm_s = q_s / np.sqrt(q_norm_squared_s)\n",
    "qd_norm_s = derivatives_1st(q_norm_s, q_s, qd_s)\n",
    "qd_norm_s = remove_q_norm_unit(qd_norm_s)\n",
    "qdd_norm_s = derivatives_1st(qd_norm_s, q_qd_s, qd_qdd_s)\n",
    "qdd_norm_s = remove_q_norm_unit(qdd_norm_s)\n",
    "\n",
    "def normalize(x, *, tol=1e-8):\n",
    "    n = np.linalg.norm(x)\n",
    "    assert n > tol\n",
    "    return x / n\n",
    "\n",
    "def set_q_qd_qdd_norm(q_in, qd_in, qdd_in):\n",
    "    # Normalize input values.\n",
    "    # TODO(eric.cousineau): What about upper half-sphere?\n",
    "    q_v[:] =  normalize(q_in)\n",
    "    # Feed raw velocity, then re-evaluate.\n",
    "    qd_v[:] = qd_in\n",
    "    qd_v[:] = sym.Evaluate(qd_norm_s, env).reshape((-1,))\n",
    "    # Feed raw accel, then re-evaluate.\n",
    "    qdd_v[:] = qdd_in\n",
    "    qdd_v[:] = sym.Evaluate(qdd_norm_s, env).reshape((-1,))"
   ]
  },
  {
   "cell_type": "code",
   "execution_count": null,
   "id": "8d66ea5a-cdf0-4f19-b0f8-33b09b504b47",
   "metadata": {},
   "outputs": [],
   "source": [
    "# N.B. This is for *normalized* quaternion *and* time derivatives!\n",
    "J_s = Jacobian(w_s, qd_s)\n",
    "\n",
    "# As in Drake, should chain rule.\n",
    "J_qd_norm_s = Jacobian(qd_norm_s, qd_s)"
   ]
  },
  {
   "cell_type": "code",
   "execution_count": null,
   "id": "979fbde1-5113-410a-88c7-353db4e46d9f",
   "metadata": {},
   "outputs": [],
   "source": [
    "to_sympy = make_drake_to_sympy(cat(q_s, qd_s, qdd_s))\n",
    "q_sympy = [to_sympy[hash(x)] for x in q_s]\n",
    "\n",
    "def pretty(A, *, simplify=True):\n",
    "    A = drake_to_sympy_matrix(A, to_sympy)\n",
    "    A = pretty_trig(A, q_sympy, simplify=simplify)\n",
    "    return A"
   ]
  },
  {
   "cell_type": "code",
   "execution_count": null,
   "id": "362a1a6e-073c-43fb-a76f-ffd3068ad915",
   "metadata": {},
   "outputs": [],
   "source": [
    "pretty(R_s)"
   ]
  },
  {
   "cell_type": "code",
   "execution_count": null,
   "id": "831e5fbb-6591-4aaf-91ad-ebfe740954f9",
   "metadata": {},
   "outputs": [],
   "source": [
    "pretty(Rd_s)"
   ]
  },
  {
   "cell_type": "code",
   "execution_count": null,
   "id": "78f5b016-fe8e-4040-85a6-4952986ae330",
   "metadata": {},
   "outputs": [],
   "source": [
    "pretty(Rdd_s)"
   ]
  },
  {
   "cell_type": "code",
   "execution_count": null,
   "id": "29a229ae-6d15-4034-a820-7612f65e0dc0",
   "metadata": {},
   "outputs": [],
   "source": [
    "pretty(J_s)"
   ]
  },
  {
   "cell_type": "code",
   "execution_count": null,
   "id": "3c062ce0-e0b2-42a9-b531-6f9078403190",
   "metadata": {},
   "outputs": [],
   "source": [
    "pretty(J_qd_norm_s)"
   ]
  },
  {
   "cell_type": "code",
   "execution_count": null,
   "id": "c1733f16-270d-4c06-8746-716be8b4c442",
   "metadata": {},
   "outputs": [],
   "source": [
    "pretty(a_s)"
   ]
  },
  {
   "cell_type": "code",
   "execution_count": null,
   "id": "a4a9f0d1-ed30-4bbe-9497-8ea341a8d231",
   "metadata": {},
   "outputs": [],
   "source": [
    "pretty(qd_norm_s)"
   ]
  },
  {
   "cell_type": "code",
   "execution_count": null,
   "id": "24bd1488-7e28-434a-b94d-80092b01e196",
   "metadata": {},
   "outputs": [],
   "source": [
    "pretty(qdd_norm_s)"
   ]
  },
  {
   "cell_type": "code",
   "execution_count": null,
   "id": "414092a9-3a4f-4a8b-9ba7-f42326c7847a",
   "metadata": {},
   "outputs": [],
   "source": [
    "set_q_qd_qdd_norm(\n",
    "    q_in=[0.1, 0.2, 0.3, 0.4],\n",
    "    qd_in=[0.5, 0.6, 0.7, 0.1],\n",
    "    qdd_in=[10, 10, 10, 10],\n",
    ")"
   ]
  },
  {
   "cell_type": "code",
   "execution_count": null,
   "id": "3c544929-1ffe-4b79-8769-41746094626a",
   "metadata": {},
   "outputs": [],
   "source": [
    "(q_v, qd_v, qdd_v)"
   ]
  },
  {
   "cell_type": "code",
   "execution_count": null,
   "id": "4fa63c8e-1e0b-4cf6-9cc3-f7703a44e175",
   "metadata": {},
   "outputs": [],
   "source": [
    "def allclose(a, b, *, tol=1e-10):\n",
    "    return np.allclose(a, b, atol=tol, rtol=0.0)"
   ]
  },
  {
   "cell_type": "code",
   "execution_count": null,
   "id": "ff37af0a-6e07-4f04-948c-3af3b67353d8",
   "metadata": {},
   "outputs": [],
   "source": [
    "# The above *must* be a fixed point!!!\n",
    "q_orig, qd_orig, qdd_orig = copy.deepcopy((q_v, qd_v, qdd_v))\n",
    "set_q_qd_qdd_norm(q_orig, qd_orig, qdd_orig)\n",
    "assert allclose(q_v, q_orig)\n",
    "assert allclose(qd_v, qd_orig)\n",
    "assert allclose(qdd_v, qdd_orig)"
   ]
  },
  {
   "cell_type": "code",
   "execution_count": null,
   "id": "9c7730e8-7450-49a6-a3e1-31088b62a126",
   "metadata": {},
   "outputs": [],
   "source": [
    "R = sym.Evaluate(R_s, env)\n",
    "wh = sym.Evaluate(wh_s, env)\n",
    "w = unskew(wh)\n",
    "ah = sym.Evaluate(ah_s, env)\n",
    "a = unskew(ah)\n",
    "\n",
    "print(R)\n",
    "assert allclose(R @ R.T, np.eye(3))\n",
    "print(w)\n",
    "print(a)"
   ]
  },
  {
   "cell_type": "markdown",
   "id": "0999c98a-eec4-4f0f-9bd8-2fce65ea03c7",
   "metadata": {},
   "source": [
    "## Exponential Coordinates"
   ]
  },
  {
   "cell_type": "code",
   "execution_count": null,
   "id": "ee422546-175c-4ef5-b336-932b14f42d9e",
   "metadata": {},
   "outputs": [],
   "source": [
    "# TODO(eric.cousineau): Fill this out."
   ]
  },
  {
   "cell_type": "code",
   "execution_count": null,
   "id": "49b0b5e1-5cc2-4109-b56e-b3b903d0ba15",
   "metadata": {},
   "outputs": [],
   "source": []
  }
 ],
 "metadata": {
  "kernelspec": {
   "display_name": "Python 3 (ipykernel)",
   "language": "python",
   "name": "python3"
  },
  "language_info": {
   "codemirror_mode": {
    "name": "ipython",
    "version": 3
   },
   "file_extension": ".py",
   "mimetype": "text/x-python",
   "name": "python",
   "nbconvert_exporter": "python",
   "pygments_lexer": "ipython3",
   "version": "3.10.6"
  }
 },
 "nbformat": 4,
 "nbformat_minor": 5
}
