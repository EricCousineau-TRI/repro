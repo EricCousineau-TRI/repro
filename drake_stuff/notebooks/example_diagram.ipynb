{
 "cells": [
  {
   "cell_type": "code",
   "execution_count": null,
   "id": "8a9a61c9",
   "metadata": {},
   "outputs": [],
   "source": [
    "from pydrake.all import (\n",
    "    DiagramBuilder,\n",
    "    AddMultibodyPlantSceneGraph,\n",
    "    QueryObject,\n",
    "    plot_system_graphviz,\n",
    "    PoseBundle,\n",
    "    LeafSystem,\n",
    "    Value,\n",
    "    MultibodyPlant,\n",
    "    FramePoseVector,\n",
    ")"
   ]
  },
  {
   "cell_type": "code",
   "execution_count": null,
   "id": "c6819b3d",
   "metadata": {},
   "outputs": [],
   "source": [
    "class TaichiMPMSystem(LeafSystem):\n",
    "    def __init__(self):\n",
    "        super().__init__()\n",
    "\n",
    "        self.set_name(\"taichi_mpm\")\n",
    "        self.DeclareAbstractInputPort(\"query_object\", Value[QueryObject]())\n",
    "        self.DeclareAbstractOutputPort(\n",
    "            \"particles_pose\",\n",
    "            alloc=lambda: Value[FramePoseVector](),\n",
    "            calc=lambda: hack,\n",
    "            prerequisites_of_calc={self.all_state_ticket()},\n",
    "        )\n",
    "\n",
    "\n",
    "class NeuralRendererSystem(LeafSystem):\n",
    "    def __init__(self):\n",
    "        super().__init__()\n",
    "        self.set_name(\"neural_renderer\")\n",
    "        self.DeclareAbstractInputPort(\"query_object\", Value[QueryObject]())\n",
    "        self.DeclareAbstractInputPort(\"particles_pose\", Value[FramePoseVector]())\n",
    "        self.DeclareAbstractOutputPort(\"images\", alloc=Value[object], calc=lambda: hack)"
   ]
  },
  {
   "cell_type": "code",
   "execution_count": null,
   "id": "94fabc96",
   "metadata": {},
   "outputs": [],
   "source": [
    "# builder = DiagramBuilder()\n",
    "# plant, scene_graph = AddMultibodyPlantSceneGraph(builder, 0.0)\n",
    "# plant.Finalize()\n",
    "# diagram = builder.Build()\n",
    "# context = plant.CreateDefaultContext()\n",
    "# plant.GetOutputPort(\"geometry_pose\").Eval(context)"
   ]
  },
  {
   "cell_type": "code",
   "execution_count": null,
   "id": "98a67e91",
   "metadata": {},
   "outputs": [],
   "source": [
    "builder = DiagramBuilder()\n",
    "plant, scene_graph = AddMultibodyPlantSceneGraph(builder, 0.0)\n",
    "# id = scene_graph.RegisterSource(\"particles\")\n",
    "mpm = builder.AddSystem(TaichiMPMSystem())\n",
    "render = builder.AddSystem(NeuralRendererSystem())\n",
    "# builder.Connect(mpm.GetOutputPort(\"particles_pose\"), scene_graph.get_source_pose_port(id))\n",
    "builder.Connect(scene_graph.get_query_output_port(), mpm.GetInputPort(\"query_object\"))\n",
    "builder.Connect(mpm.GetOutputPort(\"particles_pose\"), render.GetInputPort(\"particles_pose\"))\n",
    "builder.Connect(scene_graph.get_query_output_port(), render.GetInputPort(\"query_object\"))\n",
    "diagram = builder.Build()\n",
    "diagram.set_name(\"diagram\")"
   ]
  },
  {
   "cell_type": "code",
   "execution_count": null,
   "id": "3ba0a4b7",
   "metadata": {},
   "outputs": [],
   "source": [
    "import matplotlib.pyplot as plt"
   ]
  },
  {
   "cell_type": "code",
   "execution_count": null,
   "id": "2224c6ae",
   "metadata": {},
   "outputs": [],
   "source": [
    "plt.figure(figsize=(20, 20))\n",
    "plot_system_graphviz(diagram)"
   ]
  },
  {
   "cell_type": "code",
   "execution_count": null,
   "id": "bee9aa53",
   "metadata": {},
   "outputs": [],
   "source": []
  }
 ],
 "metadata": {
  "kernelspec": {
   "display_name": "Python 3",
   "language": "python",
   "name": "python3"
  },
  "language_info": {
   "codemirror_mode": {
    "name": "ipython",
    "version": 3
   },
   "file_extension": ".py",
   "mimetype": "text/x-python",
   "name": "python",
   "nbconvert_exporter": "python",
   "pygments_lexer": "ipython3",
   "version": "3.6.9"
  }
 },
 "nbformat": 4,
 "nbformat_minor": 5
}
