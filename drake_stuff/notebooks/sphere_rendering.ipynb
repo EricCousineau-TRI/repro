{
 "cells": [
  {
   "cell_type": "markdown",
   "metadata": {},
   "source": [
    "# Render some images\n",
    "\n",
    "Have some tests for expected intrinsics (in preparation to match w/ real)"
   ]
  },
  {
   "cell_type": "code",
   "execution_count": 1,
   "metadata": {},
   "outputs": [],
   "source": [
    "from PIL import Image\n",
    "import numpy as np\n",
    "\n",
    "from pydrake.all import (\n",
    "    MakeRenderEngineVtk,\n",
    "    RenderEngineVtkParams,\n",
    "    RigidTransform,\n",
    "    Mesh,\n",
    "    GeometryId,\n",
    "    PerceptionProperties,\n",
    "    RenderLabel,\n",
    "    RenderCameraCore,\n",
    "    CameraInfo,\n",
    "    ClippingRange,\n",
    "    ColorRenderCamera,\n",
    "    ImageRgba8U,\n",
    ")"
   ]
  },
  {
   "cell_type": "code",
   "execution_count": 2,
   "metadata": {},
   "outputs": [],
   "source": [
    "mesh_file = \"sphere_lowpoly.obj\""
   ]
  },
  {
   "cell_type": "code",
   "execution_count": 3,
   "metadata": {},
   "outputs": [],
   "source": [
    "renderer = MakeRenderEngineVtk(\n",
    "    RenderEngineVtkParams(\n",
    "        default_diffuse=[1, 1, 1, 1],\n",
    "        # default_clear_color=[0, 0, 0],  # Needs binding :(\n",
    "    ),\n",
    ")\n",
    "geometry_id = GeometryId.get_new_id()\n",
    "perception = PerceptionProperties()\n",
    "perception.AddProperty(\"label\", \"id\", RenderLabel(0))\n",
    "renderer.RegisterVisual(\n",
    "    geometry_id,\n",
    "    shape=Mesh(mesh_file),\n",
    "    properties=perception,\n",
    "    X_WG=RigidTransform(),\n",
    "    needs_updates=False,\n",
    ");"
   ]
  },
  {
   "cell_type": "code",
   "execution_count": 4,
   "metadata": {},
   "outputs": [
    {
     "name": "stdout",
     "output_type": "stream",
     "text": [
      "[[154.50966799   0.          63.5       ]\n",
      " [  0.         154.50966799  63.5       ]\n",
      " [  0.           0.           1.        ]]\n"
     ]
    }
   ],
   "source": [
    "width = 128\n",
    "height = 128\n",
    "fov_y = np.pi / 4\n",
    "\n",
    "core = RenderCameraCore(\n",
    "    \"meh\",\n",
    "    CameraInfo(width, height, fov_y),\n",
    "    ClippingRange(0.0001, 100.0),\n",
    "    RigidTransform(),\n",
    ")\n",
    "color_camera = ColorRenderCamera(core, False)\n",
    "# Allocate image.\n",
    "rgb = ImageRgba8U(width, height)\n",
    "\n",
    "K = core.intrinsics().intrinsic_matrix()\n",
    "print(K)"
   ]
  },
  {
   "cell_type": "code",
   "execution_count": 5,
   "metadata": {},
   "outputs": [
    {
     "name": "stdout",
     "output_type": "stream",
     "text": [
      "[[1. 0. 0.]\n",
      " [0. 1. 0.]\n",
      " [0. 0. 1.]]\n",
      "[  0.   0. -10.]\n"
     ]
    },
    {
     "data": {
      "image/png": "[encoded data removed]",
      "text/plain": [
       "<PIL.Image.Image image mode=RGBA size=128x128 at 0x7EFF9089CEB8>"
      ]
     },
     "metadata": {},
     "output_type": "display_data"
    },
    {
     "name": "stdout",
     "output_type": "stream",
     "text": [
      "[[1. 0. 0.]\n",
      " [0. 1. 0.]\n",
      " [0. 0. 1.]]\n",
      "[  1.   0. -10.]\n"
     ]
    },
    {
     "data": {
      "image/png": "[encoded data removed]",
      "text/plain": [
       "<PIL.Image.Image image mode=RGBA size=128x128 at 0x7EFF9089CE80>"
      ]
     },
     "metadata": {},
     "output_type": "display_data"
    },
    {
     "name": "stdout",
     "output_type": "stream",
     "text": [
      "[[1. 0. 0.]\n",
      " [0. 1. 0.]\n",
      " [0. 0. 1.]]\n",
      "[  0.   1. -10.]\n"
     ]
    },
    {
     "data": {
      "image/png": "[encoded data removed]",
      "text/plain": [
       "<PIL.Image.Image image mode=RGBA size=128x128 at 0x7EFF9089CF28>"
      ]
     },
     "metadata": {},
     "output_type": "display_data"
    }
   ],
   "source": [
    "xy_WCs = [\n",
    "    [0, 0],\n",
    "    [1, 0],\n",
    "    [0, 1],\n",
    "]\n",
    "for (x, y) in xy_WCs:\n",
    "    X_WC = RigidTransform([x, y, -10.0])\n",
    "    R = X_WC.rotation().matrix()\n",
    "    t = X_WC.translation()\n",
    "    print(R)\n",
    "    print(t)\n",
    "    renderer.UpdateViewpoint(X_WC)\n",
    "    renderer.RenderColorImage(color_camera, rgb)\n",
    "    display(Image.fromarray(rgb.data))"
   ]
  },
  {
   "cell_type": "code",
   "execution_count": null,
   "metadata": {},
   "outputs": [],
   "source": []
  }
 ],
 "metadata": {
  "kernelspec": {
   "display_name": "Python 3",
   "language": "python",
   "name": "python3"
  },
  "language_info": {
   "codemirror_mode": {
    "name": "ipython",
    "version": 3
   },
   "file_extension": ".py",
   "mimetype": "text/x-python",
   "name": "python",
   "nbconvert_exporter": "python",
   "pygments_lexer": "ipython3",
   "version": "3.6.9"
  }
 },
 "nbformat": 4,
 "nbformat_minor": 4
}
