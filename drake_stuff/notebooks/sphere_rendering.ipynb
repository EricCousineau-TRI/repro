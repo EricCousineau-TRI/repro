{
 "cells": [
  {
   "cell_type": "markdown",
   "metadata": {},
   "source": [
    "# Render some images\n",
    "\n",
    "Have some tests for expected intrinsics (in preparation to match w/ real)"
   ]
  },
  {
   "cell_type": "code",
   "execution_count": 1,
   "metadata": {},
   "outputs": [],
   "source": [
    "import dataclasses as dc\n",
    "\n",
    "from PIL import Image\n",
    "import numpy as np\n",
    "\n",
    "from pydrake.all import (\n",
    "    CameraInfo,\n",
    "    ClippingRange,\n",
    "    ColorRenderCamera,\n",
    "    GeometryId,\n",
    "    ImageRgba8U,\n",
    "    MakeRenderEngineVtk,\n",
    "    Mesh,\n",
    "    PerceptionProperties,\n",
    "    RenderCameraCore,\n",
    "    RenderEngineVtkParams,\n",
    "    RenderLabel,\n",
    "    RigidTransform,\n",
    "    RotationMatrix,\n",
    ")"
   ]
  },
  {
   "cell_type": "code",
   "execution_count": 2,
   "metadata": {},
   "outputs": [],
   "source": [
    "mesh_file = \"pyramid_lowpoly.obj\""
   ]
  },
  {
   "cell_type": "code",
   "execution_count": 3,
   "metadata": {},
   "outputs": [],
   "source": [
    "renderer = MakeRenderEngineVtk(\n",
    "    RenderEngineVtkParams(\n",
    "        default_diffuse=[1, 1, 1, 1],\n",
    "        # default_clear_color=[0, 0, 0],  # Needs binding :(\n",
    "    ),\n",
    ")\n",
    "geometry_id = GeometryId.get_new_id()\n",
    "perception = PerceptionProperties()\n",
    "perception.AddProperty(\"label\", \"id\", RenderLabel(0))\n",
    "renderer.RegisterVisual(\n",
    "    geometry_id,\n",
    "    shape=Mesh(mesh_file),\n",
    "    properties=perception,\n",
    "    X_WG=RigidTransform(),\n",
    "    needs_updates=False,\n",
    ");"
   ]
  },
  {
   "cell_type": "code",
   "execution_count": 4,
   "metadata": {},
   "outputs": [
    {
     "name": "stdout",
     "output_type": "stream",
     "text": [
      "[[154.50966799   0.          63.5       ]\n",
      " [  0.         154.50966799  63.5       ]\n",
      " [  0.           0.           1.        ]]\n"
     ]
    }
   ],
   "source": [
    "width = 128\n",
    "height = 128\n",
    "fov_y = np.pi / 4\n",
    "\n",
    "core = RenderCameraCore(\n",
    "    \"meh\",\n",
    "    CameraInfo(width, height, fov_y),\n",
    "    ClippingRange(0.0001, 100.0),\n",
    "    RigidTransform(),\n",
    ")\n",
    "color_camera = ColorRenderCamera(core, False)\n",
    "# Allocate image.\n",
    "rgb = ImageRgba8U(width, height)\n",
    "\n",
    "K = core.intrinsics().intrinsic_matrix()\n",
    "print(K)"
   ]
  },
  {
   "cell_type": "code",
   "execution_count": 5,
   "metadata": {},
   "outputs": [],
   "source": [
    "I3 = np.eye(3)\n",
    "R_z90 = np.array([\n",
    "    [0, 1, 0],\n",
    "    [-1, 0, 0],\n",
    "    [0, 0, 1],\n",
    "])"
   ]
  },
  {
   "cell_type": "code",
   "execution_count": 6,
   "metadata": {},
   "outputs": [],
   "source": [
    "@dc.dataclass\n",
    "class Setup:\n",
    "    p_WC: np.ndarray\n",
    "    R_WC: np.ndarray"
   ]
  },
  {
   "cell_type": "code",
   "execution_count": 7,
   "metadata": {},
   "outputs": [
    {
     "name": "stdout",
     "output_type": "stream",
     "text": [
      "[[1. 0. 0.]\n",
      " [0. 1. 0.]\n",
      " [0. 0. 1.]]\n",
      "[  0.   0. -10.]\n"
     ]
    },
    {
     "data": {
      "image/png": "[encoded data removed]",
      "text/plain": [
       "<PIL.Image.Image image mode=RGBA size=128x128 at 0x7FA10D71EE80>"
      ]
     },
     "metadata": {},
     "output_type": "display_data"
    },
    {
     "name": "stdout",
     "output_type": "stream",
     "text": [
      "/tmp/pyramid_render_0.png\n",
      "\n",
      "\n",
      "[[1. 0. 0.]\n",
      " [0. 1. 0.]\n",
      " [0. 0. 1.]]\n",
      "[  1.   0. -10.]\n"
     ]
    },
    {
     "data": {
      "image/png": "[encoded data removed]",
      "text/plain": [
       "<PIL.Image.Image image mode=RGBA size=128x128 at 0x7FA10D71EDD8>"
      ]
     },
     "metadata": {},
     "output_type": "display_data"
    },
    {
     "name": "stdout",
     "output_type": "stream",
     "text": [
      "/tmp/pyramid_render_1.png\n",
      "\n",
      "\n",
      "[[1. 0. 0.]\n",
      " [0. 1. 0.]\n",
      " [0. 0. 1.]]\n",
      "[  0.   1. -10.]\n"
     ]
    },
    {
     "data": {
      "image/png": "[encoded data removed]",
      "text/plain": [
       "<PIL.Image.Image image mode=RGBA size=128x128 at 0x7FA10D71EE80>"
      ]
     },
     "metadata": {},
     "output_type": "display_data"
    },
    {
     "name": "stdout",
     "output_type": "stream",
     "text": [
      "/tmp/pyramid_render_2.png\n",
      "\n",
      "\n",
      "[[ 0  1  0]\n",
      " [-1  0  0]\n",
      " [ 0  0  1]]\n",
      "[  0.   0. -10.]\n"
     ]
    },
    {
     "data": {
      "image/png": "[encoded data removed]",
      "text/plain": [
       "<PIL.Image.Image image mode=RGBA size=128x128 at 0x7FA10D71EDD8>"
      ]
     },
     "metadata": {},
     "output_type": "display_data"
    },
    {
     "name": "stdout",
     "output_type": "stream",
     "text": [
      "/tmp/pyramid_render_3.png\n",
      "\n",
      "\n"
     ]
    }
   ],
   "source": [
    "z = -10.0\n",
    "setups = [\n",
    "    Setup([0, 0, z], I3),\n",
    "    Setup([1, 0, z], I3),\n",
    "    Setup([0, 1, z], I3),\n",
    "    Setup([0, 0, z], R_z90),\n",
    "]\n",
    "\n",
    "for i, setup in enumerate(setups):\n",
    "    p_WC = np.asarray(setup.p_WC)\n",
    "    R_WC = np.asarray(setup.R_WC)\n",
    "    X_WC = RigidTransform(\n",
    "        R=RotationMatrix(R_WC),\n",
    "        p=p_WC,\n",
    "    )\n",
    "    print(R_WC)\n",
    "    print(p_WC)\n",
    "    renderer.UpdateViewpoint(X_WC)\n",
    "    renderer.RenderColorImage(color_camera, rgb)\n",
    "    pil_rgb = Image.fromarray(rgb.data)\n",
    "    display(pil_rgb)\n",
    "    save_file = f\"/tmp/pyramid_render_{i}.png\"\n",
    "    pil_rgb.save(save_file)\n",
    "    print(save_file)\n",
    "    print(\"\\n\")"
   ]
  },
  {
   "cell_type": "code",
   "execution_count": null,
   "metadata": {},
   "outputs": [],
   "source": []
  }
 ],
 "metadata": {
  "kernelspec": {
   "display_name": "Python 3",
   "language": "python",
   "name": "python3"
  },
  "language_info": {
   "codemirror_mode": {
    "name": "ipython",
    "version": 3
   },
   "file_extension": ".py",
   "mimetype": "text/x-python",
   "name": "python",
   "nbconvert_exporter": "python",
   "pygments_lexer": "ipython3",
   "version": "3.6.9"
  }
 },
 "nbformat": 4,
 "nbformat_minor": 4
}
