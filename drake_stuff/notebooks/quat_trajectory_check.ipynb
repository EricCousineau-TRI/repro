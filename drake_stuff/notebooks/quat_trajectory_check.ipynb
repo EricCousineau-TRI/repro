{
 "cells": [
  {
   "attachments": {},
   "cell_type": "markdown",
   "metadata": {},
   "source": [
    "# Check `PiecewiseQuaternion` Trajectory in Drake\n",
    "\n",
    "Overarching goal is to take an *empirical* trajectory along $SO(3)$ \n",
    "(e.g. recorded from an input device), and compute the exact velocities and accelerations\n",
    "to recover said trajectory.\n",
    "\n",
    "This is mean to serve as a means for acausal filtering, to then compare against causal filtering.\n",
    "\n",
    "Given other checks like those mentioned in `so2_so3_feedback.ipynb`, `sym_so3_notebook.ipynb`, hopefully easy to verify."
   ]
  },
  {
   "attachments": {},
   "cell_type": "markdown",
   "metadata": {},
   "source": [
    "## Helper Stuff"
   ]
  },
  {
   "cell_type": "code",
   "execution_count": null,
   "metadata": {},
   "outputs": [],
   "source": [
    "import dataclasses as dc\n",
    "from importlib import reload\n",
    "\n",
    "import matplotlib.pyplot as plt\n",
    "import numpy as np\n",
    "\n",
    "import trajectories as m\n",
    "reload(m)\n",
    "import so2_so3_helpers as m\n",
    "reload(m)\n",
    "\n",
    "from trajectories import (\n",
    "    Sinusoid,\n",
    "    Mult,\n",
    "    min_jerk,\n",
    "    calc_rotational_values,\n",
    "    make_rot_info_quat_sym,\n",
    "    So3,\n",
    "    Coord,\n",
    ")\n",
    "from so2_so3_helpers import (\n",
    "    integrate,\n",
    "    maxabs,\n",
    "    flatten,\n",
    "    unflatten,\n",
    "    cat,\n",
    "    split,\n",
    "    normalize,\n",
    "    rot2d,\n",
    "    rot2d_jac,\n",
    "    so2_angle,\n",
    "    skew,\n",
    "    unskew,\n",
    "    axang,\n",
    "    axang3,\n",
    "    axang3_dot,\n",
    "    to_axang3,\n",
    "    so3_dist,\n",
    "    assert_so3,\n",
    ")"
   ]
  },
  {
   "cell_type": "code",
   "execution_count": null,
   "metadata": {},
   "outputs": [],
   "source": [
    "quat_info = make_rot_info_quat_sym()"
   ]
  },
  {
   "attachments": {},
   "cell_type": "markdown",
   "metadata": {},
   "source": [
    "## Verify Basics\n",
    "\n",
    "Reconfirm arbitrary SO(3) trajectory can be recovered via integration along quaternions"
   ]
  },
  {
   "cell_type": "code",
   "execution_count": null,
   "metadata": {},
   "outputs": [],
   "source": [
    "num_r = quat_info.num_rot\n",
    "num_R = 9\n",
    "\n",
    "def so3_traj(t):\n",
    "    # SO(3) trajectory expressed as quaternion, rotation matrix, and\n",
    "    # ang. vel. + acc.\n",
    "    As = np.array([0.2, 0.3, 0.4, 0.5])\n",
    "    func = Sinusoid(Ts=[1.0, 2.0, 3.0, 4.0], T0_ratios=[0, 0.125, 0.25, 0])\n",
    "    # func = Mult(func, min_jerk)\n",
    "    dr, rd, rdd = func(t)\n",
    "    dr *= As\n",
    "    rd *= As\n",
    "    rdd *= As\n",
    "    r = dr + quat_info.r0\n",
    "    (R, w, wd), (r, rd, rdd) = calc_rotational_values(quat_info, r, rd, rdd)\n",
    "    return So3(R, w, wd), Coord(r, rd, rdd)"
   ]
  },
  {
   "attachments": {},
   "cell_type": "markdown",
   "metadata": {},
   "source": [
    "Integrate along both $r(t)$ and $R(t)$ for world-fixed angular velocity. \\\n",
    "Ignore accel for now."
   ]
  },
  {
   "cell_type": "code",
   "execution_count": null,
   "metadata": {},
   "outputs": [],
   "source": [
    "def to_q(r, R):\n",
    "    return cat(r, flatten(R))\n",
    "\n",
    "def from_q(q):\n",
    "    r, R = split(q, (num_r, num_R))\n",
    "    R = unflatten(R)\n",
    "    return r, R\n",
    "\n",
    "def calc_qd(t, q, *, check=False):\n",
    "    r, R = from_q(q)\n",
    "    so, coord = so3_traj(t)\n",
    "    if check:\n",
    "        assert_so3(R, tol=1e-4)\n",
    "        r_err = maxabs(r - coord.r)\n",
    "        R_err = so3_dist(R, so.R)\n",
    "        assert r_err < 1e-4\n",
    "        assert R_err < 1e-2  # blech?\n",
    "    rd = coord.rd\n",
    "    w = so.w\n",
    "    Rd = skew(w) @ R\n",
    "    qd = to_q(rd, Rd)\n",
    "    return qd\n",
    "\n",
    "so0, coord0 = so3_traj(0)\n",
    "# print(so0)\n",
    "q0 = to_q(coord0.r, so0.R)\n",
    "\n",
    "# If this succeeds, then we met our desired tolerances.\n",
    "integrate(\n",
    "    q0, calc_qd, tf=3.0, pass_time=True, check=True,\n",
    ")\n",
    "print(\"All matches\")"
   ]
  },
  {
   "cell_type": "code",
   "execution_count": null,
   "metadata": {},
   "outputs": [],
   "source": []
  }
 ],
 "metadata": {
  "kernelspec": {
   "display_name": "venv",
   "language": "python",
   "name": "python3"
  },
  "language_info": {
   "codemirror_mode": {
    "name": "ipython",
    "version": 3
   },
   "file_extension": ".py",
   "mimetype": "text/x-python",
   "name": "python",
   "nbconvert_exporter": "python",
   "pygments_lexer": "ipython3",
   "version": "3.10.6"
  },
  "orig_nbformat": 4,
  "vscode": {
   "interpreter": {
    "hash": "41b2b052c2cd7297667b266c180adb46cef78020aebab77685d23d168a417e41"
   }
  }
 },
 "nbformat": 4,
 "nbformat_minor": 2
}
