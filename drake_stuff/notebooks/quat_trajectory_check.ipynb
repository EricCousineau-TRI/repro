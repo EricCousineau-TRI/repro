{
 "cells": [
  {
   "attachments": {},
   "cell_type": "markdown",
   "metadata": {},
   "source": [
    "# Check `PiecewiseQuaternion` Trajectory in Drake\n",
    "\n",
    "Overarching goal is to take an *empirical* trajectory along $SO(3)$ \n",
    "(e.g. recorded from an input device), and compute the exact velocities and accelerations\n",
    "to recover said trajectory.\n",
    "\n",
    "This is mean to serve as a means for acausal filtering, to then compare against causal filtering.\n",
    "\n",
    "Given other checks like those mentioned in `so2_so3_feedback.ipynb`, `sym_so3_notebook.ipynb`, hopefully easy to verify."
   ]
  },
  {
   "attachments": {},
   "cell_type": "markdown",
   "metadata": {},
   "source": [
    "## Helper Stuff"
   ]
  },
  {
   "cell_type": "code",
   "execution_count": null,
   "metadata": {},
   "outputs": [],
   "source": [
    "import dataclasses as dc\n",
    "from importlib import reload\n",
    "\n",
    "import matplotlib.pyplot as plt\n",
    "import numpy as np\n",
    "from numpy.linalg import norm\n",
    "\n",
    "from pydrake.all import (\n",
    "    PiecewiseQuaternionSlerp,\n",
    "    Quaternion,\n",
    "    RotationMatrix,\n",
    ")\n",
    "\n",
    "import trajectories as m\n",
    "reload(m)\n",
    "import so2_so3_helpers as m\n",
    "reload(m)\n",
    "\n",
    "from trajectories import (\n",
    "    Coord,\n",
    "    Mult,\n",
    "    Sinusoid,\n",
    "    So3,\n",
    "    calc_rotational_values,\n",
    "    make_rot_info_quat_sym,\n",
    "    min_jerk,\n",
    ")\n",
    "from so2_so3_helpers import (\n",
    "    integrate,\n",
    "    maxabs,\n",
    "    flatten,\n",
    "    unflatten,\n",
    "    cat,\n",
    "    split,\n",
    "    normalize,\n",
    "    rot2d,\n",
    "    rot2d_jac,\n",
    "    so2_angle,\n",
    "    skew,\n",
    "    unskew,\n",
    "    axang,\n",
    "    axang3,\n",
    "    axang3_dot,\n",
    "    to_axang3,\n",
    "    so3_dist,\n",
    "    assert_so3,\n",
    ")\n",
    "\n",
    "quat_info = make_rot_info_quat_sym()"
   ]
  },
  {
   "attachments": {},
   "cell_type": "markdown",
   "metadata": {},
   "source": [
    "## Verify Basics\n",
    "\n",
    "Let $\\mathbb{Q} \\subset \\mathbb{R}^4$ denote unit quaternions.\n",
    "\n",
    "Reconfirm arbitrary $SO(3)$ trajectory can be recovered via first-order integration along both $\\mathbb{Q}$ and $SO(3)$."
   ]
  },
  {
   "cell_type": "code",
   "execution_count": null,
   "metadata": {},
   "outputs": [],
   "source": [
    "num_r = quat_info.num_rot\n",
    "num_R = 9\n",
    "\n",
    "def scale(k, instant):\n",
    "    x, xd, xdd = instant\n",
    "    return (k * x, k * xd, k * xdd)\n",
    "\n",
    "@dc.dataclass\n",
    "class Instant:\n",
    "    so: object\n",
    "    coord: object\n",
    "\n",
    "    def __iter__(self):\n",
    "        return iter((self.so, self.coord))\n",
    "\n",
    "def so3_traj(t):\n",
    "    # SO(3) trajectory expressed as quaternion, rotation matrix, and\n",
    "    # ang. vel. + acc.\n",
    "    As = np.array([0.2, 0.6, 0.6, 0.5])\n",
    "    func = Sinusoid(Ts=[1.0, 2.0, 3.0, 4.0], T0_ratios=[0, 0.125, 0.25, 0])\n",
    "    func = Mult(func, min_jerk)\n",
    "    dr, rd, rdd = scale(As, func(t))\n",
    "    r = dr + quat_info.r0\n",
    "    (R, w, wd), (r, rd, rdd) = calc_rotational_values(quat_info, r, rd, rdd)\n",
    "    return Instant(So3(R, w, wd), Coord(r, rd, rdd))"
   ]
  },
  {
   "cell_type": "code",
   "execution_count": null,
   "metadata": {},
   "outputs": [],
   "source": [
    "def arccos_reflect(inner):\n",
    "    inner = np.asarray(inner)\n",
    "    inner_f = inner.reshape((-1,))\n",
    "    meh = inner_f > 1\n",
    "    inner_f[meh] = 2 - inner_f[meh]  # Reflect\n",
    "    return np.arccos(inner)\n",
    "\n",
    "def largest_quat_dist(qs):\n",
    "    # TODO(eric.cousineau): Would be nice to only compute triangle excl.\n",
    "    # diagonal.\n",
    "    angles = 2 * arccos_reflect(qs @ qs.T)\n",
    "    return np.max(angles.flat)"
   ]
  },
  {
   "cell_type": "code",
   "execution_count": null,
   "metadata": {},
   "outputs": [],
   "source": [
    "# Basic stats about the traj in terms of angular vel.\n",
    "# TODO(eric.cousineau): Dunno better way to check span of SO(3), so just gonna\n",
    "# brute force it.\n",
    "deg_max = 0.0\n",
    "wn_max = 0.0\n",
    "wdn_max = 0.0\n",
    "ts = np.linspace(0, 10, 1000)\n",
    "qs = []\n",
    "for t in ts:\n",
    "    so, coord = so3_traj(t)\n",
    "    wn = norm(so.w)\n",
    "    wn_max = max(wn, wn_max)\n",
    "    wdn = norm(so.wd)\n",
    "    wdn_max = max(wdn, wdn_max)\n",
    "    qs.append(coord.r)\n",
    "qs = np.asarray(qs)\n",
    "deg_max = np.rad2deg(largest_quat_dist(qs))\n",
    "\n",
    "print(qs.shape)\n",
    "print(deg_max)\n",
    "print(wn_max)\n",
    "print(wdn_max)"
   ]
  },
  {
   "attachments": {},
   "cell_type": "markdown",
   "metadata": {},
   "source": [
    "Integrate along both $r(t)$ and $R(t)$ for world-fixed angular velocity. \\\n",
    "Ignore accel for now."
   ]
  },
  {
   "cell_type": "code",
   "execution_count": null,
   "metadata": {},
   "outputs": [],
   "source": [
    "def proj_to_so3(R):\n",
    "    return RotationMatrix.ProjectToRotationMatrix(R).matrix()"
   ]
  },
  {
   "cell_type": "code",
   "execution_count": null,
   "metadata": {},
   "outputs": [],
   "source": [
    "def to_q(r, R):\n",
    "    return cat(r, flatten(R))\n",
    "\n",
    "def from_q(q):\n",
    "    r, R = split(q, (num_r, num_R))\n",
    "    R = unflatten(R)\n",
    "    return r, R\n",
    "\n",
    "def calc_qd(t, q, *, check=False):\n",
    "    r, R = from_q(q)\n",
    "    so, coord = so3_traj(t)\n",
    "    if check:\n",
    "        assert_so3(R, tol=5e-5)\n",
    "    R = proj_to_so3(R)\n",
    "    rd = coord.rd\n",
    "    Rd = skew(so.w) @ R\n",
    "    if check:\n",
    "        r_err = maxabs(r - coord.r)\n",
    "        R_err = so3_dist(R, so.R)\n",
    "        assert r_err < 1e-7, r_err\n",
    "        assert R_err < 1e-4\n",
    "        rd_via_w = quat_info.calc_rate_jacobian(coord.r) @ so.w\n",
    "        rd_err = maxabs(rd - rd_via_w)\n",
    "        assert rd_err < 1e-14\n",
    "    qd = to_q(rd, Rd)\n",
    "    return qd\n",
    "\n",
    "so0, coord0 = so3_traj(0)\n",
    "# print(so0)\n",
    "q0 = to_q(coord0.r, so0.R)\n",
    "\n",
    "# If this succeeds, then we met our desired tolerances.\n",
    "integrate(\n",
    "    q0, calc_qd, tf=3.0, pass_time=True, check=True,\n",
    ")\n",
    "print(\"All matches\")"
   ]
  },
  {
   "attachments": {},
   "cell_type": "markdown",
   "metadata": {},
   "source": [
    "Now check `PiecewiseQuatnerion` by sampling along nodes of the spline.\n",
    "\n",
    "If we sample sufficiently dense (small $dt$), then we should expect to recover original trajectory and derivatives.\n",
    "\n",
    "Otherwise, we will expect some slop"
   ]
  },
  {
   "cell_type": "code",
   "execution_count": null,
   "metadata": {},
   "outputs": [],
   "source": [
    "def make_quat_traj(ts, rs):\n",
    "    qs = [Quaternion(wxyz=r) for r in rs]\n",
    "    return PiecewiseQuaternionSlerp(ts, qs)\n",
    "\n",
    "def sample_traj(traj, t):\n",
    "    R = RotationMatrix(traj.orientation(t)).matrix()\n",
    "    w = traj.angular_velocity(t)\n",
    "    wd = traj.angular_acceleration(t)\n",
    "    return So3(R, w, wd)"
   ]
  },
  {
   "cell_type": "code",
   "execution_count": null,
   "metadata": {},
   "outputs": [],
   "source": [
    "tf = 3.0\n",
    "# If dt is larger, then we have to relax our check of expected ang. vel.\n",
    "dt = 0.005\n",
    "# dt = 1.0\n",
    "\n",
    "# Sample above trajectory.\n",
    "ts = np.arange(0, tf + dt, dt)\n",
    "rs = [so3_traj(t).coord.r for t in ts]\n",
    "traj = make_quat_traj(ts, rs)\n",
    "\n",
    "for t in ts:\n",
    "    so, coord = so3_traj(t)\n",
    "    sot = sample_traj(traj, t)\n",
    "    assert so3_dist(so.R, sot.R) < 1e-7\n",
    "    # Not the same, but we don't have same amt of info.\n",
    "    w_err = maxabs(so.w - sot.w)\n",
    "    if dt < 0.01:\n",
    "        assert w_err < 5e-2, w_err \n",
    "    # print(w_err)\n",
    "\n",
    "# Now try to smoothly integrate against the quaternion trajectory.\n",
    "\n",
    "def to_q(R):\n",
    "    return flatten(R)\n",
    "\n",
    "def from_q(q):\n",
    "    return unflatten(q)\n",
    "\n",
    "def calc_qd(t, q, *, check=False):\n",
    "    R = from_q(q)\n",
    "    sot = sample_traj(traj, t)\n",
    "    if check:\n",
    "        assert_so3(R, tol=1e-4)\n",
    "    R = proj_to_so3(R)\n",
    "    if check:\n",
    "        R_err = so3_dist(R, sot.R)\n",
    "        # Yuck! This happens when blending for initial part.\n",
    "        assert R_err < 3e-3\n",
    "    w = sot.w\n",
    "    Rd = skew(w) @ R\n",
    "    qd = to_q(Rd)\n",
    "    return qd\n",
    "\n",
    "R0 = sample_traj(traj, 0).R\n",
    "q0 = to_q(R0)\n",
    "integrate(\n",
    "    q0, calc_qd, tf=3.0, pass_time=True, check=True,\n",
    ")\n",
    "pass"
   ]
  },
  {
   "attachments": {},
   "cell_type": "markdown",
   "metadata": {},
   "source": [
    "## Angular Acceleration\n",
    "\n",
    "As documented, the class using SLERP doesn't have angular acceleration, 'cause it's *linear* spherical interp. Derp. \\\n",
    "<https://github.com/RobotLocomotion/drake/blob/v1.13.0/common/trajectories/piecewise_quaternion.h#L108-L113>\n",
    "\n",
    "Will just have to make acausal filter stuff."
   ]
  },
  {
   "cell_type": "code",
   "execution_count": null,
   "metadata": {},
   "outputs": [],
   "source": []
  }
 ],
 "metadata": {
  "kernelspec": {
   "display_name": "venv",
   "language": "python",
   "name": "python3"
  },
  "language_info": {
   "codemirror_mode": {
    "name": "ipython",
    "version": 3
   },
   "file_extension": ".py",
   "mimetype": "text/x-python",
   "name": "python",
   "nbconvert_exporter": "python",
   "pygments_lexer": "ipython3",
   "version": "3.10.6"
  },
  "orig_nbformat": 4,
  "vscode": {
   "interpreter": {
    "hash": "41b2b052c2cd7297667b266c180adb46cef78020aebab77685d23d168a417e41"
   }
  }
 },
 "nbformat": 4,
 "nbformat_minor": 2
}
