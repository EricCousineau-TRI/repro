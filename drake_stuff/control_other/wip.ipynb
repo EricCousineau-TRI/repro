{
 "cells": [
  {
   "cell_type": "code",
   "execution_count": null,
   "metadata": {},
   "outputs": [],
   "source": [
    "import pinocchio as pin"
   ]
  },
  {
   "cell_type": "code",
   "execution_count": null,
   "metadata": {},
   "outputs": [],
   "source": [
    "import numpy as np"
   ]
  },
  {
   "cell_type": "code",
   "execution_count": 30,
   "metadata": {},
   "outputs": [],
   "source": [
    "q = np.deg2rad([0.0, 15.0, 0.0, -75.0, 0.0, 90.0, 0.0])\n",
    "nv = 7\n",
    "v = np.zeros(nv)\n",
    "vd = np.zeros(nv)"
   ]
  },
  {
   "cell_type": "code",
   "execution_count": 65,
   "metadata": {},
   "outputs": [
    {
     "name": "stdout",
     "output_type": "stream",
     "text": [
      "[[ 1.52172607e+00 -5.42016772e-02  1.15962793e+00  1.20886255e-02\n",
      "   1.37462908e-02  4.52922634e-04 -4.59801871e-03]\n",
      " [-5.42016772e-02  2.56120153e+00 -6.87017423e-02 -1.13634711e+00\n",
      "  -6.84840311e-02 -8.28314924e-02 -1.66345636e-03]\n",
      " [ 1.15962793e+00 -6.87017423e-02  9.11346473e-01  2.32927396e-02\n",
      "   1.67794228e-02  2.01545845e-04 -3.96903652e-03]\n",
      " [ 1.20886255e-02 -1.13634711e+00  2.32927396e-02  7.17084783e-01\n",
      "   4.50791421e-02  6.73871081e-02  8.40479598e-06]\n",
      " [ 1.37462908e-02 -6.84840311e-02  1.67794228e-02  4.50791421e-02\n",
      "   2.12245918e-02 -9.11616931e-04 -3.45402924e-04]\n",
      " [ 4.52922634e-04 -8.28314924e-02  2.01545845e-04  6.73871081e-02\n",
      "  -9.11616931e-04  1.82121924e-02 -4.72579279e-04]\n",
      " [-4.59801871e-03 -1.66345636e-03 -3.96903652e-03  8.40479598e-06\n",
      "  -3.45402924e-04 -4.72579279e-04  8.45606406e-04]]\n"
     ]
    }
   ],
   "source": [
    "from pydrake.all import Parser, MultibodyPlant\n",
    "plant = MultibodyPlant(time_step=0.0)\n",
    "parser = Parser(plant)\n",
    "urdf_uri = \"package://drake/manipulation/models/franka_description/urdf/panda_arm.urdf\"\n",
    "parser.AddModelsFromUrl(urdf_uri)\n",
    "plant.WeldFrames(\n",
    "    plant.world_frame(),\n",
    "    plant.GetFrameByName(\"panda_link0\"),\n",
    ")\n",
    "plant.Finalize()\n",
    "context = plant.CreateDefaultContext()\n",
    "plant.SetPositions(context, q)\n",
    "M_d = plant.CalcMassMatrix(context)\n",
    "g_d = plant.CalcGravityGeneralizedForces(context)\n",
    "print(M_d)"
   ]
  },
  {
   "cell_type": "code",
   "execution_count": 32,
   "metadata": {},
   "outputs": [],
   "source": [
    "# should remove hand\n",
    "urdf_file = \"./data/pinocchio_robots/panda_description/urdf/panda.urdf\"\n",
    "\n",
    "# can't get filepath from Drake; also, can't have pinnochio load the model :shrug:\n",
    "# # package_map = parser.package_map()\n",
    "# # print(package_map.GetPackageNames())\n",
    "# # package_map.GetPath(urdf_uri\n",
    "# # urdf_file = \"~/.cache/pypoetry/virtualenvs/tsid-control-i1cFkKOL-py3.10/lib/python3.10/site-packages/pydrake/share/drake/manipulation/models/\n",
    "# franka_description/urdf/panda_arm.urdf\"\n",
    "\n",
    "model = pin.buildModelFromUrdf(urdf_file)"
   ]
  },
  {
   "cell_type": "code",
   "execution_count": 35,
   "metadata": {},
   "outputs": [],
   "source": [
    "data = model.createData()\n",
    "# nv = model.nv\n",
    "# q = pin.randomConfiguration(model)"
   ]
  },
  {
   "cell_type": "code",
   "execution_count": 36,
   "metadata": {},
   "outputs": [
    {
     "data": {
      "text/plain": [
       "array([[0., 0., 0., 0., 0., 0., 0.],\n",
       "       [0., 0., 0., 0., 0., 0., 0.],\n",
       "       [0., 0., 0., 0., 0., 0., 0.],\n",
       "       [0., 0., 0., 0., 0., 0., 0.],\n",
       "       [0., 0., 0., 0., 0., 0., 0.],\n",
       "       [0., 0., 0., 0., 0., 0., 0.],\n",
       "       [0., 0., 0., 0., 0., 0., 0.]])"
      ]
     },
     "execution_count": 36,
     "metadata": {},
     "output_type": "execute_result"
    }
   ],
   "source": [
    "tau_c = np.zeros(nv)\n",
    "pin.aba(model, data, q, v, tau_c)\n",
    "pin.computeMinverse(model, data, q);\n",
    "data.M\n",
    "\n",
    "# Doesn't make sense - not sure what I'm doing wrong :("
   ]
  },
  {
   "cell_type": "code",
   "execution_count": 10,
   "metadata": {},
   "outputs": [],
   "source": [
    "import mujoco"
   ]
  },
  {
   "cell_type": "code",
   "execution_count": 59,
   "metadata": {},
   "outputs": [],
   "source": [
    "# er, uses inertias from the sys id paper which may not be spot-on.\n",
    "model = mujoco.MjModel.from_xml_path(\"./data/mujoco_menagerie/franka_emika_panda/panda_nohand.xml\")\n",
    "data = mujoco.MjData(model)"
   ]
  },
  {
   "cell_type": "code",
   "execution_count": 60,
   "metadata": {},
   "outputs": [],
   "source": [
    "# https://github.com/ir-lab/irl_control/blob/a232828a53635cb2dba5be313f2a57227c10e18e/irl_control/osc.py#L101"
   ]
  },
  {
   "cell_type": "code",
   "execution_count": 63,
   "metadata": {},
   "outputs": [],
   "source": [
    "data.qpos[:] = q\n",
    "data.qvel[:] = v\n",
    "data.qacc[:] = vd\n",
    "# mujoco.mj_i (model, data)\n",
    "mujoco.mj_inverse(model, data)"
   ]
  },
  {
   "cell_type": "code",
   "execution_count": 64,
   "metadata": {},
   "outputs": [],
   "source": [
    "M_m = np.zeros((nv, nv))\n",
    "mujoco.mj_fullM(model, M_m, data.qM)\n",
    "g_m = data.qfrc_bias"
   ]
  },
  {
   "cell_type": "code",
   "execution_count": 66,
   "metadata": {},
   "outputs": [
    {
     "name": "stdout",
     "output_type": "stream",
     "text": [
      "[[ 2.23086767e-01  1.67571917e-02  1.00079124e-01 -1.10099562e-02\n",
      "   2.75907850e-02  1.89005566e-04 -5.21187495e-03]\n",
      " [ 1.67571917e-02  2.21508101e-01  2.59147753e-02 -8.11038801e-02\n",
      "   3.21440136e-02 -1.79058444e-02  3.35764674e-03]\n",
      " [ 1.00079124e-01  2.59147753e-02  1.94177427e-01 -1.62381821e-02\n",
      "   2.54318813e-02  3.60623547e-04 -5.20593748e-03]\n",
      " [-1.10099562e-02 -8.11038801e-02 -1.62381821e-02  1.70886628e-01\n",
      "  -2.02035878e-02  2.50031127e-02 -8.14777661e-04]\n",
      " [ 2.75907850e-02  3.21440136e-02  2.54318813e-02 -2.02035878e-02\n",
      "   1.07445388e-01  6.87964014e-04 -1.32707976e-03]\n",
      " [ 1.89005566e-04 -1.79058444e-02  3.60623547e-04  2.50031127e-02\n",
      "   6.87964014e-04  1.13538760e-01 -7.57798237e-05]\n",
      " [-5.21187495e-03  3.35764674e-03 -5.20593748e-03 -8.14777661e-04\n",
      "  -1.32707976e-03 -7.57798237e-05  1.04064046e-01]]\n",
      "[ 0.00000000e+00 -6.50775379e+01  6.18470348e-01  3.60557504e+01\n",
      "  2.11838900e+00  2.99475229e+00  5.49693162e-13]\n"
     ]
    }
   ],
   "source": [
    "print(M_m - M_d)\n",
    "print(g_m - g_d)"
   ]
  },
  {
   "cell_type": "code",
   "execution_count": null,
   "metadata": {},
   "outputs": [],
   "source": []
  }
 ],
 "metadata": {
  "kernelspec": {
   "display_name": "Python 3",
   "language": "python",
   "name": "python3"
  },
  "language_info": {
   "codemirror_mode": {
    "name": "ipython",
    "version": 3
   },
   "file_extension": ".py",
   "mimetype": "text/x-python",
   "name": "python",
   "nbconvert_exporter": "python",
   "pygments_lexer": "ipython3",
   "version": "3.10.6"
  },
  "orig_nbformat": 4
 },
 "nbformat": 4,
 "nbformat_minor": 2
}
