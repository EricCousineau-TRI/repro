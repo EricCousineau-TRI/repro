{
 "cells": [
  {
   "cell_type": "code",
   "execution_count": null,
   "metadata": {},
   "outputs": [],
   "source": [
    "import numpy as np\n",
    "\n",
    "from pydrake.all import (\n",
    "    FindResourceOrThrow,\n",
    "    Parser,\n",
    "    AddMultibodyPlantSceneGraph,\n",
    "    ConnectMeshcatVisualizer,\n",
    "    DiagramBuilder,\n",
    "    JacobianWrtVariable,\n",
    "    Simulator,\n",
    ")\n",
    "\n",
    "import multibody_extras as me"
   ]
  },
  {
   "cell_type": "code",
   "execution_count": null,
   "metadata": {},
   "outputs": [],
   "source": [
    "def normalize(x):\n",
    "    norm = np.linalg.norm(x)\n",
    "    eps = np.sqrt(np.finfo(float).eps)\n",
    "    assert norm > eps\n",
    "    return x / norm"
   ]
  },
  {
   "cell_type": "code",
   "execution_count": null,
   "metadata": {},
   "outputs": [],
   "source": [
    "np.set_printoptions(formatter={\"float_kind\": lambda x: f\"{x:.4f}\"})"
   ]
  },
  {
   "cell_type": "code",
   "execution_count": null,
   "metadata": {},
   "outputs": [],
   "source": [
    "def make_parser(plant):\n",
    "    parser = Parser(plant)\n",
    "    parser.package_map().PopulateFromFolder(\"./repos/universal_robot\")\n",
    "    return parser"
   ]
  },
  {
   "cell_type": "code",
   "execution_count": null,
   "metadata": {},
   "outputs": [],
   "source": [
    "# %%script bash --bg\n",
    "# # Launch a drake-visualizer instance in the background.\n",
    "# drake-visualizer\n",
    "\n",
    "# # TODO(eric): Embed meshcat."
   ]
  },
  {
   "cell_type": "code",
   "execution_count": null,
   "metadata": {},
   "outputs": [],
   "source": [
    "# model_file = FindResourceOrThrow(\"drake/manipulation/models/franka_description/urdf/panda_arm.urdf\")\n",
    "# q = np.array([0.03, -0.53, -0.04, -2.3, 0.01, 2.25, -0.81])\n",
    "# v_limit = np.deg2rad([85, 85, 100, 75, 130, 135, 135])\n",
    "\n",
    "# model_file = FindResourceOrThrow(\"drake/manipulation/models/iiwa_description/urdf/iiwa14_no_collision.urdf\")\n",
    "# v_limit = np.deg2rad([85, 85, 100, 75, 130, 135, 135])\n",
    "# q = np.array([0.03, 0.53, -0.04, -1.3, 0.01, -0.3, -0.81])\n",
    "\n",
    "model_file = \"./repos/universal_robot/ur_description/urdf/ur5.urdf\"\n",
    "v_limit = np.deg2rad([85, 85, 100, 75, 130, 135])\n",
    "q = np.array([0.03, 0.53, -0.04, -1.3, 0.01, -0.3])"
   ]
  },
  {
   "cell_type": "code",
   "execution_count": null,
   "metadata": {},
   "outputs": [],
   "source": [
    "# Load arm; ensure we can visualize.\n",
    "builder = DiagramBuilder()\n",
    "arbitrary_plant_time_step = 0.01  # See: https://github.com/RobotLocomotion/drake/issues/14688\n",
    "plant, scene_graph = AddMultibodyPlantSceneGraph(builder, time_step=arbitrary_plant_time_step)\n",
    "\n",
    "arm = make_parser(plant).AddModelFromFile(model_file)\n",
    "arm_bodies = me.get_bodies(plant, {arm})\n",
    "# Naively select base and ee body.\n",
    "base_body = arm_bodies[0]\n",
    "ee_body = arm_bodies[-1]\n",
    "\n",
    "frame_W = plant.world_frame()\n",
    "frame_B = base_body.body_frame()\n",
    "frame_G = ee_body.body_frame()\n",
    "# Weld it (get rid of floating-dof stuff)\n",
    "plant.WeldFrames(frame_W, frame_B)\n",
    "plant.Finalize()\n",
    "\n",
    "# DrakeVisualizer.AddToBuilder(builder, scene_graph)\n",
    "meshcat_vis = ConnectMeshcatVisualizer(builder, scene_graph, zmq_url=\"new\", open_browser=False)\n",
    "\n",
    "diagram = builder.Build()\n",
    "diagram_context = diagram.CreateDefaultContext()\n",
    "context = plant.GetMyContextFromRoot(diagram_context)\n",
    "\n",
    "display(meshcat_vis.vis.jupyter_cell())\n",
    "Simulator(diagram, diagram_context.Clone()).Initialize()"
   ]
  },
  {
   "cell_type": "code",
   "execution_count": null,
   "metadata": {},
   "outputs": [],
   "source": [
    "plant.SetPositions(context, arm, q)\n",
    "diagram.Publish(diagram_context)"
   ]
  },
  {
   "cell_type": "code",
   "execution_count": null,
   "metadata": {},
   "outputs": [],
   "source": [
    "# # Meh. These seem to lie when coming from an URDF, at least the ones in Drake.\n",
    "# v_lower = plant.GetVelocitiesFromArray(arm, plant.GetVelocityLowerLimits())\n",
    "# v_upper = plant.GetVelocitiesFromArray(arm, plant.GetVelocityUpperLimits())\n",
    "# # Show that limits are symmetric.\n",
    "# v_limit = v_upper\n",
    "# assert np.all(np.abs(v_lower) == v_limit)"
   ]
  },
  {
   "cell_type": "code",
   "execution_count": null,
   "metadata": {},
   "outputs": [],
   "source": [
    "# Compute Jacobian at present configuration.\n",
    "J_WG = plant.CalcJacobianSpatialVelocity(\n",
    "    context,\n",
    "    with_respect_to=JacobianWrtVariable.kV,\n",
    "    frame_B=frame_G,\n",
    "    p_BP=[0, 0, 0],\n",
    "    frame_A=frame_W,\n",
    "    frame_E=frame_W,\n",
    ")\n",
    "# Check pinv solutions for only the translation slice.\n",
    "# (Lets angular velocity be unconstrained)\n",
    "Jp_WG = J_WG[3:]"
   ]
  },
  {
   "cell_type": "code",
   "execution_count": null,
   "metadata": {},
   "outputs": [],
   "source": [
    "# Specify target EE linear velocity norm.\n",
    "pdot_norm = 2.0  # m/s\n",
    "\n",
    "# Choose some random directions for naive empirical analysis.\n",
    "pdot_units = np.array([normalize(x) for x in [\n",
    "    [1.0, 0.0, 0.0],\n",
    "    [0.0, 1.0, 0.0],\n",
    "    [0.0, 0.0, 1.0],\n",
    "    [1.0, 1.0, 0.0],\n",
    "    [1.0, 0.0, 1.0],\n",
    "    [0.0, 1.0, 1.0],\n",
    "    [1.0, 1.0, 1.0],\n",
    "]])"
   ]
  },
  {
   "cell_type": "code",
   "execution_count": null,
   "metadata": {},
   "outputs": [],
   "source": [
    "# Naive linear solve + iteration.\n",
    "vs = []\n",
    "\n",
    "for pdot_unit in pdot_units:\n",
    "    pdot_WG = pdot_norm * pdot_unit\n",
    "    v = np.linalg.lstsq(Jp_WG, pdot_WG)[0]\n",
    "    vs.append(v)\n",
    "\n",
    "vs = np.array(vs)\n",
    "print(vs)"
   ]
  },
  {
   "cell_type": "code",
   "execution_count": null,
   "metadata": {},
   "outputs": [],
   "source": [
    "exceeds_limits = vs > v_limit\n",
    "print(exceeds_limits.astype(np.uint8))"
   ]
  },
  {
   "cell_type": "code",
   "execution_count": null,
   "metadata": {},
   "outputs": [],
   "source": []
  }
 ],
 "metadata": {
  "kernelspec": {
   "display_name": "Python 3",
   "language": "python",
   "name": "python3"
  },
  "language_info": {
   "codemirror_mode": {
    "name": "ipython",
    "version": 3
   },
   "file_extension": ".py",
   "mimetype": "text/x-python",
   "name": "python",
   "nbconvert_exporter": "python",
   "pygments_lexer": "ipython3",
   "version": "3.6.9"
  }
 },
 "nbformat": 4,
 "nbformat_minor": 4
}
