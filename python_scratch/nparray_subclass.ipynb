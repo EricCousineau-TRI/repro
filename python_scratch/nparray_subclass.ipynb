{
 "metadata": {
  "name": "",
  "signature": "sha256:55d0fb520a6644effe7a8fb182816ea7faedfa1ac716c5a304588a6a2631c4de"
 },
 "nbformat": 3,
 "nbformat_minor": 0,
 "worksheets": [
  {
   "cells": [
    {
     "cell_type": "code",
     "collapsed": false,
     "input": [
      "import numpy as np"
     ],
     "language": "python",
     "metadata": {},
     "outputs": [],
     "prompt_number": 1
    },
    {
     "cell_type": "code",
     "collapsed": false,
     "input": [
      "# https://docs.scipy.org/doc/numpy/user/basics.subclassing.html\n",
      "class custom(np.ndarray): pass"
     ],
     "language": "python",
     "metadata": {},
     "outputs": [],
     "prompt_number": 19
    },
    {
     "cell_type": "code",
     "collapsed": false,
     "input": [
      "A = np.array([1., 2, 3]).view(custom)\n",
      "A"
     ],
     "language": "python",
     "metadata": {},
     "outputs": [
      {
       "metadata": {},
       "output_type": "pyout",
       "prompt_number": 24,
       "text": [
        "custom([ 1.,  2.,  3.])"
       ]
      }
     ],
     "prompt_number": 24
    }
   ],
   "metadata": {}
  }
 ]
}