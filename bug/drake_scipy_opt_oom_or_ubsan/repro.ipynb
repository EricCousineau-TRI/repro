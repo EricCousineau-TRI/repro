{
 "cells": [
  {
   "cell_type": "markdown",
   "metadata": {},
   "source": [
    "Synthplan!\n",
    "==========\n",
    "\n",
    "Okay, a few more hours of this work, then back to Drake for the day."
   ]
  },
  {
   "cell_type": "markdown",
   "metadata": {},
   "source": [
    "Where we left off\n",
    "-----------------\n",
    "\n",
    "We've got a system where a block with thrusters at one end is moving in a 2d space:"
   ]
  },
  {
   "cell_type": "code",
   "execution_count": 1,
   "metadata": {},
   "outputs": [],
   "source": [
    "import math\n",
    "import time\n",
    "\n",
    "from pydrake.systems.framework import (DiagramBuilder,)\n",
    "from pydrake.systems.primitives import (ConstantVectorSource,)\n",
    "from pydrake.geometry import (Box,\n",
    "                              DrakeVisualizer)\n",
    "from pydrake.math import (RigidTransform, RollPitchYaw)\n",
    "from pydrake.multibody.plant import (AddMultibodyPlantSceneGraph, CoulombFriction, Propeller, PropellerInfo)\n",
    "from pydrake.multibody.tree import (SpatialInertia, RotationalInertia, PlanarJoint)\n",
    "\n",
    "from pydrake.systems.analysis import Simulator\n",
    "\n",
    "def make_box(mbp, name):\n",
    "    inertia = SpatialInertia.MakeFromCentralInertia(1, [0, 0, 0], RotationalInertia(1/600, 1/120, 1/120))\n",
    "    body = mbp.AddRigidBody(name, inertia)\n",
    "    shape = Box(1, 0.1, 0.1)\n",
    "    mbp.RegisterVisualGeometry(\n",
    "        body=body, X_BG=RigidTransform(), shape=shape, name=f\"{name}_visual\",\n",
    "        diffuse_color=[1., 0.64, 0.0, 0.5])\n",
    "    body_friction = CoulombFriction(static_friction=0.6,\n",
    "                                    dynamic_friction=0.5)\n",
    "    mbp.RegisterCollisionGeometry(\n",
    "        body=body, X_BG=RigidTransform(), shape=shape,\n",
    "        name=\"{name}_collision\", coulomb_friction=body_friction)\n",
    "    return body\n",
    "\n",
    "def make_mbp(builder):\n",
    "    mbp, sg = AddMultibodyPlantSceneGraph(builder, time_step=0.001)\n",
    "    robot_body = make_box(mbp, \"robot\")\n",
    "    planar_joint = mbp.AddJoint(\n",
    "        PlanarJoint(name=\"robot_planar_joint\",\n",
    "                    frame_on_parent=mbp.world_frame(),\n",
    "                    frame_on_child=robot_body.body_frame(),\n",
    "                    damping=[1,1,0.9]))\n",
    "    \n",
    "    blocker1 = make_box(mbp, \"blocker1\")\n",
    "    mbp.WeldFrames(A=mbp.world_frame(), B=blocker1.body_frame(), X_AB=RigidTransform([1,0.5,0]))\n",
    "    return mbp, sg\n",
    "\n",
    "def add_thrusters(builder, mbp):\n",
    "    robot_body_index = mbp.GetBodyByName(\"robot\").index()\n",
    "    robot_tail_forward = RigidTransform(p=[-0.5, 0, 0], rpy=RollPitchYaw([math.pi/2, 0, 0]))\n",
    "    robot_tail_clockwise = RigidTransform(p=[-0.5, 0, 0], rpy=RollPitchYaw([math.pi/2, 0, math.pi/2]))\n",
    "    thrusters = builder.AddSystem(\n",
    "        Propeller([PropellerInfo(robot_body_index, X_BP=robot_tail_forward),\n",
    "                   PropellerInfo(robot_body_index, X_BP=robot_tail_clockwise)]))\n",
    "    builder.Connect(thrusters.get_spatial_forces_output_port(), mbp.get_applied_spatial_force_input_port())\n",
    "    builder.Connect(mbp.get_body_poses_output_port(), thrusters.get_body_poses_input_port())\n",
    "    return thrusters\n",
    "\n",
    "def run(sleeptime=0.001, thrust = [10, 2]):\n",
    "    builder = DiagramBuilder()\n",
    "    mbp, sg = make_mbp(builder)\n",
    "    mbp.Finalize()\n",
    "    DrakeVisualizer.AddToBuilder(builder, sg)\n",
    "\n",
    "    thrusters = add_thrusters(builder, mbp)\n",
    "    cmd = builder.AddSystem(ConstantVectorSource(thrust))\n",
    "    builder.Connect(cmd.get_output_port(), thrusters.get_command_input_port())\n",
    "    \n",
    "    diagram = builder.Build()\n",
    "    simulator = Simulator(diagram)\n",
    "    for step in range(1000):\n",
    "        simulator.AdvanceTo(0.001 * step)\n",
    "        mbp_context = diagram.GetSubsystemContext(mbp, simulator.get_context())\n",
    "        time.sleep(sleeptime)\n",
    "\n",
    "run()"
   ]
  },
  {
   "cell_type": "markdown",
   "metadata": {},
   "source": [
    "... and we've got an ability to forward-simulate to check where a force schedule leaves the block ..."
   ]
  },
  {
   "cell_type": "code",
   "execution_count": 2,
   "metadata": {},
   "outputs": [
    {
     "data": {
      "text/plain": [
       "array([  1.85452250e+000,   9.72879021e-001,   6.14681308e+000,\n",
       "         6.69750184e-004,   6.66424001e-002,   7.93285551e-100])"
      ]
     },
     "execution_count": 2,
     "metadata": {},
     "output_type": "execute_result"
    }
   ],
   "source": [
    "from pydrake.systems.primitives import TrajectorySource\n",
    "from pydrake.trajectories import PiecewisePolynomial\n",
    "\n",
    "import numpy as np\n",
    "\n",
    "experiment_count = 0\n",
    "\n",
    "def experiment(start_state, force_schedule, sleeptime=None):\n",
    "    global experiment_count\n",
    "    experiment_count += 1\n",
    "    if experiment_count % 10 == 0:\n",
    "        print(f\"{experiment_count} experiments run so far...\")\n",
    "    \n",
    "    builder = DiagramBuilder()\n",
    "    mbp, sg = make_mbp(builder)\n",
    "    mbp.Finalize()\n",
    "    DrakeVisualizer.AddToBuilder(builder, sg)\n",
    "\n",
    "    thrusters = add_thrusters(builder, mbp)\n",
    "\n",
    "    breaks = [0]\n",
    "    for _, t in force_schedule:\n",
    "        breaks.append(breaks[-1] + t)\n",
    "    forces = np.array([f for f, t in force_schedule] + [force_schedule[-1][0]])\n",
    "    force_traj = PiecewisePolynomial.ZeroOrderHold(breaks, forces.transpose())\n",
    "    controller = builder.AddSystem(TrajectorySource(force_traj))\n",
    "    builder.Connect(controller.get_output_port(), thrusters.get_command_input_port())\n",
    "    \n",
    "    diagram = builder.Build()\n",
    "    simulator = Simulator(diagram)\n",
    "    mbp_context = diagram.GetSubsystemContext(mbp, simulator.get_context())\n",
    "    mbp.SetPositionsAndVelocities(mbp_context, start_state)\n",
    "    for step in range(int(1000 * breaks[-1])):\n",
    "        simulator.AdvanceTo(0.001 * step)\n",
    "        mbp_context = diagram.GetSubsystemContext(mbp, simulator.get_context())\n",
    "        if sleeptime: time.sleep(sleeptime)\n",
    "    return mbp.GetPositionsAndVelocities(diagram.GetSubsystemContext(mbp, simulator.get_context()))\n",
    "\n",
    "experiment([0, 0, 0, 0, 0, 0], [[[10, 2], 2], [[0, 0], 2]], sleeptime=1e-3)"
   ]
  },
  {
   "cell_type": "markdown",
   "metadata": {},
   "source": [
    "... That lets us define a \"Primitive\" as a force schedule that takes us from a bounding box of start conditions to a bounding box of end conditions ..."
   ]
  },
  {
   "cell_type": "code",
   "execution_count": 3,
   "metadata": {},
   "outputs": [
    {
     "name": "stdout",
     "output_type": "stream",
     "text": [
      "10 experiments run so far...\n",
      "20 experiments run so far...\n",
      "30 experiments run so far...\n",
      "40 experiments run so far...\n",
      "50 experiments run so far...\n",
      "60 experiments run so far...\n",
      "5.14881005636\n"
     ]
    }
   ],
   "source": [
    "import copy\n",
    "\n",
    "class Primitive:\n",
    "    def __init__(self, start_min, start_max, end_min, end_max, force_schedule):\n",
    "        self.start_min = start_min\n",
    "        self.start_max = start_max\n",
    "        self.end_min = end_min\n",
    "        self.end_max = end_max\n",
    "        self.force_schedule=force_schedule  # List of [forces, duration]\n",
    "\n",
    "def ensemble(start_min, start_max):\n",
    "    coords = [[]]\n",
    "    for axis in range(len(start_min)):\n",
    "        new_coords = []\n",
    "        for coord in coords:\n",
    "            new_coords += [coord + [start_min[axis]]]\n",
    "            new_coords += [coord + [start_max[axis]]]\n",
    "        coords = new_coords\n",
    "    return coords\n",
    "\n",
    "def cost(start_min, start_max, force_schedule, target):\n",
    "    min_time = min(t for f, t in force_schedule)\n",
    "    max_force = max(math.sqrt(fx * fx + fy * fy) for (fx, fy), t in force_schedule)\n",
    "    duration = sum(t for f, t in force_schedule)\n",
    "    if min_time < 0.001: return float('inf')\n",
    "    if min_time < 0.1: return 2 / min_time\n",
    "    if max_force > 20: return 2 * max_force\n",
    "    starts = ensemble(start_min, start_max)\n",
    "    results = (experiment(e, force_schedule) for e in starts)\n",
    "    distances = (np.linalg.norm(np.array(result) - np.array(target)) for result in results)\n",
    "    return duration + (1 / min_time) + max_force + sum(distances) / len(starts)\n",
    "\n",
    "s = cost(start_min=[0, 0, 0, 0, 0, 0], start_max=[0.1, 0.1, 0.1, 0.1, 0.1, 0.1], force_schedule=[[[0, 1], 1], [[0, -1], 1]], target=[0, 0, 1, 0, 0, 0])\n",
    "print(s)"
   ]
  },
  {
   "cell_type": "markdown",
   "metadata": {},
   "source": [
    "Today\n",
    "-----\n",
    "\n",
    "Today begins here.  We would like to create a \"synthesizer\" that tries to build a Primitive between two points. We'll start with an easy one."
   ]
  },
  {
   "cell_type": "code",
   "execution_count": null,
   "metadata": {},
   "outputs": [
    {
     "name": "stdout",
     "output_type": "stream",
     "text": [
      "[[[0.0, 0.0], 1.0], [[0.0, 0.0], 1.0], [[0.0, 0.0], 1.0]]\n",
      "70 experiments run so far...\n",
      "80 experiments run so far...\n",
      "90 experiments run so far...\n",
      "100 experiments run so far...\n",
      "110 experiments run so far...\n",
      "120 experiments run so far...\n",
      "4.96447459594\n",
      "[[[1.4901161193847656e-08, 0.0], 1.0], [[0.0, 0.0], 1.0], [[0.0, 0.0], 1.0]]\n",
      "130 experiments run so far...\n",
      "140 experiments run so far...\n",
      "150 experiments run so far...\n"
     ]
    }
   ],
   "source": [
    "from scipy.optimize import minimize\n",
    "\n",
    "def flatten_force_schedule(schedule):\n",
    "    result = []\n",
    "    for forces, time in schedule:\n",
    "        for fx, fy in forces:\n",
    "            result.append(fx, fy, time)\n",
    "    return np.array(result)\n",
    "\n",
    "def unflatten_force_schedule(schedule):\n",
    "    result = []\n",
    "    assert schedule.size % 3 == 0\n",
    "    for i in range(schedule.size // 3):\n",
    "        result.append([[schedule[i*3], schedule[i*3+1]], schedule[i*3+2]])\n",
    "    return result\n",
    "\n",
    "def naive_synthesis(start_min, start_max, target, initial_guess = [0, 0, 1, 0, 0, 1, 0, 0, 1]):\n",
    "    def cost_fun(guess):\n",
    "        print(unflatten_force_schedule(guess))\n",
    "        costval = cost(start_min, start_max, unflatten_force_schedule(guess), target)\n",
    "        print(costval)\n",
    "        return costval\n",
    "    min = minimize(fun=cost_fun, x0=initial_guess)\n",
    "    print(min)\n",
    "\n",
    "naive_synthesis(start_min=[0, 0, 0, 0, 0, 0], start_max=[0.1, 0.1, 0.1, 0.1, 0.1, 0.1], target=[0, 0, 1, 0, 0, 0])"
   ]
  },
  {
   "cell_type": "markdown",
   "metadata": {},
   "source": [
    "...which crashes the kernel with a buffer overflow.  Just like two weeks ago, I'm fetching up on a Drake bug..."
   ]
  },
  {
   "cell_type": "code",
   "execution_count": null,
   "metadata": {},
   "outputs": [],
   "source": []
  }
 ],
 "metadata": {
  "kernelspec": {
   "display_name": "Python 3",
   "language": "python",
   "name": "python3"
  },
  "language_info": {
   "codemirror_mode": {
    "name": "ipython",
    "version": 3
   },
   "file_extension": ".py",
   "mimetype": "text/x-python",
   "name": "python",
   "nbconvert_exporter": "python",
   "pygments_lexer": "ipython3",
   "version": "3.6.9"
  }
 },
 "nbformat": 4,
 "nbformat_minor": 4
}

