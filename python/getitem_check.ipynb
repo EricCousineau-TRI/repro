{
 "cells": [
  {
   "cell_type": "code",
   "execution_count": 1,
   "metadata": {},
   "outputs": [],
   "source": [
    "class Merp:\n",
    "    def __getitem__(self, param):\n",
    "        print(repr(param))\n",
    "\n",
    "x = Merp()"
   ]
  },
  {
   "cell_type": "code",
   "execution_count": 2,
   "metadata": {},
   "outputs": [
    {
     "name": "stdout",
     "output_type": "stream",
     "text": [
      "1\n"
     ]
    }
   ],
   "source": [
    "x[1]"
   ]
  },
  {
   "cell_type": "code",
   "execution_count": 3,
   "metadata": {},
   "outputs": [
    {
     "name": "stdout",
     "output_type": "stream",
     "text": [
      "(1,)\n",
      "(1, 2)\n",
      "(1, 2)\n",
      "(1, 2)\n",
      "((1, 2),)\n"
     ]
    }
   ],
   "source": [
    "x[1,]\n",
    "x[1, 2]\n",
    "x[1, 2,]\n",
    "x[(1, 2)]\n",
    "x[(1, 2),]"
   ]
  },
  {
   "cell_type": "code",
   "execution_count": 4,
   "metadata": {},
   "outputs": [
    {
     "name": "stdout",
     "output_type": "stream",
     "text": [
      "slice(None, None, None)\n",
      "slice(1, 2, 3)\n",
      "(slice(None, None, None), slice(None, None, None), 3)\n"
     ]
    }
   ],
   "source": [
    "x[:]\n",
    "x[1:2:3]\n",
    "x[:, :, 3]"
   ]
  }
 ],
 "metadata": {
  "kernelspec": {
   "display_name": "Python 3",
   "language": "python",
   "name": "python3"
  },
  "language_info": {
   "codemirror_mode": {
    "name": "ipython",
    "version": 3
   },
   "file_extension": ".py",
   "mimetype": "text/x-python",
   "name": "python",
   "nbconvert_exporter": "python",
   "pygments_lexer": "ipython3",
   "version": "3.6.9"
  }
 },
 "nbformat": 4,
 "nbformat_minor": 2
}
