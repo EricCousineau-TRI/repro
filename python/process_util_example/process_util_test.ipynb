{
 "cells": [
  {
   "cell_type": "markdown",
   "metadata": {},
   "source": [
    "# Examples for using methods from `process_util`"
   ]
  },
  {
   "cell_type": "markdown",
   "metadata": {},
   "source": [
    "## Parallel Processing"
   ]
  },
  {
   "cell_type": "code",
   "execution_count": null,
   "metadata": {},
   "outputs": [],
   "source": [
    "from tqdm import tqdm_notebook"
   ]
  },
  {
   "cell_type": "code",
   "execution_count": null,
   "metadata": {},
   "outputs": [],
   "source": [
    "from process_util import parallel_iwork_unordered, parallel_work"
   ]
  },
  {
   "cell_type": "code",
   "execution_count": null,
   "metadata": {},
   "outputs": [],
   "source": [
    "from multiprocessing import current_process\n",
    "import random\n",
    "import time\n",
    "\n",
    "def worker(values):\n",
    "    # Count how much work each worker does.\n",
    "    count = 0\n",
    "    for value in values:\n",
    "        time.sleep(random.uniform(0.05, 0.1))\n",
    "        count += 1\n",
    "        yield (current_process().name, count, value)"
   ]
  },
  {
   "cell_type": "code",
   "execution_count": null,
   "metadata": {},
   "outputs": [],
   "source": [
    "inputs = [\"hey\", \"world\", \"look\", \"at\", \"me\"]"
   ]
  },
  {
   "cell_type": "code",
   "execution_count": null,
   "metadata": {},
   "outputs": [],
   "source": [
    "outputs_iter = parallel_iwork_unordered(\n",
    "    worker, inputs, process_count=3)\n",
    "outputs = list(tqdm_notebook(outputs_iter, total=len(inputs)))\n",
    "\n",
    "assert set(output[2] for output in outputs) == set(inputs)  # Unordered\n",
    "outputs"
   ]
  },
  {
   "cell_type": "code",
   "execution_count": null,
   "metadata": {},
   "outputs": [],
   "source": [
    "# Non-parallel\n",
    "outputs_iter = parallel_iwork_unordered(\n",
    "    worker, inputs, process_count=0)\n",
    "outputs = list(tqdm_notebook(outputs_iter, total=len(inputs)))\n",
    "\n",
    "assert [output[2] for output in outputs] == inputs\n",
    "outputs"
   ]
  },
  {
   "cell_type": "code",
   "execution_count": null,
   "metadata": {},
   "outputs": [],
   "source": [
    "outputs = parallel_work(\n",
    "    worker, inputs, process_count=3, progress_cls=tqdm_notebook)\n",
    "\n",
    "assert [output[2] for output in outputs] == inputs\n",
    "outputs"
   ]
  },
  {
   "cell_type": "code",
   "execution_count": null,
   "metadata": {},
   "outputs": [],
   "source": [
    "# No progress bar.\n",
    "outputs = parallel_work(worker, inputs, process_count=0)\n",
    "\n",
    "assert [output[2] for output in outputs] == inputs\n",
    "outputs"
   ]
  },
  {
   "cell_type": "markdown",
   "metadata": {},
   "source": [
    "# Process Manipulation"
   ]
  },
  {
   "cell_type": "markdown",
   "metadata": {},
   "source": [
    "## CapturedProcessGroup (high level)"
   ]
  },
  {
   "cell_type": "code",
   "execution_count": null,
   "metadata": {},
   "outputs": [],
   "source": [
    "from contextlib import closing\n",
    "from process_util import CapturedProcessGroup"
   ]
  },
  {
   "cell_type": "code",
   "execution_count": null,
   "metadata": {},
   "outputs": [],
   "source": [
    "# WARNING: With Python 2, newlines may not always be correctly processed...\n",
    "procs = CapturedProcessGroup()\n",
    "with closing(procs):\n",
    "    procs.add(\"bash\", [\"bash\", \"-c\", \"for i in $(seq 3); do echo Hello ${i}; sleep 0.2; done\"])\n",
    "    while procs.poll() == {}:\n",
    "        pass\n",
    "assert procs.poll() == {\"bash\": 0}"
   ]
  },
  {
   "cell_type": "markdown",
   "metadata": {},
   "source": [
    "# CapturedProcess (lower-level)"
   ]
  },
  {
   "cell_type": "code",
   "execution_count": null,
   "metadata": {},
   "outputs": [],
   "source": [
    "from functools import partial\n",
    "from subprocess import Popen\n",
    "import time\n",
    "\n",
    "from process_util import (\n",
    "    on_context_exit,\n",
    "    signal_processes,\n",
    "    CapturedProcess,\n",
    "    CapturedProcessGroup,\n",
    "    print_prefixed,\n",
    ")"
   ]
  },
  {
   "cell_type": "code",
   "execution_count": null,
   "metadata": {},
   "outputs": [],
   "source": [
    "# Signaling.\n",
    "p = Popen([\"sleep\", \"10\"])\n",
    "with on_context_exit(lambda: signal_processes([p])):\n",
    "    time.sleep(1.)\n",
    "assert p.returncode == -2"
   ]
  },
  {
   "cell_type": "code",
   "execution_count": null,
   "metadata": {},
   "outputs": [],
   "source": [
    "args = [\"bash\", \"-c\", \"while :; do echo Hello; read; done\"]\n",
    "p = CapturedProcess(\n",
    "    args, on_new_text=partial(print_prefixed, prefix=\" | \"))\n",
    "with p.scope:\n",
    "    for i in xrange(3):\n",
    "        while \"Hello\" not in p.output.get_text():\n",
    "            time.sleep(0.01)\n",
    "            p.poll()\n",
    "        p.output.clear()\n",
    "        p.proc.stdin.write(\"\\n\")"
   ]
  },
  {
   "cell_type": "code",
   "execution_count": null,
   "metadata": {},
   "outputs": [],
   "source": []
  }
 ],
 "metadata": {
  "kernelspec": {
   "display_name": "Python 2",
   "language": "python",
   "name": "python2"
  },
  "language_info": {
   "codemirror_mode": {
    "name": "ipython",
    "version": 2
   },
   "file_extension": ".py",
   "mimetype": "text/x-python",
   "name": "python",
   "nbconvert_exporter": "python",
   "pygments_lexer": "ipython2",
   "version": "2.7.15rc1"
  }
 },
 "nbformat": 4,
 "nbformat_minor": 2
}
