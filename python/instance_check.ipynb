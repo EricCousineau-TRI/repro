{
 "cells": [
  {
   "cell_type": "code",
   "execution_count": null,
   "metadata": {},
   "outputs": [],
   "source": [
    "class MyClassA:\n",
    "    @classmethod\n",
    "    def __instancecheck__(cls, other):\n",
    "        print(\"Checked\")\n",
    "        return True\n",
    "\n",
    "isinstance(1, MyClassA)"
   ]
  },
  {
   "cell_type": "code",
   "execution_count": null,
   "metadata": {},
   "outputs": [],
   "source": [
    "class Meta(type):\n",
    "    def __instancecheck__(cls, other):\n",
    "        print(\"Checked\")\n",
    "        return True\n",
    "\n",
    "class MyClassB(metaclass=Meta):\n",
    "    pass\n",
    "\n",
    "isinstance(1, MyClassB)"
   ]
  },
  {
   "cell_type": "code",
   "execution_count": null,
   "metadata": {},
   "outputs": [],
   "source": []
  }
 ],
 "metadata": {
  "kernelspec": {
   "display_name": "Python 3",
   "language": "python",
   "name": "python3"
  },
  "language_info": {
   "codemirror_mode": {
    "name": "ipython",
    "version": 3
   },
   "file_extension": ".py",
   "mimetype": "text/x-python",
   "name": "python",
   "nbconvert_exporter": "python",
   "pygments_lexer": "ipython3",
   "version": "3.6.9"
  }
 },
 "nbformat": 4,
 "nbformat_minor": 2
}
