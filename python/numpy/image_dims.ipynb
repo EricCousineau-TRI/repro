{
 "metadata": {
  "name": "",
  "signature": "sha256:e176f1802b22de69b00edd8759415f3a08bf901dd0d2b7cfbafb5eafd83a59b3"
 },
 "nbformat": 3,
 "nbformat_minor": 0,
 "worksheets": [
  {
   "cells": [
    {
     "cell_type": "code",
     "collapsed": false,
     "input": [
      "# cv2: (h, w, num_channels)\n",
      "# VTK: (w, h, num_channels)\n",
      "# matplotlib: (h, w, num_channels)\n",
      "# scipy: (h, w, num_channels)"
     ],
     "language": "python",
     "metadata": {},
     "outputs": [],
     "prompt_number": 1
    },
    {
     "cell_type": "code",
     "collapsed": false,
     "input": [
      "import matplotlib.image as mpimg\n",
      "img = mpimg.imread('stinkbug.png')\n",
      "img.shape"
     ],
     "language": "python",
     "metadata": {},
     "outputs": [
      {
       "metadata": {},
       "output_type": "pyout",
       "prompt_number": 3,
       "text": [
        "(375, 500, 3)"
       ]
      }
     ],
     "prompt_number": 3
    },
    {
     "cell_type": "code",
     "collapsed": false,
     "input": [
      "import scipy.ndimage as sciimg\n",
      "img = sciimg.imread('stinkbug.png')\n",
      "img.shape"
     ],
     "language": "python",
     "metadata": {},
     "outputs": [
      {
       "metadata": {},
       "output_type": "pyout",
       "prompt_number": 4,
       "text": [
        "(375, 500, 3)"
       ]
      }
     ],
     "prompt_number": 4
    },
    {
     "cell_type": "code",
     "collapsed": false,
     "input": [],
     "language": "python",
     "metadata": {},
     "outputs": []
    }
   ],
   "metadata": {}
  }
 ]
}