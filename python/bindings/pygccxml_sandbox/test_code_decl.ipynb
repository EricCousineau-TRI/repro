{
 "cells": [
  {
   "cell_type": "code",
   "execution_count": null,
   "metadata": {},
   "outputs": [],
   "source": [
    "from pygccxml import declarations\n",
    "from pygccxml import utils\n",
    "from pygccxml import parser"
   ]
  },
  {
   "cell_type": "code",
   "execution_count": null,
   "metadata": {},
   "outputs": [],
   "source": [
    "# Find out the c++ parser. This should resolve to the castxml\n",
    "# version installed in Docker.\n",
    "generator_path, generator_name = utils.find_xml_generator()\n",
    "\n",
    "# Configure the xml generator\n",
    "config = parser.xml_generator_configuration_t(\n",
    "    xml_generator_path=generator_path,\n",
    "    xml_generator=generator_name,\n",
    "    include_paths=[\"/usr/include/eigen3\"],\n",
    "    start_with_declarations=[\"ns\"],\n",
    "    # TODO(eric.cousineau): This doesn't work?\n",
    "    flags=[\"-Wno-unused-value\"],\n",
    ")"
   ]
  },
  {
   "cell_type": "code",
   "execution_count": null,
   "metadata": {},
   "outputs": [],
   "source": [
    "code = r\"\"\"\n",
    "#include <vector>\n",
    "\n",
    "#include <Eigen/Dense>\n",
    "\n",
    "namespace ns {\n",
    "\n",
    "template <typename T, typename U = int>\n",
    "class ExampleClass {\n",
    "public:\n",
    "    std::vector<T> make_std_vector() const;\n",
    "    Eigen::Matrix<U, 3, 3> make_matrix3();\n",
    "};\n",
    "\n",
    "template <typename T>\n",
    "void MyFunc();\n",
    "\n",
    "void __instantiate__() {\n",
    "    sizeof(ExampleClass<int>);\n",
    "    sizeof(ExampleClass<float, float>);\n",
    "    sizeof(ExampleClass<char>);\n",
    "    (void)&MyFunc<int>;\n",
    "    (void)&MyFunc<char>;\n",
    "}\n",
    "\n",
    "}  // namespace ns\n",
    "\"\"\""
   ]
  },
  {
   "cell_type": "code",
   "execution_count": null,
   "metadata": {},
   "outputs": [],
   "source": [
    "(global_ns,) = parser.parse_string(code, config)\n",
    "ns = global_ns.namespace(\"ns\")"
   ]
  },
  {
   "cell_type": "code",
   "execution_count": null,
   "metadata": {},
   "outputs": [],
   "source": [
    "for cls in ns.classes():\n",
    "    print(cls.name)"
   ]
  },
  {
   "cell_type": "code",
   "execution_count": null,
   "metadata": {},
   "outputs": [],
   "source": [
    "declarations.print_declarations([ns])"
   ]
  },
  {
   "cell_type": "code",
   "execution_count": null,
   "metadata": {},
   "outputs": [],
   "source": []
  }
 ],
 "metadata": {
  "kernelspec": {
   "display_name": "Python 3",
   "language": "python",
   "name": "python3"
  },
  "language_info": {
   "codemirror_mode": {
    "name": "ipython",
    "version": 3
   },
   "file_extension": ".py",
   "mimetype": "text/x-python",
   "name": "python",
   "nbconvert_exporter": "python",
   "pygments_lexer": "ipython3",
   "version": "3.6.9"
  }
 },
 "nbformat": 4,
 "nbformat_minor": 4
}
