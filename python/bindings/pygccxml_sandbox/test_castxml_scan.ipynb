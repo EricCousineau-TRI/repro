{
 "cells": [
  {
   "cell_type": "code",
   "execution_count": null,
   "metadata": {},
   "outputs": [],
   "source": [
    "from os.path import expanduser\n",
    "import time"
   ]
  },
  {
   "cell_type": "code",
   "execution_count": null,
   "metadata": {},
   "outputs": [],
   "source": [
    "from clang.cindex import Index, Config, TranslationUnit"
   ]
  },
  {
   "cell_type": "code",
   "execution_count": null,
   "metadata": {},
   "outputs": [],
   "source": [
    "from pygccxml import declarations\n",
    "from pygccxml import utils\n",
    "from pygccxml import parser"
   ]
  },
  {
   "cell_type": "code",
   "execution_count": null,
   "metadata": {},
   "outputs": [],
   "source": [
    "castxml_git = expanduser(\"~/devel/CastXML\")\n",
    "castxml_file = f\"{castxml_git}/src/Output.cxx\""
   ]
  },
  {
   "cell_type": "code",
   "execution_count": null,
   "metadata": {},
   "outputs": [],
   "source": [
    "if not Config.loaded:\n",
    "    Config.set_library_file(\"/usr/lib/llvm-9/lib/libclang.so\")\n",
    "\n",
    "index = Index.create()\n",
    "t_start = time.time()\n",
    "tu = TranslationUnit.from_source(\n",
    "    filename=castxml_file,\n",
    "    index=index,\n",
    "    args=[\n",
    "        \"-I/usr/lib/llvm-9/include\",\n",
    "        f\"-I{castxml_git}/src\",\n",
    "    ],\n",
    ")\n",
    "dt = time.time() - t_start\n",
    "print(dt)  # About 3.6s"
   ]
  },
  {
   "cell_type": "code",
   "execution_count": null,
   "metadata": {},
   "outputs": [],
   "source": [
    "# See: https://github.com/llvm/llvm-project/tree/master/clang/bindings/python/examples/cindex\n",
    "def visit(f, node):\n",
    "    f(node)\n",
    "    for c in node.get_children():\n",
    "        visit(f, c)\n",
    "\n",
    "def my_func(node):\n",
    "    if node.spelling == \"hasAttr\":  \n",
    "#     if \"hasAttr\" in node.spelling:\n",
    "        print(node.spelling, node.kind, node.location)\n",
    "        tokens = tu.get_tokens(extent=node.extent)\n",
    "        print([t.spelling for t in tokens])\n",
    "\n",
    "visit(my_func, tu.cursor)"
   ]
  },
  {
   "cell_type": "code",
   "execution_count": null,
   "metadata": {},
   "outputs": [],
   "source": [
    "# Find out the c++ parser. This should resolve to the castxml\n",
    "# version installed in Docker.\n",
    "generator_path, generator_name = utils.find_xml_generator()\n",
    "\n",
    "# Configure the xml generator\n",
    "config = parser.xml_generator_configuration_t(\n",
    "    xml_generator_path=generator_path,\n",
    "    xml_generator=generator_name,\n",
    "    include_paths=[\n",
    "        \"/usr/lib/llvm-9/include\",\n",
    "        f\"{castxml_git}/src\",\n",
    "    ],\n",
    "    keep_xml = True,\n",
    "    # TODO(eric.cousineau): This doesn't work?\n",
    "    flags=[\"-Wno-unused-value\"],\n",
    ")\n",
    "cache = parser.declarations_cache.file_cache_t(\"/tmp/pygccxml_cache.pkl\")"
   ]
  },
  {
   "cell_type": "code",
   "execution_count": null,
   "metadata": {},
   "outputs": [],
   "source": [
    "t_start = time.time()\n",
    "decls = parser.parse(\n",
    "    files=[castxml_file],\n",
    "    config=config,\n",
    "    compilation_mode=parser.COMPILATION_MODE.ALL_AT_ONCE,\n",
    "    cache=cache,\n",
    ")\n",
    "dt = time.time() - t_start\n",
    "print(dt)  # 69.7s"
   ]
  },
  {
   "cell_type": "code",
   "execution_count": null,
   "metadata": {},
   "outputs": [],
   "source": [
    "cache.flush()"
   ]
  },
  {
   "cell_type": "code",
   "execution_count": null,
   "metadata": {},
   "outputs": [],
   "source": [
    "(global_ns,) = decls"
   ]
  },
  {
   "cell_type": "code",
   "execution_count": null,
   "metadata": {},
   "outputs": [],
   "source": [
    "clang = global_ns.namespace(\"clang\")"
   ]
  },
  {
   "cell_type": "code",
   "execution_count": null,
   "metadata": {},
   "outputs": [],
   "source": [
    "len(clang.classes())"
   ]
  },
  {
   "cell_type": "code",
   "execution_count": null,
   "metadata": {},
   "outputs": [],
   "source": [
    "# N.B. clang::Decl does not have \n",
    "cls = clang.class_(\"Decl\")"
   ]
  },
  {
   "cell_type": "code",
   "execution_count": null,
   "metadata": {
    "scrolled": true
   },
   "outputs": [],
   "source": [
    "declarations.print_declarations([cls])"
   ]
  },
  {
   "cell_type": "code",
   "execution_count": null,
   "metadata": {},
   "outputs": [],
   "source": [
    "for i, cls in enumerate(clang.classes()):\n",
    "    if i > 10:\n",
    "        break\n",
    "    print(cls.name)"
   ]
  },
  {
   "cell_type": "code",
   "execution_count": null,
   "metadata": {},
   "outputs": [],
   "source": [
    "# WARNING: This is wayyy slower than doing a direct query against `clang` object...\n",
    "# because it has to do some weird per-symbol parsing? Or something?\n",
    "t_start = time.time()\n",
    "global_ns.class_(\"::clang::ImportDecl\")\n",
    "dt = time.time() - t_start\n",
    "print(dt)  # 36.8s first time, then 0.75s after"
   ]
  },
  {
   "cell_type": "code",
   "execution_count": null,
   "metadata": {},
   "outputs": [],
   "source": [
    "# Cache looks super small? 14 bytes?\n",
    "cache.flush()"
   ]
  },
  {
   "cell_type": "code",
   "execution_count": null,
   "metadata": {},
   "outputs": [],
   "source": []
  }
 ],
 "metadata": {
  "kernelspec": {
   "display_name": "Python 3",
   "language": "python",
   "name": "python3"
  },
  "language_info": {
   "codemirror_mode": {
    "name": "ipython",
    "version": 3
   },
   "file_extension": ".py",
   "mimetype": "text/x-python",
   "name": "python",
   "nbconvert_exporter": "python",
   "pygments_lexer": "ipython3",
   "version": "3.6.9"
  }
 },
 "nbformat": 4,
 "nbformat_minor": 4
}
