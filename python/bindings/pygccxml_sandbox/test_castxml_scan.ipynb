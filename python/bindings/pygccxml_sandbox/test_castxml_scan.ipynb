{
 "cells": [
  {
   "cell_type": "code",
   "execution_count": null,
   "metadata": {},
   "outputs": [],
   "source": [
    "from os.path import expanduser"
   ]
  },
  {
   "cell_type": "code",
   "execution_count": null,
   "metadata": {},
   "outputs": [],
   "source": [
    "from pygccxml import declarations\n",
    "from pygccxml import utils\n",
    "from pygccxml import parser"
   ]
  },
  {
   "cell_type": "code",
   "execution_count": null,
   "metadata": {},
   "outputs": [],
   "source": [
    "# Find out the c++ parser. This should resolve to the castxml\n",
    "# version installed in Docker.\n",
    "generator_path, generator_name = utils.find_xml_generator()\n",
    "\n",
    "castxml_git = expanduser(\"~/devel/CastXML\")\n",
    "\n",
    "castxml_files = [\n",
    "    f\"{castxml_git}/src/Output.h\",\n",
    "    f\"{castxml_git}/src/Output.cxx\",\n",
    "]\n",
    "\n",
    "# Configure the xml generator\n",
    "config = parser.xml_generator_configuration_t(\n",
    "    xml_generator_path=generator_path,\n",
    "    xml_generator=generator_name,\n",
    "    include_paths=[\n",
    "        \"/usr/lib/llvm-9/include\",\n",
    "        f\"{castxml_git}/src\",\n",
    "    ],\n",
    "    keep_xml = True,\n",
    "    # TODO(eric.cousineau): This doesn't work?\n",
    "    flags=[\"-Wno-unused-value\"],\n",
    ")"
   ]
  },
  {
   "cell_type": "code",
   "execution_count": null,
   "metadata": {},
   "outputs": [],
   "source": [
    "decls = parser.parse(\n",
    "    castxml_files,\n",
    "    config,\n",
    "    compilation_mode=parser.COMPILATION_MODE.ALL_AT_ONCE,\n",
    ")"
   ]
  },
  {
   "cell_type": "code",
   "execution_count": null,
   "metadata": {},
   "outputs": [],
   "source": [
    "(global_ns,) = decls"
   ]
  },
  {
   "cell_type": "code",
   "execution_count": null,
   "metadata": {},
   "outputs": [],
   "source": [
    "clang = global_ns.namespace(\"clang\")"
   ]
  },
  {
   "cell_type": "code",
   "execution_count": null,
   "metadata": {},
   "outputs": [],
   "source": [
    "len(clang.classes())"
   ]
  },
  {
   "cell_type": "code",
   "execution_count": null,
   "metadata": {},
   "outputs": [],
   "source": [
    "cls = clang.class_(\"Decl\")"
   ]
  },
  {
   "cell_type": "code",
   "execution_count": null,
   "metadata": {},
   "outputs": [],
   "source": [
    "# WARNING: This is slowwww...\n",
    "global_ns.class_(\"::clang::ImportDecl\")"
   ]
  },
  {
   "cell_type": "code",
   "execution_count": null,
   "metadata": {},
   "outputs": [],
   "source": [
    "declarations.print_declarations([cls])"
   ]
  },
  {
   "cell_type": "code",
   "execution_count": null,
   "metadata": {},
   "outputs": [],
   "source": [
    "for i, cls in enumerate(clang.classes()):\n",
    "    if i > 100:\n",
    "        break\n",
    "    print(cls.name)"
   ]
  },
  {
   "cell_type": "code",
   "execution_count": null,
   "metadata": {},
   "outputs": [],
   "source": [
    "declarations.print_declarations([ns])"
   ]
  },
  {
   "cell_type": "code",
   "execution_count": null,
   "metadata": {},
   "outputs": [],
   "source": []
  }
 ],
 "metadata": {
  "kernelspec": {
   "display_name": "Python 3",
   "language": "python",
   "name": "python3"
  },
  "language_info": {
   "codemirror_mode": {
    "name": "ipython",
    "version": 3
   },
   "file_extension": ".py",
   "mimetype": "text/x-python",
   "name": "python",
   "nbconvert_exporter": "python",
   "pygments_lexer": "ipython3",
   "version": "3.6.9"
  }
 },
 "nbformat": 4,
 "nbformat_minor": 4
}
