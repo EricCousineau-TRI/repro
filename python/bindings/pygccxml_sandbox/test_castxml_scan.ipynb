{
 "cells": [
  {
   "cell_type": "code",
   "execution_count": null,
   "metadata": {},
   "outputs": [],
   "source": [
    "from os.path import expanduser\n",
    "import pickle\n",
    "import time"
   ]
  },
  {
   "cell_type": "code",
   "execution_count": null,
   "metadata": {},
   "outputs": [],
   "source": [
    "from clang.cindex import Index, Config, TranslationUnit"
   ]
  },
  {
   "cell_type": "code",
   "execution_count": null,
   "metadata": {},
   "outputs": [],
   "source": [
    "from pygccxml import declarations\n",
    "from pygccxml import utils\n",
    "from pygccxml import parser"
   ]
  },
  {
   "cell_type": "code",
   "execution_count": null,
   "metadata": {},
   "outputs": [],
   "source": [
    "castxml_git = expanduser(\"~/devel/CastXML\")\n",
    "castxml_file = f\"{castxml_git}/src/Output.cxx\"\n",
    "\n",
    "llvm_dir = \"/usr/lib/llvm-9\""
   ]
  },
  {
   "cell_type": "code",
   "execution_count": null,
   "metadata": {},
   "outputs": [],
   "source": [
    "if not Config.loaded:\n",
    "    Config.set_library_file(f\"{llvm_dir}/lib/libclang.so\")\n",
    "\n",
    "index = Index.create()\n",
    "\n",
    "t_start = time.time()\n",
    "tu = TranslationUnit.from_source(\n",
    "    filename=castxml_file,\n",
    "    index=index,\n",
    "    args=[\n",
    "        f\"-I{llvm_dir}/include\",\n",
    "        f\"-I{castxml_git}/src\",\n",
    "    ],\n",
    ")\n",
    "dt = time.time() - t_start\n",
    "print(dt)  # About 3.6s"
   ]
  },
  {
   "cell_type": "code",
   "execution_count": null,
   "metadata": {
    "scrolled": true
   },
   "outputs": [],
   "source": [
    "# See: https://github.com/llvm/llvm-project/tree/master/clang/bindings/python/examples/cindex\n",
    "def visit(f, node):\n",
    "    f(node)\n",
    "    for c in node.get_children():\n",
    "        visit(f, c)\n",
    "\n",
    "def my_func(node):\n",
    "    if node.spelling == \"hasAttr\":  \n",
    "#     if \"hasAttr\" in node.spelling:\n",
    "        print(node.spelling, node.kind, node.location)\n",
    "        tokens = tu.get_tokens(extent=node.extent)\n",
    "        print([t.spelling for t in tokens])\n",
    "\n",
    "visit(my_func, tu.cursor)"
   ]
  },
  {
   "cell_type": "code",
   "execution_count": null,
   "metadata": {},
   "outputs": [],
   "source": [
    "# Find out the c++ parser. This should resolve to the castxml\n",
    "# version installed in Docker.\n",
    "generator_path, generator_name = utils.find_xml_generator()\n",
    "\n",
    "# Use source version built against system llvm / libclang.\n",
    "generator_path = f\"{castxml_git}/build_sys/bin/castxml\"\n",
    "\n",
    "declarations.scopedef_t.ALLOW_EMPTY_MDECL_WRAPPER = True\n",
    "\n",
    "# Configure the xml generator\n",
    "config = parser.xml_generator_configuration_t(\n",
    "    xml_generator_path=generator_path,\n",
    "    xml_generator=generator_name,\n",
    "    include_paths=[\n",
    "        f\"{llvm_dir}/include\",\n",
    "        f\"{castxml_git}/src\",\n",
    "    ],\n",
    "    keep_xml = True,\n",
    "    # TODO(eric.cousineau): This doesn't work?\n",
    "    flags=[\"-Wno-unused-value\"],\n",
    ")\n",
    "# This is the wrong cache setup... Need to have it save to *.xml file? :(\n",
    "cache = parser.declarations_cache.file_cache_t(\"/tmp/pygccxml_cache.pkl\")"
   ]
  },
  {
   "cell_type": "code",
   "execution_count": null,
   "metadata": {},
   "outputs": [],
   "source": [
    "t_start = time.time()\n",
    "decls = parser.parse(\n",
    "    files=[castxml_file],\n",
    "    config=config,\n",
    "    compilation_mode=parser.COMPILATION_MODE.ALL_AT_ONCE,\n",
    "    cache=cache,\n",
    ")\n",
    "dt = time.time() - t_start\n",
    "print(dt)  # 69.7s"
   ]
  },
  {
   "cell_type": "code",
   "execution_count": null,
   "metadata": {},
   "outputs": [],
   "source": [
    "# # Can't dump :(\n",
    "# with open(\"/tmp/pygccxml_custom_cache.pkl\", \"w\") as f:\n",
    "#     pickle.dump(decls, f)"
   ]
  },
  {
   "cell_type": "code",
   "execution_count": null,
   "metadata": {},
   "outputs": [],
   "source": [
    "cache.flush()"
   ]
  },
  {
   "cell_type": "code",
   "execution_count": null,
   "metadata": {},
   "outputs": [],
   "source": [
    "(global_ns,) = decls\n",
    "\n",
    "t_start = time.time()\n",
    "global_ns.init_optimizer()\n",
    "dt = time.time() - t_start\n",
    "print(dt)  # 30s, but then other queries are hella fast"
   ]
  },
  {
   "cell_type": "code",
   "execution_count": null,
   "metadata": {},
   "outputs": [],
   "source": [
    "clang = global_ns.namespace(\"clang\")"
   ]
  },
  {
   "cell_type": "code",
   "execution_count": null,
   "metadata": {},
   "outputs": [],
   "source": [
    "len(clang.classes())"
   ]
  },
  {
   "cell_type": "code",
   "execution_count": null,
   "metadata": {},
   "outputs": [],
   "source": [
    "# N.B. clang::Decl does not have \n",
    "cls = clang.class_(\"Decl\")"
   ]
  },
  {
   "cell_type": "code",
   "execution_count": null,
   "metadata": {
    "scrolled": true
   },
   "outputs": [],
   "source": [
    "declarations.print_declarations([cls])"
   ]
  },
  {
   "cell_type": "code",
   "execution_count": null,
   "metadata": {},
   "outputs": [],
   "source": [
    "for i, cls in enumerate(clang.classes()):\n",
    "    if i > 10:\n",
    "        break\n",
    "    print(cls.name)"
   ]
  },
  {
   "cell_type": "code",
   "execution_count": null,
   "metadata": {},
   "outputs": [],
   "source": [
    "t_start = time.time()\n",
    "cls = global_ns.class_(\"::clang::ImportDecl\")\n",
    "dt = time.time() - t_start\n",
    "print(dt)\n",
    "# Without `init_optimizer`, 37s first time, 0.75s after.\n",
    "# With `init_optimizer`, 0.3ms!"
   ]
  },
  {
   "cell_type": "code",
   "execution_count": null,
   "metadata": {
    "scrolled": true
   },
   "outputs": [],
   "source": [
    "declarations.print_declarations(cls)"
   ]
  },
  {
   "cell_type": "code",
   "execution_count": null,
   "metadata": {},
   "outputs": [],
   "source": [
    "# Cache looks super small? 14 bytes?\n",
    "cache.flush()"
   ]
  },
  {
   "cell_type": "code",
   "execution_count": null,
   "metadata": {},
   "outputs": [],
   "source": []
  }
 ],
 "metadata": {
  "kernelspec": {
   "display_name": "Python 3",
   "language": "python",
   "name": "python3"
  },
  "language_info": {
   "codemirror_mode": {
    "name": "ipython",
    "version": 3
   },
   "file_extension": ".py",
   "mimetype": "text/x-python",
   "name": "python",
   "nbconvert_exporter": "python",
   "pygments_lexer": "ipython3",
   "version": "3.6.9"
  }
 },
 "nbformat": 4,
 "nbformat_minor": 4
}
