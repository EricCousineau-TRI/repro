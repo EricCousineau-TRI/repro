{
 "cells": [
  {
   "cell_type": "code",
   "execution_count": null,
   "metadata": {},
   "outputs": [],
   "source": [
    "import cppyy"
   ]
  },
  {
   "cell_type": "code",
   "execution_count": null,
   "metadata": {},
   "outputs": [],
   "source": [
    "# See: https://bitbucket.org/wlav/cppyy/issues/254/unable-to-include-clang-ast-stmth-from"
   ]
  },
  {
   "cell_type": "code",
   "execution_count": null,
   "metadata": {},
   "outputs": [],
   "source": [
    "cppyy.cppdef(\"\"\"\n",
    "namespace temporary {\n",
    "const int cplusplus = __cplusplus;\n",
    "const int clang_major = __clang_major__;\n",
    "const int clang_minor = __clang_minor__;\n",
    "}\n",
    "\"\"\")"
   ]
  },
  {
   "cell_type": "code",
   "execution_count": null,
   "metadata": {},
   "outputs": [],
   "source": [
    "tmp = cppyy.gbl.temporary\n",
    "print(tmp.cplusplus, tmp.clang_major, tmp.clang_minor)\n",
    "assert tmp.cplusplus >= 201700\n",
    "# :(\n",
    "# assert tmp.clang_major >= 9\n",
    "# assert tmp.clang_minor >= 9"
   ]
  },
  {
   "cell_type": "code",
   "execution_count": null,
   "metadata": {},
   "outputs": [],
   "source": [
    "llvm_dir = \"/usr/lib/llvm-9\"\n",
    "cppyy.add_include_path(f\"{llvm_dir}/include\")\n",
    "cppyy.load_library(f\"{llvm_dir}/lib/libclang-cpp.so\")"
   ]
  },
  {
   "cell_type": "code",
   "execution_count": null,
   "metadata": {},
   "outputs": [],
   "source": [
    "# Fails :(\n",
    "cppyy.include(\"clang/AST/Stmt.h\")"
   ]
  }
 ],
 "metadata": {
  "kernelspec": {
   "display_name": "Python 3",
   "language": "python",
   "name": "python3"
  },
  "language_info": {
   "codemirror_mode": {
    "name": "ipython",
    "version": 3
   },
   "file_extension": ".py",
   "mimetype": "text/x-python",
   "name": "python",
   "nbconvert_exporter": "python",
   "pygments_lexer": "ipython3",
   "version": "3.6.9"
  }
 },
 "nbformat": 4,
 "nbformat_minor": 4
}
