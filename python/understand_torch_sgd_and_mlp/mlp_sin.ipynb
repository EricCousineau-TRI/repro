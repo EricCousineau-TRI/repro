{
 "cells": [
  {
   "cell_type": "code",
   "execution_count": 1,
   "id": "other-matter",
   "metadata": {},
   "outputs": [],
   "source": [
    "from collections import OrderedDict\n",
    "from contextlib import contextmanager\n",
    "import random\n",
    "\n",
    "# TODO(eric.cousineau): Use tensorboard in notebook.\n",
    "import matplotlib.pyplot as plt\n",
    "import numpy as np\n",
    "import pandas as pd\n",
    "import torch\n",
    "from torch import nn\n",
    "from torch.utils.data import DataLoader"
   ]
  },
  {
   "cell_type": "code",
   "execution_count": 2,
   "id": "independent-recipe",
   "metadata": {},
   "outputs": [],
   "source": [
    "import torch.nn.functional as F"
   ]
  },
  {
   "cell_type": "code",
   "execution_count": 3,
   "id": "european-gossip",
   "metadata": {},
   "outputs": [],
   "source": [
    "pd.options.display.max_rows = 1000\n",
    "pd.options.display.max_colwidth = 1000"
   ]
  },
  {
   "cell_type": "code",
   "execution_count": 4,
   "id": "finished-myanmar",
   "metadata": {},
   "outputs": [],
   "source": [
    "def zero_grad(p):\n",
    "    if p.grad is not None:\n",
    "        p.grad.zero_()"
   ]
  },
  {
   "cell_type": "code",
   "execution_count": 5,
   "id": "excited-maryland",
   "metadata": {},
   "outputs": [],
   "source": [
    "def l1_loss(y, yh):\n",
    "    return torch.mean(torch.abs(y - yh))\n",
    "\n",
    "def mse_loss(y, yh):\n",
    "    return torch.mean((y - yh)**2)"
   ]
  },
  {
   "cell_type": "code",
   "execution_count": 6,
   "id": "revised-mortgage",
   "metadata": {},
   "outputs": [],
   "source": [
    "def flat_cat_detached(ps):\n",
    "    return torch.cat([p.detach().view(-1) for p in ps])"
   ]
  },
  {
   "cell_type": "code",
   "execution_count": 7,
   "id": "irish-gathering",
   "metadata": {},
   "outputs": [],
   "source": [
    "class SequentialDict(nn.Sequential):\n",
    "    \"\"\"\n",
    "    We must use OrderedDict because otherwise pytorch will sort the keys... I think?\n",
    "    https://discuss.pytorch.org/t/append-for-nn-sequential-or-directly-converting-nn-modulelist-to-nn-sequential/7104/4\n",
    "    https://github.com/pytorch/pytorch/pull/40905\n",
    "    \"\"\"\n",
    "    def __init__(self, *args, **kwargs):\n",
    "        super().__init__(OrderedDict(*args, **kwargs))"
   ]
  },
  {
   "cell_type": "code",
   "execution_count": 8,
   "id": "assumed-niagara",
   "metadata": {},
   "outputs": [],
   "source": [
    "def seed(value):\n",
    "    random.seed(value)\n",
    "    np.random.seed(value)\n",
    "    torch.manual_seed(value)"
   ]
  },
  {
   "cell_type": "code",
   "execution_count": 9,
   "id": "mounted-prototype",
   "metadata": {},
   "outputs": [],
   "source": [
    "class MLP(nn.Module):\n",
    "    \"\"\"Simple Multi-Layer Perceptron.\"\"\"\n",
    "    def __init__(\n",
    "        self,\n",
    "        num_inputs,\n",
    "        num_outputs,\n",
    "        *,\n",
    "        num_hidden_units,\n",
    "        num_layers,\n",
    "        activation_cls,\n",
    "    ):\n",
    "        super().__init__()\n",
    "        assert num_layers >= 2\n",
    "        self.layers = SequentialDict()\n",
    "        self.layers.input = SequentialDict(\n",
    "            fcn=nn.Linear(num_inputs, num_hidden_units),\n",
    "            activation=activation_cls(),\n",
    "        )\n",
    "        hidden = []\n",
    "        for i in range(num_layers - 2):\n",
    "            hidden.append(SequentialDict(\n",
    "                fcn=nn.Linear(num_hidden_units, num_hidden_units),\n",
    "                activation=activation_cls(),\n",
    "            ))\n",
    "        self.layers.hidden = nn.Sequential(*hidden)\n",
    "        self.layers.output = SequentialDict(\n",
    "            fcn=nn.Linear(num_hidden_units, num_outputs)\n",
    "        )\n",
    "\n",
    "    def forward(self, x):\n",
    "        return self.layers(x)"
   ]
  },
  {
   "cell_type": "code",
   "execution_count": 10,
   "id": "rubber-sight",
   "metadata": {},
   "outputs": [],
   "source": [
    "# Derived from this kinda goal: https://towardsdatascience.com/how-to-visualize-convolutional-features-in-40-lines-of-code-70b7d87b0030\n",
    "class SaveActivations:\n",
    "    def __init__(self):\n",
    "        self.y = None\n",
    "\n",
    "    def forward_hook(self, module, x, y):\n",
    "        self.y = y.detach()\n",
    "\n",
    "@contextmanager\n",
    "def save_activations(module, cls):\n",
    "    savers = []\n",
    "    hooks = []\n",
    "    for m in module.modules():\n",
    "        if isinstance(m, cls):\n",
    "            saver = SaveActivations()\n",
    "            hook = m.register_forward_hook(saver.forward_hook)\n",
    "            savers.append(saver)\n",
    "            hooks.append(hook)\n",
    "    assert len(hooks) > 0\n",
    "    yield savers\n",
    "    for hook in hooks:\n",
    "        hook.remove()\n",
    "\n",
    "def compute_activation_ratios(savers, clear=True):\n",
    "    activation_ratios = []\n",
    "    for saver in savers:\n",
    "        assert saver.y is not None\n",
    "        activated = (saver.y > 0)\n",
    "        assert activated.ndim > 1\n",
    "        N = activated.shape[0]\n",
    "        assert N > 1 # BESPOKE DBG HACK!!\n",
    "        # reduce along batch dimension using \"or\" (we want all act. at least somewhere in data)\n",
    "        # dunno how to do batch sum along \n",
    "        activated_reduce = torch.sum(activated.to(torch.int), axis=0).to(torch.bool)\n",
    "        activation_ratios.append(activated_reduce.to(torch.float).mean())\n",
    "        if clear:\n",
    "            saver.y = None\n",
    "    return torch.tensor(activation_ratios)"
   ]
  },
  {
   "cell_type": "code",
   "execution_count": 11,
   "id": "induced-punishment",
   "metadata": {},
   "outputs": [
    {
     "data": {
      "image/png": "[encoded data removed]",
      "text/plain": [
       "<Figure size 432x288 with 1 Axes>"
      ]
     },
     "metadata": {
      "needs_background": "light"
     },
     "output_type": "display_data"
    }
   ],
   "source": [
    "# I feel like an eediot.\n",
    "@torch.no_grad()\n",
    "def plot_pwa_via_relu():\n",
    "    t = torch.linspace(0, 4, 5)\n",
    "    y = F.relu(t) - 2 * F.relu(t - 1) + 2 * F.relu(t - 3)\n",
    "    plt.plot(t.numpy(), y.numpy(), linewidth=3)\n",
    "    \n",
    "    fc1 = nn.Linear(1, 3)\n",
    "    fc1.weight[:] = torch.tensor([1, 1, 1]).unsqueeze(-1)\n",
    "    fc1.bias[:] = torch.tensor([0, -1, -3])\n",
    "    act1 = nn.ReLU()\n",
    "    fc2 = nn.Linear(3, 1, bias=False)\n",
    "    fc2.weight[:] = torch.tensor([1, -2, 2])\n",
    "    \n",
    "    yh = t.unsqueeze(-1)\n",
    "    yh = fc1(yh)\n",
    "    yh = act1(yh)\n",
    "    yh = fc2(yh)\n",
    "    plt.plot(t.numpy(), yh.numpy(), linewidth=2, linestyle=\"--\")\n",
    "\n",
    "plot_pwa_via_relu()"
   ]
  },
  {
   "cell_type": "code",
   "execution_count": 12,
   "id": "private-validation",
   "metadata": {},
   "outputs": [],
   "source": [
    "# # Parameters.\n",
    "# amplitude = 1.0\n",
    "# period_sec = 1.0\n",
    "# shift_sec = 0.0\n",
    "# num_periods = 1.0\n",
    "# dt = 0.1\n",
    "# count_per_period = int(np.ceil(period_sec / dt))\n",
    "# count = num_periods * count_per_period\n",
    "\n",
    "with torch.no_grad():\n",
    "    # t = torch.arange(count) * dt\n",
    "    t = torch.linspace(0, 4.0, 9)\n",
    "\n",
    "# def waveform(t):\n",
    "#     omega = 2 * np.pi / period_sec\n",
    "#     x = omega * (t + shift_sec)\n",
    "#     return amplitude * torch.sin(x)\n",
    "\n",
    "# def waveform(t):\n",
    "#     c = 2.0\n",
    "#     return c * t\n",
    "\n",
    "def waveform(t):\n",
    "    # Simple sawtooth wave.\n",
    "    y = F.relu(t) - 2 * F.relu(t - 1) + 2 * F.relu(t - 3)\n",
    "    return y"
   ]
  },
  {
   "cell_type": "code",
   "execution_count": 13,
   "id": "valued-distance",
   "metadata": {},
   "outputs": [
    {
     "data": {
      "text/plain": [
       "[<matplotlib.lines.Line2D at 0x7f11ba78f3c8>]"
      ]
     },
     "execution_count": 13,
     "metadata": {},
     "output_type": "execute_result"
    },
    {
     "data": {
      "image/png": "[encoded data removed]",
      "text/plain": [
       "<Figure size 432x288 with 1 Axes>"
      ]
     },
     "metadata": {
      "needs_background": "light"
     },
     "output_type": "display_data"
    }
   ],
   "source": [
    "plt.plot(t.numpy(), waveform(t).detach().numpy(), 'x')"
   ]
  },
  {
   "cell_type": "code",
   "execution_count": 14,
   "id": "excess-spank",
   "metadata": {},
   "outputs": [],
   "source": [
    "@torch.no_grad()\n",
    "def gt_model():\n",
    "    # Represent sawtooth w/ simple (but not unique) MLP.\n",
    "    model = MLP(num_inputs=1, num_outputs=1, num_hidden_units=3, num_layers=3, activation_cls=nn.ReLU)\n",
    "    model.layers.input.fcn.weight[:] = torch.tensor([1, 1, 1]).unsqueeze(-1)\n",
    "    model.layers.input.fcn.bias[:] = torch.zeros(3)\n",
    "    model.layers.hidden[0].fcn.weight[:] = torch.eye(3)\n",
    "    model.layers.hidden[0].fcn.bias[:] = torch.tensor([0, -1, -3])\n",
    "    model.layers.output.fcn.weight[:] = torch.tensor([[1, -2, 2]])\n",
    "    model.layers.output.fcn.bias[:] = torch.zeros(1)\n",
    "    return model"
   ]
  },
  {
   "cell_type": "code",
   "execution_count": 15,
   "id": "afraid-infrastructure",
   "metadata": {},
   "outputs": [],
   "source": [
    "@torch.no_grad()\n",
    "def perturb(model, noise):\n",
    "    seed(0)\n",
    "    for p in model.parameters():\n",
    "        p += torch.normal(torch.zeros_like(p), noise)\n",
    "    return model"
   ]
  },
  {
   "cell_type": "code",
   "execution_count": 16,
   "id": "particular-service",
   "metadata": {
    "tags": []
   },
   "outputs": [],
   "source": [
    "@torch.no_grad()\n",
    "def plot_model(model):\n",
    "    y = model(t.unsqueeze(-1))\n",
    "    plt.plot(t.numpy(), y.numpy())"
   ]
  },
  {
   "cell_type": "code",
   "execution_count": 17,
   "id": "geological-width",
   "metadata": {
    "tags": []
   },
   "outputs": [
    {
     "data": {
      "image/png": "[encoded data removed]",
      "text/plain": [
       "<Figure size 432x288 with 1 Axes>"
      ]
     },
     "metadata": {
      "needs_background": "light"
     },
     "output_type": "display_data"
    }
   ],
   "source": [
    "plot_model(gt_model())\n",
    "plot_model(perturb(gt_model(), 0.05))"
   ]
  },
  {
   "cell_type": "code",
   "execution_count": 18,
   "id": "underlying-tackle",
   "metadata": {},
   "outputs": [],
   "source": [
    "def rel_mean_abs(x, tol=torch.tensor(1e-8)):\n",
    "    xa = x.abs()\n",
    "    xa_div = torch.fmax(xa.max(), tol)\n",
    "    xa_mean = xa.mean()\n",
    "    return xa_mean / xa_div\n",
    "\n",
    "def mean_abs(x):\n",
    "    return x.abs().mean()"
   ]
  },
  {
   "cell_type": "code",
   "execution_count": 19,
   "id": "unnecessary-english",
   "metadata": {},
   "outputs": [],
   "source": [
    "def fit(model, loss_fn=mse_loss, lr=0.5, t=t, num_epochs=3, batch_size=None):\n",
    "    model.train()\n",
    "    # Expected param + labeled dataset.\n",
    "    t = t.unsqueeze(-1)\n",
    "    y = waveform(t)\n",
    "\n",
    "    dataset = list(zip(t, y))\n",
    "    if batch_size is None:\n",
    "        # Go from SGD to simple GD.\n",
    "        batch_size = len(dataset)\n",
    "    loader = DataLoader(dataset, batch_size=batch_size)\n",
    "\n",
    "    # Logging\n",
    "    dfs = []\n",
    "\n",
    "    activation_cls_set = (\n",
    "        nn.ReLU,\n",
    "        nn.Sigmoid,\n",
    "    )\n",
    "    \n",
    "    with save_activations(model, activation_cls_set) as savers:\n",
    "        \n",
    "        def simple_log(epoch, batch_idx):\n",
    "            # Show err.\n",
    "            activation_ratios = compute_activation_ratios(savers).numpy()\n",
    "            activation_ratios_str = \", \".join([f\"{x:.2f}\" for x in activation_ratios])\n",
    "            dp = p - p_prev\n",
    "            dfs.append(pd.DataFrame(\n",
    "                {\n",
    "                    \"epoch\": epoch,\n",
    "                    \"batch_idx\": batch_idx,\n",
    "                    \"mean|p|\": mean_abs(p).detach().numpy(),\n",
    "                    \"mean|Δp|\": mean_abs(dp).numpy(),\n",
    "                    \"loss\": loss.detach().numpy(),\n",
    "                    \"activation_ratios\": activation_ratios_str,\n",
    "                },\n",
    "                index=[len(dfs)],\n",
    "            ))\n",
    "\n",
    "        params = list(model.parameters())  # this is iter\n",
    "        p = flat_cat_detached(params)\n",
    "        print(f\"Num param: {len(p)}\")\n",
    "        print(f\"Num data: {len(y)}\")\n",
    "        p_prev = p.clone()\n",
    "        with torch.no_grad():\n",
    "            yh0 = model(t)\n",
    "            loss = loss_fn(y, yh0)\n",
    "        simple_log(epoch=\"pre-opt\", batch_idx=\"n/a\")\n",
    "\n",
    "        for epoch in range(num_epochs):\n",
    "            for batch_idx, (ti, yi) in enumerate(loader):\n",
    "                zero_grad(p)\n",
    "                yhi = model(ti)\n",
    "                loss = loss_fn(yi, yhi)\n",
    "                loss.backward()\n",
    "\n",
    "                # SGD update, no momentum.\n",
    "                with torch.no_grad():\n",
    "                    for param in params:\n",
    "                        v = param.grad  # velocity\n",
    "                        param -= lr * v  # step\n",
    "\n",
    "                # Validation.\n",
    "                # TODO(eric): Activation tracking across minibatches is weird.\n",
    "                # For now, should be OK w/ batch_size=len(dataset).\n",
    "                p = flat_cat_detached(params)\n",
    "                simple_log(epoch, batch_idx)\n",
    "                p_prev = p\n",
    "\n",
    "    with torch.no_grad():\n",
    "        yhf = model(t)\n",
    "    plt.plot(t.numpy(), y.numpy(), linewidth=3, linestyle=\"--\", color=\"g\")\n",
    "    plt.plot(t.numpy(), yhf.numpy(), color=\"k\")\n",
    "    plt.show()\n",
    "    print(loss_fn)\n",
    "    display(pd.concat(dfs))"
   ]
  },
  {
   "cell_type": "code",
   "execution_count": 20,
   "id": "built-fifty",
   "metadata": {},
   "outputs": [],
   "source": [
    "@torch.no_grad()\n",
    "def bespoke_init_param(p):\n",
    "#     values = torch.linspace(-1.0, 1.0, p.numel())\n",
    "    values = []\n",
    "    for i in range(p.numel()):\n",
    "        i += 2\n",
    "        x = 2 * (i % 2) - 1\n",
    "        x *= (i // 2)\n",
    "        values.append(x)\n",
    "    print(values)\n",
    "    p[:] = torch.tensor(values).reshape(p.shape)\n",
    "\n",
    "@torch.no_grad()\n",
    "def bespoke_init(model):\n",
    "    for m in model.modules():\n",
    "        if isinstance(m, nn.Linear):\n",
    "            bespoke_init_param(m.weight)\n",
    "            bespoke_init_param(m.bias)\n",
    "    model.layers.input.fcn.weight[:] = 1\n",
    "    model.layers.input.fcn.bias[:] = 0.0"
   ]
  },
  {
   "cell_type": "code",
   "execution_count": 21,
   "id": "considered-brunei",
   "metadata": {},
   "outputs": [],
   "source": [
    "def make_model():\n",
    "    seed(0)\n",
    "    model = MLP(1, 1, num_hidden_units=6, num_layers=3, activation_cls=nn.ReLU)\n",
    "#     bespoke_init(model)\n",
    "    return model"
   ]
  },
  {
   "cell_type": "code",
   "execution_count": 22,
   "id": "elder-holmes",
   "metadata": {},
   "outputs": [
    {
     "data": {
      "image/png": "[encoded data removed]",
      "text/plain": [
       "<Figure size 432x288 with 1 Axes>"
      ]
     },
     "metadata": {
      "needs_background": "light"
     },
     "output_type": "display_data"
    }
   ],
   "source": [
    "plot_model(make_model())"
   ]
  },
  {
   "cell_type": "code",
   "execution_count": 23,
   "id": "broad-remark",
   "metadata": {},
   "outputs": [
    {
     "name": "stdout",
     "output_type": "stream",
     "text": [
      "Num param: 22\n",
      "Num data: 9\n"
     ]
    },
    {
     "data": {
      "image/png": "[encoded data removed]",
      "text/plain": [
       "<Figure size 432x288 with 1 Axes>"
      ]
     },
     "metadata": {
      "needs_background": "light"
     },
     "output_type": "display_data"
    },
    {
     "name": "stdout",
     "output_type": "stream",
     "text": [
      "<function mse_loss at 0x7f11c2910510>\n"
     ]
    },
    {
     "data": {
      "text/html": [
       "<div>\n",
       "<style scoped>\n",
       "    .dataframe tbody tr th:only-of-type {\n",
       "        vertical-align: middle;\n",
       "    }\n",
       "\n",
       "    .dataframe tbody tr th {\n",
       "        vertical-align: top;\n",
       "    }\n",
       "\n",
       "    .dataframe thead th {\n",
       "        text-align: right;\n",
       "    }\n",
       "</style>\n",
       "<table border=\"1\" class=\"dataframe\">\n",
       "  <thead>\n",
       "    <tr style=\"text-align: right;\">\n",
       "      <th></th>\n",
       "      <th>epoch</th>\n",
       "      <th>batch_idx</th>\n",
       "      <th>mean|p|</th>\n",
       "      <th>mean|Δp|</th>\n",
       "      <th>loss</th>\n",
       "      <th>activation_ratios</th>\n",
       "    </tr>\n",
       "  </thead>\n",
       "  <tbody>\n",
       "    <tr>\n",
       "      <th>0</th>\n",
       "      <td>pre-opt</td>\n",
       "      <td>n/a</td>\n",
       "      <td>0.681818</td>\n",
       "      <td>0.0</td>\n",
       "      <td>0.0</td>\n",
       "      <td>1.00, 1.00</td>\n",
       "    </tr>\n",
       "    <tr>\n",
       "      <th>1</th>\n",
       "      <td>0</td>\n",
       "      <td>0</td>\n",
       "      <td>0.681818</td>\n",
       "      <td>0.0</td>\n",
       "      <td>0.0</td>\n",
       "      <td>1.00, 1.00</td>\n",
       "    </tr>\n",
       "    <tr>\n",
       "      <th>2</th>\n",
       "      <td>1</td>\n",
       "      <td>0</td>\n",
       "      <td>0.681818</td>\n",
       "      <td>0.0</td>\n",
       "      <td>0.0</td>\n",
       "      <td>1.00, 1.00</td>\n",
       "    </tr>\n",
       "    <tr>\n",
       "      <th>3</th>\n",
       "      <td>2</td>\n",
       "      <td>0</td>\n",
       "      <td>0.681818</td>\n",
       "      <td>0.0</td>\n",
       "      <td>0.0</td>\n",
       "      <td>1.00, 1.00</td>\n",
       "    </tr>\n",
       "  </tbody>\n",
       "</table>\n",
       "</div>"
      ],
      "text/plain": [
       "     epoch batch_idx   mean|p|  mean|Δp|  loss activation_ratios\n",
       "0  pre-opt       n/a  0.681818       0.0   0.0        1.00, 1.00\n",
       "1        0         0  0.681818       0.0   0.0        1.00, 1.00\n",
       "2        1         0  0.681818       0.0   0.0        1.00, 1.00\n",
       "3        2         0  0.681818       0.0   0.0        1.00, 1.00"
      ]
     },
     "metadata": {},
     "output_type": "display_data"
    }
   ],
   "source": [
    "# Sanity check against gt.\n",
    "fit(gt_model())"
   ]
  },
  {
   "cell_type": "code",
   "execution_count": 24,
   "id": "supreme-payroll",
   "metadata": {},
   "outputs": [
    {
     "name": "stdout",
     "output_type": "stream",
     "text": [
      "Num param: 22\n",
      "Num data: 9\n"
     ]
    },
    {
     "data": {
      "image/png": "[encoded data removed]",
      "text/plain": [
       "<Figure size 432x288 with 1 Axes>"
      ]
     },
     "metadata": {
      "needs_background": "light"
     },
     "output_type": "display_data"
    },
    {
     "name": "stdout",
     "output_type": "stream",
     "text": [
      "<function mse_loss at 0x7f11c2910510>\n"
     ]
    },
    {
     "data": {
      "text/html": [
       "<div>\n",
       "<style scoped>\n",
       "    .dataframe tbody tr th:only-of-type {\n",
       "        vertical-align: middle;\n",
       "    }\n",
       "\n",
       "    .dataframe tbody tr th {\n",
       "        vertical-align: top;\n",
       "    }\n",
       "\n",
       "    .dataframe thead th {\n",
       "        text-align: right;\n",
       "    }\n",
       "</style>\n",
       "<table border=\"1\" class=\"dataframe\">\n",
       "  <thead>\n",
       "    <tr style=\"text-align: right;\">\n",
       "      <th></th>\n",
       "      <th>epoch</th>\n",
       "      <th>batch_idx</th>\n",
       "      <th>mean|p|</th>\n",
       "      <th>mean|Δp|</th>\n",
       "      <th>loss</th>\n",
       "      <th>activation_ratios</th>\n",
       "    </tr>\n",
       "  </thead>\n",
       "  <tbody>\n",
       "    <tr>\n",
       "      <th>0</th>\n",
       "      <td>pre-opt</td>\n",
       "      <td>n/a</td>\n",
       "      <td>0.685325</td>\n",
       "      <td>0.000000</td>\n",
       "      <td>0.008283</td>\n",
       "      <td>1.00, 1.00</td>\n",
       "    </tr>\n",
       "    <tr>\n",
       "      <th>1</th>\n",
       "      <td>0</td>\n",
       "      <td>0</td>\n",
       "      <td>0.685329</td>\n",
       "      <td>0.000130</td>\n",
       "      <td>0.008283</td>\n",
       "      <td>1.00, 1.00</td>\n",
       "    </tr>\n",
       "    <tr>\n",
       "      <th>2</th>\n",
       "      <td>1</td>\n",
       "      <td>0</td>\n",
       "      <td>0.685337</td>\n",
       "      <td>0.000257</td>\n",
       "      <td>0.007690</td>\n",
       "      <td>1.00, 1.00</td>\n",
       "    </tr>\n",
       "    <tr>\n",
       "      <th>3</th>\n",
       "      <td>2</td>\n",
       "      <td>0</td>\n",
       "      <td>0.685347</td>\n",
       "      <td>0.000376</td>\n",
       "      <td>0.006594</td>\n",
       "      <td>1.00, 1.00</td>\n",
       "    </tr>\n",
       "    <tr>\n",
       "      <th>4</th>\n",
       "      <td>3</td>\n",
       "      <td>0</td>\n",
       "      <td>0.685359</td>\n",
       "      <td>0.000484</td>\n",
       "      <td>0.005156</td>\n",
       "      <td>1.00, 1.00</td>\n",
       "    </tr>\n",
       "    <tr>\n",
       "      <th>5</th>\n",
       "      <td>4</td>\n",
       "      <td>0</td>\n",
       "      <td>0.685371</td>\n",
       "      <td>0.000575</td>\n",
       "      <td>0.003586</td>\n",
       "      <td>1.00, 1.00</td>\n",
       "    </tr>\n",
       "    <tr>\n",
       "      <th>6</th>\n",
       "      <td>5</td>\n",
       "      <td>0</td>\n",
       "      <td>0.685399</td>\n",
       "      <td>0.000646</td>\n",
       "      <td>0.002113</td>\n",
       "      <td>1.00, 1.00</td>\n",
       "    </tr>\n",
       "    <tr>\n",
       "      <th>7</th>\n",
       "      <td>6</td>\n",
       "      <td>0</td>\n",
       "      <td>0.685445</td>\n",
       "      <td>0.000693</td>\n",
       "      <td>0.000952</td>\n",
       "      <td>1.00, 1.00</td>\n",
       "    </tr>\n",
       "    <tr>\n",
       "      <th>8</th>\n",
       "      <td>7</td>\n",
       "      <td>0</td>\n",
       "      <td>0.685595</td>\n",
       "      <td>0.000713</td>\n",
       "      <td>0.000276</td>\n",
       "      <td>1.00, 1.00</td>\n",
       "    </tr>\n",
       "    <tr>\n",
       "      <th>9</th>\n",
       "      <td>8</td>\n",
       "      <td>0</td>\n",
       "      <td>0.685863</td>\n",
       "      <td>0.000719</td>\n",
       "      <td>0.000131</td>\n",
       "      <td>1.00, 1.00</td>\n",
       "    </tr>\n",
       "    <tr>\n",
       "      <th>10</th>\n",
       "      <td>9</td>\n",
       "      <td>0</td>\n",
       "      <td>0.686118</td>\n",
       "      <td>0.000710</td>\n",
       "      <td>0.000427</td>\n",
       "      <td>1.00, 1.00</td>\n",
       "    </tr>\n",
       "  </tbody>\n",
       "</table>\n",
       "</div>"
      ],
      "text/plain": [
       "      epoch batch_idx   mean|p|  mean|Δp|      loss activation_ratios\n",
       "0   pre-opt       n/a  0.685325  0.000000  0.008283        1.00, 1.00\n",
       "1         0         0  0.685329  0.000130  0.008283        1.00, 1.00\n",
       "2         1         0  0.685337  0.000257  0.007690        1.00, 1.00\n",
       "3         2         0  0.685347  0.000376  0.006594        1.00, 1.00\n",
       "4         3         0  0.685359  0.000484  0.005156        1.00, 1.00\n",
       "5         4         0  0.685371  0.000575  0.003586        1.00, 1.00\n",
       "6         5         0  0.685399  0.000646  0.002113        1.00, 1.00\n",
       "7         6         0  0.685445  0.000693  0.000952        1.00, 1.00\n",
       "8         7         0  0.685595  0.000713  0.000276        1.00, 1.00\n",
       "9         8         0  0.685863  0.000719  0.000131        1.00, 1.00\n",
       "10        9         0  0.686118  0.000710  0.000427        1.00, 1.00"
      ]
     },
     "metadata": {},
     "output_type": "display_data"
    }
   ],
   "source": [
    "# Perturb a bit.\n",
    "fit(perturb(gt_model(), 0.01), lr=0.001, num_epochs=10)"
   ]
  },
  {
   "cell_type": "code",
   "execution_count": 25,
   "id": "protected-jonathan",
   "metadata": {},
   "outputs": [
    {
     "name": "stdout",
     "output_type": "stream",
     "text": [
      "Num param: 22\n",
      "Num data: 9\n"
     ]
    },
    {
     "data": {
      "image/png": "[encoded data removed]",
      "text/plain": [
       "<Figure size 432x288 with 1 Axes>"
      ]
     },
     "metadata": {
      "needs_background": "light"
     },
     "output_type": "display_data"
    },
    {
     "name": "stdout",
     "output_type": "stream",
     "text": [
      "<function mse_loss at 0x7f11c2910510>\n"
     ]
    },
    {
     "data": {
      "text/html": [
       "<div>\n",
       "<style scoped>\n",
       "    .dataframe tbody tr th:only-of-type {\n",
       "        vertical-align: middle;\n",
       "    }\n",
       "\n",
       "    .dataframe tbody tr th {\n",
       "        vertical-align: top;\n",
       "    }\n",
       "\n",
       "    .dataframe thead th {\n",
       "        text-align: right;\n",
       "    }\n",
       "</style>\n",
       "<table border=\"1\" class=\"dataframe\">\n",
       "  <thead>\n",
       "    <tr style=\"text-align: right;\">\n",
       "      <th></th>\n",
       "      <th>epoch</th>\n",
       "      <th>batch_idx</th>\n",
       "      <th>mean|p|</th>\n",
       "      <th>mean|Δp|</th>\n",
       "      <th>loss</th>\n",
       "      <th>activation_ratios</th>\n",
       "    </tr>\n",
       "  </thead>\n",
       "  <tbody>\n",
       "    <tr>\n",
       "      <th>0</th>\n",
       "      <td>pre-opt</td>\n",
       "      <td>n/a</td>\n",
       "      <td>0.699354</td>\n",
       "      <td>0.000000</td>\n",
       "      <td>0.198774</td>\n",
       "      <td>1.00, 1.00</td>\n",
       "    </tr>\n",
       "    <tr>\n",
       "      <th>1</th>\n",
       "      <td>0</td>\n",
       "      <td>0</td>\n",
       "      <td>0.699287</td>\n",
       "      <td>0.000630</td>\n",
       "      <td>0.198774</td>\n",
       "      <td>1.00, 1.00</td>\n",
       "    </tr>\n",
       "    <tr>\n",
       "      <th>2</th>\n",
       "      <td>1</td>\n",
       "      <td>0</td>\n",
       "      <td>0.699166</td>\n",
       "      <td>0.001184</td>\n",
       "      <td>0.188585</td>\n",
       "      <td>1.00, 1.00</td>\n",
       "    </tr>\n",
       "    <tr>\n",
       "      <th>3</th>\n",
       "      <td>2</td>\n",
       "      <td>0</td>\n",
       "      <td>0.699009</td>\n",
       "      <td>0.001605</td>\n",
       "      <td>0.172543</td>\n",
       "      <td>1.00, 1.00</td>\n",
       "    </tr>\n",
       "    <tr>\n",
       "      <th>4</th>\n",
       "      <td>3</td>\n",
       "      <td>0</td>\n",
       "      <td>0.698877</td>\n",
       "      <td>0.002039</td>\n",
       "      <td>0.153648</td>\n",
       "      <td>1.00, 1.00</td>\n",
       "    </tr>\n",
       "    <tr>\n",
       "      <th>5</th>\n",
       "      <td>4</td>\n",
       "      <td>0</td>\n",
       "      <td>0.698779</td>\n",
       "      <td>0.002396</td>\n",
       "      <td>0.119777</td>\n",
       "      <td>1.00, 1.00</td>\n",
       "    </tr>\n",
       "    <tr>\n",
       "      <th>6</th>\n",
       "      <td>5</td>\n",
       "      <td>0</td>\n",
       "      <td>0.698757</td>\n",
       "      <td>0.002689</td>\n",
       "      <td>0.080718</td>\n",
       "      <td>1.00, 1.00</td>\n",
       "    </tr>\n",
       "    <tr>\n",
       "      <th>7</th>\n",
       "      <td>6</td>\n",
       "      <td>0</td>\n",
       "      <td>0.698856</td>\n",
       "      <td>0.002937</td>\n",
       "      <td>0.043971</td>\n",
       "      <td>1.00, 1.00</td>\n",
       "    </tr>\n",
       "    <tr>\n",
       "      <th>8</th>\n",
       "      <td>7</td>\n",
       "      <td>0</td>\n",
       "      <td>0.699224</td>\n",
       "      <td>0.003144</td>\n",
       "      <td>0.017921</td>\n",
       "      <td>1.00, 1.00</td>\n",
       "    </tr>\n",
       "    <tr>\n",
       "      <th>9</th>\n",
       "      <td>8</td>\n",
       "      <td>0</td>\n",
       "      <td>0.700177</td>\n",
       "      <td>0.003291</td>\n",
       "      <td>0.007678</td>\n",
       "      <td>1.00, 1.00</td>\n",
       "    </tr>\n",
       "    <tr>\n",
       "      <th>10</th>\n",
       "      <td>9</td>\n",
       "      <td>0</td>\n",
       "      <td>0.701321</td>\n",
       "      <td>0.003412</td>\n",
       "      <td>0.013490</td>\n",
       "      <td>1.00, 1.00</td>\n",
       "    </tr>\n",
       "  </tbody>\n",
       "</table>\n",
       "</div>"
      ],
      "text/plain": [
       "      epoch batch_idx   mean|p|  mean|Δp|      loss activation_ratios\n",
       "0   pre-opt       n/a  0.699354  0.000000  0.198774        1.00, 1.00\n",
       "1         0         0  0.699287  0.000630  0.198774        1.00, 1.00\n",
       "2         1         0  0.699166  0.001184  0.188585        1.00, 1.00\n",
       "3         2         0  0.699009  0.001605  0.172543        1.00, 1.00\n",
       "4         3         0  0.698877  0.002039  0.153648        1.00, 1.00\n",
       "5         4         0  0.698779  0.002396  0.119777        1.00, 1.00\n",
       "6         5         0  0.698757  0.002689  0.080718        1.00, 1.00\n",
       "7         6         0  0.698856  0.002937  0.043971        1.00, 1.00\n",
       "8         7         0  0.699224  0.003144  0.017921        1.00, 1.00\n",
       "9         8         0  0.700177  0.003291  0.007678        1.00, 1.00\n",
       "10        9         0  0.701321  0.003412  0.013490        1.00, 1.00"
      ]
     },
     "metadata": {},
     "output_type": "display_data"
    }
   ],
   "source": [
    "fit(perturb(gt_model(), 0.05), lr=0.001, num_epochs=10)"
   ]
  },
  {
   "cell_type": "code",
   "execution_count": 26,
   "id": "relative-blank",
   "metadata": {},
   "outputs": [
    {
     "name": "stdout",
     "output_type": "stream",
     "text": [
      "Num param: 61\n",
      "Num data: 9\n"
     ]
    },
    {
     "data": {
      "image/png": "[encoded data removed]",
      "text/plain": [
       "<Figure size 432x288 with 1 Axes>"
      ]
     },
     "metadata": {
      "needs_background": "light"
     },
     "output_type": "display_data"
    },
    {
     "name": "stdout",
     "output_type": "stream",
     "text": [
      "<function mse_loss at 0x7f11c2910510>\n"
     ]
    },
    {
     "data": {
      "text/html": [
       "<div>\n",
       "<style scoped>\n",
       "    .dataframe tbody tr th:only-of-type {\n",
       "        vertical-align: middle;\n",
       "    }\n",
       "\n",
       "    .dataframe tbody tr th {\n",
       "        vertical-align: top;\n",
       "    }\n",
       "\n",
       "    .dataframe thead th {\n",
       "        text-align: right;\n",
       "    }\n",
       "</style>\n",
       "<table border=\"1\" class=\"dataframe\">\n",
       "  <thead>\n",
       "    <tr style=\"text-align: right;\">\n",
       "      <th></th>\n",
       "      <th>epoch</th>\n",
       "      <th>batch_idx</th>\n",
       "      <th>mean|p|</th>\n",
       "      <th>mean|Δp|</th>\n",
       "      <th>loss</th>\n",
       "      <th>activation_ratios</th>\n",
       "    </tr>\n",
       "  </thead>\n",
       "  <tbody>\n",
       "    <tr>\n",
       "      <th>0</th>\n",
       "      <td>pre-opt</td>\n",
       "      <td>n/a</td>\n",
       "      <td>0.796849</td>\n",
       "      <td>0.000000</td>\n",
       "      <td>3.263537</td>\n",
       "      <td>0.33, 0.67</td>\n",
       "    </tr>\n",
       "    <tr>\n",
       "      <th>1</th>\n",
       "      <td>0</td>\n",
       "      <td>0</td>\n",
       "      <td>0.791480</td>\n",
       "      <td>0.009450</td>\n",
       "      <td>3.263537</td>\n",
       "      <td>0.33, 0.67</td>\n",
       "    </tr>\n",
       "    <tr>\n",
       "      <th>2</th>\n",
       "      <td>1</td>\n",
       "      <td>0</td>\n",
       "      <td>0.784390</td>\n",
       "      <td>0.012164</td>\n",
       "      <td>1.470252</td>\n",
       "      <td>0.33, 0.67</td>\n",
       "    </tr>\n",
       "    <tr>\n",
       "      <th>3</th>\n",
       "      <td>2</td>\n",
       "      <td>0</td>\n",
       "      <td>0.778564</td>\n",
       "      <td>0.010846</td>\n",
       "      <td>1.650915</td>\n",
       "      <td>0.33, 0.67</td>\n",
       "    </tr>\n",
       "    <tr>\n",
       "      <th>4</th>\n",
       "      <td>3</td>\n",
       "      <td>0</td>\n",
       "      <td>0.772021</td>\n",
       "      <td>0.009953</td>\n",
       "      <td>2.252201</td>\n",
       "      <td>0.33, 0.67</td>\n",
       "    </tr>\n",
       "    <tr>\n",
       "      <th>5</th>\n",
       "      <td>4</td>\n",
       "      <td>0</td>\n",
       "      <td>0.764452</td>\n",
       "      <td>0.013402</td>\n",
       "      <td>1.807887</td>\n",
       "      <td>0.33, 0.67</td>\n",
       "    </tr>\n",
       "  </tbody>\n",
       "</table>\n",
       "</div>"
      ],
      "text/plain": [
       "     epoch batch_idx   mean|p|  mean|Δp|      loss activation_ratios\n",
       "0  pre-opt       n/a  0.796849  0.000000  3.263537        0.33, 0.67\n",
       "1        0         0  0.791480  0.009450  3.263537        0.33, 0.67\n",
       "2        1         0  0.784390  0.012164  1.470252        0.33, 0.67\n",
       "3        2         0  0.778564  0.010846  1.650915        0.33, 0.67\n",
       "4        3         0  0.772021  0.009953  2.252201        0.33, 0.67\n",
       "5        4         0  0.764452  0.013402  1.807887        0.33, 0.67"
      ]
     },
     "metadata": {},
     "output_type": "display_data"
    }
   ],
   "source": [
    "# Yuck. Not robust.\n",
    "fit(perturb(make_model(), 1.0), lr=0.01, num_epochs=5)"
   ]
  },
  {
   "cell_type": "code",
   "execution_count": null,
   "id": "confident-moment",
   "metadata": {},
   "outputs": [],
   "source": []
  }
 ],
 "metadata": {
  "kernelspec": {
   "display_name": "Python 3",
   "language": "python",
   "name": "python3"
  },
  "language_info": {
   "codemirror_mode": {
    "name": "ipython",
    "version": 3
   },
   "file_extension": ".py",
   "mimetype": "text/x-python",
   "name": "python",
   "nbconvert_exporter": "python",
   "pygments_lexer": "ipython3",
   "version": "3.6.9"
  },
  "toc-showtags": false
 },
 "nbformat": 4,
 "nbformat_minor": 5
}
