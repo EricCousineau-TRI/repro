{
 "cells": [
  {
   "cell_type": "code",
   "execution_count": 1,
   "id": "collected-system",
   "metadata": {},
   "outputs": [],
   "source": [
    "import torch"
   ]
  },
  {
   "cell_type": "code",
   "execution_count": 2,
   "id": "developing-defensive",
   "metadata": {},
   "outputs": [],
   "source": [
    "def zero_grad(p):\n",
    "    if p.grad is not None:\n",
    "        p.grad.zero_()"
   ]
  },
  {
   "cell_type": "code",
   "execution_count": 3,
   "id": "warming-german",
   "metadata": {},
   "outputs": [],
   "source": [
    "# Expected model + dataset.\n",
    "with torch.no_grad():\n",
    "    p_gt = torch.tensor(-20)\n",
    "    x = torch.tensor([1.0, 3.0])\n",
    "    y = p_gt * x"
   ]
  },
  {
   "cell_type": "code",
   "execution_count": 4,
   "id": "listed-things",
   "metadata": {},
   "outputs": [
    {
     "name": "stdout",
     "output_type": "stream",
     "text": [
      "(0, 0) p_err: tensor(21.)\n",
      "(0, 1) p_err: tensor(0.)\n",
      "(1, 0) p_err: tensor(0.)\n",
      "(1, 1) p_err: tensor(0.)\n",
      "(2, 0) p_err: tensor(0.)\n",
      "(2, 1) p_err: tensor(0.)\n"
     ]
    }
   ],
   "source": [
    "# Param to optimize\n",
    "p = torch.tensor(1.0, requires_grad=True)\n",
    "# Simple (verrrry) linear model.\n",
    "f = lambda x: p * x\n",
    "# Optimal step size for linear model + mse loss\n",
    "# (ofc where grad doesn't collapse).\n",
    "lr = 0.5\n",
    "\n",
    "num_epochs = 3\n",
    "for epoch in range(num_epochs):\n",
    "    # Batch size = 1\n",
    "    for epoch_batch_idx, (xi, yi) in enumerate(zip(x, y)):\n",
    "        # Show err.\n",
    "        p_err = p.detach() - p_gt\n",
    "        print((epoch, epoch_batch_idx), \"p_err:\", p_err)\n",
    "\n",
    "        zero_grad(p)\n",
    "        yhi = f(xi)\n",
    "        loss = (yi - yhi)**2\n",
    "        loss.backward()\n",
    "\n",
    "        # SGD update, no momentum.\n",
    "        with torch.no_grad():\n",
    "            v = p.grad  # velocity\n",
    "            p -= lr * v"
   ]
  },
  {
   "cell_type": "code",
   "execution_count": null,
   "id": "metric-corporation",
   "metadata": {},
   "outputs": [],
   "source": []
  }
 ],
 "metadata": {
  "kernelspec": {
   "display_name": "Python 3",
   "language": "python",
   "name": "python3"
  },
  "language_info": {
   "codemirror_mode": {
    "name": "ipython",
    "version": 3
   },
   "file_extension": ".py",
   "mimetype": "text/x-python",
   "name": "python",
   "nbconvert_exporter": "python",
   "pygments_lexer": "ipython3",
   "version": "3.6.9"
  }
 },
 "nbformat": 4,
 "nbformat_minor": 5
}
