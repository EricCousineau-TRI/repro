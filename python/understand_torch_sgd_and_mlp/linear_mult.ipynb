{
 "cells": [
  {
   "cell_type": "code",
   "execution_count": 1,
   "id": "through-baking",
   "metadata": {},
   "outputs": [],
   "source": [
    "import torch"
   ]
  },
  {
   "cell_type": "code",
   "execution_count": 2,
   "id": "expired-friendship",
   "metadata": {},
   "outputs": [],
   "source": [
    "with torch.no_grad():\n",
    "    p_gt = torch.tensor(3.0)\n",
    "    x = torch.tensor([0.0, 1.0])\n",
    "    y = p_gt * x"
   ]
  },
  {
   "cell_type": "code",
   "execution_count": 3,
   "id": "canadian-hotel",
   "metadata": {},
   "outputs": [],
   "source": [
    "def zero_grad(p):\n",
    "    if p.grad is not None:\n",
    "        p.grad.zero_()"
   ]
  },
  {
   "cell_type": "code",
   "execution_count": 4,
   "id": "fresh-diameter",
   "metadata": {},
   "outputs": [
    {
     "name": "stdout",
     "output_type": "stream",
     "text": [
      "(0, 0) tensor(-2.)\n",
      "(0, 1) tensor(-2.)\n",
      "(1, 0) tensor(0.)\n",
      "(1, 1) tensor(0.)\n",
      "(2, 0) tensor(0.)\n",
      "(2, 1) tensor(0.)\n"
     ]
    }
   ],
   "source": [
    "# Param to optimize\n",
    "p = torch.tensor(1.0, requires_grad=True)\n",
    "# Simple (verrrry) linear model.\n",
    "f = lambda x: p * x\n",
    "# Optimal step size for linear model (ofc where grad doesn't collapse).\n",
    "lr = 0.5\n",
    "\n",
    "num_epochs = 3\n",
    "for epoch in range(num_epochs):\n",
    "    # Batch size = 1\n",
    "    for epoch_batch_idx, (xi, yi) in enumerate(zip(x, y)):\n",
    "        # Show err.\n",
    "        p_err = p.detach() - p_gt\n",
    "        print((epoch, epoch_batch_idx), p_err)\n",
    "\n",
    "        zero_grad(p)\n",
    "        yhi = f(xi)\n",
    "        loss = (yi - yhi)**2\n",
    "        loss.backward()\n",
    "\n",
    "        # SGD update, no momentum.\n",
    "        with torch.no_grad():\n",
    "            v = p.grad  # velocity\n",
    "            p -= lr * v"
   ]
  },
  {
   "cell_type": "code",
   "execution_count": null,
   "id": "assumed-stupid",
   "metadata": {},
   "outputs": [],
   "source": []
  }
 ],
 "metadata": {
  "kernelspec": {
   "display_name": "Python 3",
   "language": "python",
   "name": "python3"
  },
  "language_info": {
   "codemirror_mode": {
    "name": "ipython",
    "version": 3
   },
   "file_extension": ".py",
   "mimetype": "text/x-python",
   "name": "python",
   "nbconvert_exporter": "python",
   "pygments_lexer": "ipython3",
   "version": "3.6.9"
  }
 },
 "nbformat": 4,
 "nbformat_minor": 5
}
