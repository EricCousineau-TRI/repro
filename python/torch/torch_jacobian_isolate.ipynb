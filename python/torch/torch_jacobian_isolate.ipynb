{
 "cells": [
  {
   "cell_type": "code",
   "execution_count": 1,
   "id": "1df86aea",
   "metadata": {},
   "outputs": [],
   "source": [
    "import torch\n",
    "from torch import nn\n",
    "from torch.autograd.functional import jacobian"
   ]
  },
  {
   "cell_type": "code",
   "execution_count": 2,
   "id": "77144f9a",
   "metadata": {},
   "outputs": [
    {
     "data": {
      "text/plain": [
       "<torch.autograd.grad_mode.set_grad_enabled at 0x7f0464503970>"
      ]
     },
     "execution_count": 2,
     "metadata": {},
     "output_type": "execute_result"
    }
   ],
   "source": [
    "torch.set_grad_enabled(False)"
   ]
  },
  {
   "cell_type": "code",
   "execution_count": 3,
   "id": "e4f972a0",
   "metadata": {},
   "outputs": [],
   "source": [
    "class Linear(nn.Module):\n",
    "    def __init__(self, K):\n",
    "        super().__init__()\n",
    "        self.K = nn.Parameter(torch.tensor(K))\n",
    "    \n",
    "    def forward(self, x):\n",
    "        return self.K * x ** 2"
   ]
  },
  {
   "cell_type": "code",
   "execution_count": 4,
   "id": "932824e6",
   "metadata": {},
   "outputs": [
    {
     "name": "stdout",
     "output_type": "stream",
     "text": [
      "tensor(3.)\n"
     ]
    }
   ],
   "source": [
    "net = Linear(0.5)\n",
    "x = torch.tensor(3.0)\n",
    "\n",
    "with torch.set_grad_enabled(True):\n",
    "    dnet_dx = jacobian(net, x)\n",
    "print(dnet_dx)\n",
    "\n",
    "assert x.grad is None\n",
    "assert net.K.grad is None\n",
    "\n",
    "# TODO(eric.cousineau): Seems like it's fine. I don't think we're\n",
    "# going to waste computation / storage on extraneous stuff."
   ]
  },
  {
   "cell_type": "markdown",
   "id": "5a9db678",
   "metadata": {},
   "source": [
    "## Er, but need batched."
   ]
  },
  {
   "cell_type": "code",
   "execution_count": 5,
   "id": "b4c86926",
   "metadata": {},
   "outputs": [
    {
     "name": "stdout",
     "output_type": "stream",
     "text": [
      "tensor([[1., 0.],\n",
      "        [0., 3.]])\n"
     ]
    }
   ],
   "source": [
    "# Example of not being batched \"as desired\".\n",
    "# In this case, we get a matrix, rather than \"batching\" at first.\n",
    "xs = torch.tensor([1.0, 3.0])\n",
    "with torch.set_grad_enabled(True):\n",
    "    dnet_dxs = jacobian(net, xs)\n",
    "print(dnet_dxs)"
   ]
  },
  {
   "cell_type": "code",
   "execution_count": 6,
   "id": "948ad1a1",
   "metadata": {},
   "outputs": [],
   "source": [
    "def batch_jacobian(func, x):\n",
    "    \"\"\"\n",
    "    Computes batched Jacobian.\n",
    "\n",
    "    Arugments:\n",
    "        func: Function to compute Jacobian with.\n",
    "        x: Batch of input, Tensor[N, ...]\n",
    "        \n",
    "    Adapted from:\n",
    "    https://discuss.pytorch.org/t/computing-batch-jacobian-efficiently/80771/5\n",
    "    \"\"\"\n",
    "\n",
    "    def func_sum(x):\n",
    "        return func(x).sum(dim=0)\n",
    "\n",
    "    J = jacobian(func_sum, x)\n",
    "    if x.ndim > 1:\n",
    "        J = torch.movedim(J, 1, 0)\n",
    "    return J"
   ]
  },
  {
   "cell_type": "code",
   "execution_count": 7,
   "id": "f032496f",
   "metadata": {},
   "outputs": [
    {
     "name": "stdout",
     "output_type": "stream",
     "text": [
      "tensor([1., 3.])\n"
     ]
    }
   ],
   "source": [
    "xs = torch.tensor([1.0, 3.0])\n",
    "with torch.set_grad_enabled(True):\n",
    "    dnet_dxs = batch_jacobian(net, xs)\n",
    "print(dnet_dxs)"
   ]
  },
  {
   "cell_type": "code",
   "execution_count": 8,
   "id": "88589dc5",
   "metadata": {},
   "outputs": [
    {
     "name": "stdout",
     "output_type": "stream",
     "text": [
      "tensor([[[1., 0.],\n",
      "         [0., 3.]],\n",
      "\n",
      "        [[2., 0.],\n",
      "         [0., 4.]]])\n"
     ]
    }
   ],
   "source": [
    "xs = torch.tensor([[1.0, 3.0], [2.0, 4.0]])\n",
    "with torch.set_grad_enabled(True):\n",
    "    dnet_dxs = batch_jacobian(net, xs)\n",
    "print(dnet_dxs)"
   ]
  },
  {
   "cell_type": "code",
   "execution_count": null,
   "id": "94176090",
   "metadata": {},
   "outputs": [],
   "source": []
  }
 ],
 "metadata": {
  "kernelspec": {
   "display_name": "Python 3 (ipykernel)",
   "language": "python",
   "name": "python3"
  },
  "language_info": {
   "codemirror_mode": {
    "name": "ipython",
    "version": 3
   },
   "file_extension": ".py",
   "mimetype": "text/x-python",
   "name": "python",
   "nbconvert_exporter": "python",
   "pygments_lexer": "ipython3",
   "version": "3.8.10"
  }
 },
 "nbformat": 4,
 "nbformat_minor": 5
}
