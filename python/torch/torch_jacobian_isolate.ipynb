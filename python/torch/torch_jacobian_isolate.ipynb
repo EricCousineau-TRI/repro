{
 "cells": [
  {
   "cell_type": "code",
   "execution_count": 1,
   "id": "7015b8d0",
   "metadata": {},
   "outputs": [],
   "source": [
    "import torch\n",
    "from torch import nn\n",
    "from torch.autograd.functional import jacobian"
   ]
  },
  {
   "cell_type": "code",
   "execution_count": 2,
   "id": "0d755fec",
   "metadata": {},
   "outputs": [
    {
     "data": {
      "text/plain": [
       "<torch.autograd.grad_mode.set_grad_enabled at 0x7f5c088c1ac8>"
      ]
     },
     "execution_count": 2,
     "metadata": {},
     "output_type": "execute_result"
    }
   ],
   "source": [
    "torch.set_grad_enabled(False)"
   ]
  },
  {
   "cell_type": "code",
   "execution_count": 3,
   "id": "2e135f28",
   "metadata": {},
   "outputs": [],
   "source": [
    "class Linear(nn.Module):\n",
    "    def __init__(self, K):\n",
    "        super().__init__()\n",
    "        self.K = nn.Parameter(torch.tensor(K))\n",
    "    \n",
    "    def forward(self, x):\n",
    "        return self.K * x"
   ]
  },
  {
   "cell_type": "code",
   "execution_count": 4,
   "id": "165e900d",
   "metadata": {},
   "outputs": [
    {
     "name": "stdout",
     "output_type": "stream",
     "text": [
      "tensor(2.)\n"
     ]
    }
   ],
   "source": [
    "net = Linear(2.0)\n",
    "x = torch.tensor(3.0)\n",
    "\n",
    "with torch.set_grad_enabled(True):\n",
    "    dnet_dx = jacobian(net, x)\n",
    "print(dnet_dx)\n",
    "\n",
    "assert x.grad is None\n",
    "assert net.K.grad is None\n",
    "\n",
    "# TODO(eric.cousineau): Seems like it's fine. I don't think we're\n",
    "# going to waste computation / storage on extraneous stuff."
   ]
  },
  {
   "cell_type": "code",
   "execution_count": null,
   "id": "fb91f1e0",
   "metadata": {},
   "outputs": [],
   "source": []
  }
 ],
 "metadata": {
  "kernelspec": {
   "display_name": "Python 3",
   "language": "python",
   "name": "python3"
  },
  "language_info": {
   "codemirror_mode": {
    "name": "ipython",
    "version": 3
   },
   "file_extension": ".py",
   "mimetype": "text/x-python",
   "name": "python",
   "nbconvert_exporter": "python",
   "pygments_lexer": "ipython3",
   "version": "3.6.9"
  }
 },
 "nbformat": 4,
 "nbformat_minor": 5
}
