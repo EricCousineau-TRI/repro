{
 "cells": [
  {
   "cell_type": "code",
   "execution_count": 1,
   "id": "9b8af55b",
   "metadata": {},
   "outputs": [],
   "source": [
    "import torch\n",
    "from torch import nn"
   ]
  },
  {
   "cell_type": "code",
   "execution_count": 2,
   "id": "e6f71f78",
   "metadata": {},
   "outputs": [
    {
     "data": {
      "text/plain": [
       "<torch.autograd.grad_mode.set_grad_enabled at 0x7f8fd067a8e0>"
      ]
     },
     "execution_count": 2,
     "metadata": {},
     "output_type": "execute_result"
    }
   ],
   "source": [
    "torch.set_grad_enabled(False)"
   ]
  },
  {
   "cell_type": "code",
   "execution_count": 3,
   "id": "f011454c",
   "metadata": {},
   "outputs": [],
   "source": [
    "class Linear(nn.Module):\n",
    "    def __init__(self, K):\n",
    "        super().__init__()\n",
    "        self.K = nn.Parameter(torch.tensor(K))\n",
    "    \n",
    "    def forward(self, x):\n",
    "        return self.K * x ** 2"
   ]
  },
  {
   "cell_type": "code",
   "execution_count": 4,
   "id": "1c01ed4d",
   "metadata": {},
   "outputs": [],
   "source": [
    "def gradient(net, x):\n",
    "    # Adapted from:\n",
    "    # https://discuss.pytorch.org/t/computing-batch-jacobian-efficiently/80771/5\n",
    "    create_graph = torch.is_grad_enabled()\n",
    "    x = x.detach().requires_grad_(True)\n",
    "    # TODO(eric.cousineau): Keep storage for dnet_dx?\n",
    "    with torch.set_grad_enabled(True):\n",
    "        dnet_dx, = torch.autograd.grad(net(x).sum(), x, create_graph=create_graph)\n",
    "    return dnet_dx"
   ]
  },
  {
   "cell_type": "code",
   "execution_count": 5,
   "id": "f87d3db7",
   "metadata": {},
   "outputs": [
    {
     "name": "stdout",
     "output_type": "stream",
     "text": [
      "tensor(3.)\n"
     ]
    }
   ],
   "source": [
    "K = 0.5\n",
    "net = Linear(K)\n",
    "x = torch.tensor(3.0)\n",
    "dnet_dx = gradient(net, x)\n",
    "\n",
    "print(dnet_dx)\n",
    "expected = 2 * K * x\n",
    "torch.testing.assert_allclose(dnet_dx, expected, atol=1e-9, rtol=0.0)\n",
    "\n",
    "assert x.grad is None\n",
    "assert net.K.grad is None"
   ]
  },
  {
   "cell_type": "markdown",
   "id": "d1ded89e",
   "metadata": {},
   "source": [
    "## Test w/ batching"
   ]
  },
  {
   "cell_type": "code",
   "execution_count": 6,
   "id": "27235493",
   "metadata": {},
   "outputs": [
    {
     "name": "stdout",
     "output_type": "stream",
     "text": [
      "tensor([1., 3.])\n"
     ]
    }
   ],
   "source": [
    "# Example of not being batched \"as desired\".\n",
    "# In this case, we get a matrix, rather than \"batching\" at first.\n",
    "xs = torch.tensor([1.0, 3.0])\n",
    "dnet_dxs = gradient(net, xs)\n",
    "print(dnet_dxs)"
   ]
  },
  {
   "cell_type": "code",
   "execution_count": 7,
   "id": "6adcc08a",
   "metadata": {},
   "outputs": [
    {
     "name": "stdout",
     "output_type": "stream",
     "text": [
      "tensor([1., 3.])\n"
     ]
    }
   ],
   "source": [
    "xs = torch.tensor([1.0, 3.0])\n",
    "dnet_dxs = gradient(net, xs)\n",
    "print(dnet_dxs)"
   ]
  },
  {
   "cell_type": "code",
   "execution_count": 8,
   "id": "5fed758f",
   "metadata": {},
   "outputs": [
    {
     "name": "stdout",
     "output_type": "stream",
     "text": [
      "tensor([[1., 3.],\n",
      "        [2., 4.]])\n"
     ]
    }
   ],
   "source": [
    "# Works.\n",
    "xs = torch.tensor([[1.0, 3.0], [2.0, 4.0]])\n",
    "dnet_dxs = gradient(net, xs)\n",
    "print(dnet_dxs)"
   ]
  },
  {
   "cell_type": "code",
   "execution_count": 9,
   "id": "34b3bd85",
   "metadata": {},
   "outputs": [
    {
     "name": "stdout",
     "output_type": "stream",
     "text": [
      "tensor(1001.8497)\n"
     ]
    }
   ],
   "source": [
    "torch.random.manual_seed(0)\n",
    "xs = torch.rand((100, 10))\n",
    "if net.K.grad is not None:\n",
    "    net.K.grad.zero_()\n",
    "with torch.set_grad_enabled(True):\n",
    "    tmp = gradient(net, xs)\n",
    "    tmp.sum().backward()\n",
    "\n",
    "print(net.K.grad)\n",
    "# dL/dx = 2 K x\n",
    "# d(dL/dx)/dK = 2 x\n",
    "expected = (2 * xs).sum()\n",
    "torch.testing.assert_allclose(net.K.grad, expected, atol=1e-8, rtol=0)"
   ]
  },
  {
   "cell_type": "code",
   "execution_count": null,
   "id": "a6039361",
   "metadata": {},
   "outputs": [],
   "source": []
  }
 ],
 "metadata": {
  "kernelspec": {
   "display_name": "Python 3 (ipykernel)",
   "language": "python",
   "name": "python3"
  },
  "language_info": {
   "codemirror_mode": {
    "name": "ipython",
    "version": 3
   },
   "file_extension": ".py",
   "mimetype": "text/x-python",
   "name": "python",
   "nbconvert_exporter": "python",
   "pygments_lexer": "ipython3",
   "version": "3.8.10"
  }
 },
 "nbformat": 4,
 "nbformat_minor": 5
}
