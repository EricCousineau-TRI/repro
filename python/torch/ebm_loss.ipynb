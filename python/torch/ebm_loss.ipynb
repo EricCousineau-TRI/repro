{
 "cells": [
  {
   "cell_type": "markdown",
   "id": "94de4837",
   "metadata": {},
   "source": [
    "Related to https://github.com/google-research/ibc"
   ]
  },
  {
   "cell_type": "code",
   "execution_count": 1,
   "id": "bb5c42c6",
   "metadata": {},
   "outputs": [],
   "source": [
    "import os\n",
    "os.environ[\"TF_CPP_MIN_LOG_LEVEL\"] = \"2\"\n",
    "\n",
    "import tensorflow as tf"
   ]
  },
  {
   "cell_type": "code",
   "execution_count": 2,
   "id": "ebb0a584",
   "metadata": {},
   "outputs": [],
   "source": [
    "def info_nce(predictions):\n",
    "    kl = tf.keras.losses.KLDivergence(reduction=tf.keras.losses.Reduction.NONE)\n",
    "    batch_size, num_neg_and_pos = predictions.shape\n",
    "    num_counter_examples = num_neg_and_pos - 1\n",
    "\n",
    "    softmax_temperature = 1.0\n",
    "    softmaxed_predictions = tf.nn.softmax(\n",
    "        predictions / softmax_temperature, axis=-1)\n",
    "\n",
    "    # [B x n+1] with 1 in column [:, -1]\n",
    "    indices = tf.ones(\n",
    "        (batch_size,), dtype=tf.int32) * num_counter_examples\n",
    "    labels = tf.one_hot(indices, depth=num_counter_examples + 1)\n",
    "\n",
    "    per_example_loss = kl(labels, softmaxed_predictions)\n",
    "\n",
    "    return per_example_loss\n",
    "\n",
    "\n",
    "def simple_info_nce(energies):\n",
    "    _, num_neg_and_pos = energies.shape\n",
    "    pos_sample_index = num_neg_and_pos - 1\n",
    "    log_softmin_all = tf.nn.log_softmax(-energies)\n",
    "    per_example_loss = -log_softmin_all[:, pos_sample_index]\n",
    "    return per_example_loss"
   ]
  },
  {
   "cell_type": "code",
   "execution_count": 3,
   "id": "e5d513e8",
   "metadata": {},
   "outputs": [
    {
     "name": "stdout",
     "output_type": "stream",
     "text": [
      "tf.Tensor([1.235404  1.0950543 1.2996238], shape=(3,), dtype=float32)\n",
      "tf.Tensor([1.5604469 1.7325498 1.5327481], shape=(3,), dtype=float32)\n",
      "tf.Tensor([1.5604513 1.7325542 1.5327525], shape=(3,), dtype=float32)\n"
     ]
    }
   ],
   "source": [
    "batch_size = 3\n",
    "num_neg_and_pos = 4\n",
    "tf.random.set_seed(0)\n",
    "energies = tf.random.uniform(shape=(batch_size, num_neg_and_pos))\n",
    "\n",
    "a = info_nce(energies)\n",
    "ahat = info_nce(-energies)  # :(\n",
    "b = simple_info_nce(energies)\n",
    "\n",
    "print(a)\n",
    "print(ahat)\n",
    "print(b)"
   ]
  },
  {
   "cell_type": "code",
   "execution_count": null,
   "id": "8de72311",
   "metadata": {},
   "outputs": [],
   "source": []
  }
 ],
 "metadata": {
  "kernelspec": {
   "display_name": "Python 3 (ipykernel)",
   "language": "python",
   "name": "python3"
  },
  "language_info": {
   "codemirror_mode": {
    "name": "ipython",
    "version": 3
   },
   "file_extension": ".py",
   "mimetype": "text/x-python",
   "name": "python",
   "nbconvert_exporter": "python",
   "pygments_lexer": "ipython3",
   "version": "3.8.10"
  }
 },
 "nbformat": 4,
 "nbformat_minor": 5
}
