{
 "cells": [
  {
   "cell_type": "code",
   "execution_count": null,
   "metadata": {},
   "outputs": [],
   "source": [
    "# Relates: https://discuss.pytorch.org/t/clarification-using-backward-on-non-scalars/1059/5\n",
    "import torch"
   ]
  },
  {
   "cell_type": "markdown",
   "metadata": {},
   "source": [
    "Test autograd with eq:\n",
    "\n",
    "$x \\in R^2$, $y \\in R^3$, $\\frac{\\partial{y}}{\\partial{x}} \\in R^{3 \\times 2}$\n",
    "\n",
    "$y = \\left[{2 x_0 \\\\ 3 x_1 \\\\ 4 x_0 + 5 x_1}\\right]$"
   ]
  },
  {
   "cell_type": "code",
   "execution_count": null,
   "metadata": {},
   "outputs": [],
   "source": [
    "x = torch.tensor([1., 2], requires_grad=True)"
   ]
  },
  {
   "cell_type": "code",
   "execution_count": null,
   "metadata": {},
   "outputs": [],
   "source": [
    "# y = torch.tensor([2. * x[0], 3. * x[1], 4*x[0] + 5*x[1]])  # Dunno how to make this work.\n",
    "y = torch.tensor([2., 0, 4]) * x[0] + torch.tensor([0, 3., 5.]) * x[1]\n",
    "print(y)"
   ]
  },
  {
   "cell_type": "code",
   "execution_count": null,
   "metadata": {},
   "outputs": [],
   "source": [
    "nx = len(x)\n",
    "ny = len(y)\n",
    "Jy_x = torch.zeros((ny, nx))\n",
    "for i in range(ny):\n",
    "    if x.grad is not None:\n",
    "        x.grad.data.zero_()\n",
    "    unit_i = torch.zeros(ny)\n",
    "    unit_i[i] = 1.\n",
    "    y.backward(unit_i, retain_graph=True)\n",
    "    Jy_x[i, :] = x.grad.data\n",
    "print(Jy_x)"
   ]
  },
  {
   "cell_type": "code",
   "execution_count": null,
   "metadata": {},
   "outputs": [],
   "source": []
  }
 ],
 "metadata": {
  "kernelspec": {
   "display_name": "Python 3",
   "language": "python",
   "name": "python3"
  },
  "language_info": {
   "codemirror_mode": {
    "name": "ipython",
    "version": 3
   },
   "file_extension": ".py",
   "mimetype": "text/x-python",
   "name": "python",
   "nbconvert_exporter": "python",
   "pygments_lexer": "ipython3",
   "version": "3.6.7"
  }
 },
 "nbformat": 4,
 "nbformat_minor": 2
}
