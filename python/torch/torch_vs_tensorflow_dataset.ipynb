{
 "cells": [
  {
   "cell_type": "code",
   "execution_count": 1,
   "id": "7eba64b1",
   "metadata": {},
   "outputs": [],
   "source": [
    "import os\n",
    "os.environ[\"TF_CPP_MIN_LOG_LEVEL\"] = \"2\"\n",
    "from pprint import pprint\n",
    "\n",
    "import torch\n",
    "import tensorflow as tf"
   ]
  },
  {
   "cell_type": "code",
   "execution_count": 2,
   "id": "f88b55bc",
   "metadata": {},
   "outputs": [],
   "source": [
    "dataset = [1, 2, 3, 4, 5, 6]\n",
    "batch_size = 4\n",
    "replay_capacity = 10\n",
    "num_epochs = 5"
   ]
  },
  {
   "cell_type": "code",
   "execution_count": 3,
   "id": "34b1a028",
   "metadata": {},
   "outputs": [
    {
     "name": "stdout",
     "output_type": "stream",
     "text": [
      "[tensor([2, 6, 1, 5]),\n",
      " tensor([4, 5, 3, 1]),\n",
      " tensor([6, 1, 3, 2]),\n",
      " tensor([1, 5, 3, 2]),\n",
      " tensor([3, 5, 1, 2])]\n"
     ]
    }
   ],
   "source": [
    "torch.random.manual_seed(0)\n",
    "torch_loader = torch.utils.data.DataLoader(\n",
    "    dataset,\n",
    "    batch_size=batch_size,\n",
    "    drop_last=True,\n",
    "    shuffle=True,\n",
    ")\n",
    "out = []\n",
    "for _ in range(num_epochs):\n",
    "    out += list(torch_loader)\n",
    "pprint(out)"
   ]
  },
  {
   "cell_type": "code",
   "execution_count": 4,
   "id": "2c4e5884",
   "metadata": {},
   "outputs": [
    {
     "name": "stdout",
     "output_type": "stream",
     "text": [
      "[<tf.Tensor: shape=(4,), dtype=int32, numpy=array([4, 6, 6, 4], dtype=int32)>,\n",
      " <tf.Tensor: shape=(4,), dtype=int32, numpy=array([2, 2, 1, 3], dtype=int32)>,\n",
      " <tf.Tensor: shape=(4,), dtype=int32, numpy=array([3, 2, 1, 3], dtype=int32)>,\n",
      " <tf.Tensor: shape=(4,), dtype=int32, numpy=array([1, 4, 6, 1], dtype=int32)>,\n",
      " <tf.Tensor: shape=(4,), dtype=int32, numpy=array([6, 5, 4, 5], dtype=int32)>]\n"
     ]
    }
   ],
   "source": [
    "tf.random.set_seed(0)\n",
    "tf_dataset = (\n",
    "    tf.data.Dataset.from_tensor_slices(dataset)\n",
    "    .repeat()\n",
    "    .shuffle(replay_capacity)\n",
    "    .batch(batch_size, drop_remainder=True)\n",
    ")\n",
    "iterator = iter(tf_dataset)\n",
    "out = []\n",
    "for _ in range(num_epochs):\n",
    "    out.append(next(iterator))\n",
    "pprint(out)"
   ]
  },
  {
   "cell_type": "code",
   "execution_count": null,
   "id": "550ad7b5",
   "metadata": {},
   "outputs": [],
   "source": []
  }
 ],
 "metadata": {
  "kernelspec": {
   "display_name": "Python 3 (ipykernel)",
   "language": "python",
   "name": "python3"
  },
  "language_info": {
   "codemirror_mode": {
    "name": "ipython",
    "version": 3
   },
   "file_extension": ".py",
   "mimetype": "text/x-python",
   "name": "python",
   "nbconvert_exporter": "python",
   "pygments_lexer": "ipython3",
   "version": "3.8.10"
  }
 },
 "nbformat": 4,
 "nbformat_minor": 5
}
