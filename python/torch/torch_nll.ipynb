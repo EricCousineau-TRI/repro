{
 "cells": [
  {
   "cell_type": "code",
   "execution_count": 1,
   "id": "optical-butter",
   "metadata": {},
   "outputs": [],
   "source": [
    "import torch\n",
    "from torch.nn.functional import nll_loss"
   ]
  },
  {
   "cell_type": "code",
   "execution_count": 2,
   "id": "weird-victor",
   "metadata": {},
   "outputs": [],
   "source": [
    "torch.set_grad_enabled(False);"
   ]
  },
  {
   "cell_type": "code",
   "execution_count": 3,
   "id": "advisory-samoa",
   "metadata": {},
   "outputs": [],
   "source": [
    "def nll_loss_reimpl(x, y, reduction=torch.mean):\n",
    "    log_probs = torch.tensor([x_i[y_i] for (x_i, y_i) in zip(x, y)])\n",
    "    return reduction(-log_probs)"
   ]
  },
  {
   "cell_type": "code",
   "execution_count": 4,
   "id": "prompt-shell",
   "metadata": {},
   "outputs": [
    {
     "name": "stdout",
     "output_type": "stream",
     "text": [
      "tensor(-1.4000)\n",
      "tensor(-1.4000)\n"
     ]
    }
   ],
   "source": [
    "N = 1\n",
    "C = 3\n",
    "x = torch.tensor([\n",
    "    [0.1, 0.2, 2.0],\n",
    "    [-0.3, 0.8, 0.1]])\n",
    "y = torch.tensor([2, 1])\n",
    "print(nll_loss(x, y))\n",
    "print(nll_loss_reimpl(x, y))"
   ]
  },
  {
   "cell_type": "code",
   "execution_count": null,
   "id": "precise-lawsuit",
   "metadata": {
    "scrolled": true,
    "tags": []
   },
   "outputs": [],
   "source": []
  }
 ],
 "metadata": {
  "kernelspec": {
   "display_name": "Python 3",
   "language": "python",
   "name": "python3"
  },
  "language_info": {
   "codemirror_mode": {
    "name": "ipython",
    "version": 3
   },
   "file_extension": ".py",
   "mimetype": "text/x-python",
   "name": "python",
   "nbconvert_exporter": "python",
   "pygments_lexer": "ipython3",
   "version": "3.6.9"
  }
 },
 "nbformat": 4,
 "nbformat_minor": 5
}
