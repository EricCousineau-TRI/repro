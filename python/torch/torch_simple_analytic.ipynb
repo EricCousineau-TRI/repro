{
 "cells": [
  {
   "cell_type": "code",
   "execution_count": null,
   "id": "52e212d2",
   "metadata": {},
   "outputs": [],
   "source": [
    "# Simple forward mode autodiff."
   ]
  },
  {
   "cell_type": "code",
   "execution_count": null,
   "id": "57f33a60",
   "metadata": {},
   "outputs": [],
   "source": [
    "# from imp import reload\n",
    "# import torch_simple_grad as m\n",
    "# reload(m)"
   ]
  },
  {
   "cell_type": "code",
   "execution_count": null,
   "id": "fa3f9c14",
   "metadata": {},
   "outputs": [],
   "source": [
    "import os\n",
    "\n",
    "import torch\n",
    "from torch import nn"
   ]
  },
  {
   "cell_type": "code",
   "execution_count": null,
   "id": "39ae7351",
   "metadata": {},
   "outputs": [],
   "source": [
    "from torch_simple_grad import torch_forward_diff, torch_col_zero"
   ]
  },
  {
   "cell_type": "code",
   "execution_count": null,
   "id": "05d2be2a",
   "metadata": {},
   "outputs": [],
   "source": [
    "torch.set_grad_enabled(False)"
   ]
  },
  {
   "cell_type": "code",
   "execution_count": null,
   "id": "7a52b3d4",
   "metadata": {},
   "outputs": [],
   "source": [
    "def torch_gradient(f, x):\n",
    "    # Adapted from:\n",
    "    # https://discuss.pytorch.org/t/computing-batch-jacobian-efficiently/80771/5\n",
    "    # TODO(eric.cousineau): Keep storage for dnet_dx?\n",
    "    with torch.set_grad_enabled(True):\n",
    "        x = x.detach().requires_grad_(True)\n",
    "        y = f(x).sum()\n",
    "        df_dx, = torch.autograd.grad([y], [x])\n",
    "        return df_dx.detach()\n",
    "\n",
    "\n",
    "def torch_make_mlp(input_size, hidden_sizes, output_size):\n",
    "    layers = []\n",
    "    prev_size = input_size\n",
    "    for hidden_size in hidden_sizes:\n",
    "        layers.append(nn.Linear(prev_size, hidden_size))\n",
    "        layers.append(nn.ReLU())\n",
    "        prev_size = hidden_size\n",
    "    layers.append(nn.Linear(prev_size, output_size))\n",
    "    return nn.Sequential(*layers)\n",
    "\n",
    "\n",
    "def torch_forward_diff_old(net, x, dx=None):\n",
    "    # Imperative.\n",
    "    if dx is None:\n",
    "        N, L = x.shape\n",
    "        dx = torch.eye(L, device=x.device, dtype=x.dtype)\n",
    "        dx = dx.repeat(N, 1, 1)\n",
    "    if isinstance(net, nn.Sequential):\n",
    "        count = len(net)\n",
    "        for i, net_i in enumerate(net):\n",
    "            dx = torch_forward_diff_old(net_i, x, dx)\n",
    "            # Don't compute for last.\n",
    "            if i + 1 < count:\n",
    "                x = net_i(x)\n",
    "    elif isinstance(net, nn.Linear):\n",
    "        A = net.weight\n",
    "        dx = dx @ A.T\n",
    "    elif isinstance(net, nn.ReLU):\n",
    "        torch_col_zero(dx, x <= 0)\n",
    "    else:\n",
    "        assert False, type(net)\n",
    "    return dx"
   ]
  },
  {
   "cell_type": "code",
   "execution_count": null,
   "id": "56237a40",
   "metadata": {},
   "outputs": [],
   "source": [
    "torch.random.manual_seed(0)\n",
    "\n",
    "# N = 3\n",
    "# nin = 2\n",
    "# nout = 1\n",
    "# hidden_sizes = [1]\n",
    "\n",
    "N = 512  # Seems OK\n",
    "# N = 512 * 8  # Slows down a ton\n",
    "nin = 16\n",
    "nout = 1\n",
    "hidden_sizes = [512] * 8\n",
    "\n",
    "device = torch.device(\"cuda\")\n",
    "net = torch_make_mlp(nin, hidden_sizes, nout)\n",
    "net.eval().to(device)\n",
    "dnet_dx = torch_forward_diff(net)\n",
    "dnet_dx_script = torch.jit.script(dnet_dx)\n",
    "\n",
    "x = torch.randn((N, nin), device=device)\n",
    "\n",
    "y = net(x)\n",
    "dy_dx = torch_gradient(net, x)\n",
    "# dy_dx_a = torch_forward_diff_old(net, x).squeeze(-1)\n",
    "dy_dx_a = dnet_dx_script(x)\n",
    "\n",
    "print((dy_dx - dy_dx_a).abs().max() / dy_dx.abs().max())"
   ]
  },
  {
   "cell_type": "code",
   "execution_count": null,
   "id": "6c26bf16",
   "metadata": {},
   "outputs": [],
   "source": [
    "count = 30\n",
    "from simple_profiling import ProfilingTorch, ProfilingCProfile, ProfilingWallClock\n",
    "\n",
    "d = os.path.expanduser(\"~/tmp/torch_prof\")\n",
    "os.makedirs(d, exist_ok=True)\n",
    "\n",
    "def prof_grad(name, x0, grad):\n",
    "#     prof = ProfilingTorch()\n",
    "#     prof = ProfilingWallClock()\n",
    "    prof = ProfilingCProfile()\n",
    "    with prof.context():\n",
    "        x = x0.clone()\n",
    "        step_size = 1e-8\n",
    "        for _ in range(count):\n",
    "            x += grad(x) * step_size\n",
    "        x = x.cpu()\n",
    "    file, = prof.save_to_file(base=f\"{d}/{name}\")\n",
    "    print(file)\n",
    "    print(prof.dt / count)"
   ]
  },
  {
   "cell_type": "code",
   "execution_count": null,
   "id": "7e78890f",
   "metadata": {},
   "outputs": [],
   "source": [
    "prof_grad(\"torch_gradient\", x, lambda x: torch_gradient(net, x))"
   ]
  },
  {
   "cell_type": "code",
   "execution_count": null,
   "id": "e77d6181",
   "metadata": {},
   "outputs": [],
   "source": [
    "prof_grad(\"torch_forward_diff_old\", x, lambda x: torch_forward_diff_old(net, x).squeeze(-1))"
   ]
  },
  {
   "cell_type": "code",
   "execution_count": null,
   "id": "8b80a8cb",
   "metadata": {},
   "outputs": [],
   "source": [
    "prof_grad(\"dnet_dx\", x, dnet_dx)"
   ]
  },
  {
   "cell_type": "code",
   "execution_count": null,
   "id": "6e8d8d0a",
   "metadata": {},
   "outputs": [],
   "source": [
    "prof_grad(\"dnet_dx_script\", x, dnet_dx_script)"
   ]
  },
  {
   "cell_type": "code",
   "execution_count": null,
   "id": "97c7adc4",
   "metadata": {},
   "outputs": [],
   "source": []
  }
 ],
 "metadata": {
  "kernelspec": {
   "display_name": "Python 3 (ipykernel)",
   "language": "python",
   "name": "python3"
  },
  "language_info": {
   "codemirror_mode": {
    "name": "ipython",
    "version": 3
   },
   "file_extension": ".py",
   "mimetype": "text/x-python",
   "name": "python",
   "nbconvert_exporter": "python",
   "pygments_lexer": "ipython3",
   "version": "3.8.10"
  }
 },
 "nbformat": 4,
 "nbformat_minor": 5
}
