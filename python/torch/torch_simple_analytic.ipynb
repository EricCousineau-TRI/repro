{
 "cells": [
  {
   "cell_type": "code",
   "execution_count": 1,
   "id": "9a4bce3f",
   "metadata": {},
   "outputs": [],
   "source": [
    "# Simple forward mode autodiff."
   ]
  },
  {
   "cell_type": "code",
   "execution_count": 2,
   "id": "85fe99fd",
   "metadata": {},
   "outputs": [],
   "source": [
    "import torch\n",
    "from torch import nn"
   ]
  },
  {
   "cell_type": "code",
   "execution_count": 3,
   "id": "d5112e53",
   "metadata": {},
   "outputs": [
    {
     "data": {
      "text/plain": [
       "<torch.autograd.grad_mode.set_grad_enabled at 0x7f64582b92b0>"
      ]
     },
     "execution_count": 3,
     "metadata": {},
     "output_type": "execute_result"
    }
   ],
   "source": [
    "torch.set_grad_enabled(False)"
   ]
  },
  {
   "cell_type": "code",
   "execution_count": 4,
   "id": "56334298",
   "metadata": {},
   "outputs": [],
   "source": [
    "def torch_gradient(f, x):\n",
    "    # Adapted from:\n",
    "    # https://discuss.pytorch.org/t/computing-batch-jacobian-efficiently/80771/5\n",
    "    # TODO(eric.cousineau): Keep storage for dnet_dx?\n",
    "    with torch.set_grad_enabled(True):\n",
    "        x = x.detach().requires_grad_(True)\n",
    "        y = f(x).sum()\n",
    "        df_dx, = torch.autograd.grad([y], [x])\n",
    "        return df_dx.detach()\n",
    "\n",
    "\n",
    "def torch_make_mlp(input_size, hidden_sizes, output_size):\n",
    "    layers = []\n",
    "    prev_size = input_size\n",
    "    for hidden_size in hidden_sizes:\n",
    "        layers.append(nn.Linear(prev_size, hidden_size))\n",
    "        layers.append(nn.ReLU())\n",
    "        prev_size = hidden_size\n",
    "    layers.append(nn.Linear(prev_size, output_size))\n",
    "    return nn.Sequential(*layers)"
   ]
  },
  {
   "cell_type": "code",
   "execution_count": 5,
   "id": "d35be213",
   "metadata": {},
   "outputs": [],
   "source": [
    "from imp import reload\n",
    "import torch_simple_grad as m\n",
    "reload(m)\n",
    "\n",
    "from torch_simple_grad import torch_forward_diff, torch_forward_diff_old"
   ]
  },
  {
   "cell_type": "code",
   "execution_count": 6,
   "id": "91a48b88",
   "metadata": {},
   "outputs": [
    {
     "name": "stdout",
     "output_type": "stream",
     "text": [
      "tensor([[-7.9647e-06,  7.5959e-06, -5.0962e-06,  ..., -4.6147e-06,\n",
      "          1.2591e-05,  5.7891e-06],\n",
      "        [ 2.6040e-06, -5.8673e-06, -1.4782e-06,  ...,  3.9530e-06,\n",
      "          2.0713e-06,  1.9036e-06],\n",
      "        [ 9.0580e-06, -4.0885e-07,  8.7339e-06,  ..., -1.0902e-05,\n",
      "          6.2212e-07,  2.1327e-07],\n",
      "        ...,\n",
      "        [-4.6156e-06, -2.4028e-06, -1.1645e-05,  ..., -7.6126e-06,\n",
      "          5.6755e-06,  1.2004e-05],\n",
      "        [-1.2450e-05, -3.0193e-06, -3.9227e-06,  ...,  1.7546e-06,\n",
      "         -3.6228e-06,  3.0138e-06],\n",
      "        [ 9.0079e-06, -2.1213e-06, -1.3924e-05,  ...,  1.0342e-05,\n",
      "         -1.7490e-06, -4.9472e-06]], device='cuda:0')\n"
     ]
    }
   ],
   "source": [
    "torch.random.manual_seed(0)\n",
    "\n",
    "# N = 3\n",
    "# nin = 2\n",
    "# nout = 1\n",
    "# hidden_sizes = [1]\n",
    "\n",
    "N = 512\n",
    "nin = 16\n",
    "nout = 1\n",
    "hidden_sizes = [256, 256]\n",
    "\n",
    "device = torch.device(\"cuda\")\n",
    "net = torch_make_mlp(nin, hidden_sizes, nout)\n",
    "net.eval().to(device)\n",
    "dnet_dx = torch_forward_diff(net)\n",
    "dnet_dx_script = torch.jit.script(dnet_dx)\n",
    "\n",
    "x = torch.randn((N, nin), device=device)\n",
    "\n",
    "y = net(x)\n",
    "dy_dx = torch_gradient(net, x)\n",
    "# dy_dx_a = torch_forward_diff_old(net, x).squeeze(-1)\n",
    "dy_dx_a = dnet_dx_script(x)\n",
    "\n",
    "print(dy_dx - dy_dx_a)"
   ]
  },
  {
   "cell_type": "code",
   "execution_count": 7,
   "id": "fde4b5ef",
   "metadata": {},
   "outputs": [
    {
     "name": "stdout",
     "output_type": "stream",
     "text": [
      "1.54 ms ± 178 µs per loop (mean ± std. dev. of 7 runs, 50 loops each)\n"
     ]
    }
   ],
   "source": [
    "%timeit -n 50 dy_dx = torch_gradient(net, x).cpu()"
   ]
  },
  {
   "cell_type": "code",
   "execution_count": 8,
   "id": "9b54c266",
   "metadata": {},
   "outputs": [
    {
     "name": "stdout",
     "output_type": "stream",
     "text": [
      "431 µs ± 87.7 µs per loop (mean ± std. dev. of 7 runs, 50 loops each)\n"
     ]
    }
   ],
   "source": [
    "%timeit -n 50 dy_dx_a = torch_forward_diff_old(net, x).squeeze(-1).cpu()"
   ]
  },
  {
   "cell_type": "code",
   "execution_count": 9,
   "id": "e0d2333e",
   "metadata": {},
   "outputs": [
    {
     "name": "stdout",
     "output_type": "stream",
     "text": [
      "435 µs ± 71 µs per loop (mean ± std. dev. of 7 runs, 50 loops each)\n"
     ]
    }
   ],
   "source": [
    "%timeit -n 50 dy_dx_a = dnet_dx(x).cpu()"
   ]
  },
  {
   "cell_type": "code",
   "execution_count": 10,
   "id": "7fbc88e9",
   "metadata": {},
   "outputs": [
    {
     "name": "stdout",
     "output_type": "stream",
     "text": [
      "578 µs ± 33 µs per loop (mean ± std. dev. of 7 runs, 50 loops each)\n"
     ]
    }
   ],
   "source": [
    "%timeit -n 50 dy_dx_a = dnet_dx_script(x).cpu()"
   ]
  },
  {
   "cell_type": "code",
   "execution_count": null,
   "id": "4e241a75",
   "metadata": {},
   "outputs": [],
   "source": []
  }
 ],
 "metadata": {
  "kernelspec": {
   "display_name": "Python 3 (ipykernel)",
   "language": "python",
   "name": "python3"
  },
  "language_info": {
   "codemirror_mode": {
    "name": "ipython",
    "version": 3
   },
   "file_extension": ".py",
   "mimetype": "text/x-python",
   "name": "python",
   "nbconvert_exporter": "python",
   "pygments_lexer": "ipython3",
   "version": "3.8.10"
  }
 },
 "nbformat": 4,
 "nbformat_minor": 5
}
