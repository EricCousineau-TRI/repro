{
 "cells": [
  {
   "cell_type": "code",
   "execution_count": 1,
   "id": "e7111f0f",
   "metadata": {},
   "outputs": [],
   "source": [
    "# Simple forward mode autodiff."
   ]
  },
  {
   "cell_type": "code",
   "execution_count": 2,
   "id": "a7e5b213",
   "metadata": {},
   "outputs": [
    {
     "data": {
      "text/plain": [
       "<module 'torch_simple_grad' from '/home/eacousineau/proj/tri/repo/repro/python/torch/torch_simple_grad.py'>"
      ]
     },
     "execution_count": 2,
     "metadata": {},
     "output_type": "execute_result"
    }
   ],
   "source": [
    "from imp import reload\n",
    "import torch_simple_grad as m\n",
    "reload(m)"
   ]
  },
  {
   "cell_type": "code",
   "execution_count": 3,
   "id": "6a556f39",
   "metadata": {},
   "outputs": [],
   "source": [
    "import torch\n",
    "from torch import nn"
   ]
  },
  {
   "cell_type": "code",
   "execution_count": 4,
   "id": "fb72d3be",
   "metadata": {},
   "outputs": [],
   "source": [
    "from torch_simple_grad import torch_forward_diff, torch_col_zero"
   ]
  },
  {
   "cell_type": "code",
   "execution_count": 5,
   "id": "36efea1c",
   "metadata": {},
   "outputs": [
    {
     "data": {
      "text/plain": [
       "<torch.autograd.grad_mode.set_grad_enabled at 0x7f7ec4357e50>"
      ]
     },
     "execution_count": 5,
     "metadata": {},
     "output_type": "execute_result"
    }
   ],
   "source": [
    "torch.set_grad_enabled(False)"
   ]
  },
  {
   "cell_type": "code",
   "execution_count": 6,
   "id": "ca2ad877",
   "metadata": {},
   "outputs": [],
   "source": [
    "def torch_gradient(f, x):\n",
    "    # Adapted from:\n",
    "    # https://discuss.pytorch.org/t/computing-batch-jacobian-efficiently/80771/5\n",
    "    # TODO(eric.cousineau): Keep storage for dnet_dx?\n",
    "    with torch.set_grad_enabled(True):\n",
    "        x = x.detach().requires_grad_(True)\n",
    "        y = f(x).sum()\n",
    "        df_dx, = torch.autograd.grad([y], [x])\n",
    "        return df_dx.detach()\n",
    "\n",
    "\n",
    "def torch_make_mlp(input_size, hidden_sizes, output_size):\n",
    "    layers = []\n",
    "    prev_size = input_size\n",
    "    for hidden_size in hidden_sizes:\n",
    "        layers.append(nn.Linear(prev_size, hidden_size))\n",
    "        layers.append(nn.ReLU())\n",
    "        prev_size = hidden_size\n",
    "    layers.append(nn.Linear(prev_size, output_size))\n",
    "    return nn.Sequential(*layers)\n",
    "\n",
    "\n",
    "def torch_forward_diff_old(net, x, dx=None):\n",
    "    # Imperative.\n",
    "    if dx is None:\n",
    "        N, L = x.shape\n",
    "        dx = torch.eye(L, device=x.device, dtype=x.dtype)\n",
    "        dx = dx.repeat(N, 1, 1)\n",
    "    if isinstance(net, nn.Sequential):\n",
    "        count = len(net)\n",
    "        for i, net_i in enumerate(net):\n",
    "            dx = torch_forward_diff_old(net_i, x, dx)\n",
    "            # Don't compute for last.\n",
    "            if i + 1 < count:\n",
    "                x = net_i(x)\n",
    "    elif isinstance(net, nn.Linear):\n",
    "        A = net.weight\n",
    "        dx = dx @ A.T\n",
    "    elif isinstance(net, nn.ReLU):\n",
    "        torch_col_zero(dx, x <= 0)\n",
    "    else:\n",
    "        assert False, type(net)\n",
    "    return dx"
   ]
  },
  {
   "cell_type": "code",
   "execution_count": 7,
   "id": "94e31810",
   "metadata": {},
   "outputs": [
    {
     "name": "stdout",
     "output_type": "stream",
     "text": [
      "tensor([[-7.9647e-06,  7.5959e-06, -5.0962e-06,  ..., -4.6147e-06,\n",
      "          1.2591e-05,  5.7891e-06],\n",
      "        [ 2.6040e-06, -5.8673e-06, -1.4782e-06,  ...,  3.9530e-06,\n",
      "          2.0713e-06,  1.9036e-06],\n",
      "        [ 9.0580e-06, -4.0885e-07,  8.7339e-06,  ..., -1.0902e-05,\n",
      "          6.2212e-07,  2.1327e-07],\n",
      "        ...,\n",
      "        [-4.6156e-06, -2.4028e-06, -1.1645e-05,  ..., -7.6126e-06,\n",
      "          5.6755e-06,  1.2004e-05],\n",
      "        [-1.2450e-05, -3.0193e-06, -3.9227e-06,  ...,  1.7546e-06,\n",
      "         -3.6228e-06,  3.0138e-06],\n",
      "        [ 9.0079e-06, -2.1213e-06, -1.3924e-05,  ...,  1.0342e-05,\n",
      "         -1.7490e-06, -4.9472e-06]], device='cuda:0')\n"
     ]
    }
   ],
   "source": [
    "torch.random.manual_seed(0)\n",
    "\n",
    "# N = 3\n",
    "# nin = 2\n",
    "# nout = 1\n",
    "# hidden_sizes = [1]\n",
    "\n",
    "N = 512\n",
    "nin = 16\n",
    "nout = 1\n",
    "hidden_sizes = [256, 256]\n",
    "\n",
    "device = torch.device(\"cuda\")\n",
    "net = torch_make_mlp(nin, hidden_sizes, nout)\n",
    "net.eval().to(device)\n",
    "dnet_dx = torch_forward_diff(net)\n",
    "dnet_dx_script = torch.jit.script(dnet_dx)\n",
    "\n",
    "x = torch.randn((N, nin), device=device)\n",
    "\n",
    "y = net(x)\n",
    "dy_dx = torch_gradient(net, x)\n",
    "# dy_dx_a = torch_forward_diff_old(net, x).squeeze(-1)\n",
    "dy_dx_a = dnet_dx_script(x)\n",
    "\n",
    "print(dy_dx - dy_dx_a)"
   ]
  },
  {
   "cell_type": "code",
   "execution_count": 8,
   "id": "8ec74464",
   "metadata": {},
   "outputs": [
    {
     "name": "stdout",
     "output_type": "stream",
     "text": [
      "1.53 ms ± 195 µs per loop (mean ± std. dev. of 7 runs, 50 loops each)\n"
     ]
    }
   ],
   "source": [
    "%timeit -n 50 dy_dx = torch_gradient(net, x).cpu()"
   ]
  },
  {
   "cell_type": "code",
   "execution_count": 9,
   "id": "b918725b",
   "metadata": {},
   "outputs": [
    {
     "name": "stdout",
     "output_type": "stream",
     "text": [
      "461 µs ± 72.5 µs per loop (mean ± std. dev. of 7 runs, 50 loops each)\n"
     ]
    }
   ],
   "source": [
    "%timeit -n 50 dy_dx_a = torch_forward_diff_old(net, x).squeeze(-1).cpu()"
   ]
  },
  {
   "cell_type": "code",
   "execution_count": 10,
   "id": "3f1affad",
   "metadata": {},
   "outputs": [
    {
     "name": "stdout",
     "output_type": "stream",
     "text": [
      "416 µs ± 36.1 µs per loop (mean ± std. dev. of 7 runs, 50 loops each)\n"
     ]
    }
   ],
   "source": [
    "%timeit -n 50 dy_dx_a = dnet_dx(x).cpu()"
   ]
  },
  {
   "cell_type": "code",
   "execution_count": 11,
   "id": "b64b8fcf",
   "metadata": {},
   "outputs": [
    {
     "name": "stdout",
     "output_type": "stream",
     "text": [
      "585 µs ± 46.1 µs per loop (mean ± std. dev. of 7 runs, 50 loops each)\n"
     ]
    }
   ],
   "source": [
    "%timeit -n 50 dy_dx_a = dnet_dx_script(x).cpu()"
   ]
  },
  {
   "cell_type": "code",
   "execution_count": null,
   "id": "dcfb1524",
   "metadata": {},
   "outputs": [],
   "source": []
  }
 ],
 "metadata": {
  "kernelspec": {
   "display_name": "Python 3 (ipykernel)",
   "language": "python",
   "name": "python3"
  },
  "language_info": {
   "codemirror_mode": {
    "name": "ipython",
    "version": 3
   },
   "file_extension": ".py",
   "mimetype": "text/x-python",
   "name": "python",
   "nbconvert_exporter": "python",
   "pygments_lexer": "ipython3",
   "version": "3.8.10"
  }
 },
 "nbformat": 4,
 "nbformat_minor": 5
}
