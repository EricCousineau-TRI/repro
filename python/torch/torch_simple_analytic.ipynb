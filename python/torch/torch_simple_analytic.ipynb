{
 "cells": [
  {
   "cell_type": "code",
   "execution_count": 1,
   "id": "02bfb1e1",
   "metadata": {},
   "outputs": [],
   "source": [
    "# Simple forward mode autodiff."
   ]
  },
  {
   "cell_type": "code",
   "execution_count": 2,
   "id": "0c8a1377",
   "metadata": {},
   "outputs": [],
   "source": [
    "# from imp import reload\n",
    "# import torch_simple_grad as m\n",
    "# reload(m)"
   ]
  },
  {
   "cell_type": "code",
   "execution_count": 3,
   "id": "54e65f4f",
   "metadata": {},
   "outputs": [],
   "source": [
    "import os\n",
    "os.environ.update(\n",
    "#     CUDA_LAUNCH_BLOCKING=\"1\",\n",
    ")\n",
    "\n",
    "import torch\n",
    "from torch import nn"
   ]
  },
  {
   "cell_type": "code",
   "execution_count": 4,
   "id": "1df5701a",
   "metadata": {},
   "outputs": [],
   "source": [
    "from torch_simple_grad import torch_forward_diff, torch_col_zero"
   ]
  },
  {
   "cell_type": "code",
   "execution_count": 5,
   "id": "5ce5e452",
   "metadata": {},
   "outputs": [
    {
     "data": {
      "text/plain": [
       "<torch.autograd.grad_mode.set_grad_enabled at 0x7f2d7afe9bb0>"
      ]
     },
     "execution_count": 5,
     "metadata": {},
     "output_type": "execute_result"
    }
   ],
   "source": [
    "torch.set_grad_enabled(False)"
   ]
  },
  {
   "cell_type": "code",
   "execution_count": 6,
   "id": "f2b43698",
   "metadata": {},
   "outputs": [],
   "source": [
    "def torch_gradient(f, x):\n",
    "    # Adapted from:\n",
    "    # https://discuss.pytorch.org/t/computing-batch-jacobian-efficiently/80771/5\n",
    "    # TODO(eric.cousineau): Keep storage for dnet_dx?\n",
    "    with torch.set_grad_enabled(True):\n",
    "        x = x.detach().requires_grad_(True)\n",
    "        y = f(x).sum()\n",
    "        df_dx, = torch.autograd.grad([y], [x])\n",
    "        return df_dx.detach()\n",
    "\n",
    "\n",
    "def torch_make_mlp(input_size, hidden_sizes, output_size):\n",
    "    layers = []\n",
    "    prev_size = input_size\n",
    "    for hidden_size in hidden_sizes:\n",
    "        layers.append(nn.Linear(prev_size, hidden_size))\n",
    "        layers.append(nn.ReLU())\n",
    "        prev_size = hidden_size\n",
    "    layers.append(nn.Linear(prev_size, output_size))\n",
    "    return nn.Sequential(*layers)\n",
    "\n",
    "\n",
    "def torch_forward_diff_old(net, x, dx=None):\n",
    "    # Imperative.\n",
    "    if dx is None:\n",
    "        N, L = x.shape\n",
    "        dx = torch.eye(L, device=x.device, dtype=x.dtype)\n",
    "        dx = dx.repeat(N, 1, 1)\n",
    "    if isinstance(net, nn.Sequential):\n",
    "        count = len(net)\n",
    "        for i, net_i in enumerate(net):\n",
    "            dx = torch_forward_diff_old(net_i, x, dx)\n",
    "            # Don't compute for last.\n",
    "            if i + 1 < count:\n",
    "                x = net_i(x)\n",
    "    elif isinstance(net, nn.Linear):\n",
    "        A = net.weight\n",
    "        dx = dx @ A.T\n",
    "    elif isinstance(net, nn.ReLU):\n",
    "        torch_col_zero(dx, x <= 0)\n",
    "    else:\n",
    "        assert False, type(net)\n",
    "    return dx"
   ]
  },
  {
   "cell_type": "code",
   "execution_count": 7,
   "id": "9938ab41",
   "metadata": {},
   "outputs": [
    {
     "name": "stdout",
     "output_type": "stream",
     "text": [
      "tensor(0.0007, device='cuda:0')\n"
     ]
    }
   ],
   "source": [
    "torch.random.manual_seed(0)\n",
    "\n",
    "# N = 3\n",
    "# nin = 2\n",
    "# nout = 1\n",
    "# hidden_sizes = [1]\n",
    "\n",
    "N = 512  # Seems OK\n",
    "# N = 512 * 8  # Slows down a ton\n",
    "nin = 16\n",
    "nout = 1\n",
    "hidden_sizes = [512] * 8\n",
    "\n",
    "device = torch.device(\"cuda\")\n",
    "net = torch_make_mlp(nin, hidden_sizes, nout)\n",
    "net.eval().to(device)\n",
    "dnet_dx = torch_forward_diff(net)\n",
    "dnet_dx_script = torch.jit.script(dnet_dx)\n",
    "\n",
    "x = torch.randn((N, nin), device=device)\n",
    "\n",
    "y = net(x)\n",
    "dy_dx = torch_gradient(net, x)\n",
    "# dy_dx_a = torch_forward_diff_old(net, x).squeeze(-1)\n",
    "dy_dx_a = dnet_dx_script(x)\n",
    "\n",
    "print((dy_dx - dy_dx_a).abs().max() / dy_dx.abs().max())"
   ]
  },
  {
   "cell_type": "code",
   "execution_count": 8,
   "id": "a9297919",
   "metadata": {},
   "outputs": [],
   "source": [
    "count = 2\n",
    "from simple_profiling import ProfilingTorch, ProfilingCProfile, ProfilingWallClock\n",
    "\n",
    "d = os.path.expanduser(\"~/tmp/torch_prof\")\n",
    "os.makedirs(d, exist_ok=True)\n",
    "\n",
    "def prof_grad(name, x0, grad):\n",
    "    prof = ProfilingTorch()\n",
    "#     prof = ProfilingWallClock()\n",
    "#     prof = ProfilingCProfile()\n",
    "    with prof.context():\n",
    "        x = x0.clone()\n",
    "        step_size = 1e-8\n",
    "        for _ in range(count):\n",
    "            x += grad(x) * step_size\n",
    "        torch.cuda.synchronize()\n",
    "    print(prof.prof.key_averages().table(sort_by=\"cpu_time_total\", row_limit=10))\n",
    "    file, = prof.save_to_file(base=f\"{d}/{name}\")\n",
    "    print(file)\n",
    "    print(prof.dt / count)"
   ]
  },
  {
   "cell_type": "code",
   "execution_count": 9,
   "id": "ac3daa8d",
   "metadata": {},
   "outputs": [
    {
     "name": "stdout",
     "output_type": "stream",
     "text": [
      "-------------------------------------------------------  ------------  ------------  ------------  ------------  ------------  ------------  ------------  ------------  ------------  ------------  \n",
      "                                                   Name    Self CPU %      Self CPU   CPU total %     CPU total  CPU time avg     Self CUDA   Self CUDA %    CUDA total  CUDA time avg    # of Calls  \n",
      "-------------------------------------------------------  ------------  ------------  ------------  ------------  ------------  ------------  ------------  ------------  ------------  ------------  \n",
      "                                                 timing        44.66%      14.297ms        57.71%      18.474ms      18.474ms      14.442ms        47.16%      18.468ms      18.468ms             1  \n",
      "    autograd::engine::evaluate_function: AddmmBackward0         2.21%     708.000us        32.39%      10.368ms     576.000us       1.226ms         4.00%      10.199ms     566.611us            18  \n",
      "                                         AddmmBackward0         2.43%     778.000us        25.07%       8.026ms     445.889us       1.644ms         5.37%       7.857ms     436.500us            18  \n",
      "                                                aten::t         3.12%     999.000us        12.77%       4.088ms      56.778us       1.565ms         5.11%       3.517ms      48.847us            72  \n",
      "                                               aten::mm         5.90%       1.888ms        11.31%       3.619ms     100.528us       2.662ms         8.69%       3.241ms      90.028us            36  \n",
      "                                        cudaEventRecord         9.20%       2.944ms         9.20%       2.944ms       2.508us       0.000us         0.00%       0.000us       0.000us          1174  \n",
      "                                        aten::transpose         2.40%     768.000us         7.95%       2.545ms      35.347us       1.319ms         4.31%       1.952ms      27.111us            72  \n",
      "                                           aten::linear         0.49%     157.000us         7.23%       2.314ms     128.556us     242.000us         0.79%       2.284ms     126.889us            18  \n",
      "     autograd::engine::evaluate_function: ReluBackward0         1.20%     385.000us         5.52%       1.766ms     110.375us     514.000us         1.68%       1.619ms     101.188us            16  \n",
      "                                        aten::clamp_min         1.24%     398.000us         4.63%       1.483ms      46.344us     630.000us         2.06%       1.346ms      42.062us            32  \n",
      "-------------------------------------------------------  ------------  ------------  ------------  ------------  ------------  ------------  ------------  ------------  ------------  ------------  \n",
      "Self CPU time total: 32.010ms\n",
      "Self CUDA time total: 30.626ms\n",
      "\n",
      "/home/eacousineau/tmp/torch_prof/torch_gradient_trace.json\n",
      "0.009168744087219238\n"
     ]
    }
   ],
   "source": [
    "prof_grad(\"torch_gradient\", x, lambda x: torch_gradient(net, x))"
   ]
  },
  {
   "cell_type": "code",
   "execution_count": 10,
   "id": "641ee6c1",
   "metadata": {},
   "outputs": [
    {
     "name": "stdout",
     "output_type": "stream",
     "text": [
      "-------------------------------------------------------  ------------  ------------  ------------  ------------  ------------  ------------  ------------  ------------  ------------  ------------  \n",
      "                                                   Name    Self CPU %      Self CPU   CPU total %     CPU total  CPU time avg     Self CUDA   Self CUDA %    CUDA total  CUDA time avg    # of Calls  \n",
      "-------------------------------------------------------  ------------  ------------  ------------  ------------  ------------  ------------  ------------  ------------  ------------  ------------  \n",
      "                                                 timing        13.07%       1.676ms        97.14%      12.453ms      12.453ms       1.318ms        10.58%      12.445ms      12.445ms             1  \n",
      "                                           aten::repeat         2.74%     351.000us        23.73%       3.042ms     169.000us     707.000us         5.68%       3.604ms     200.222us            18  \n",
      "                                        cudaEventRecord        15.83%       2.029ms        15.83%       2.029ms       1.324us       0.000us         0.00%       0.000us       0.000us          1532  \n",
      "                                           aten::linear         1.20%     154.000us        14.24%       1.826ms     114.125us      98.000us         0.79%     791.000us      49.438us            16  \n",
      "                                           aten::matmul         1.77%     227.000us        12.83%       1.645ms      91.389us     240.000us         1.93%       3.601ms     200.056us            18  \n",
      "                                        aten::clamp_min         2.78%     357.000us        11.47%       1.470ms      45.938us     437.000us         3.51%     998.000us      31.188us            32  \n",
      "                                       aten::as_strided         7.82%       1.002ms        11.09%       1.422ms       8.887us     964.000us         7.74%     964.000us       6.025us           160  \n",
      "                                            aten::addmm         4.74%     608.000us         9.00%       1.154ms      72.125us     439.000us         3.53%     529.000us      33.062us            16  \n",
      "                                             aten::relu         1.14%     146.000us         8.71%       1.116ms      69.750us     104.000us         0.84%     697.000us      43.562us            16  \n",
      "                                       aten::index_put_         1.06%     136.000us         8.14%       1.043ms      65.188us      73.000us         0.59%       1.312ms      82.000us            16  \n",
      "-------------------------------------------------------  ------------  ------------  ------------  ------------  ------------  ------------  ------------  ------------  ------------  ------------  \n",
      "Self CPU time total: 12.820ms\n",
      "Self CUDA time total: 12.453ms\n",
      "\n",
      "/home/eacousineau/tmp/torch_prof/torch_forward_diff_old_trace.json\n",
      "0.006184935569763184\n"
     ]
    }
   ],
   "source": [
    "prof_grad(\"torch_forward_diff_old\", x, lambda x: torch_forward_diff_old(net, x).squeeze(-1))"
   ]
  },
  {
   "cell_type": "code",
   "execution_count": 11,
   "id": "eb8d76e9",
   "metadata": {},
   "outputs": [
    {
     "name": "stdout",
     "output_type": "stream",
     "text": [
      "-------------------------------------------------------  ------------  ------------  ------------  ------------  ------------  ------------  ------------  ------------  ------------  ------------  \n",
      "                                                   Name    Self CPU %      Self CPU   CPU total %     CPU total  CPU time avg     Self CUDA   Self CUDA %    CUDA total  CUDA time avg    # of Calls  \n",
      "-------------------------------------------------------  ------------  ------------  ------------  ------------  ------------  ------------  ------------  ------------  ------------  ------------  \n",
      "                                                 timing        11.78%       1.482ms        97.11%      12.221ms      12.221ms       1.103ms         9.02%      12.216ms      12.216ms             1  \n",
      "                                           aten::repeat         2.71%     341.000us        23.31%       2.934ms     163.000us     737.000us         6.03%       2.738ms     152.111us            18  \n",
      "                                           aten::linear         1.85%     233.000us        17.04%       2.145ms     119.167us     134.000us         1.10%       1.026ms      57.000us            18  \n",
      "                                        cudaEventRecord        15.92%       2.003ms        15.92%       2.003ms       1.282us       0.000us         0.00%       0.000us       0.000us          1562  \n",
      "                                           aten::matmul         1.77%     223.000us        12.85%       1.617ms      89.833us     278.000us         2.27%       4.024ms     223.556us            18  \n",
      "                                        aten::clamp_min         2.88%     363.000us        11.61%       1.461ms      45.656us     490.000us         4.01%       1.103ms      34.469us            32  \n",
      "                                       aten::as_strided         7.83%     985.000us        11.12%       1.399ms       8.530us     549.000us         4.49%     549.000us       3.348us           164  \n",
      "                                            aten::addmm         5.65%     711.000us        10.61%       1.335ms      74.167us     593.000us         4.85%     715.000us      39.722us            18  \n",
      "                                             aten::relu         1.16%     146.000us         8.76%       1.103ms      68.938us     113.000us         0.92%     771.000us      48.188us            16  \n",
      "                                       aten::index_put_         1.06%     133.000us         8.24%       1.037ms      64.812us      57.000us         0.47%       1.363ms      85.188us            16  \n",
      "-------------------------------------------------------  ------------  ------------  ------------  ------------  ------------  ------------  ------------  ------------  ------------  ------------  \n",
      "Self CPU time total: 12.585ms\n",
      "Self CUDA time total: 12.224ms\n",
      "\n",
      "/home/eacousineau/tmp/torch_prof/dnet_dx_trace.json\n",
      "0.006077766418457031\n"
     ]
    }
   ],
   "source": [
    "prof_grad(\"dnet_dx\", x, dnet_dx)"
   ]
  },
  {
   "cell_type": "code",
   "execution_count": 12,
   "id": "b8d80b89",
   "metadata": {},
   "outputs": [
    {
     "name": "stdout",
     "output_type": "stream",
     "text": [
      "-------------------------------------------------------  ------------  ------------  ------------  ------------  ------------  ------------  ------------  ------------  ------------  ------------  \n",
      "                                                   Name    Self CPU %      Self CPU   CPU total %     CPU total  CPU time avg     Self CUDA   Self CUDA %    CUDA total  CUDA time avg    # of Calls  \n",
      "-------------------------------------------------------  ------------  ------------  ------------  ------------  ------------  ------------  ------------  ------------  ------------  ------------  \n",
      "                                                 timing        40.96%      10.503ms        98.60%      25.284ms      25.284ms      10.493ms        41.50%      25.278ms      25.278ms             1  \n",
      "                                                forward         1.51%     386.000us        56.74%      14.551ms       7.276ms     485.000us         1.92%      14.620ms       7.310ms             2  \n",
      "                                       aten::index_put_         0.63%     161.000us        16.81%       4.310ms     269.375us     125.000us         0.49%       5.859ms     366.188us            16  \n",
      "                                 aten::_index_put_impl_         1.48%     379.000us        16.04%       4.113ms     257.062us       1.734ms         6.86%       5.734ms     358.375us            16  \n",
      "                                        aten::clamp_min         1.07%     274.000us        11.52%       2.954ms     105.500us     189.000us         0.75%       2.071ms      73.964us            28  \n",
      "                                        cudaEventRecord         9.77%       2.505ms         9.77%       2.505ms       1.145us       0.000us         0.00%       0.000us       0.000us          2188  \n",
      "                                           aten::repeat         1.23%     316.000us         9.76%       2.504ms     139.111us     434.000us         1.72%       1.818ms     101.000us            18  \n",
      "                                          aten::nonzero         2.95%     757.000us         8.15%       2.089ms     130.562us       3.238ms        12.81%       3.531ms     220.688us            16  \n",
      "                                             aten::relu         0.46%     119.000us         6.84%       1.753ms     125.214us      50.000us         0.20%       1.133ms      80.929us            14  \n",
      "                                       aten::as_strided         4.69%       1.203ms         6.76%       1.733ms       7.221us     455.000us         1.80%     455.000us       1.896us           240  \n",
      "-------------------------------------------------------  ------------  ------------  ------------  ------------  ------------  ------------  ------------  ------------  ------------  ------------  \n",
      "Self CPU time total: 25.643ms\n",
      "Self CUDA time total: 25.285ms\n",
      "\n",
      "/home/eacousineau/tmp/torch_prof/dnet_dx_script_trace.json\n",
      "0.01260673999786377\n"
     ]
    }
   ],
   "source": [
    "prof_grad(\"dnet_dx_script\", x, dnet_dx_script)"
   ]
  },
  {
   "cell_type": "code",
   "execution_count": null,
   "id": "2e6bbccd",
   "metadata": {},
   "outputs": [],
   "source": []
  }
 ],
 "metadata": {
  "kernelspec": {
   "display_name": "Python 3 (ipykernel)",
   "language": "python",
   "name": "python3"
  },
  "language_info": {
   "codemirror_mode": {
    "name": "ipython",
    "version": 3
   },
   "file_extension": ".py",
   "mimetype": "text/x-python",
   "name": "python",
   "nbconvert_exporter": "python",
   "pygments_lexer": "ipython3",
   "version": "3.8.10"
  }
 },
 "nbformat": 4,
 "nbformat_minor": 5
}
