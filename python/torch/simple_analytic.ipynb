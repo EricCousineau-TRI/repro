{
 "cells": [
  {
   "cell_type": "code",
   "execution_count": null,
   "id": "a41ca732",
   "metadata": {},
   "outputs": [],
   "source": [
    "# Simple forward mode autodiff."
   ]
  },
  {
   "cell_type": "code",
   "execution_count": null,
   "id": "cbf8b94e",
   "metadata": {},
   "outputs": [],
   "source": [
    "import torch\n",
    "from torch import nn"
   ]
  },
  {
   "cell_type": "code",
   "execution_count": null,
   "id": "3a440893",
   "metadata": {},
   "outputs": [],
   "source": [
    "torch.set_grad_enabled(False)"
   ]
  },
  {
   "cell_type": "code",
   "execution_count": null,
   "id": "792388a4",
   "metadata": {},
   "outputs": [],
   "source": [
    "def torch_gradient(f, x):\n",
    "    # Adapted from:\n",
    "    # https://discuss.pytorch.org/t/computing-batch-jacobian-efficiently/80771/5\n",
    "    # TODO(eric.cousineau): Keep storage for dnet_dx?\n",
    "    with torch.set_grad_enabled(True):\n",
    "        x = x.detach().requires_grad_(True)\n",
    "        y = f(x).sum()\n",
    "        df_dx, = torch.autograd.grad([y], [x])\n",
    "        return df_dx.detach()\n",
    "\n",
    "\n",
    "def torch_make_mlp(input_size, hidden_sizes, output_size):\n",
    "    layers = []\n",
    "    prev_size = input_size\n",
    "    for hidden_size in hidden_sizes:\n",
    "        layers.append(nn.Linear(prev_size, hidden_size))\n",
    "        layers.append(nn.ReLU())\n",
    "        prev_size = hidden_size\n",
    "    layers.append(nn.Linear(prev_size, output_size))\n",
    "    return nn.Sequential(*layers)\n",
    "\n",
    "\n",
    "def torch_col_zero(A, mask):\n",
    "    # TODO(eric): Better way to do this?\n",
    "    if mask.ndim == 1:\n",
    "        A[:, mask] = 0.0\n",
    "    else:\n",
    "        N = mask.shape[0]\n",
    "        for i in range(N):\n",
    "            A[i, :, mask[i]] = 0.0\n",
    "\n",
    "\n",
    "def torch_forward_diff(net, x, dx=None):\n",
    "    if dx is None:\n",
    "        if x.ndim == 1:\n",
    "            L, = x.shape\n",
    "            dx = torch.eye(L)\n",
    "        elif x.ndim == 2:\n",
    "            N, L = x.shape\n",
    "            dx = torch.eye(L).repeat(N, 1, 1)\n",
    "        dx = dx.to(x)\n",
    "    if isinstance(net, nn.Sequential):\n",
    "        count = len(net)\n",
    "        for i, net_i in enumerate(net):\n",
    "            dx = torch_forward_diff(net_i, x, dx)\n",
    "            # Don't compute for last.\n",
    "            if i + 1 < count:\n",
    "                x = net_i(x)\n",
    "    elif isinstance(net, nn.Linear):\n",
    "        A = net.weight\n",
    "        dx = dx @ A.T\n",
    "    elif isinstance(net, nn.ReLU):\n",
    "        torch_col_zero(dx, x <= 0)\n",
    "    else:\n",
    "        assert False, type(net)\n",
    "    return dx"
   ]
  },
  {
   "cell_type": "code",
   "execution_count": null,
   "id": "0d43b856",
   "metadata": {},
   "outputs": [],
   "source": [
    "torch.random.manual_seed(0)\n",
    "\n",
    "N = 512\n",
    "nin = 2\n",
    "nout = 1\n",
    "\n",
    "device = torch.device(\"cuda\")\n",
    "net = torch_make_mlp(nin, [256, 256], nout)\n",
    "net.eval().to(device)\n",
    "\n",
    "x = torch.randn((N, nin), device=device)\n",
    "\n",
    "y = net(x)"
   ]
  },
  {
   "cell_type": "code",
   "execution_count": null,
   "id": "7857b8ca",
   "metadata": {},
   "outputs": [],
   "source": [
    "%timeit -n 50 dy_dx = torch_gradient(net, x).detach().cpu()"
   ]
  },
  {
   "cell_type": "code",
   "execution_count": null,
   "id": "a364dc8b",
   "metadata": {},
   "outputs": [],
   "source": [
    "%timeit -n 50 dy_dx_a = torch_forward_diff(net, x).squeeze(-1).detach().cpu()"
   ]
  },
  {
   "cell_type": "code",
   "execution_count": null,
   "id": "77dfae1c",
   "metadata": {},
   "outputs": [],
   "source": []
  }
 ],
 "metadata": {
  "kernelspec": {
   "display_name": "Python 3 (ipykernel)",
   "language": "python",
   "name": "python3"
  },
  "language_info": {
   "codemirror_mode": {
    "name": "ipython",
    "version": 3
   },
   "file_extension": ".py",
   "mimetype": "text/x-python",
   "name": "python",
   "nbconvert_exporter": "python",
   "pygments_lexer": "ipython3",
   "version": "3.8.10"
  }
 },
 "nbformat": 4,
 "nbformat_minor": 5
}
