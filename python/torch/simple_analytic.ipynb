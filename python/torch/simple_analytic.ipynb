{
 "cells": [
  {
   "cell_type": "code",
   "execution_count": 1,
   "id": "6339d77d",
   "metadata": {},
   "outputs": [],
   "source": [
    "# Simple forward mode autodiff."
   ]
  },
  {
   "cell_type": "code",
   "execution_count": 2,
   "id": "2c5f00bb",
   "metadata": {},
   "outputs": [],
   "source": [
    "import torch\n",
    "from torch import nn"
   ]
  },
  {
   "cell_type": "code",
   "execution_count": 3,
   "id": "6b9a3b6f",
   "metadata": {},
   "outputs": [
    {
     "data": {
      "text/plain": [
       "<torch.autograd.grad_mode.set_grad_enabled at 0x7f888842c250>"
      ]
     },
     "execution_count": 3,
     "metadata": {},
     "output_type": "execute_result"
    }
   ],
   "source": [
    "torch.set_grad_enabled(False)"
   ]
  },
  {
   "cell_type": "code",
   "execution_count": 4,
   "id": "1925a6cb",
   "metadata": {},
   "outputs": [],
   "source": [
    "def torch_gradient(f, x):\n",
    "    # Adapted from:\n",
    "    # https://discuss.pytorch.org/t/computing-batch-jacobian-efficiently/80771/5\n",
    "    # TODO(eric.cousineau): Keep storage for dnet_dx?\n",
    "    with torch.set_grad_enabled(True):\n",
    "        x = x.detach().requires_grad_(True)\n",
    "        y = f(x).sum()\n",
    "        df_dx, = torch.autograd.grad([y], [x])\n",
    "        return df_dx.detach()\n",
    "\n",
    "\n",
    "def torch_make_mlp(input_size, hidden_sizes, output_size):\n",
    "    layers = []\n",
    "    prev_size = input_size\n",
    "    for hidden_size in hidden_sizes:\n",
    "        layers.append(nn.Linear(prev_size, hidden_size))\n",
    "        layers.append(nn.ReLU())\n",
    "        prev_size = hidden_size\n",
    "    layers.append(nn.Linear(prev_size, output_size))\n",
    "    return nn.Sequential(*layers)\n",
    "\n",
    "\n",
    "def torch_col_zero(A, mask):\n",
    "    # A: N x R x C\n",
    "    # mask: N x C\n",
    "    N, R, C = A.shape\n",
    "    N, L = mask.shape\n",
    "    mask = mask.unsqueeze(1).repeat(1, R, 1)\n",
    "    A[mask] = 0.0\n",
    "\n",
    "\n",
    "def torch_forward_diff(net, x, dx=None):\n",
    "    if dx is None:\n",
    "        N, L = x.shape\n",
    "        dx = torch.eye(L, device=x.device, dtype=x.dtype)\n",
    "        dx = dx.repeat(N, 1, 1)\n",
    "    if isinstance(net, nn.Sequential):\n",
    "        count = len(net)\n",
    "        for i, net_i in enumerate(net):\n",
    "            dx = torch_forward_diff(net_i, x, dx)\n",
    "            # Don't compute for last.\n",
    "            if i + 1 < count:\n",
    "                x = net_i(x)\n",
    "    elif isinstance(net, nn.Linear):\n",
    "        A = net.weight\n",
    "        dx = dx @ A.T\n",
    "    elif isinstance(net, nn.ReLU):\n",
    "        torch_col_zero(dx, x <= 0)\n",
    "    else:\n",
    "        assert False, type(net)\n",
    "    return dx"
   ]
  },
  {
   "cell_type": "code",
   "execution_count": 5,
   "id": "86011fdd",
   "metadata": {},
   "outputs": [
    {
     "name": "stdout",
     "output_type": "stream",
     "text": [
      "tensor([[-2.9323e-05, -1.9170e-05],\n",
      "        [-1.2907e-05, -1.6205e-05],\n",
      "        [-6.4762e-05, -4.5732e-05],\n",
      "        ...,\n",
      "        [ 4.7311e-07, -1.2666e-05],\n",
      "        [ 6.1169e-06,  2.9355e-05],\n",
      "        [-2.8305e-05, -9.4622e-06]], device='cuda:0')\n"
     ]
    }
   ],
   "source": [
    "torch.random.manual_seed(0)\n",
    "\n",
    "# N = 3\n",
    "# nin = 2\n",
    "# nout = 1\n",
    "# hidden_sizes = []\n",
    "\n",
    "N = 512\n",
    "nin = 2\n",
    "nout = 1\n",
    "hidden_sizes = [256, 256]\n",
    "\n",
    "device = torch.device(\"cuda\")\n",
    "net = torch_make_mlp(nin, hidden_sizes, nout)\n",
    "net.eval().to(device)\n",
    "\n",
    "x = torch.randn((N, nin), device=device)\n",
    "\n",
    "y = net(x)\n",
    "dy_dx = torch_gradient(net, x)\n",
    "dy_dx_a = torch_forward_diff(net, x).squeeze(-1)\n",
    "\n",
    "print(dy_dx - dy_dx_a)"
   ]
  },
  {
   "cell_type": "code",
   "execution_count": 6,
   "id": "5b9c9ea6",
   "metadata": {},
   "outputs": [
    {
     "name": "stdout",
     "output_type": "stream",
     "text": [
      "1.64 ms ± 78 µs per loop (mean ± std. dev. of 7 runs, 50 loops each)\n"
     ]
    }
   ],
   "source": [
    "%timeit -n 50 dy_dx = torch_gradient(net, x).cpu()"
   ]
  },
  {
   "cell_type": "code",
   "execution_count": 7,
   "id": "f81ddb4a",
   "metadata": {},
   "outputs": [
    {
     "name": "stdout",
     "output_type": "stream",
     "text": [
      "389 µs ± 96 µs per loop (mean ± std. dev. of 7 runs, 50 loops each)\n"
     ]
    }
   ],
   "source": [
    "%timeit -n 50 dy_dx_a = torch_forward_diff(net, x).squeeze(-1).cpu()"
   ]
  },
  {
   "cell_type": "code",
   "execution_count": null,
   "id": "6bc94c40",
   "metadata": {},
   "outputs": [],
   "source": []
  }
 ],
 "metadata": {
  "kernelspec": {
   "display_name": "Python 3 (ipykernel)",
   "language": "python",
   "name": "python3"
  },
  "language_info": {
   "codemirror_mode": {
    "name": "ipython",
    "version": 3
   },
   "file_extension": ".py",
   "mimetype": "text/x-python",
   "name": "python",
   "nbconvert_exporter": "python",
   "pygments_lexer": "ipython3",
   "version": "3.8.10"
  }
 },
 "nbformat": 4,
 "nbformat_minor": 5
}
