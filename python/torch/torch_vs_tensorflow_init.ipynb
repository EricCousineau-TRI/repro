{
 "cells": [
  {
   "cell_type": "code",
   "execution_count": null,
   "id": "f91dd1a0",
   "metadata": {},
   "outputs": [],
   "source": [
    "%load_ext tensorboard"
   ]
  },
  {
   "cell_type": "code",
   "execution_count": null,
   "id": "226e557a",
   "metadata": {},
   "outputs": [],
   "source": [
    "import torch\n",
    "from torch.utils.tensorboard import SummaryWriter\n",
    "import tensorflow as tf"
   ]
  },
  {
   "cell_type": "code",
   "execution_count": null,
   "id": "4c21ebe8",
   "metadata": {},
   "outputs": [],
   "source": [
    "in_dim = 256\n",
    "out_dim = 256"
   ]
  },
  {
   "cell_type": "code",
   "execution_count": null,
   "id": "5d235eb9",
   "metadata": {},
   "outputs": [],
   "source": [
    "tf.random.set_seed(0)\n",
    "tf_norm_init = tf.keras.initializers.get(\"normal\")  # \"random_normal\"\n",
    "\n",
    "def tf_init(var):\n",
    "    var.assign(tf_norm_init(var.shape))\n",
    "\n",
    "# Compile it ('cause I dunno what else to do it with.)\n",
    "tf_module = tf.keras.models.Sequential([\n",
    "    tf.keras.layers.InputLayer(input_shape=(in_dim,)),\n",
    "    tf.keras.layers.Dense(out_dim),\n",
    "])\n",
    "\n",
    "tf_dense = tf_module.layers[0]\n",
    "tf_init(tf_dense.kernel)\n",
    "tf_init(tf_dense.bias)"
   ]
  },
  {
   "cell_type": "code",
   "execution_count": null,
   "id": "2647a54e",
   "metadata": {},
   "outputs": [],
   "source": [
    "torch.random.manual_seed(0)\n",
    "\n",
    "def torch_init(p):\n",
    "    # Match w/ default for normal.\n",
    "    p.data.normal_(mean=tf_norm_init.mean, std=tf_norm_init.stddev)\n",
    "\n",
    "torch_dense = torch.nn.Linear(in_features=in_dim, out_features=out_dim)\n",
    "torch_init(torch_dense.weight)\n",
    "torch_init(torch_dense.bias)"
   ]
  },
  {
   "cell_type": "code",
   "execution_count": null,
   "id": "3ae21b1f",
   "metadata": {},
   "outputs": [],
   "source": [
    "log_dir = \"/tmp/log\"\n",
    "!rm -rf {log_dir}\n",
    "writer = SummaryWriter(log_dir)\n",
    "writer.add_histogram(\"tf/weight\", tf_dense.kernel.numpy())\n",
    "writer.add_histogram(\"tf/bias\", tf_dense.bias.numpy())\n",
    "writer.add_histogram(\"torch/weight\", torch_dense.weight.detach().numpy())\n",
    "writer.add_histogram(\"torch/bias\", torch_dense.bias.detach().numpy())\n",
    "writer.flush()"
   ]
  },
  {
   "cell_type": "code",
   "execution_count": null,
   "id": "f30aa4d6",
   "metadata": {},
   "outputs": [],
   "source": [
    "%tensorboard --logdir {log_dir}"
   ]
  },
  {
   "cell_type": "code",
   "execution_count": null,
   "id": "7b536f02",
   "metadata": {},
   "outputs": [],
   "source": []
  }
 ],
 "metadata": {
  "kernelspec": {
   "display_name": "Python 3 (ipykernel)",
   "language": "python",
   "name": "python3"
  },
  "language_info": {
   "codemirror_mode": {
    "name": "ipython",
    "version": 3
   },
   "file_extension": ".py",
   "mimetype": "text/x-python",
   "name": "python",
   "nbconvert_exporter": "python",
   "pygments_lexer": "ipython3",
   "version": "3.8.10"
  }
 },
 "nbformat": 4,
 "nbformat_minor": 5
}
