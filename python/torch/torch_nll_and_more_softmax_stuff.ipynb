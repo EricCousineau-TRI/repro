{
 "cells": [
  {
   "cell_type": "code",
   "execution_count": 1,
   "id": "defensive-applicant",
   "metadata": {},
   "outputs": [],
   "source": [
    "from functools import partial\n",
    "\n",
    "import torch\n",
    "import torch.nn.functional as F"
   ]
  },
  {
   "cell_type": "code",
   "execution_count": 2,
   "id": "several-bench",
   "metadata": {},
   "outputs": [],
   "source": [
    "torch.set_grad_enabled(False);"
   ]
  },
  {
   "cell_type": "code",
   "execution_count": 3,
   "id": "stretch-toner",
   "metadata": {},
   "outputs": [],
   "source": [
    "reduction = torch.mean"
   ]
  },
  {
   "cell_type": "code",
   "execution_count": 4,
   "id": "threatened-russia",
   "metadata": {},
   "outputs": [],
   "source": [
    "def ragged_gather(x, indices):\n",
    "    # Is there a better torch func for this?\n",
    "    # couldn't figger out how to get gather() to do this.\n",
    "    return torch.tensor([x_i[y_i] for (x_i, y_i) in zip(x, y)])"
   ]
  },
  {
   "cell_type": "code",
   "execution_count": 5,
   "id": "residential-shepherd",
   "metadata": {},
   "outputs": [],
   "source": [
    "def nll_loss_reimpl(x, y):\n",
    "    return reduction(-ragged_gather(x, y))"
   ]
  },
  {
   "cell_type": "code",
   "execution_count": 6,
   "id": "superb-perry",
   "metadata": {},
   "outputs": [
    {
     "name": "stdout",
     "output_type": "stream",
     "text": [
      "tensor([[-2.3026, -1.6094, -0.3567],\n",
      "        [-1.2040, -0.6931, -1.6094]])\n",
      "tensor([[-0.7981, -0.8544, -0.4741],\n",
      "        [-0.5981, -0.5544, -0.9741]])\n"
     ]
    }
   ],
   "source": [
    "N = 2  # batch\n",
    "C = 3  # classes\n",
    "probs = torch.tensor([\n",
    "    [0.1, 0.2, 0.7],\n",
    "    [0.3, 0.5, 0.2],\n",
    "])\n",
    "labels = torch.tensor([2, 1])\n",
    "log_probs = torch.log(probs)\n",
    "print(log_probs)\n",
    "print(F.log_softmax(probs, dim=0))"
   ]
  },
  {
   "cell_type": "code",
   "execution_count": 7,
   "id": "liable-suggestion",
   "metadata": {},
   "outputs": [
    {
     "name": "stdout",
     "output_type": "stream",
     "text": [
      "tensor(0.5249)\n",
      "tensor(0.5249)\n"
     ]
    }
   ],
   "source": [
    "x = log_probs\n",
    "y = labels\n",
    "print(F.nll_loss(x, y))\n",
    "print(nll_loss_reimpl(x, y))"
   ]
  },
  {
   "cell_type": "code",
   "execution_count": 8,
   "id": "mechanical-rental",
   "metadata": {
    "scrolled": true,
    "tags": []
   },
   "outputs": [],
   "source": [
    "def cross_entropy_reimpl(x, y):\n",
    "    x_c = ragged_gather(x, y)\n",
    "    sum_x_j = torch.sum(torch.exp(x), axis=1)  # Along C\n",
    "    terms = -torch.log(torch.exp(x_c) / sum_x_j)\n",
    "    return reduction(terms)"
   ]
  },
  {
   "cell_type": "code",
   "execution_count": 9,
   "id": "pretty-driving",
   "metadata": {},
   "outputs": [
    {
     "name": "stdout",
     "output_type": "stream",
     "text": [
      "tensor(0.5249)\n",
      "tensor(0.5249)\n"
     ]
    }
   ],
   "source": [
    "print(F.cross_entropy(x, y))\n",
    "print(cross_entropy_reimpl(x, y))"
   ]
  },
  {
   "cell_type": "code",
   "execution_count": 10,
   "id": "olympic-estimate",
   "metadata": {},
   "outputs": [],
   "source": [
    "def kinda_fixed_point_thing(f, count, x):\n",
    "    print(f)\n",
    "    for _ in range(count):\n",
    "        x_new = f(x)\n",
    "        print(x_new - x)\n",
    "        x = x_new"
   ]
  },
  {
   "cell_type": "code",
   "execution_count": 11,
   "id": "elementary-administration",
   "metadata": {},
   "outputs": [],
   "source": [
    "softmax = partial(F.softmax, dim=0)\n",
    "log_softmax = partial(F.log_softmax, dim=0)"
   ]
  },
  {
   "cell_type": "code",
   "execution_count": 12,
   "id": "bronze-tension",
   "metadata": {},
   "outputs": [
    {
     "name": "stdout",
     "output_type": "stream",
     "text": [
      "functools.partial(<function softmax at 0x7ff98fe7fd90>, dim=0)\n",
      "tensor([[ 0.3502,  0.2256, -0.0775],\n",
      "        [ 0.2498,  0.0744,  0.1775]])\n",
      "tensor([[ 0.0249,  0.0373, -0.0615],\n",
      "        [-0.0249, -0.0373,  0.0615]])\n",
      "tensor([[ 0.0125,  0.0186, -0.0305],\n",
      "        [-0.0125, -0.0186,  0.0305]])\n",
      "\n",
      "functools.partial(<function log_softmax at 0x7ff98fe7fea0>, dim=0)\n",
      "tensor([[-0.8981, -1.0544, -1.1741],\n",
      "        [-0.8981, -1.0544, -1.1741]])\n",
      "tensor([[0., 0., 0.],\n",
      "        [0., 0., 0.]])\n",
      "tensor([[0., 0., 0.],\n",
      "        [0., 0., 0.]])\n"
     ]
    }
   ],
   "source": [
    "count = 3\n",
    "kinda_fixed_point_thing(softmax, count, probs)\n",
    "print()\n",
    "kinda_fixed_point_thing(log_softmax, count, probs)"
   ]
  },
  {
   "cell_type": "code",
   "execution_count": null,
   "id": "automated-bathroom",
   "metadata": {},
   "outputs": [],
   "source": []
  }
 ],
 "metadata": {
  "kernelspec": {
   "display_name": "Python 3",
   "language": "python",
   "name": "python3"
  },
  "language_info": {
   "codemirror_mode": {
    "name": "ipython",
    "version": 3
   },
   "file_extension": ".py",
   "mimetype": "text/x-python",
   "name": "python",
   "nbconvert_exporter": "python",
   "pygments_lexer": "ipython3",
   "version": "3.6.9"
  }
 },
 "nbformat": 4,
 "nbformat_minor": 5
}
