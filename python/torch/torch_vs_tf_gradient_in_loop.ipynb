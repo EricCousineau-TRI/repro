{
 "cells": [
  {
   "cell_type": "code",
   "execution_count": 1,
   "id": "ff844cb6",
   "metadata": {},
   "outputs": [],
   "source": [
    "import os\n",
    "os.environ.update(\n",
    "    CUDA_LAUNCH_BLOCKING=\"1\",\n",
    "    CUDA_VISIBLE_DEVICES=\"1\",\n",
    "    TF_CPP_MIN_LOG_LEVEL=\"2\",\n",
    ")\n",
    "\n",
    "import time\n",
    "\n",
    "import numpy as np\n",
    "\n",
    "import torch\n",
    "from torch import nn\n",
    "import tensorflow.compat.v2 as tf"
   ]
  },
  {
   "cell_type": "code",
   "execution_count": 2,
   "id": "26204a2b",
   "metadata": {},
   "outputs": [],
   "source": [
    "devices = tf.config.list_physical_devices('GPU')\n",
    "for device in devices:\n",
    "    tf.config.experimental.set_memory_growth(device, True)\n",
    "tf.config.run_functions_eagerly(False)"
   ]
  },
  {
   "cell_type": "code",
   "execution_count": 3,
   "id": "a885c894",
   "metadata": {},
   "outputs": [],
   "source": [
    "def tf_make_mlp(hidden_sizes):\n",
    "    net = tf.keras.Sequential()\n",
    "    for hidden_size in hidden_sizes:\n",
    "        net.add(tf.keras.layers.Dense(hidden_size))\n",
    "    net.add(tf.keras.layers.Dense(1))\n",
    "    return net\n",
    "\n",
    "\n",
    "def torch_make_mlp(input_size, hidden_sizes):\n",
    "    layers = []\n",
    "    prev_size = input_size\n",
    "    for hidden_size in hidden_sizes:\n",
    "        layers.append(nn.Linear(prev_size, hidden_size))\n",
    "        prev_size = hidden_size\n",
    "    layers.append(nn.Linear(prev_size, 1))\n",
    "    return nn.Sequential(*layers)"
   ]
  },
  {
   "cell_type": "code",
   "execution_count": 4,
   "id": "01f5d9db",
   "metadata": {},
   "outputs": [],
   "source": [
    "def tf_gradient(f, x):\n",
    "    with tf.GradientTape() as g:\n",
    "        g.watch(x)\n",
    "        f_value = f(x, training=False)\n",
    "    df_dx = g.gradient(f_value, x)\n",
    "    return df_dx\n",
    "\n",
    "\n",
    "def torch_gradient(f: nn.Module, x, create_graph: bool):\n",
    "    # Adapted from:\n",
    "    # https://discuss.pytorch.org/t/computing-batch-jacobian-efficiently/80771/5\n",
    "    # TODO(eric.cousineau): Keep storage for dnet_dx?\n",
    "    y = f(x).sum()\n",
    "    df_dx, = torch.autograd.grad(y, x, create_graph=create_graph)\n",
    "    return df_dx"
   ]
  },
  {
   "cell_type": "code",
   "execution_count": 5,
   "id": "52bed00c",
   "metadata": {},
   "outputs": [],
   "source": [
    "def tf_fake_langevin(net, yhs, num_iter):\n",
    "    for _ in range(num_iter):\n",
    "        de_dact = tf_gradient(net, yhs)\n",
    "        yhs = yhs + de_dact * 0.1\n",
    "    return yhs\n",
    "\n",
    "\n",
    "def torch_fake_langevin(net, yhs, num_iter):\n",
    "    create_graph = torch.is_grad_enabled()\n",
    "    yhs = yhs.detach().requires_grad_(True)\n",
    "    with torch.set_grad_enabled(True):\n",
    "        for _ in range(num_iter):\n",
    "            de_dact = torch_gradient(net, yhs, create_graph)\n",
    "            yhs = yhs + 0.1 * de_dact\n",
    "    return yhs"
   ]
  },
  {
   "cell_type": "code",
   "execution_count": 6,
   "id": "b0391558",
   "metadata": {},
   "outputs": [
    {
     "name": "stdout",
     "output_type": "stream",
     "text": [
      "0.013439536094665527\n",
      "0.28806533813476565\n",
      "0.2407933473587036\n"
     ]
    }
   ],
   "source": [
    "N = 32\n",
    "L = 8\n",
    "DimY = 2\n",
    "np.random.seed(0)\n",
    "yhs_init = np.random.rand(N, L, DimY).astype(np.float32)\n",
    "hidden_sizes = [256, 256]\n",
    "count = 10\n",
    "num_iter = 100\n",
    "\n",
    "\n",
    "def tf_profile(use_jit):\n",
    "    net = tf_make_mlp(hidden_sizes)\n",
    "\n",
    "    yhs = tf.convert_to_tensor(yhs_init)\n",
    "    # Trace.\n",
    "    net(yhs)\n",
    "    \n",
    "    fake_langevin = tf_fake_langevin\n",
    "    if use_jit:\n",
    "        fake_langevin = tf.function(fake_langevin)\n",
    "\n",
    "    t_start = None\n",
    "    for _ in range(count + 1):\n",
    "\n",
    "        fake_langevin(net, yhs, num_iter)\n",
    "\n",
    "        if t_start is None:\n",
    "            t_start = time.time()\n",
    "\n",
    "    dt = time.time() - t_start\n",
    "    print(dt / count)\n",
    "\n",
    "\n",
    "@torch.no_grad()\n",
    "def torch_profile():\n",
    "    net = torch_make_mlp(DimY, hidden_sizes)\n",
    "    # net = torch.jit.trace(net, yhs)\n",
    "\n",
    "    device = torch.device(\"cuda\")\n",
    "\n",
    "    net.to(device)\n",
    "    yhs = torch.from_numpy(yhs_init).to(device)\n",
    "\n",
    "    count = 10\n",
    "    num_iter = 100\n",
    "\n",
    "    t_start = None\n",
    "    with torch.no_grad():\n",
    "        for _ in range(count + 1):\n",
    "\n",
    "            yhs_new = torch_fake_langevin(net, yhs, num_iter)\n",
    "\n",
    "            if t_start is None:\n",
    "                t_start = time.time()\n",
    "    dt = time.time() - t_start\n",
    "    print(dt / count)\n",
    "\n",
    "tf_profile(True)\n",
    "tf_profile(False)\n",
    "torch_profile()"
   ]
  },
  {
   "cell_type": "code",
   "execution_count": null,
   "id": "4844de5e",
   "metadata": {},
   "outputs": [],
   "source": []
  }
 ],
 "metadata": {
  "kernelspec": {
   "display_name": "Python 3 (ipykernel)",
   "language": "python",
   "name": "python3"
  },
  "language_info": {
   "codemirror_mode": {
    "name": "ipython",
    "version": 3
   },
   "file_extension": ".py",
   "mimetype": "text/x-python",
   "name": "python",
   "nbconvert_exporter": "python",
   "pygments_lexer": "ipython3",
   "version": "3.8.10"
  }
 },
 "nbformat": 4,
 "nbformat_minor": 5
}
