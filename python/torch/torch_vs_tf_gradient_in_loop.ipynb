{
 "cells": [
  {
   "cell_type": "code",
   "execution_count": 1,
   "id": "74d39ac3",
   "metadata": {},
   "outputs": [],
   "source": [
    "import os\n",
    "os.environ.update(\n",
    "    CUDA_LAUNCH_BLOCKING=\"1\",\n",
    "    CUDA_VISIBLE_DEVICES=\"1\",\n",
    "    TF_CPP_MIN_LOG_LEVEL=\"2\",\n",
    ")\n",
    "\n",
    "import time\n",
    "\n",
    "import numpy as np\n",
    "\n",
    "import tensorflow.compat.v2 as tf\n",
    "import torch\n",
    "from torch import nn"
   ]
  },
  {
   "cell_type": "code",
   "execution_count": 2,
   "id": "b583dbc3",
   "metadata": {},
   "outputs": [],
   "source": [
    "devices = tf.config.list_physical_devices('GPU')\n",
    "for device in devices:\n",
    "    tf.config.experimental.set_memory_growth(device, True)\n",
    "tf.config.run_functions_eagerly(False)"
   ]
  },
  {
   "cell_type": "code",
   "execution_count": 3,
   "id": "aa7e7d7f",
   "metadata": {},
   "outputs": [],
   "source": [
    "def tf_make_mlp(hidden_sizes):\n",
    "    net = tf.keras.Sequential()\n",
    "    for hidden_size in hidden_sizes:\n",
    "        net.add(tf.keras.layers.Dense(hidden_size))\n",
    "    net.add(tf.keras.layers.Dense(1))\n",
    "    return net\n",
    "\n",
    "\n",
    "def torch_make_mlp(input_size, hidden_sizes):\n",
    "    layers = []\n",
    "    prev_size = input_size\n",
    "    for hidden_size in hidden_sizes:\n",
    "        layers.append(nn.Linear(prev_size, hidden_size))\n",
    "        prev_size = hidden_size\n",
    "    layers.append(nn.Linear(prev_size, 1))\n",
    "    return nn.Sequential(*layers)"
   ]
  },
  {
   "cell_type": "code",
   "execution_count": 4,
   "id": "6ca52e57",
   "metadata": {},
   "outputs": [],
   "source": [
    "from typing import Callable"
   ]
  },
  {
   "cell_type": "code",
   "execution_count": 5,
   "id": "7b015365",
   "metadata": {},
   "outputs": [],
   "source": [
    "def tf_gradient(f, x):\n",
    "    with tf.GradientTape() as g:\n",
    "        g.watch(x)\n",
    "        f_value = f(x, training=False)\n",
    "    df_dx = g.gradient(f_value, x)\n",
    "    return df_dx\n",
    "\n",
    "\n",
    "def torch_gradient(f: Callable, x, create_graph: bool):\n",
    "    # Adapted from:\n",
    "    # https://discuss.pytorch.org/t/computing-batch-jacobian-efficiently/80771/5\n",
    "    # TODO(eric.cousineau): Keep storage for dnet_dx?\n",
    "    y = f(x).sum()\n",
    "    df_dx, = torch.autograd.grad(y, x, create_graph=create_graph)\n",
    "    return df_dx"
   ]
  },
  {
   "cell_type": "code",
   "execution_count": 6,
   "id": "711cd247",
   "metadata": {},
   "outputs": [],
   "source": [
    "def tf_fake_langevin(net, yhs, num_iter):\n",
    "    for _ in range(num_iter):\n",
    "        de_dact = tf_gradient(net, yhs)\n",
    "        yhs = yhs + de_dact * 0.1\n",
    "    return yhs\n",
    "\n",
    "\n",
    "tf_fake_langevin_fast = tf.function(tf_fake_langevin)\n",
    "\n",
    "\n",
    "def torch_fake_langevin(net, yhs, num_iter):\n",
    "    create_graph = torch.is_grad_enabled()\n",
    "    yhs = yhs.detach().requires_grad_(True)\n",
    "    with torch.set_grad_enabled(True):\n",
    "        for _ in range(num_iter):\n",
    "            de_dact = torch_gradient(net, yhs, create_graph)\n",
    "            yhs = yhs + 0.1 * de_dact\n",
    "    return yhs\n",
    "\n",
    "\n",
    "class TorchFakeLangevin(nn.Module):\n",
    "    def __init__(self, net):\n",
    "        super().__init__()\n",
    "        self.net = net\n",
    "\n",
    "    def _gradient(self, yhs) -> torch.Tensor:\n",
    "        out = self.net(yhs).sum()\n",
    "        dy, = torch.autograd.grad([out], [yhs], allow_unused=True)\n",
    "        if dy is None:\n",
    "            dy = torch.zeros_like(yhs)\n",
    "        return dy\n",
    "\n",
    "    def forward(self, yhs, num_iter: int):\n",
    "        yhs = yhs.detach().requires_grad_(True)\n",
    "        for i in range(num_iter):\n",
    "            de_dact = self._gradient(yhs)\n",
    "            yhs = yhs + de_dact * 0.1\n",
    "        return yhs\n",
    "\n",
    "\n",
    "def make_torch_fake_langevin_fast(net):\n",
    "    fast = TorchFakeLangevin(net)\n",
    "    with torch.set_grad_enabled(True):\n",
    "        fast = torch.jit.script(fast)\n",
    "\n",
    "    def fake_langevin(net, yhs, num_iter):\n",
    "        with torch.set_grad_enabled(True):\n",
    "            return fast(yhs, num_iter)\n",
    "\n",
    "    return fake_langevin"
   ]
  },
  {
   "cell_type": "code",
   "execution_count": 7,
   "id": "6ff7ba6c",
   "metadata": {},
   "outputs": [],
   "source": [
    "N = 3\n",
    "L = 1\n",
    "DimY = 2\n",
    "hidden_sizes = [256, 256]\n",
    "count = 10\n",
    "num_iter = 100\n",
    "\n",
    "np.random.seed(0)\n",
    "yhs_init = np.random.rand(N * L, DimY).astype(np.float32)"
   ]
  },
  {
   "cell_type": "code",
   "execution_count": 8,
   "id": "c64448f7",
   "metadata": {},
   "outputs": [],
   "source": [
    "def tf_profile(fake_langevin):\n",
    "    net = tf_make_mlp(hidden_sizes)\n",
    "\n",
    "    yhs = tf.convert_to_tensor(yhs_init)\n",
    "    # Trace.\n",
    "    net(yhs)\n",
    "\n",
    "    t_start = None\n",
    "    for _ in range(count + 1):\n",
    "\n",
    "        fake_langevin(net, yhs, num_iter)\n",
    "\n",
    "        if t_start is None:\n",
    "            t_start = time.time()\n",
    "\n",
    "    dt = time.time() - t_start\n",
    "    print(dt / count)\n",
    "\n",
    "\n",
    "@torch.no_grad()\n",
    "def torch_profile(fake_langevin, is_constructor=False):\n",
    "    net = torch_make_mlp(DimY, hidden_sizes)\n",
    "    net = torch.jit.script(net)\n",
    "\n",
    "    device = torch.device(\"cuda\")\n",
    "\n",
    "    net.to(device)\n",
    "    yhs = torch.from_numpy(yhs_init).to(device)\n",
    "\n",
    "    if is_constructor:\n",
    "        fake_langevin = fake_langevin(net)\n",
    "\n",
    "    t_start = None\n",
    "    with torch.no_grad():\n",
    "        for i in range(count + 1):\n",
    "\n",
    "            yhs_new = fake_langevin(net, yhs, num_iter)\n",
    "\n",
    "            if t_start is None:\n",
    "                t_start = time.time()\n",
    "    dt = time.time() - t_start\n",
    "    print(dt / count)"
   ]
  },
  {
   "cell_type": "code",
   "execution_count": 9,
   "id": "162b2948",
   "metadata": {},
   "outputs": [
    {
     "name": "stdout",
     "output_type": "stream",
     "text": [
      "0.14471290111541749\n",
      "0.012119817733764648\n",
      "0.14556553363800048\n",
      "0.17220258712768555\n",
      "0.030535435676574706\n"
     ]
    }
   ],
   "source": [
    "tf_profile(tf_fake_langevin)  # This is 2x slower than use in ibc venv?!\n",
    "tf_profile(tf_fake_langevin_fast)\n",
    "\n",
    "torch_profile(torch_fake_langevin)\n",
    "for _ in range(2):  # Need to run twice?\n",
    "    torch_profile(make_torch_fake_langevin_fast, is_constructor=True)"
   ]
  },
  {
   "cell_type": "code",
   "execution_count": null,
   "id": "81338760",
   "metadata": {},
   "outputs": [],
   "source": []
  }
 ],
 "metadata": {
  "kernelspec": {
   "display_name": "Python 3 (ipykernel)",
   "language": "python",
   "name": "python3"
  },
  "language_info": {
   "codemirror_mode": {
    "name": "ipython",
    "version": 3
   },
   "file_extension": ".py",
   "mimetype": "text/x-python",
   "name": "python",
   "nbconvert_exporter": "python",
   "pygments_lexer": "ipython3",
   "version": "3.8.10"
  }
 },
 "nbformat": 4,
 "nbformat_minor": 5
}
