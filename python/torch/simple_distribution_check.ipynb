{
 "cells": [
  {
   "cell_type": "code",
   "execution_count": null,
   "id": "3659eb2e",
   "metadata": {},
   "outputs": [],
   "source": [
    "import einops\n",
    "import matplotlib.pyplot as plt\n",
    "import numpy as np\n",
    "import torch\n",
    "from torch.distributions.multivariate_normal import MultivariateNormal"
   ]
  },
  {
   "cell_type": "code",
   "execution_count": null,
   "id": "b04eccd6",
   "metadata": {},
   "outputs": [],
   "source": [
    "# We will denote unnormalized action coordinates as `u` and `v`.\n",
    "grid_size = 50\n",
    "action_u = torch.linspace(-1.0, 1.0, steps=grid_size)\n",
    "du = action_u[1] - action_u[0]\n",
    "action_v = torch.linspace(-1.0, 1.0, steps=grid_size)\n",
    "dv = action_v[1] - action_v[0]\n",
    "action_v_grid, action_u_grid = torch.meshgrid(action_u, action_v)\n",
    "\n",
    "action_us = einops.rearrange(action_u_grid, \"H W -> (H W)\")\n",
    "action_vs = einops.rearrange(action_v_grid, \"H W -> (H W)\")\n",
    "ys = einops.rearrange([action_us, action_vs], \"C HW -> () HW C\")\n",
    "\n",
    "mu = torch.tensor([0., 0.])\n",
    "std = torch.tensor([0.1, 0.1])\n",
    "cov = torch.diag(std ** 2)\n",
    "distr = MultivariateNormal(mu, cov)\n",
    "\n",
    "Zs = torch.exp(distr.log_prob(ys))\n",
    "Z_grid = Zs.squeeze(0)\n",
    "Z_grid = einops.rearrange(Z_grid, \"(H W) -> H W\", H=grid_size)\n",
    "fig = plt.figure()\n",
    "mesh = plt.pcolormesh(\n",
    "    action_u_grid.numpy(),\n",
    "    action_v_grid.numpy(),\n",
    "    Z_grid.numpy(),\n",
    "    cmap=\"magma\",\n",
    "    shading=\"auto\",\n",
    ")\n",
    "plt.colorbar(label=r\"$p_\\theta(x)$\")\n",
    "plt.grid(False)\n",
    "plt.axis(\"off\")\n",
    "\n",
    "area = Z_grid.sum() * du * dv\n",
    "print(area)"
   ]
  },
  {
   "cell_type": "code",
   "execution_count": null,
   "id": "7eed90b2",
   "metadata": {},
   "outputs": [],
   "source": []
  }
 ],
 "metadata": {
  "kernelspec": {
   "display_name": "Python 3 (ipykernel)",
   "language": "python",
   "name": "python3"
  },
  "language_info": {
   "codemirror_mode": {
    "name": "ipython",
    "version": 3
   },
   "file_extension": ".py",
   "mimetype": "text/x-python",
   "name": "python",
   "nbconvert_exporter": "python",
   "pygments_lexer": "ipython3",
   "version": "3.8.10"
  }
 },
 "nbformat": 4,
 "nbformat_minor": 5
}
