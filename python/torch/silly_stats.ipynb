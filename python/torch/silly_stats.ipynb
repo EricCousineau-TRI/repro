{
 "cells": [
  {
   "cell_type": "markdown",
   "id": "0dbb5825",
   "metadata": {},
   "source": [
    "Er, what's the scaling of `torch.normal` for `std =` $\\sigma = 0.5$ vs $1.0$?"
   ]
  },
  {
   "cell_type": "code",
   "execution_count": 1,
   "id": "12b06e0f",
   "metadata": {},
   "outputs": [],
   "source": [
    "import torch"
   ]
  },
  {
   "cell_type": "code",
   "execution_count": 2,
   "id": "c5aaea23",
   "metadata": {},
   "outputs": [],
   "source": [
    "def draw(std):\n",
    "    torch.random.manual_seed(0)\n",
    "    return torch.normal(mean=0.0, std=std, size=(10,))"
   ]
  },
  {
   "cell_type": "code",
   "execution_count": 3,
   "id": "234a63f5",
   "metadata": {},
   "outputs": [
    {
     "data": {
      "text/plain": [
       "tensor([0.5000, 0.5000, 0.5000, 0.5000, 0.5000, 0.5000, 0.5000, 0.5000, 0.5000,\n",
       "        0.5000])"
      ]
     },
     "execution_count": 3,
     "metadata": {},
     "output_type": "execute_result"
    }
   ],
   "source": [
    "draw(std=0.5) / draw(std=1.0)"
   ]
  },
  {
   "cell_type": "code",
   "execution_count": null,
   "id": "f673b6c1",
   "metadata": {},
   "outputs": [],
   "source": []
  }
 ],
 "metadata": {
  "kernelspec": {
   "display_name": "Python 3 (ipykernel)",
   "language": "python",
   "name": "python3"
  },
  "language_info": {
   "codemirror_mode": {
    "name": "ipython",
    "version": 3
   },
   "file_extension": ".py",
   "mimetype": "text/x-python",
   "name": "python",
   "nbconvert_exporter": "python",
   "pygments_lexer": "ipython3",
   "version": "3.8.10"
  }
 },
 "nbformat": 4,
 "nbformat_minor": 5
}
