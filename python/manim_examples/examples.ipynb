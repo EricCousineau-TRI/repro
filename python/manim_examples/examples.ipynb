{
 "cells": [
  {
   "cell_type": "code",
   "execution_count": null,
   "id": "e52e9fea-d910-4796-8e68-58a6f0379071",
   "metadata": {},
   "outputs": [],
   "source": [
    "from manim import *\n",
    "config.media_width = \"60%\""
   ]
  },
  {
   "cell_type": "code",
   "execution_count": null,
   "id": "67c8efff-c794-4e7f-90ac-3b838bd74a77",
   "metadata": {},
   "outputs": [],
   "source": [
    "%%manim -v WARNING -qm CircleToSquare\n",
    "\n",
    "class CircleToSquare(Scene):\n",
    "    def construct(self):\n",
    "        blue_circle = Circle(color=BLUE, fill_opacity=0.5)\n",
    "        green_square = Square(color=GREEN, fill_opacity=0.8)\n",
    "        self.play(Create(blue_circle))\n",
    "        self.wait()\n",
    "        \n",
    "        self.play(Transform(blue_circle, green_square))\n",
    "        self.wait()"
   ]
  },
  {
   "cell_type": "markdown",
   "id": "df771be5-ff70-4a87-8fd6-8032944966bf",
   "metadata": {},
   "source": [
    "https://docs.manim.community/en/stable/examples.html#movingzoomedscenearound"
   ]
  },
  {
   "cell_type": "code",
   "execution_count": null,
   "id": "0db79384-b48e-48a0-8186-5b09b18223ee",
   "metadata": {},
   "outputs": [],
   "source": [
    "%%manim -v WARNING -qm HeatDiagramPlot\n",
    "\n",
    "class HeatDiagramPlot(Scene):\n",
    "    def construct(self):\n",
    "        ax = Axes(\n",
    "            x_range=[0, 40, 5],\n",
    "            y_range=[-8, 32, 5],\n",
    "            x_length=9,\n",
    "            y_length=6,\n",
    "            x_axis_config={\"numbers_to_include\": np.arange(0, 40, 5)},\n",
    "            y_axis_config={\"numbers_to_include\": np.arange(-5, 34, 5)},\n",
    "            tips=False,\n",
    "        )\n",
    "        labels = ax.get_axis_labels(\n",
    "            x_label=Tex(\"$\\Delta Q$\"), y_label=Tex(\"T[$^\\circ C$]\")\n",
    "        )\n",
    "\n",
    "        x_vals = [0, 8, 38, 39]\n",
    "        y_vals = [20, 0, 0, -5]\n",
    "        graph = ax.plot_line_graph(x_values=x_vals, y_values=y_vals)\n",
    "\n",
    "        self.add(ax, labels, graph)"
   ]
  },
  {
   "cell_type": "code",
   "execution_count": null,
   "id": "c07896bd-919c-421d-a12e-a5d72a5715aa",
   "metadata": {},
   "outputs": [],
   "source": []
  }
 ],
 "metadata": {
  "kernelspec": {
   "display_name": "Python 3 (ipykernel)",
   "language": "python",
   "name": "python3"
  },
  "language_info": {
   "codemirror_mode": {
    "name": "ipython",
    "version": 3
   },
   "file_extension": ".py",
   "mimetype": "text/x-python",
   "name": "python",
   "nbconvert_exporter": "python",
   "pygments_lexer": "ipython3",
   "version": "3.8.10"
  }
 },
 "nbformat": 4,
 "nbformat_minor": 5
}
