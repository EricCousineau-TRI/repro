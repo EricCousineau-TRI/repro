{
 "cells": [
  {
   "cell_type": "code",
   "execution_count": null,
   "metadata": {},
   "outputs": [],
   "source": [
    "# Goal: Make a multiprocessing pool, ensure each worker has persistent state.\n",
    "from multiprocessing import cpu_count, Queue, Process, current_process\n",
    "import time"
   ]
  },
  {
   "cell_type": "code",
   "execution_count": null,
   "metadata": {},
   "outputs": [],
   "source": [
    "STOP = 'STOP'\n",
    "\n",
    "# From: \"An example showing how to use queues to feed tasks to a collection of worker processes and collect the results:\"\n",
    "def worker(input, output):\n",
    "    count = 0\n",
    "    for value in iter(input.get, STOP):\n",
    "        count += 1\n",
    "        output.put((count, value, current_process().name))\n",
    "        time.sleep(0.05)"
   ]
  },
  {
   "cell_type": "code",
   "execution_count": null,
   "metadata": {},
   "outputs": [],
   "source": [
    "inputs = Queue()\n",
    "map(inputs.put, range(100))\n",
    "outputs = Queue()"
   ]
  },
  {
   "cell_type": "code",
   "execution_count": null,
   "metadata": {},
   "outputs": [],
   "source": [
    "ps = []\n",
    "for i in range(10):\n",
    "    p = Process(target=worker, args=(inputs, outputs))\n",
    "    ps.append(p)\n",
    "    p.start()\n",
    "for p in ps:\n",
    "    inputs.put(STOP)\n",
    "for p in ps:\n",
    "    p.join()"
   ]
  },
  {
   "cell_type": "code",
   "execution_count": null,
   "metadata": {},
   "outputs": [],
   "source": [
    "while not outputs.empty():\n",
    "    print(outputs.get())\n",
    "assert outputs.empty()"
   ]
  },
  {
   "cell_type": "code",
   "execution_count": null,
   "metadata": {},
   "outputs": [],
   "source": []
  }
 ],
 "metadata": {
  "kernelspec": {
   "display_name": "Python 2",
   "language": "python",
   "name": "python2"
  },
  "language_info": {
   "codemirror_mode": {
    "name": "ipython",
    "version": 2
   },
   "file_extension": ".py",
   "mimetype": "text/x-python",
   "name": "python",
   "nbconvert_exporter": "python",
   "pygments_lexer": "ipython2",
   "version": "2.7.12"
  }
 },
 "nbformat": 4,
 "nbformat_minor": 2
}
