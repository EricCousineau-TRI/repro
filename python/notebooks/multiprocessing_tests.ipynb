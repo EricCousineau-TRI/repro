{
 "cells": [
  {
   "cell_type": "code",
   "execution_count": null,
   "metadata": {},
   "outputs": [],
   "source": [
    "# Goal: Make a multiprocessing pool, ensure each worker has persistent state.\n",
    "from multiprocessing import cpu_count, Queue, Process, current_process\n",
    "import time\n",
    "import random"
   ]
  },
  {
   "cell_type": "code",
   "execution_count": null,
   "metadata": {},
   "outputs": [],
   "source": [
    "STOP = 'STOP'\n",
    "\n",
    "# From: \"An example showing how to use queues to feed tasks to a collection of worker processes and collect the results:\"\n",
    "def worker(inputs, outputs):\n",
    "    count = 0\n",
    "    for value in iter(inputs.get, STOP):\n",
    "        time.sleep(random.uniform(0.05, 0.1))\n",
    "        count += 1\n",
    "        outputs.put((count, value, current_process().name))\n",
    "    print(\"DONE\")\n",
    "\n",
    "inputs = Queue()\n",
    "map(inputs.put, range(100))\n",
    "outputs = Queue()\n",
    "\n",
    "ps = []\n",
    "for i in range(10):\n",
    "    p = Process(target=worker, args=(inputs, outputs))\n",
    "    ps.append(p)\n",
    "    p.start()\n",
    "for p in ps:\n",
    "    inputs.put(STOP)\n",
    "for p in ps:\n",
    "    p.join()\n",
    "\n",
    "while not outputs.empty():\n",
    "    print(outputs.get())\n",
    "assert outputs.empty()"
   ]
  },
  {
   "cell_type": "code",
   "execution_count": null,
   "metadata": {},
   "outputs": [],
   "source": [
    "def pooled_work(worker, values, process_count=None):\n",
    "    inputs = Queue()\n",
    "    map(inputs.put, values)\n",
    "    outputs = Queue()\n",
    "    # Need a more creative token.\n",
    "    stop = (('__private_stop__', None,),)\n",
    "\n",
    "    def target(inputs, outputs):\n",
    "        values_iter = iter(inputs.get, stop)\n",
    "        output_iter = worker(values_iter)\n",
    "        for output in output_iter:\n",
    "            outputs.put(output)\n",
    "\n",
    "    if process_count is None:\n",
    "        process_count = cpu_count()\n",
    "    ps = []\n",
    "    for i in xrange(process_count):\n",
    "        p = Process(target=target, args=(inputs, outputs))\n",
    "        ps.append(p)\n",
    "        p.start()\n",
    "    # Join, effectively flushing queue, possibly unordered.\n",
    "    for p in ps:\n",
    "        inputs.put(stop)\n",
    "    for p in ps:\n",
    "        p.join()\n",
    "    # Since the pool is joined, queue should be flushed.\n",
    "    out = []\n",
    "    while not outputs.empty():\n",
    "        out.append(outputs.get())\n",
    "    return out"
   ]
  },
  {
   "cell_type": "code",
   "execution_count": null,
   "metadata": {},
   "outputs": [],
   "source": [
    "# From: \"An example showing how to use queues to feed tasks to a collection of worker processes and collect the results:\"\n",
    "def worker(values):\n",
    "    # Count how much work each worker does.\n",
    "    count = 0\n",
    "    for value in values:\n",
    "        time.sleep(random.uniform(0.05, 0.1))\n",
    "        count += 1\n",
    "        yield (current_process().name, count, value)\n",
    "\n",
    "pooled_work(worker, range(5), process_count=3)"
   ]
  },
  {
   "cell_type": "code",
   "execution_count": null,
   "metadata": {},
   "outputs": [],
   "source": []
  }
 ],
 "metadata": {
  "kernelspec": {
   "display_name": "Python 2",
   "language": "python",
   "name": "python2"
  },
  "language_info": {
   "codemirror_mode": {
    "name": "ipython",
    "version": 2
   },
   "file_extension": ".py",
   "mimetype": "text/x-python",
   "name": "python",
   "nbconvert_exporter": "python",
   "pygments_lexer": "ipython2",
   "version": "2.7.12"
  }
 },
 "nbformat": 4,
 "nbformat_minor": 2
}
