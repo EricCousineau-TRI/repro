{
 "cells": [
  {
   "cell_type": "code",
   "execution_count": 1,
   "metadata": {},
   "outputs": [
    {
     "data": {
      "text/plain": [
       "'1.6.0'"
      ]
     },
     "execution_count": 1,
     "metadata": {},
     "output_type": "execute_result"
    }
   ],
   "source": [
    "import torch\n",
    "torch.__version__"
   ]
  },
  {
   "cell_type": "code",
   "execution_count": 2,
   "metadata": {},
   "outputs": [],
   "source": [
    "torch.set_grad_enabled(True)\n",
    "\n",
    "def scalars_to_tensor_bad(*a):\n",
    "    \"\"\"\n",
    "    Will lose gradient :(\n",
    "    \"\"\"\n",
    "    return torch.tensor([a], requires_grad=True)\n",
    "\n",
    "def scalars_to_tensor_good(*a):\n",
    "    \"\"\"\n",
    "    Will preserve gradient!\n",
    "    \"\"\"\n",
    "    # https://discuss.pytorch.org/t/how-to-concatenate-to-a-tensor-with-a-0-dimension/6478\n",
    "    # https://discuss.pytorch.org/t/what-is-the-best-way-to-append-scalar-to-tensor/54445/3\n",
    "    a = [ai.unsqueeze(0) for ai in a]\n",
    "    return torch.cat(a).squeeze(0)\n",
    "\n",
    "\n",
    "def dfunc(x, scalars_to_tensor):\n",
    "    print(f\"scalars_to_tensor: {scalars_to_tensor}\")\n",
    "    assert x.requires_grad\n",
    "    assert x.shape == (2,)\n",
    "    # First, zero out gradients.\n",
    "    if x.grad is not None:\n",
    "        x.grad.zero_()\n",
    "\n",
    "    y1, y2 = x + 2\n",
    "    y1 *= 3\n",
    "    y2 *= 5\n",
    "    yh = scalars_to_tensor(y1, y2)\n",
    "    print(y1, y2, yh)\n",
    "    if not yh.requires_grad:\n",
    "        print(\"Lost gradient :(\")\n",
    "\n",
    "    z = yh.mean()\n",
    "    z.backward()\n",
    "    print(x.grad)\n",
    "    print()"
   ]
  },
  {
   "cell_type": "code",
   "execution_count": 3,
   "metadata": {},
   "outputs": [
    {
     "name": "stdout",
     "output_type": "stream",
     "text": [
      "scalars_to_tensor: <function scalars_to_tensor_bad at 0x7fdc913f5e18>\n",
      "tensor(9., grad_fn=<AsStridedBackward>) tensor(20., grad_fn=<AsStridedBackward>) tensor([[ 9., 20.]], requires_grad=True)\n",
      "None\n",
      "\n",
      "scalars_to_tensor: <function scalars_to_tensor_good at 0x7fdc913f5d08>\n",
      "tensor(9., grad_fn=<AsStridedBackward>) tensor(20., grad_fn=<AsStridedBackward>) tensor([ 9., 20.], grad_fn=<SqueezeBackward1>)\n",
      "tensor([1.5000, 2.5000])\n",
      "\n"
     ]
    }
   ],
   "source": [
    "x = torch.tensor([1., 2.], requires_grad=True)\n",
    "\n",
    "dfunc(x, scalars_to_tensor_bad)\n",
    "dfunc(x, scalars_to_tensor_good)"
   ]
  },
  {
   "cell_type": "code",
   "execution_count": null,
   "metadata": {},
   "outputs": [],
   "source": []
  }
 ],
 "metadata": {
  "kernelspec": {
   "display_name": "Python 3",
   "language": "python",
   "name": "python3"
  },
  "language_info": {
   "codemirror_mode": {
    "name": "ipython",
    "version": 3
   },
   "file_extension": ".py",
   "mimetype": "text/x-python",
   "name": "python",
   "nbconvert_exporter": "python",
   "pygments_lexer": "ipython3",
   "version": "3.6.9"
  }
 },
 "nbformat": 4,
 "nbformat_minor": 4
}
