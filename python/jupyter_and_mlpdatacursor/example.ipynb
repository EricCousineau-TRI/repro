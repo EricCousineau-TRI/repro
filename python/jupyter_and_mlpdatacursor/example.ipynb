{
 "cells": [
  {
   "cell_type": "markdown",
   "metadata": {},
   "source": [
    "Using doc example:\n",
    "\n",
    "- https://pypi.org/project/mpldatacursor/\n",
    "\n",
    "Also drawing on:\n",
    "\n",
    "- https://github.com/joferkington/mpldatacursor/issues/48#issuecomment-635928212\n",
    "  - For hint on `nbagg` -- doesn't work tho :(\n",
    "- https://github.com/joferkington/mpldatacursor/issues/100#issuecomment-700073218\n",
    "  - For hint on install from `git` for `AttributeError: 'ScalarFormatter' object has no attribute 'pprint_val'`\n",
    "- https://github.com/RobotLocomotion/drake/blob/v0.28.0/tutorials/pyplot_animation_multibody_plant.ipynb\n",
    "  - I always forget how to config this stuff..."
   ]
  },
  {
   "cell_type": "code",
   "execution_count": null,
   "metadata": {},
   "outputs": [],
   "source": [
    "%matplotlib --list"
   ]
  },
  {
   "cell_type": "code",
   "execution_count": null,
   "metadata": {},
   "outputs": [],
   "source": [
    "# Separate GUI window - works!\n",
    "# %matplotlib tk\n",
    "\n",
    "# Embedded widget - works!\n",
    "# %matplotlib widget\n",
    "%matplotlib ipympl\n",
    "\n",
    "# Doesn't work for JupyterLab? ('cause they're old?)\n",
    "# Error: \"Javascript Error: IPython is not defined\"\n",
    "# %matplotlib nbagg\n",
    "# %matplotlib notebook"
   ]
  },
  {
   "cell_type": "code",
   "execution_count": null,
   "metadata": {},
   "outputs": [],
   "source": [
    "import matplotlib.pyplot as plt\n",
    "import numpy as np\n",
    "from mpldatacursor import datacursor\n",
    "\n",
    "data = np.outer(range(10), range(1, 5))\n",
    "\n",
    "fig, ax = plt.subplots()\n",
    "lines = ax.plot(data)\n",
    "ax.set_title('Click somewhere on a line')\n",
    "\n",
    "datacursor()\n",
    "\n",
    "plt.show()"
   ]
  },
  {
   "cell_type": "code",
   "execution_count": null,
   "metadata": {},
   "outputs": [],
   "source": []
  }
 ],
 "metadata": {
  "kernelspec": {
   "display_name": "Python 3",
   "language": "python",
   "name": "python3"
  },
  "language_info": {
   "codemirror_mode": {
    "name": "ipython",
    "version": 3
   },
   "file_extension": ".py",
   "mimetype": "text/x-python",
   "name": "python",
   "nbconvert_exporter": "python",
   "pygments_lexer": "ipython3",
   "version": "3.6.9"
  }
 },
 "nbformat": 4,
 "nbformat_minor": 4
}
