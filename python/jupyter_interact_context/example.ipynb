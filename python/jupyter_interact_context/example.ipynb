{
 "cells": [
  {
   "cell_type": "markdown",
   "metadata": {},
   "source": [
    "See README for goals and stuff.\n",
    "\n",
    "This code is messy a.f., bad for ux, but can be polished.\n",
    "\n",
    "Pulling code from:\n",
    "\n",
    "- https://github.com/RobotLocomotion/drake/pull/14082\n",
    "  - [`drake/bindings/pydrake/common/jupyter.py`](https://github.com/RobotLocomotion/drake/blob/d6cafe46a1eb16f6ef14b4c3a39295e3223c74bb/bindings/pydrake/common/jupyter.py#L79-L141)"
   ]
  },
  {
   "cell_type": "code",
   "execution_count": null,
   "metadata": {},
   "outputs": [],
   "source": [
    "from contextlib import contextmanager\n",
    "import functools\n",
    "import time\n",
    "\n",
    "from IPython.display import clear_output, display\n",
    "import ipywidgets as widgets\n",
    "import numpy as np\n",
    "import matplotlib.pyplot as plt\n",
    "from packaging import version"
   ]
  },
  {
   "cell_type": "code",
   "execution_count": null,
   "metadata": {},
   "outputs": [],
   "source": [
    "def _maybe_show_inline_matplotlib_plots():\n",
    "    if version.parse(widgets.__version__) >= version.parse(\"7.0.0\"):\n",
    "        widgets.widgets.interaction.show_inline_matplotlib_plots()\n",
    "\n",
    "\n",
    "@contextmanager\n",
    "def interactive_update(out, *, capture_errors=False):\n",
    "    \"\"\"\n",
    "    Provides a context that will clear an Output widget beforehand and then\n",
    "    redirect output to the widget.\n",
    "    Arguments:\n",
    "        out (Output): The Output widget to which output should be directed.\n",
    "        capture_errors: If True, will redirect errors to widgets. If False\n",
    "            (Default), will capture the error and re-throw them. It is\n",
    "            suggested to leave this at its default value.\n",
    "    Note:\n",
    "        This is a more generalized form of ``interactive_output``:\n",
    "        https://github.com/jupyter-widgets/ipywidgets/blob/7.5.1/ipywidgets/widgets/interaction.py#L65-L85\n",
    "    Warning:\n",
    "        On ipywidgets<7.0.0, redirecting the output of matplotlib plots and\n",
    "        widgets to Output widgets  is supported.\n",
    "        However, on ipywidgets>=7.0.0, they appear to be. For an example of\n",
    "        such, please see:\n",
    "        https://github.com/RobotLocomotion/drake/pull/14082#pullrequestreview-490546550\n",
    "    \"\"\"  # noqa\n",
    "    assert isinstance(out, widgets.Output), out\n",
    "    error = None\n",
    "    with out:\n",
    "        clear_output(wait=True)\n",
    "        if capture_errors:\n",
    "            yield\n",
    "            _maybe_show_inline_matplotlib_plots()\n",
    "        else:\n",
    "            try:\n",
    "                yield\n",
    "                _maybe_show_inline_matplotlib_plots()\n",
    "            except Exception as e:\n",
    "                error = e\n",
    "    if error is not None:\n",
    "        raise error\n",
    "\n",
    "\n",
    "def decorate_interactive_update(out, *, capture_errors=False):\n",
    "    \"\"\"\n",
    "    Decorates a function to be executed within a ``interactive_update`` context.\n",
    "    See ``interactive_update`` for arguments.\n",
    "    \"\"\"\n",
    "    assert isinstance(out, widgets.Output), out\n",
    "\n",
    "    def decorator(f):\n",
    "\n",
    "        @functools.wraps(f)\n",
    "        def wrapped(*args, **kwargs):\n",
    "            with interactive_update(out, capture_errors=capture_errors):\n",
    "                return f(*args, **kwargs)\n",
    "\n",
    "        return wrapped\n",
    "\n",
    "    return decorator"
   ]
  },
  {
   "cell_type": "code",
   "execution_count": null,
   "metadata": {},
   "outputs": [],
   "source": [
    "out = widgets.Output()\n",
    "display(out)"
   ]
  },
  {
   "cell_type": "code",
   "execution_count": null,
   "metadata": {},
   "outputs": [],
   "source": [
    "# Show that the output is synchronized across multiple output cells.\n",
    "display(out)"
   ]
  },
  {
   "cell_type": "code",
   "execution_count": null,
   "metadata": {},
   "outputs": [],
   "source": [
    "with out:\n",
    "    print(\"Hello world\")"
   ]
  },
  {
   "cell_type": "code",
   "execution_count": null,
   "metadata": {},
   "outputs": [],
   "source": [
    "with out:\n",
    "    print(\"Hello world x 2\")"
   ]
  },
  {
   "cell_type": "code",
   "execution_count": null,
   "metadata": {},
   "outputs": [],
   "source": [
    "# Direct context form.\n",
    "\n",
    "for i in range(5):\n",
    "    with interactive_update(out):\n",
    "        print(f\"Hello world x {i} {'.' * i}\")\n",
    "    time.sleep(0.2)"
   ]
  },
  {
   "cell_type": "code",
   "execution_count": null,
   "metadata": {},
   "outputs": [],
   "source": [
    "@decorate_interactive_update(out)\n",
    "def my_callback(i):\n",
    "    print(f\"Hello again x {i} {'.' * i}\")\n",
    "\n",
    "for i in range(5):\n",
    "    my_callback(i)\n",
    "    time.sleep(0.2)"
   ]
  },
  {
   "cell_type": "code",
   "execution_count": null,
   "metadata": {},
   "outputs": [],
   "source": [
    "if version.parse(widgets.__version__) >= version.parse(\"7.0.0\"):\n",
    "\n",
    "    with interactive_update(out):\n",
    "        display(widgets.Button(description=\"Widget 1\"))\n",
    "\n",
    "    time.sleep(0.2)\n",
    "\n",
    "    with interactive_update(out):\n",
    "        display(widgets.Checkbox(description=\"Widget 2\"))\n",
    "\n",
    "    time.sleep(0.2)\n",
    "\n",
    "    with interactive_update(out):\n",
    "        display(widgets.Dropdown(options=[\"Widget 3\"]))\n",
    "\n",
    "    time.sleep(0.2)\n",
    "\n",
    "    with interactive_update(out):\n",
    "        plt.plot(0, 0)\n",
    "\n",
    "else:\n",
    "    print(\"Skipping this section\")"
   ]
  },
  {
   "cell_type": "code",
   "execution_count": null,
   "metadata": {},
   "outputs": [],
   "source": [
    "display(out)"
   ]
  },
  {
   "cell_type": "code",
   "execution_count": null,
   "metadata": {},
   "outputs": [],
   "source": [
    "class CustomError(Exception):\n",
    "    pass\n",
    "\n",
    "class Unreachable(Exception):\n",
    "    pass"
   ]
  },
  {
   "cell_type": "code",
   "execution_count": null,
   "metadata": {},
   "outputs": [],
   "source": [
    "# Show an error being thrown within a nominal context.\n",
    "\n",
    "with interactive_update(out, capture_errors=True):\n",
    "    raise CustomError()\n",
    "print(\"Error got redirected :(\")"
   ]
  },
  {
   "cell_type": "code",
   "execution_count": null,
   "metadata": {},
   "outputs": [],
   "source": [
    "# Now show the error being redirected.\n",
    "\n",
    "try:\n",
    "    with interactive_update(out):\n",
    "        raise CustomError()\n",
    "    raise Unreachable()\n",
    "except CustomError:\n",
    "    print(\"Caught error directly - yay!\")"
   ]
  },
  {
   "cell_type": "code",
   "execution_count": null,
   "metadata": {},
   "outputs": [],
   "source": []
  }
 ],
 "metadata": {
  "kernelspec": {
   "display_name": "Python 3",
   "language": "python",
   "name": "python3"
  },
  "language_info": {
   "codemirror_mode": {
    "name": "ipython",
    "version": 3
   },
   "file_extension": ".py",
   "mimetype": "text/x-python",
   "name": "python",
   "nbconvert_exporter": "python",
   "pygments_lexer": "ipython3",
   "version": "3.6.9"
  }
 },
 "nbformat": 4,
 "nbformat_minor": 4
}
