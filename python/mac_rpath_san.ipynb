{
 "metadata": {
  "name": "",
  "signature": "sha256:222cd8937138ed9dfdf5d4799bc009af69fb4686dcac129cca308b449a3904bf"
 },
 "nbformat": 3,
 "nbformat_minor": 0,
 "worksheets": [
  {
   "cells": [
    {
     "cell_type": "code",
     "collapsed": false,
     "input": [
      "msg = \"\"\"\n",
      "-shared -o bazel-out/osx-opt/bin/python/bindings/pymodule/global_check/_consumer_2.so -Wl,-rpath,$ORIGIN/../../../../_solib_darwin/ -Lbazel-out/osx-opt/bin/_solib_darwin bazel-out/osx-opt/bin/python/bindings/pymodule/global_check/_objs/_consumer_2.so/python/bindings/pymodule/global_check/_consumer_2.pic.o -lpython_Sbindings_Spymodule_Sglobal_Ucheck_Slibproducer_Ulinkshared bazel-out/osx-opt/bin/python/bindings/pymodule/global_check/libproducer_linkstatic.pic.a -L/usr/local/opt/python/Frameworks/Python.framework/Versions/2.7/lib/python2.7/config -lpython2.7 -ldl -framework CoreFoundation -lstdc++ -undefined dynamic_lookup -headerpad_max_install_names -no-canonical-prefixes\n",
      "\"\"\""
     ],
     "language": "python",
     "metadata": {},
     "outputs": [],
     "prompt_number": 2
    },
    {
     "cell_type": "code",
     "collapsed": false,
     "input": [
      "print(msg)"
     ],
     "language": "python",
     "metadata": {},
     "outputs": [
      {
       "output_type": "stream",
       "stream": "stdout",
       "text": [
        "\n",
        "-shared -o bazel-out/osx-opt/bin/python/bindings/pymodule/global_check/_consumer_2.so -Wl,-rpath,$ORIGIN/../../../../_solib_darwin/ -Lbazel-out/osx-opt/bin/_solib_darwin bazel-out/osx-opt/bin/python/bindings/pymodule/global_check/_objs/_consumer_2.so/python/bindings/pymodule/global_check/_consumer_2.pic.o -lpython_Sbindings_Spymodule_Sglobal_Ucheck_Slibproducer_Ulinkshared bazel-out/osx-opt/bin/python/bindings/pymodule/global_check/libproducer_linkstatic.pic.a -L/usr/local/opt/python/Frameworks/Python.framework/Versions/2.7/lib/python2.7/config -lpython2.7 -ldl -framework CoreFoundation -lstdc++ -undefined dynamic_lookup -headerpad_max_install_names -no-canonical-prefixes\n",
        "\n"
       ]
      }
     ],
     "prompt_number": 3
    },
    {
     "cell_type": "code",
     "collapsed": false,
     "input": [
      "pieces = msg.split()\n",
      "out_path = pieces[2]\n",
      "rpath = pieces[3]"
     ],
     "language": "python",
     "metadata": {},
     "outputs": [],
     "prompt_number": 5
    },
    {
     "cell_type": "code",
     "collapsed": false,
     "input": [
      "print((out_path, rpath))"
     ],
     "language": "python",
     "metadata": {},
     "outputs": [
      {
       "output_type": "stream",
       "stream": "stdout",
       "text": [
        "('bazel-out/osx-opt/bin/python/bindings/pymodule/global_check/_consumer_2.so', '-Wl,-rpath,$ORIGIN/../../../../_solib_darwin/')\n"
       ]
      }
     ],
     "prompt_number": 6
    },
    {
     "cell_type": "code",
     "collapsed": false,
     "input": [
      "import os\n",
      "os.path.normpath(os.path.join('a/b', '../c'))\n",
      "out_dir = os.path.dirname(out_path)\n",
      "print(out_dir)"
     ],
     "language": "python",
     "metadata": {},
     "outputs": [
      {
       "output_type": "stream",
       "stream": "stdout",
       "text": [
        "bazel-out/osx-opt/bin/python/bindings/pymodule/global_check\n"
       ]
      }
     ],
     "prompt_number": 15
    },
    {
     "cell_type": "code",
     "collapsed": false,
     "input": [
      "rpath_path = rpath.lstrip('-Wl,-rpath,')\n",
      "rpath_norm = os.path.normpath(rpath_path.replace('$ORIGIN', out_dir))\n",
      "print(rpath_norm)"
     ],
     "language": "python",
     "metadata": {},
     "outputs": [
      {
       "output_type": "stream",
       "stream": "stdout",
       "text": [
        "bazel-out/osx-opt/bin/_solib_darwin\n"
       ]
      }
     ],
     "prompt_number": 16
    },
    {
     "cell_type": "code",
     "collapsed": false,
     "input": [],
     "language": "python",
     "metadata": {},
     "outputs": [
      {
       "output_type": "stream",
       "stream": "stdout",
       "text": [
        "$ORIGIN/../../../../_solib_darwin/\n"
       ]
      }
     ],
     "prompt_number": 14
    },
    {
     "cell_type": "code",
     "collapsed": false,
     "input": [],
     "language": "python",
     "metadata": {},
     "outputs": []
    }
   ],
   "metadata": {}
  }
 ]
}