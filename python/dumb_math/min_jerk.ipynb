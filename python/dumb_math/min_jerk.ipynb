{
 "cells": [
  {
   "cell_type": "code",
   "execution_count": 1,
   "metadata": {},
   "outputs": [],
   "source": [
    "import numpy as np\n",
    "from numpy.linalg import pinv\n",
    "import matplotlib.pyplot as plt\n",
    "import warnings"
   ]
  },
  {
   "cell_type": "code",
   "execution_count": 2,
   "metadata": {},
   "outputs": [],
   "source": [
    "warnings.simplefilter(\"error\", Warning)\n",
    "np.set_printoptions(formatter={\"float_kind\": lambda x: f\"{x:.4f}\"})"
   ]
  },
  {
   "cell_type": "code",
   "execution_count": 3,
   "metadata": {},
   "outputs": [],
   "source": [
    "# class ItemToCall:\n",
    "#     def __init__(self, func):\n",
    "#         self._func = func\n",
    "\n",
    "#     def __getitem__(self, *args):\n",
    "#         return self._func(*args)\n",
    "\n",
    "# A_ = ItemToCall(np.array)"
   ]
  },
  {
   "cell_type": "code",
   "execution_count": 4,
   "metadata": {},
   "outputs": [],
   "source": [
    "s0 = 0\n",
    "ds0 = 0\n",
    "dds0 = 0\n",
    "sf = 1\n",
    "dsf = 0\n",
    "ddsf = 0"
   ]
  },
  {
   "cell_type": "code",
   "execution_count": 5,
   "metadata": {},
   "outputs": [],
   "source": [
    "def sv(s): return [1, s, s**2, s**3, s**4, s**5]\n",
    "def dsv(s): return [0, 1, 2*s, 3*s**2, 4*s**3, 5*s**4]\n",
    "def ddsv(s): return [0, 0, 2, 6*s, 12*s**2, 20*s**3]\n",
    "\n",
    "def pv(C, s): return C @ sv(s)\n",
    "def dpv(C, s): return C @ dsv(s)\n",
    "def ddpv(C, s): return C @ ddsv(s)"
   ]
  },
  {
   "cell_type": "code",
   "execution_count": 6,
   "metadata": {},
   "outputs": [],
   "source": [
    "S = np.array([\n",
    "    sv(0),\n",
    "    dsv(0),\n",
    "    ddsv(0),\n",
    "    sv(1),\n",
    "    dsv(1),\n",
    "    ddsv(1),\n",
    "])\n",
    "Y = np.array([s0, ds0, dds0, sf, dsf, ddsf])"
   ]
  },
  {
   "cell_type": "code",
   "execution_count": 7,
   "metadata": {},
   "outputs": [
    {
     "data": {
      "text/plain": [
       "array([[ 1,  0,  0,  0,  0,  0],\n",
       "       [ 0,  1,  0,  0,  0,  0],\n",
       "       [ 0,  0,  2,  0,  0,  0],\n",
       "       [ 1,  1,  1,  1,  1,  1],\n",
       "       [ 0,  1,  2,  3,  4,  5],\n",
       "       [ 0,  0,  2,  6, 12, 20]])"
      ]
     },
     "execution_count": 7,
     "metadata": {},
     "output_type": "execute_result"
    }
   ],
   "source": [
    "S"
   ]
  },
  {
   "cell_type": "code",
   "execution_count": 8,
   "metadata": {},
   "outputs": [
    {
     "name": "stdout",
     "output_type": "stream",
     "text": [
      "[0.0000 -0.0000 -0.0000 10.0000 -15.0000 6.0000]\n"
     ]
    }
   ],
   "source": [
    "C = pinv(S) @ Y\n",
    "print(C)"
   ]
  },
  {
   "cell_type": "code",
   "execution_count": 9,
   "metadata": {},
   "outputs": [
    {
     "data": {
      "text/plain": [
       "[1.5432100042289676e-14,\n",
       " -5.9507954119908391e-14,\n",
       " -2.8518853945058709e-14,\n",
       " 0.99999999999999467,\n",
       " 3.907985046680551e-14,\n",
       " 0.0]"
      ]
     },
     "execution_count": 9,
     "metadata": {},
     "output_type": "execute_result"
    }
   ],
   "source": [
    "[\n",
    "    pv(C, 0),\n",
    "    dpv(C, 0),\n",
    "    ddpv(C, 0),\n",
    "    pv(C, 1),\n",
    "    dpv(C, 1),\n",
    "    ddpv(C, 1),\n",
    "]"
   ]
  },
  {
   "cell_type": "code",
   "execution_count": 10,
   "metadata": {},
   "outputs": [
    {
     "data": {
      "text/plain": [
       "[<matplotlib.lines.Line2D at 0x7fcfc1bc6048>]"
      ]
     },
     "execution_count": 10,
     "metadata": {},
     "output_type": "execute_result"
    },
    {
     "data": {
      "image/png": "[encoded data removed]",
      "text/plain": [
       "<matplotlib.figure.Figure at 0x7fcfc1c5cb38>"
      ]
     },
     "metadata": {},
     "output_type": "display_data"
    }
   ],
   "source": [
    "ss = np.linspace(0, 1, 100)\n",
    "ys = [pv(C, s) for s in ss]\n",
    "plt.plot(ss, ys)"
   ]
  },
  {
   "cell_type": "code",
   "execution_count": null,
   "metadata": {},
   "outputs": [],
   "source": []
  }
 ],
 "metadata": {
  "kernelspec": {
   "display_name": "Python 3",
   "language": "python",
   "name": "python3"
  },
  "language_info": {
   "codemirror_mode": {
    "name": "ipython",
    "version": 3
   },
   "file_extension": ".py",
   "mimetype": "text/x-python",
   "name": "python",
   "nbconvert_exporter": "python",
   "pygments_lexer": "ipython3",
   "version": "3.6.9"
  }
 },
 "nbformat": 4,
 "nbformat_minor": 4
}
