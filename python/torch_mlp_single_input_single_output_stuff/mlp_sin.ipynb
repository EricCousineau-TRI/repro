{
 "cells": [
  {
   "cell_type": "code",
   "execution_count": 1,
   "id": "engaging-analysis",
   "metadata": {},
   "outputs": [],
   "source": [
    "from collections import OrderedDict\n",
    "from contextlib import contextmanager\n",
    "from functools import partial\n",
    "import random\n",
    "\n",
    "# TODO(eric.cousineau): Use tensorboard in notebook.\n",
    "import matplotlib.pyplot as plt\n",
    "import numpy as np\n",
    "import pandas as pd\n",
    "import torch\n",
    "from torch import nn\n",
    "from torch.utils.data import DataLoader\n",
    "\n",
    "from torch.optim import SGD, Adam, Adagrad, RMSprop"
   ]
  },
  {
   "cell_type": "code",
   "execution_count": 2,
   "id": "rising-disabled",
   "metadata": {},
   "outputs": [],
   "source": [
    "import torch.nn.functional as F"
   ]
  },
  {
   "cell_type": "code",
   "execution_count": 3,
   "id": "white-norfolk",
   "metadata": {},
   "outputs": [],
   "source": [
    "pd.options.display.max_rows = 1000\n",
    "pd.options.display.max_colwidth = 1000"
   ]
  },
  {
   "cell_type": "code",
   "execution_count": 4,
   "id": "mysterious-composer",
   "metadata": {},
   "outputs": [],
   "source": [
    "def zero_grad(p):\n",
    "    if p.grad is not None:\n",
    "        p.grad.zero_()"
   ]
  },
  {
   "cell_type": "code",
   "execution_count": 5,
   "id": "surface-immune",
   "metadata": {},
   "outputs": [],
   "source": [
    "def l1_loss(y, yh):\n",
    "    return torch.mean(torch.abs(y - yh))\n",
    "\n",
    "def mse_loss(y, yh):\n",
    "    return torch.mean((y - yh)**2)\n",
    "\n",
    "def exp_loss(y, yh):\n",
    "    return torch.exp(torch.abs(y - yh)).mean()"
   ]
  },
  {
   "cell_type": "code",
   "execution_count": 6,
   "id": "ambient-compensation",
   "metadata": {},
   "outputs": [],
   "source": [
    "def flat_cat_detached(ps):\n",
    "    return torch.cat([p.detach().view(-1) for p in ps])"
   ]
  },
  {
   "cell_type": "code",
   "execution_count": 7,
   "id": "judicial-monthly",
   "metadata": {},
   "outputs": [],
   "source": [
    "class SequentialDict(nn.Sequential):\n",
    "    \"\"\"\n",
    "    We must use OrderedDict because otherwise pytorch will sort the keys... I think?\n",
    "    https://discuss.pytorch.org/t/append-for-nn-sequential-or-directly-converting-nn-modulelist-to-nn-sequential/7104/4\n",
    "    https://github.com/pytorch/pytorch/pull/40905\n",
    "    \"\"\"\n",
    "    def __init__(self, *args, **kwargs):\n",
    "        super().__init__(OrderedDict(*args, **kwargs))"
   ]
  },
  {
   "cell_type": "code",
   "execution_count": 8,
   "id": "essential-chicken",
   "metadata": {},
   "outputs": [],
   "source": [
    "def seed(value):\n",
    "    random.seed(value)\n",
    "    np.random.seed(value)\n",
    "    torch.manual_seed(value)"
   ]
  },
  {
   "cell_type": "code",
   "execution_count": 9,
   "id": "integrated-estate",
   "metadata": {},
   "outputs": [],
   "source": [
    "activation_cls = nn.Sigmoid\n",
    "\n",
    "class MLP(nn.Module):\n",
    "    \"\"\"Simple Multi-Layer Perceptron.\"\"\"\n",
    "    def __init__(\n",
    "        self,\n",
    "        num_inputs,\n",
    "        num_outputs,\n",
    "        *,\n",
    "        num_hidden_units,\n",
    "        num_layers,\n",
    "        activation_cls,\n",
    "    ):\n",
    "        super().__init__()\n",
    "        assert num_layers >= 2\n",
    "        self.layers = SequentialDict()\n",
    "        self.layers.input = SequentialDict(\n",
    "            fcn=nn.Linear(num_inputs, num_hidden_units),\n",
    "            activation=activation_cls(),\n",
    "        )\n",
    "        hidden = []\n",
    "        for i in range(num_layers - 2):\n",
    "            hidden.append(SequentialDict(\n",
    "                fcn=nn.Linear(num_hidden_units, num_hidden_units),\n",
    "                activation=activation_cls(),\n",
    "            ))\n",
    "        self.layers.hidden = nn.Sequential(*hidden)\n",
    "        self.layers.output = SequentialDict(\n",
    "            fcn=nn.Linear(num_hidden_units, num_outputs)\n",
    "        )\n",
    "\n",
    "    def forward(self, x):\n",
    "        return self.layers(x)"
   ]
  },
  {
   "cell_type": "code",
   "execution_count": 10,
   "id": "noted-victoria",
   "metadata": {},
   "outputs": [],
   "source": [
    "# Derived from this kinda goal: https://towardsdatascience.com/how-to-visualize-convolutional-features-in-40-lines-of-code-70b7d87b0030\n",
    "class SaveActivations:\n",
    "    def __init__(self):\n",
    "        self.y = None\n",
    "\n",
    "    def forward_hook(self, module, x, y):\n",
    "        self.y = y.detach()\n",
    "\n",
    "@contextmanager\n",
    "def save_activations(module, cls):\n",
    "    savers = []\n",
    "    hooks = []\n",
    "    for m in module.modules():\n",
    "        if isinstance(m, cls):\n",
    "            saver = SaveActivations()\n",
    "            hook = m.register_forward_hook(saver.forward_hook)\n",
    "            savers.append(saver)\n",
    "            hooks.append(hook)\n",
    "    assert len(hooks) > 0\n",
    "    yield savers\n",
    "    for hook in hooks:\n",
    "        hook.remove()\n",
    "\n",
    "def compute_activation_ratios(savers, clear=True):\n",
    "    activation_ratios = []\n",
    "    for saver in savers:\n",
    "        assert saver.y is not None\n",
    "        activated = (saver.y > 0)\n",
    "        assert activated.ndim > 1\n",
    "        N = activated.shape[0]\n",
    "        assert N > 1 # BESPOKE DBG HACK!!\n",
    "        # reduce along batch dimension using \"or\" (we want all act. at least somewhere in data)\n",
    "        # dunno how to do batch sum along \n",
    "        activated_reduce = torch.sum(activated.to(torch.int), axis=0).to(torch.bool)\n",
    "        activation_ratios.append(activated_reduce.to(torch.float).mean())\n",
    "        if clear:\n",
    "            saver.y = None\n",
    "    return torch.tensor(activation_ratios)"
   ]
  },
  {
   "cell_type": "code",
   "execution_count": 11,
   "id": "starting-utility",
   "metadata": {},
   "outputs": [],
   "source": [
    "# Parameters.\n",
    "amplitude = 1.0\n",
    "period_sec = 1.0\n",
    "shift_sec = 0.0\n",
    "num_periods = 1.0\n",
    "dt = 0.01\n",
    "count_per_period = int(np.ceil(period_sec / dt))\n",
    "count = num_periods * count_per_period\n",
    "\n",
    "with torch.no_grad():\n",
    "    t = torch.arange(count) * dt\n",
    "\n",
    "def waveform(t):\n",
    "    omega = 2 * np.pi / period_sec\n",
    "    x = omega * (t + shift_sec)\n",
    "    return amplitude * torch.sin(x)"
   ]
  },
  {
   "cell_type": "code",
   "execution_count": 12,
   "id": "incorrect-visitor",
   "metadata": {},
   "outputs": [
    {
     "data": {
      "text/plain": [
       "[<matplotlib.lines.Line2D at 0x7f912fb9a630>]"
      ]
     },
     "execution_count": 12,
     "metadata": {},
     "output_type": "execute_result"
    },
    {
     "data": {
      "image/png": "[encoded data removed]",
      "text/plain": [
       "<Figure size 432x288 with 1 Axes>"
      ]
     },
     "metadata": {
      "needs_background": "light"
     },
     "output_type": "display_data"
    }
   ],
   "source": [
    "plt.plot(t.numpy(), waveform(t).detach().numpy(), 'x')"
   ]
  },
  {
   "cell_type": "code",
   "execution_count": 13,
   "id": "rotary-chancellor",
   "metadata": {},
   "outputs": [],
   "source": [
    "@torch.no_grad()\n",
    "def perturb(model, noise):\n",
    "    seed(0)\n",
    "    for p in model.parameters():\n",
    "        p += torch.normal(torch.zeros_like(p), noise)\n",
    "    return model"
   ]
  },
  {
   "cell_type": "code",
   "execution_count": 14,
   "id": "seasonal-startup",
   "metadata": {
    "tags": []
   },
   "outputs": [],
   "source": [
    "@torch.no_grad()\n",
    "def plot_model(model):\n",
    "    y = model(t.unsqueeze(-1))\n",
    "    plt.plot(t.numpy(), y.numpy())"
   ]
  },
  {
   "cell_type": "code",
   "execution_count": 15,
   "id": "israeli-aspect",
   "metadata": {},
   "outputs": [],
   "source": [
    "def rel_mean_abs(x, tol=torch.tensor(1e-8)):\n",
    "    xa = x.abs()\n",
    "    xa_div = torch.fmax(xa.max(), tol)\n",
    "    xa_mean = xa.mean()\n",
    "    return xa_mean / xa_div\n",
    "\n",
    "def mean_abs(x):\n",
    "    return x.abs().mean()"
   ]
  },
  {
   "cell_type": "code",
   "execution_count": 16,
   "id": "julian-penetration",
   "metadata": {},
   "outputs": [],
   "source": [
    "cpu = torch.device(\"cpu\")\n",
    "# device = torch.device(\"cuda\")\n",
    "device = cpu"
   ]
  },
  {
   "cell_type": "code",
   "execution_count": 17,
   "id": "numerous-machine",
   "metadata": {},
   "outputs": [],
   "source": [
    "def fit(model, optim_func, *, loss_fn=mse_loss, t=t, num_epochs=3, batch_size=None, clip_grad_norm=None, show_table=False, table_index_step=1):\n",
    "    # Expected param + labeled dataset.\n",
    "    t = t.unsqueeze(-1)\n",
    "    y = waveform(t)\n",
    "    \n",
    "    # Small data.\n",
    "    model = model.train().to(device)\n",
    "    t = t.to(device)\n",
    "    y = y.to(device)\n",
    "    \n",
    "    dataset = list(zip(t, y))\n",
    "    if batch_size is None:\n",
    "        # Go from SGD to simple GD.\n",
    "        batch_size = len(dataset)\n",
    "    loader = DataLoader(dataset, batch_size=batch_size)\n",
    "\n",
    "    # Logging\n",
    "    dfs = []\n",
    "\n",
    "    activation_cls_set = (\n",
    "        nn.ReLU,\n",
    "        nn.Sigmoid,\n",
    "    )\n",
    "    \n",
    "    with save_activations(model, activation_cls_set) as savers:\n",
    "        \n",
    "        def simple_log(epoch, batch_idx):\n",
    "            if not show_table:\n",
    "                return\n",
    "            # Show err.\n",
    "            activation_ratios = compute_activation_ratios(savers).cpu().numpy()\n",
    "            activation_ratios_str = \", \".join([f\"{x:.2f}\" for x in activation_ratios])\n",
    "            dp = p - p_prev\n",
    "            dfs.append(pd.DataFrame(\n",
    "                {\n",
    "                    \"epoch\": epoch,\n",
    "                    \"batch_idx\": batch_idx,\n",
    "                    \"mean|p|\": mean_abs(p).detach().cpu().numpy(),\n",
    "                    \"mean|Δp|\": mean_abs(dp).cpu().numpy(),\n",
    "                    \"loss\": loss.detach().cpu().numpy(),\n",
    "                    \"activation_ratios\": activation_ratios_str,\n",
    "                },\n",
    "                index=[len(dfs)],\n",
    "            ))\n",
    "\n",
    "        params = list(model.parameters())\n",
    "        optim = optim_func(params)\n",
    "\n",
    "        p = flat_cat_detached(params)\n",
    "        print(f\"Num param: {len(p)}\")\n",
    "        print(f\"Num data: {len(y)}\")\n",
    "        p_prev = p.clone()\n",
    "        with torch.no_grad():\n",
    "            yh0 = model(t)\n",
    "            loss = loss_fn(y, yh0)\n",
    "        simple_log(epoch=\"pre-opt\", batch_idx=\"n/a\")\n",
    "\n",
    "        for epoch in range(num_epochs):\n",
    "            for batch_idx, (ti, yi) in enumerate(loader):\n",
    "                optim.zero_grad()\n",
    "                yhi = model(ti)\n",
    "                loss = loss_fn(yi, yhi)\n",
    "                loss.backward()\n",
    "                if clip_grad_norm is not None:\n",
    "                    torch.nn.utils.clip_grad_norm_(params, clip_grad_norm)\n",
    "                optim.step()\n",
    "\n",
    "                # Validation.\n",
    "                # TODO(eric): Activation tracking across minibatches is weird.\n",
    "                # For now, should be OK w/ batch_size=len(dataset).\n",
    "                p = flat_cat_detached(params)\n",
    "                simple_log(epoch, batch_idx)\n",
    "                p_prev = p\n",
    "\n",
    "    model = model.to(cpu)\n",
    "    t = t.to(cpu)\n",
    "    y = y.to(cpu)\n",
    "\n",
    "    with torch.no_grad():\n",
    "        yhf = model(t)\n",
    "    plt.plot(t.numpy(), y.numpy(), linewidth=3, linestyle=\"--\", color=\"g\")\n",
    "    plt.plot(t.numpy(), yhf.numpy(), color=\"k\")\n",
    "    plt.show()\n",
    "    print(loss_fn)\n",
    "    if show_table:\n",
    "        display(pd.concat(dfs[::table_index_step]))"
   ]
  },
  {
   "cell_type": "code",
   "execution_count": 18,
   "id": "subjective-affiliation",
   "metadata": {},
   "outputs": [],
   "source": [
    "def make_model(num_hidden_units=3, num_layers=3):\n",
    "    seed(0)\n",
    "    model = MLP(1, 1, num_hidden_units=num_hidden_units, num_layers=num_layers, activation_cls=nn.ReLU)\n",
    "    return model"
   ]
  },
  {
   "cell_type": "code",
   "execution_count": 19,
   "id": "bizarre-solution",
   "metadata": {},
   "outputs": [
    {
     "data": {
      "image/png": "[encoded data removed]",
      "text/plain": [
       "<Figure size 432x288 with 1 Axes>"
      ]
     },
     "metadata": {
      "needs_background": "light"
     },
     "output_type": "display_data"
    }
   ],
   "source": [
    "# Yup. It does a thing.\n",
    "plot_model(make_model())"
   ]
  },
  {
   "cell_type": "code",
   "execution_count": 20,
   "id": "collect-hearts",
   "metadata": {},
   "outputs": [
    {
     "name": "stdout",
     "output_type": "stream",
     "text": [
      "Num param: 66561\n",
      "Num data: 100\n"
     ]
    },
    {
     "data": {
      "image/png": "[encoded data removed]",
      "text/plain": [
       "<Figure size 432x288 with 1 Axes>"
      ]
     },
     "metadata": {
      "needs_background": "light"
     },
     "output_type": "display_data"
    },
    {
     "name": "stdout",
     "output_type": "stream",
     "text": [
      "<function mse_loss at 0x7f912fba91e0>\n"
     ]
    },
    {
     "data": {
      "text/html": [
       "<div>\n",
       "<style scoped>\n",
       "    .dataframe tbody tr th:only-of-type {\n",
       "        vertical-align: middle;\n",
       "    }\n",
       "\n",
       "    .dataframe tbody tr th {\n",
       "        vertical-align: top;\n",
       "    }\n",
       "\n",
       "    .dataframe thead th {\n",
       "        text-align: right;\n",
       "    }\n",
       "</style>\n",
       "<table border=\"1\" class=\"dataframe\">\n",
       "  <thead>\n",
       "    <tr style=\"text-align: right;\">\n",
       "      <th></th>\n",
       "      <th>epoch</th>\n",
       "      <th>batch_idx</th>\n",
       "      <th>mean|p|</th>\n",
       "      <th>mean|Δp|</th>\n",
       "      <th>loss</th>\n",
       "      <th>activation_ratios</th>\n",
       "    </tr>\n",
       "  </thead>\n",
       "  <tbody>\n",
       "    <tr>\n",
       "      <th>0</th>\n",
       "      <td>pre-opt</td>\n",
       "      <td>n/a</td>\n",
       "      <td>0.034805</td>\n",
       "      <td>0.000000</td>\n",
       "      <td>0.497817</td>\n",
       "      <td>0.66, 0.61</td>\n",
       "    </tr>\n",
       "    <tr>\n",
       "      <th>100</th>\n",
       "      <td>99</td>\n",
       "      <td>0</td>\n",
       "      <td>0.034903</td>\n",
       "      <td>0.000079</td>\n",
       "      <td>0.123623</td>\n",
       "      <td>0.66, 0.58</td>\n",
       "    </tr>\n",
       "    <tr>\n",
       "      <th>200</th>\n",
       "      <td>199</td>\n",
       "      <td>0</td>\n",
       "      <td>0.034989</td>\n",
       "      <td>0.000104</td>\n",
       "      <td>0.096931</td>\n",
       "      <td>0.66, 0.59</td>\n",
       "    </tr>\n",
       "  </tbody>\n",
       "</table>\n",
       "</div>"
      ],
      "text/plain": [
       "       epoch batch_idx   mean|p|  mean|Δp|      loss activation_ratios\n",
       "0    pre-opt       n/a  0.034805  0.000000  0.497817        0.66, 0.61\n",
       "100       99         0  0.034903  0.000079  0.123623        0.66, 0.58\n",
       "200      199         0  0.034989  0.000104  0.096931        0.66, 0.59"
      ]
     },
     "metadata": {},
     "output_type": "display_data"
    }
   ],
   "source": [
    "# Yeah, I just dunno how to tune vanilla SGD for this.\n",
    "fit(make_model(num_hidden_units=256), partial(SGD, lr=0.05), num_epochs=200, show_table=True, table_index_step=100)"
   ]
  },
  {
   "cell_type": "code",
   "execution_count": 21,
   "id": "wanted-prison",
   "metadata": {},
   "outputs": [
    {
     "name": "stdout",
     "output_type": "stream",
     "text": [
      "Num param: 16897\n",
      "Num data: 100\n"
     ]
    },
    {
     "data": {
      "image/png": "[encoded data removed]",
      "text/plain": [
       "<Figure size 432x288 with 1 Axes>"
      ]
     },
     "metadata": {
      "needs_background": "light"
     },
     "output_type": "display_data"
    },
    {
     "name": "stdout",
     "output_type": "stream",
     "text": [
      "<function mse_loss at 0x7f912fba91e0>\n"
     ]
    },
    {
     "data": {
      "text/html": [
       "<div>\n",
       "<style scoped>\n",
       "    .dataframe tbody tr th:only-of-type {\n",
       "        vertical-align: middle;\n",
       "    }\n",
       "\n",
       "    .dataframe tbody tr th {\n",
       "        vertical-align: top;\n",
       "    }\n",
       "\n",
       "    .dataframe thead th {\n",
       "        text-align: right;\n",
       "    }\n",
       "</style>\n",
       "<table border=\"1\" class=\"dataframe\">\n",
       "  <thead>\n",
       "    <tr style=\"text-align: right;\">\n",
       "      <th></th>\n",
       "      <th>epoch</th>\n",
       "      <th>batch_idx</th>\n",
       "      <th>mean|p|</th>\n",
       "      <th>mean|Δp|</th>\n",
       "      <th>loss</th>\n",
       "      <th>activation_ratios</th>\n",
       "    </tr>\n",
       "  </thead>\n",
       "  <tbody>\n",
       "    <tr>\n",
       "      <th>0</th>\n",
       "      <td>pre-opt</td>\n",
       "      <td>n/a</td>\n",
       "      <td>0.384325</td>\n",
       "      <td>0.000000</td>\n",
       "      <td>213.587250</td>\n",
       "      <td>0.61, 0.62</td>\n",
       "    </tr>\n",
       "    <tr>\n",
       "      <th>100</th>\n",
       "      <td>99</td>\n",
       "      <td>0</td>\n",
       "      <td>0.384573</td>\n",
       "      <td>0.000003</td>\n",
       "      <td>0.019286</td>\n",
       "      <td>0.56, 0.50</td>\n",
       "    </tr>\n",
       "    <tr>\n",
       "      <th>200</th>\n",
       "      <td>199</td>\n",
       "      <td>0</td>\n",
       "      <td>0.384569</td>\n",
       "      <td>0.003119</td>\n",
       "      <td>31.492016</td>\n",
       "      <td>0.56, 0.50</td>\n",
       "    </tr>\n",
       "    <tr>\n",
       "      <th>300</th>\n",
       "      <td>299</td>\n",
       "      <td>0</td>\n",
       "      <td>0.384498</td>\n",
       "      <td>0.000036</td>\n",
       "      <td>0.027298</td>\n",
       "      <td>0.54, 0.51</td>\n",
       "    </tr>\n",
       "    <tr>\n",
       "      <th>400</th>\n",
       "      <td>399</td>\n",
       "      <td>0</td>\n",
       "      <td>0.384472</td>\n",
       "      <td>0.000006</td>\n",
       "      <td>0.010391</td>\n",
       "      <td>0.53, 0.50</td>\n",
       "    </tr>\n",
       "    <tr>\n",
       "      <th>500</th>\n",
       "      <td>499</td>\n",
       "      <td>0</td>\n",
       "      <td>0.384519</td>\n",
       "      <td>0.000004</td>\n",
       "      <td>0.004440</td>\n",
       "      <td>0.52, 0.50</td>\n",
       "    </tr>\n",
       "  </tbody>\n",
       "</table>\n",
       "</div>"
      ],
      "text/plain": [
       "       epoch batch_idx   mean|p|  mean|Δp|        loss activation_ratios\n",
       "0    pre-opt       n/a  0.384325  0.000000  213.587250        0.61, 0.62\n",
       "100       99         0  0.384573  0.000003    0.019286        0.56, 0.50\n",
       "200      199         0  0.384569  0.003119   31.492016        0.56, 0.50\n",
       "300      299         0  0.384498  0.000036    0.027298        0.54, 0.51\n",
       "400      399         0  0.384472  0.000006    0.010391        0.53, 0.50\n",
       "500      499         0  0.384519  0.000004    0.004440        0.52, 0.50"
      ]
     },
     "metadata": {},
     "output_type": "display_data"
    }
   ],
   "source": [
    "# Noisy... merp. But slightly better.\n",
    "fit(perturb(make_model(128), 0.5), partial(RMSprop, lr=0.005), num_epochs=500, show_table=True, table_index_step=100)"
   ]
  },
  {
   "cell_type": "code",
   "execution_count": 22,
   "id": "extraordinary-coast",
   "metadata": {
    "tags": []
   },
   "outputs": [
    {
     "name": "stdout",
     "output_type": "stream",
     "text": [
      "Num param: 10401\n",
      "Num data: 100\n"
     ]
    },
    {
     "data": {
      "image/png": "[encoded data removed]",
      "text/plain": [
       "<Figure size 432x288 with 1 Axes>"
      ]
     },
     "metadata": {
      "needs_background": "light"
     },
     "output_type": "display_data"
    },
    {
     "name": "stdout",
     "output_type": "stream",
     "text": [
      "<function mse_loss at 0x7f912fba91e0>\n"
     ]
    }
   ],
   "source": [
    "# Decent-ish. A wee bit rough tho.\n",
    "fit(make_model(num_hidden_units=100), partial(Adam, lr=0.1), num_epochs=300, show_table=False)"
   ]
  },
  {
   "cell_type": "code",
   "execution_count": 23,
   "id": "driven-distinction",
   "metadata": {
    "tags": []
   },
   "outputs": [
    {
     "name": "stdout",
     "output_type": "stream",
     "text": [
      "Num param: 40801\n",
      "Num data: 100\n"
     ]
    },
    {
     "data": {
      "image/png": "[encoded data removed]",
      "text/plain": [
       "<Figure size 432x288 with 1 Axes>"
      ]
     },
     "metadata": {
      "needs_background": "light"
     },
     "output_type": "display_data"
    },
    {
     "name": "stdout",
     "output_type": "stream",
     "text": [
      "<function mse_loss at 0x7f912fba91e0>\n"
     ]
    },
    {
     "data": {
      "text/html": [
       "<div>\n",
       "<style scoped>\n",
       "    .dataframe tbody tr th:only-of-type {\n",
       "        vertical-align: middle;\n",
       "    }\n",
       "\n",
       "    .dataframe tbody tr th {\n",
       "        vertical-align: top;\n",
       "    }\n",
       "\n",
       "    .dataframe thead th {\n",
       "        text-align: right;\n",
       "    }\n",
       "</style>\n",
       "<table border=\"1\" class=\"dataframe\">\n",
       "  <thead>\n",
       "    <tr style=\"text-align: right;\">\n",
       "      <th></th>\n",
       "      <th>epoch</th>\n",
       "      <th>batch_idx</th>\n",
       "      <th>mean|p|</th>\n",
       "      <th>mean|Δp|</th>\n",
       "      <th>loss</th>\n",
       "      <th>activation_ratios</th>\n",
       "    </tr>\n",
       "  </thead>\n",
       "  <tbody>\n",
       "    <tr>\n",
       "      <th>0</th>\n",
       "      <td>pre-opt</td>\n",
       "      <td>n/a</td>\n",
       "      <td>0.039838</td>\n",
       "      <td>0.000000</td>\n",
       "      <td>0.465269</td>\n",
       "      <td>0.66, 0.63</td>\n",
       "    </tr>\n",
       "    <tr>\n",
       "      <th>100</th>\n",
       "      <td>99</td>\n",
       "      <td>0</td>\n",
       "      <td>0.249803</td>\n",
       "      <td>0.000069</td>\n",
       "      <td>0.008007</td>\n",
       "      <td>0.26, 0.08</td>\n",
       "    </tr>\n",
       "    <tr>\n",
       "      <th>200</th>\n",
       "      <td>199</td>\n",
       "      <td>0</td>\n",
       "      <td>0.251930</td>\n",
       "      <td>0.000037</td>\n",
       "      <td>0.002940</td>\n",
       "      <td>0.26, 0.08</td>\n",
       "    </tr>\n",
       "    <tr>\n",
       "      <th>300</th>\n",
       "      <td>299</td>\n",
       "      <td>0</td>\n",
       "      <td>0.251933</td>\n",
       "      <td>0.000002</td>\n",
       "      <td>0.000093</td>\n",
       "      <td>0.26, 0.08</td>\n",
       "    </tr>\n",
       "  </tbody>\n",
       "</table>\n",
       "</div>"
      ],
      "text/plain": [
       "       epoch batch_idx   mean|p|  mean|Δp|      loss activation_ratios\n",
       "0    pre-opt       n/a  0.039838  0.000000  0.465269        0.66, 0.63\n",
       "100       99         0  0.249803  0.000069  0.008007        0.26, 0.08\n",
       "200      199         0  0.251930  0.000037  0.002940        0.26, 0.08\n",
       "300      299         0  0.251933  0.000002  0.000093        0.26, 0.08"
      ]
     },
     "metadata": {},
     "output_type": "display_data"
    }
   ],
   "source": [
    "fit(make_model(num_hidden_units=200), partial(Adam, lr=0.1), num_epochs=300, show_table=True, table_index_step=100)"
   ]
  },
  {
   "cell_type": "code",
   "execution_count": 24,
   "id": "developed-prayer",
   "metadata": {},
   "outputs": [
    {
     "name": "stdout",
     "output_type": "stream",
     "text": [
      "Num param: 40801\n",
      "Num data: 100\n"
     ]
    },
    {
     "data": {
      "image/png": "[encoded data removed]",
      "text/plain": [
       "<Figure size 432x288 with 1 Axes>"
      ]
     },
     "metadata": {
      "needs_background": "light"
     },
     "output_type": "display_data"
    },
    {
     "name": "stdout",
     "output_type": "stream",
     "text": [
      "<function smooth_l1_loss at 0x7f9130001950>\n"
     ]
    },
    {
     "data": {
      "text/html": [
       "<div>\n",
       "<style scoped>\n",
       "    .dataframe tbody tr th:only-of-type {\n",
       "        vertical-align: middle;\n",
       "    }\n",
       "\n",
       "    .dataframe tbody tr th {\n",
       "        vertical-align: top;\n",
       "    }\n",
       "\n",
       "    .dataframe thead th {\n",
       "        text-align: right;\n",
       "    }\n",
       "</style>\n",
       "<table border=\"1\" class=\"dataframe\">\n",
       "  <thead>\n",
       "    <tr style=\"text-align: right;\">\n",
       "      <th></th>\n",
       "      <th>epoch</th>\n",
       "      <th>batch_idx</th>\n",
       "      <th>mean|p|</th>\n",
       "      <th>mean|Δp|</th>\n",
       "      <th>loss</th>\n",
       "      <th>activation_ratios</th>\n",
       "    </tr>\n",
       "  </thead>\n",
       "  <tbody>\n",
       "    <tr>\n",
       "      <th>0</th>\n",
       "      <td>pre-opt</td>\n",
       "      <td>n/a</td>\n",
       "      <td>0.039838</td>\n",
       "      <td>0.000000</td>\n",
       "      <td>0.232634</td>\n",
       "      <td>0.66, 0.63</td>\n",
       "    </tr>\n",
       "    <tr>\n",
       "      <th>50</th>\n",
       "      <td>49</td>\n",
       "      <td>0</td>\n",
       "      <td>0.050004</td>\n",
       "      <td>0.000107</td>\n",
       "      <td>0.002704</td>\n",
       "      <td>0.61, 0.31</td>\n",
       "    </tr>\n",
       "    <tr>\n",
       "      <th>100</th>\n",
       "      <td>99</td>\n",
       "      <td>0</td>\n",
       "      <td>0.050974</td>\n",
       "      <td>0.000008</td>\n",
       "      <td>0.000039</td>\n",
       "      <td>0.61, 0.31</td>\n",
       "    </tr>\n",
       "    <tr>\n",
       "      <th>150</th>\n",
       "      <td>149</td>\n",
       "      <td>0</td>\n",
       "      <td>0.051049</td>\n",
       "      <td>0.000003</td>\n",
       "      <td>0.000013</td>\n",
       "      <td>0.61, 0.31</td>\n",
       "    </tr>\n",
       "    <tr>\n",
       "      <th>200</th>\n",
       "      <td>199</td>\n",
       "      <td>0</td>\n",
       "      <td>0.051083</td>\n",
       "      <td>0.000010</td>\n",
       "      <td>0.000032</td>\n",
       "      <td>0.61, 0.31</td>\n",
       "    </tr>\n",
       "  </tbody>\n",
       "</table>\n",
       "</div>"
      ],
      "text/plain": [
       "       epoch batch_idx   mean|p|  mean|Δp|      loss activation_ratios\n",
       "0    pre-opt       n/a  0.039838  0.000000  0.232634        0.66, 0.63\n",
       "50        49         0  0.050004  0.000107  0.002704        0.61, 0.31\n",
       "100       99         0  0.050974  0.000008  0.000039        0.61, 0.31\n",
       "150      149         0  0.051049  0.000003  0.000013        0.61, 0.31\n",
       "200      199         0  0.051083  0.000010  0.000032        0.61, 0.31"
      ]
     },
     "metadata": {},
     "output_type": "display_data"
    }
   ],
   "source": [
    "fit(make_model(num_hidden_units=200), partial(Adam, lr=0.01), loss_fn=F.smooth_l1_loss, num_epochs=200, show_table=True, table_index_step=50)"
   ]
  },
  {
   "cell_type": "code",
   "execution_count": 25,
   "id": "institutional-retention",
   "metadata": {},
   "outputs": [
    {
     "name": "stdout",
     "output_type": "stream",
     "text": [
      "Num param: 10401\n",
      "Num data: 100\n"
     ]
    },
    {
     "data": {
      "image/png": "[encoded data removed]",
      "text/plain": [
       "<Figure size 432x288 with 1 Axes>"
      ]
     },
     "metadata": {
      "needs_background": "light"
     },
     "output_type": "display_data"
    },
    {
     "name": "stdout",
     "output_type": "stream",
     "text": [
      "<function smooth_l1_loss at 0x7f9130001950>\n"
     ]
    }
   ],
   "source": [
    "fit(make_model(num_hidden_units=100), partial(Adam, lr=0.001), loss_fn=F.smooth_l1_loss, num_epochs=300, batch_size=10, show_table=False)"
   ]
  },
  {
   "cell_type": "code",
   "execution_count": 26,
   "id": "loved-secretary",
   "metadata": {},
   "outputs": [
    {
     "name": "stdout",
     "output_type": "stream",
     "text": [
      "Num param: 1004001\n",
      "Num data: 100\n"
     ]
    },
    {
     "data": {
      "image/png": "[encoded data removed]",
      "text/plain": [
       "<Figure size 432x288 with 1 Axes>"
      ]
     },
     "metadata": {
      "needs_background": "light"
     },
     "output_type": "display_data"
    },
    {
     "name": "stdout",
     "output_type": "stream",
     "text": [
      "<function smooth_l1_loss at 0x7f9130001950>\n"
     ]
    },
    {
     "data": {
      "text/html": [
       "<div>\n",
       "<style scoped>\n",
       "    .dataframe tbody tr th:only-of-type {\n",
       "        vertical-align: middle;\n",
       "    }\n",
       "\n",
       "    .dataframe tbody tr th {\n",
       "        vertical-align: top;\n",
       "    }\n",
       "\n",
       "    .dataframe thead th {\n",
       "        text-align: right;\n",
       "    }\n",
       "</style>\n",
       "<table border=\"1\" class=\"dataframe\">\n",
       "  <thead>\n",
       "    <tr style=\"text-align: right;\">\n",
       "      <th></th>\n",
       "      <th>epoch</th>\n",
       "      <th>batch_idx</th>\n",
       "      <th>mean|p|</th>\n",
       "      <th>mean|Δp|</th>\n",
       "      <th>loss</th>\n",
       "      <th>activation_ratios</th>\n",
       "    </tr>\n",
       "  </thead>\n",
       "  <tbody>\n",
       "    <tr>\n",
       "      <th>0</th>\n",
       "      <td>pre-opt</td>\n",
       "      <td>n/a</td>\n",
       "      <td>0.016786</td>\n",
       "      <td>0.000000</td>\n",
       "      <td>0.242900</td>\n",
       "      <td>0.62, 0.63</td>\n",
       "    </tr>\n",
       "    <tr>\n",
       "      <th>25</th>\n",
       "      <td>24</td>\n",
       "      <td>0</td>\n",
       "      <td>0.205154</td>\n",
       "      <td>0.002485</td>\n",
       "      <td>0.296686</td>\n",
       "      <td>0.07, 0.05</td>\n",
       "    </tr>\n",
       "    <tr>\n",
       "      <th>50</th>\n",
       "      <td>49</td>\n",
       "      <td>0</td>\n",
       "      <td>0.226618</td>\n",
       "      <td>0.000237</td>\n",
       "      <td>0.250090</td>\n",
       "      <td>0.01, 0.02</td>\n",
       "    </tr>\n",
       "    <tr>\n",
       "      <th>75</th>\n",
       "      <td>74</td>\n",
       "      <td>0</td>\n",
       "      <td>0.228633</td>\n",
       "      <td>0.000021</td>\n",
       "      <td>0.250004</td>\n",
       "      <td>0.01, 0.01</td>\n",
       "    </tr>\n",
       "    <tr>\n",
       "      <th>100</th>\n",
       "      <td>99</td>\n",
       "      <td>0</td>\n",
       "      <td>0.228806</td>\n",
       "      <td>0.000002</td>\n",
       "      <td>0.250000</td>\n",
       "      <td>0.01, 0.01</td>\n",
       "    </tr>\n",
       "  </tbody>\n",
       "</table>\n",
       "</div>"
      ],
      "text/plain": [
       "       epoch batch_idx   mean|p|  mean|Δp|      loss activation_ratios\n",
       "0    pre-opt       n/a  0.016786  0.000000  0.242900        0.62, 0.63\n",
       "25        24         0  0.205154  0.002485  0.296686        0.07, 0.05\n",
       "50        49         0  0.226618  0.000237  0.250090        0.01, 0.02\n",
       "75        74         0  0.228633  0.000021  0.250004        0.01, 0.01\n",
       "100       99         0  0.228806  0.000002  0.250000        0.01, 0.01"
      ]
     },
     "metadata": {},
     "output_type": "display_data"
    }
   ],
   "source": [
    "fit(make_model(num_hidden_units=1000), partial(Adam, lr=0.1), loss_fn=F.smooth_l1_loss, num_epochs=100, show_table=True, table_index_step=25)"
   ]
  },
  {
   "cell_type": "code",
   "execution_count": 27,
   "id": "absolute-control",
   "metadata": {},
   "outputs": [
    {
     "name": "stdout",
     "output_type": "stream",
     "text": [
      "Num param: 252001\n",
      "Num data: 100\n"
     ]
    },
    {
     "data": {
      "image/png": "[encoded data removed]",
      "text/plain": [
       "<Figure size 432x288 with 1 Axes>"
      ]
     },
     "metadata": {
      "needs_background": "light"
     },
     "output_type": "display_data"
    },
    {
     "name": "stdout",
     "output_type": "stream",
     "text": [
      "<function smooth_l1_loss at 0x7f9130001950>\n"
     ]
    },
    {
     "data": {
      "text/html": [
       "<div>\n",
       "<style scoped>\n",
       "    .dataframe tbody tr th:only-of-type {\n",
       "        vertical-align: middle;\n",
       "    }\n",
       "\n",
       "    .dataframe tbody tr th {\n",
       "        vertical-align: top;\n",
       "    }\n",
       "\n",
       "    .dataframe thead th {\n",
       "        text-align: right;\n",
       "    }\n",
       "</style>\n",
       "<table border=\"1\" class=\"dataframe\">\n",
       "  <thead>\n",
       "    <tr style=\"text-align: right;\">\n",
       "      <th></th>\n",
       "      <th>epoch</th>\n",
       "      <th>batch_idx</th>\n",
       "      <th>mean|p|</th>\n",
       "      <th>mean|Δp|</th>\n",
       "      <th>loss</th>\n",
       "      <th>activation_ratios</th>\n",
       "    </tr>\n",
       "  </thead>\n",
       "  <tbody>\n",
       "    <tr>\n",
       "      <th>0</th>\n",
       "      <td>pre-opt</td>\n",
       "      <td>n/a</td>\n",
       "      <td>0.024287</td>\n",
       "      <td>0.000000</td>\n",
       "      <td>0.236517</td>\n",
       "      <td>0.63, 0.66</td>\n",
       "    </tr>\n",
       "    <tr>\n",
       "      <th>25</th>\n",
       "      <td>24</td>\n",
       "      <td>0</td>\n",
       "      <td>0.033674</td>\n",
       "      <td>0.000250</td>\n",
       "      <td>0.086567</td>\n",
       "      <td>0.59, 0.09</td>\n",
       "    </tr>\n",
       "    <tr>\n",
       "      <th>50</th>\n",
       "      <td>49</td>\n",
       "      <td>0</td>\n",
       "      <td>0.035784</td>\n",
       "      <td>0.000046</td>\n",
       "      <td>0.013242</td>\n",
       "      <td>0.58, 0.09</td>\n",
       "    </tr>\n",
       "    <tr>\n",
       "      <th>75</th>\n",
       "      <td>74</td>\n",
       "      <td>0</td>\n",
       "      <td>0.036273</td>\n",
       "      <td>0.000013</td>\n",
       "      <td>0.000592</td>\n",
       "      <td>0.58, 0.08</td>\n",
       "    </tr>\n",
       "    <tr>\n",
       "      <th>100</th>\n",
       "      <td>99</td>\n",
       "      <td>0</td>\n",
       "      <td>0.036334</td>\n",
       "      <td>0.000003</td>\n",
       "      <td>0.000068</td>\n",
       "      <td>0.58, 0.08</td>\n",
       "    </tr>\n",
       "  </tbody>\n",
       "</table>\n",
       "</div>"
      ],
      "text/plain": [
       "       epoch batch_idx   mean|p|  mean|Δp|      loss activation_ratios\n",
       "0    pre-opt       n/a  0.024287  0.000000  0.236517        0.63, 0.66\n",
       "25        24         0  0.033674  0.000250  0.086567        0.59, 0.09\n",
       "50        49         0  0.035784  0.000046  0.013242        0.58, 0.09\n",
       "75        74         0  0.036273  0.000013  0.000592        0.58, 0.08\n",
       "100       99         0  0.036334  0.000003  0.000068        0.58, 0.08"
      ]
     },
     "metadata": {},
     "output_type": "display_data"
    }
   ],
   "source": [
    "fit(make_model(num_hidden_units=500), partial(Adam, lr=0.01), loss_fn=F.smooth_l1_loss, num_epochs=100, show_table=True, table_index_step=25)"
   ]
  }
 ],
 "metadata": {
  "kernelspec": {
   "display_name": "Python 3",
   "language": "python",
   "name": "python3"
  },
  "language_info": {
   "codemirror_mode": {
    "name": "ipython",
    "version": 3
   },
   "file_extension": ".py",
   "mimetype": "text/x-python",
   "name": "python",
   "nbconvert_exporter": "python",
   "pygments_lexer": "ipython3",
   "version": "3.6.9"
  },
  "toc-showtags": false
 },
 "nbformat": 4,
 "nbformat_minor": 5
}
